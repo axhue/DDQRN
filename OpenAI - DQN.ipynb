{
 "cells": [
  {
   "cell_type": "code",
   "execution_count": 1,
   "metadata": {
    "ExecuteTime": {
     "end_time": "2018-01-03T05:41:09.521158Z",
     "start_time": "2018-01-03T05:40:58.329242Z"
    },
    "collapsed": true
   },
   "outputs": [],
   "source": [
    "import gym\n",
    "import itertools\n",
    "import numpy as np\n",
    "import tensorflow as tf\n",
    "import tensorflow.contrib.layers as layers\n",
    "\n",
    "import baselines.common.tf_util as U\n",
    "\n",
    "from baselines import logger\n",
    "from baselines import deepq\n",
    "from baselines.deepq.replay_buffer import PrioritizedReplayBuffer,ReplayBuffer\n",
    "from baselines.common.schedules import LinearSchedule\n",
    "from baselines.deepq.models import cnn_to_mlp"
   ]
  },
  {
   "cell_type": "code",
   "execution_count": 2,
   "metadata": {
    "ExecuteTime": {
     "end_time": "2018-01-03T05:41:09.601073Z",
     "start_time": "2018-01-03T05:41:09.544106Z"
    },
    "collapsed": true
   },
   "outputs": [],
   "source": [
    "import scipy.misc as scimisc\n",
    "import gym_minecraft\n",
    "from MinecraftGym import MinecraftWrapper"
   ]
  },
  {
   "cell_type": "code",
   "execution_count": 3,
   "metadata": {
    "ExecuteTime": {
     "end_time": "2018-01-03T05:41:09.666315Z",
     "start_time": "2018-01-03T05:41:09.630292Z"
    }
   },
   "outputs": [
    {
     "name": "stderr",
     "output_type": "stream",
     "text": [
      "Using TensorFlow backend.\n"
     ]
    }
   ],
   "source": [
    "from keras import backend as K\n",
    "from keras.models import Sequential,model_from_json\n",
    "from keras.layers import Dense, Activation,GRU,Input,LSTM,Conv2D,Flatten\n",
    "from keras.optimizers import RMSprop,Adam\n",
    "from keras.callbacks import TensorBoard"
   ]
  },
  {
   "cell_type": "code",
   "execution_count": 4,
   "metadata": {
    "ExecuteTime": {
     "end_time": "2018-01-03T05:41:10.311741Z",
     "start_time": "2018-01-03T05:41:09.689626Z"
    }
   },
   "outputs": [
    {
     "data": {
      "text/html": [
       "\n",
       "    <div class=\"bk-root\">\n",
       "        <a href=\"https://bokeh.pydata.org\" target=\"_blank\" class=\"bk-logo bk-logo-small bk-logo-notebook\"></a>\n",
       "        <span id=\"d3fe3937-4c14-4c5d-be3a-365f3d524925\">Loading BokehJS ...</span>\n",
       "    </div>"
      ]
     },
     "metadata": {},
     "output_type": "display_data"
    },
    {
     "data": {
      "application/javascript": [
       "\n",
       "(function(root) {\n",
       "  function now() {\n",
       "    return new Date();\n",
       "  }\n",
       "\n",
       "  var force = true;\n",
       "\n",
       "  if (typeof (root._bokeh_onload_callbacks) === \"undefined\" || force === true) {\n",
       "    root._bokeh_onload_callbacks = [];\n",
       "    root._bokeh_is_loading = undefined;\n",
       "  }\n",
       "\n",
       "  var JS_MIME_TYPE = 'application/javascript';\n",
       "  var HTML_MIME_TYPE = 'text/html';\n",
       "  var EXEC_MIME_TYPE = 'application/vnd.bokehjs_exec.v0+json';\n",
       "  var CLASS_NAME = 'output_bokeh rendered_html';\n",
       "\n",
       "  /**\n",
       "   * Render data to the DOM node\n",
       "   */\n",
       "  function render(props, node) {\n",
       "    var script = document.createElement(\"script\");\n",
       "    node.appendChild(script);\n",
       "  }\n",
       "\n",
       "  /**\n",
       "   * Handle when an output is cleared or removed\n",
       "   */\n",
       "  function handleClearOutput(event, handle) {\n",
       "    var cell = handle.cell;\n",
       "\n",
       "    var id = cell.output_area._bokeh_element_id;\n",
       "    var server_id = cell.output_area._bokeh_server_id;\n",
       "    // Clean up Bokeh references\n",
       "    if (id !== undefined) {\n",
       "      Bokeh.index[id].model.document.clear();\n",
       "      delete Bokeh.index[id];\n",
       "    }\n",
       "\n",
       "    if (server_id !== undefined) {\n",
       "      // Clean up Bokeh references\n",
       "      var cmd = \"from bokeh.io.state import curstate; print(curstate().uuid_to_server['\" + server_id + \"'].get_sessions()[0].document.roots[0]._id)\";\n",
       "      cell.notebook.kernel.execute(cmd, {\n",
       "        iopub: {\n",
       "          output: function(msg) {\n",
       "            var element_id = msg.content.text.trim();\n",
       "            Bokeh.index[element_id].model.document.clear();\n",
       "            delete Bokeh.index[element_id];\n",
       "          }\n",
       "        }\n",
       "      });\n",
       "      // Destroy server and session\n",
       "      var cmd = \"import bokeh.io.notebook as ion; ion.destroy_server('\" + server_id + \"')\";\n",
       "      cell.notebook.kernel.execute(cmd);\n",
       "    }\n",
       "  }\n",
       "\n",
       "  /**\n",
       "   * Handle when a new output is added\n",
       "   */\n",
       "  function handleAddOutput(event, handle) {\n",
       "    var output_area = handle.output_area;\n",
       "    var output = handle.output;\n",
       "\n",
       "    // limit handleAddOutput to display_data with EXEC_MIME_TYPE content only\n",
       "    if ((output.output_type != \"display_data\") || (!output.data.hasOwnProperty(EXEC_MIME_TYPE))) {\n",
       "      return\n",
       "    }\n",
       "\n",
       "    var toinsert = output_area.element.find(`.${CLASS_NAME.split(' ')[0]}`);\n",
       "\n",
       "    if (output.metadata[EXEC_MIME_TYPE][\"id\"] !== undefined) {\n",
       "      toinsert[0].firstChild.textContent = output.data[JS_MIME_TYPE];\n",
       "      // store reference to embed id on output_area\n",
       "      output_area._bokeh_element_id = output.metadata[EXEC_MIME_TYPE][\"id\"];\n",
       "    }\n",
       "    if (output.metadata[EXEC_MIME_TYPE][\"server_id\"] !== undefined) {\n",
       "      var bk_div = document.createElement(\"div\");\n",
       "      bk_div.innerHTML = output.data[HTML_MIME_TYPE];\n",
       "      var script_attrs = bk_div.children[0].attributes;\n",
       "      for (var i = 0; i < script_attrs.length; i++) {\n",
       "        toinsert[0].firstChild.setAttribute(script_attrs[i].name, script_attrs[i].value);\n",
       "      }\n",
       "      // store reference to server id on output_area\n",
       "      output_area._bokeh_server_id = output.metadata[EXEC_MIME_TYPE][\"server_id\"];\n",
       "    }\n",
       "  }\n",
       "\n",
       "  function register_renderer(events, OutputArea) {\n",
       "\n",
       "    function append_mime(data, metadata, element) {\n",
       "      // create a DOM node to render to\n",
       "      var toinsert = this.create_output_subarea(\n",
       "        metadata,\n",
       "        CLASS_NAME,\n",
       "        EXEC_MIME_TYPE\n",
       "      );\n",
       "      this.keyboard_manager.register_events(toinsert);\n",
       "      // Render to node\n",
       "      var props = {data: data, metadata: metadata[EXEC_MIME_TYPE]};\n",
       "      render(props, toinsert[0]);\n",
       "      element.append(toinsert);\n",
       "      return toinsert\n",
       "    }\n",
       "\n",
       "    /* Handle when an output is cleared or removed */\n",
       "    events.on('clear_output.CodeCell', handleClearOutput);\n",
       "    events.on('delete.Cell', handleClearOutput);\n",
       "\n",
       "    /* Handle when a new output is added */\n",
       "    events.on('output_added.OutputArea', handleAddOutput);\n",
       "\n",
       "    /**\n",
       "     * Register the mime type and append_mime function with output_area\n",
       "     */\n",
       "    OutputArea.prototype.register_mime_type(EXEC_MIME_TYPE, append_mime, {\n",
       "      /* Is output safe? */\n",
       "      safe: true,\n",
       "      /* Index of renderer in `output_area.display_order` */\n",
       "      index: 0\n",
       "    });\n",
       "  }\n",
       "\n",
       "  // register the mime type if in Jupyter Notebook environment and previously unregistered\n",
       "  if (root.Jupyter !== undefined) {\n",
       "    var events = require('base/js/events');\n",
       "    var OutputArea = require('notebook/js/outputarea').OutputArea;\n",
       "\n",
       "    if (OutputArea.prototype.mime_types().indexOf(EXEC_MIME_TYPE) == -1) {\n",
       "      register_renderer(events, OutputArea);\n",
       "    }\n",
       "  }\n",
       "\n",
       "  \n",
       "  if (typeof (root._bokeh_timeout) === \"undefined\" || force === true) {\n",
       "    root._bokeh_timeout = Date.now() + 5000;\n",
       "    root._bokeh_failed_load = false;\n",
       "  }\n",
       "\n",
       "  var NB_LOAD_WARNING = {'data': {'text/html':\n",
       "     \"<div style='background-color: #fdd'>\\n\"+\n",
       "     \"<p>\\n\"+\n",
       "     \"BokehJS does not appear to have successfully loaded. If loading BokehJS from CDN, this \\n\"+\n",
       "     \"may be due to a slow or bad network connection. Possible fixes:\\n\"+\n",
       "     \"</p>\\n\"+\n",
       "     \"<ul>\\n\"+\n",
       "     \"<li>re-rerun `output_notebook()` to attempt to load from CDN again, or</li>\\n\"+\n",
       "     \"<li>use INLINE resources instead, as so:</li>\\n\"+\n",
       "     \"</ul>\\n\"+\n",
       "     \"<code>\\n\"+\n",
       "     \"from bokeh.resources import INLINE\\n\"+\n",
       "     \"output_notebook(resources=INLINE)\\n\"+\n",
       "     \"</code>\\n\"+\n",
       "     \"</div>\"}};\n",
       "\n",
       "  function display_loaded() {\n",
       "    var el = document.getElementById(\"d3fe3937-4c14-4c5d-be3a-365f3d524925\");\n",
       "    if (el != null) {\n",
       "      el.textContent = \"BokehJS is loading...\";\n",
       "    }\n",
       "    if (root.Bokeh !== undefined) {\n",
       "      if (el != null) {\n",
       "        el.textContent = \"BokehJS \" + root.Bokeh.version + \" successfully loaded.\";\n",
       "      }\n",
       "    } else if (Date.now() < root._bokeh_timeout) {\n",
       "      setTimeout(display_loaded, 100)\n",
       "    }\n",
       "  }\n",
       "\n",
       "\n",
       "  function run_callbacks() {\n",
       "    try {\n",
       "      root._bokeh_onload_callbacks.forEach(function(callback) { callback() });\n",
       "    }\n",
       "    finally {\n",
       "      delete root._bokeh_onload_callbacks\n",
       "    }\n",
       "    console.info(\"Bokeh: all callbacks have finished\");\n",
       "  }\n",
       "\n",
       "  function load_libs(js_urls, callback) {\n",
       "    root._bokeh_onload_callbacks.push(callback);\n",
       "    if (root._bokeh_is_loading > 0) {\n",
       "      console.log(\"Bokeh: BokehJS is being loaded, scheduling callback at\", now());\n",
       "      return null;\n",
       "    }\n",
       "    if (js_urls == null || js_urls.length === 0) {\n",
       "      run_callbacks();\n",
       "      return null;\n",
       "    }\n",
       "    console.log(\"Bokeh: BokehJS not loaded, scheduling load and callback at\", now());\n",
       "    root._bokeh_is_loading = js_urls.length;\n",
       "    for (var i = 0; i < js_urls.length; i++) {\n",
       "      var url = js_urls[i];\n",
       "      var s = document.createElement('script');\n",
       "      s.src = url;\n",
       "      s.async = false;\n",
       "      s.onreadystatechange = s.onload = function() {\n",
       "        root._bokeh_is_loading--;\n",
       "        if (root._bokeh_is_loading === 0) {\n",
       "          console.log(\"Bokeh: all BokehJS libraries loaded\");\n",
       "          run_callbacks()\n",
       "        }\n",
       "      };\n",
       "      s.onerror = function() {\n",
       "        console.warn(\"failed to load library \" + url);\n",
       "      };\n",
       "      console.log(\"Bokeh: injecting script tag for BokehJS library: \", url);\n",
       "      document.getElementsByTagName(\"head\")[0].appendChild(s);\n",
       "    }\n",
       "  };var element = document.getElementById(\"d3fe3937-4c14-4c5d-be3a-365f3d524925\");\n",
       "  if (element == null) {\n",
       "    console.log(\"Bokeh: ERROR: autoload.js configured with elementid 'd3fe3937-4c14-4c5d-be3a-365f3d524925' but no matching script tag was found. \")\n",
       "    return false;\n",
       "  }\n",
       "\n",
       "  var js_urls = [\"https://cdn.pydata.org/bokeh/release/bokeh-0.12.10.min.js\", \"https://cdn.pydata.org/bokeh/release/bokeh-widgets-0.12.10.min.js\", \"https://cdn.pydata.org/bokeh/release/bokeh-tables-0.12.10.min.js\", \"https://cdn.pydata.org/bokeh/release/bokeh-gl-0.12.10.min.js\"];\n",
       "\n",
       "  var inline_js = [\n",
       "    function(Bokeh) {\n",
       "      Bokeh.set_log_level(\"info\");\n",
       "    },\n",
       "    \n",
       "    function(Bokeh) {\n",
       "      \n",
       "    },\n",
       "    function(Bokeh) {\n",
       "      console.log(\"Bokeh: injecting CSS: https://cdn.pydata.org/bokeh/release/bokeh-0.12.10.min.css\");\n",
       "      Bokeh.embed.inject_css(\"https://cdn.pydata.org/bokeh/release/bokeh-0.12.10.min.css\");\n",
       "      console.log(\"Bokeh: injecting CSS: https://cdn.pydata.org/bokeh/release/bokeh-widgets-0.12.10.min.css\");\n",
       "      Bokeh.embed.inject_css(\"https://cdn.pydata.org/bokeh/release/bokeh-widgets-0.12.10.min.css\");\n",
       "      console.log(\"Bokeh: injecting CSS: https://cdn.pydata.org/bokeh/release/bokeh-tables-0.12.10.min.css\");\n",
       "      Bokeh.embed.inject_css(\"https://cdn.pydata.org/bokeh/release/bokeh-tables-0.12.10.min.css\");\n",
       "    }\n",
       "  ];\n",
       "\n",
       "  function run_inline_js() {\n",
       "    \n",
       "    if ((root.Bokeh !== undefined) || (force === true)) {\n",
       "      for (var i = 0; i < inline_js.length; i++) {\n",
       "        inline_js[i].call(root, root.Bokeh);\n",
       "      }if (force === true) {\n",
       "        display_loaded();\n",
       "      }} else if (Date.now() < root._bokeh_timeout) {\n",
       "      setTimeout(run_inline_js, 100);\n",
       "    } else if (!root._bokeh_failed_load) {\n",
       "      console.log(\"Bokeh: BokehJS failed to load within specified timeout.\");\n",
       "      root._bokeh_failed_load = true;\n",
       "    } else if (force !== true) {\n",
       "      var cell = $(document.getElementById(\"d3fe3937-4c14-4c5d-be3a-365f3d524925\")).parents('.cell').data().cell;\n",
       "      cell.output_area.append_execute_result(NB_LOAD_WARNING)\n",
       "    }\n",
       "\n",
       "  }\n",
       "\n",
       "  if (root._bokeh_is_loading === 0) {\n",
       "    console.log(\"Bokeh: BokehJS loaded, going straight to plotting\");\n",
       "    run_inline_js();\n",
       "  } else {\n",
       "    load_libs(js_urls, function() {\n",
       "      console.log(\"Bokeh: BokehJS plotting callback run at\", now());\n",
       "      run_inline_js();\n",
       "    });\n",
       "  }\n",
       "}(window));"
      ],
      "application/vnd.bokehjs_load.v0+json": "\n(function(root) {\n  function now() {\n    return new Date();\n  }\n\n  var force = true;\n\n  if (typeof (root._bokeh_onload_callbacks) === \"undefined\" || force === true) {\n    root._bokeh_onload_callbacks = [];\n    root._bokeh_is_loading = undefined;\n  }\n\n  \n\n  \n  if (typeof (root._bokeh_timeout) === \"undefined\" || force === true) {\n    root._bokeh_timeout = Date.now() + 5000;\n    root._bokeh_failed_load = false;\n  }\n\n  var NB_LOAD_WARNING = {'data': {'text/html':\n     \"<div style='background-color: #fdd'>\\n\"+\n     \"<p>\\n\"+\n     \"BokehJS does not appear to have successfully loaded. If loading BokehJS from CDN, this \\n\"+\n     \"may be due to a slow or bad network connection. Possible fixes:\\n\"+\n     \"</p>\\n\"+\n     \"<ul>\\n\"+\n     \"<li>re-rerun `output_notebook()` to attempt to load from CDN again, or</li>\\n\"+\n     \"<li>use INLINE resources instead, as so:</li>\\n\"+\n     \"</ul>\\n\"+\n     \"<code>\\n\"+\n     \"from bokeh.resources import INLINE\\n\"+\n     \"output_notebook(resources=INLINE)\\n\"+\n     \"</code>\\n\"+\n     \"</div>\"}};\n\n  function display_loaded() {\n    var el = document.getElementById(\"d3fe3937-4c14-4c5d-be3a-365f3d524925\");\n    if (el != null) {\n      el.textContent = \"BokehJS is loading...\";\n    }\n    if (root.Bokeh !== undefined) {\n      if (el != null) {\n        el.textContent = \"BokehJS \" + root.Bokeh.version + \" successfully loaded.\";\n      }\n    } else if (Date.now() < root._bokeh_timeout) {\n      setTimeout(display_loaded, 100)\n    }\n  }\n\n\n  function run_callbacks() {\n    try {\n      root._bokeh_onload_callbacks.forEach(function(callback) { callback() });\n    }\n    finally {\n      delete root._bokeh_onload_callbacks\n    }\n    console.info(\"Bokeh: all callbacks have finished\");\n  }\n\n  function load_libs(js_urls, callback) {\n    root._bokeh_onload_callbacks.push(callback);\n    if (root._bokeh_is_loading > 0) {\n      console.log(\"Bokeh: BokehJS is being loaded, scheduling callback at\", now());\n      return null;\n    }\n    if (js_urls == null || js_urls.length === 0) {\n      run_callbacks();\n      return null;\n    }\n    console.log(\"Bokeh: BokehJS not loaded, scheduling load and callback at\", now());\n    root._bokeh_is_loading = js_urls.length;\n    for (var i = 0; i < js_urls.length; i++) {\n      var url = js_urls[i];\n      var s = document.createElement('script');\n      s.src = url;\n      s.async = false;\n      s.onreadystatechange = s.onload = function() {\n        root._bokeh_is_loading--;\n        if (root._bokeh_is_loading === 0) {\n          console.log(\"Bokeh: all BokehJS libraries loaded\");\n          run_callbacks()\n        }\n      };\n      s.onerror = function() {\n        console.warn(\"failed to load library \" + url);\n      };\n      console.log(\"Bokeh: injecting script tag for BokehJS library: \", url);\n      document.getElementsByTagName(\"head\")[0].appendChild(s);\n    }\n  };var element = document.getElementById(\"d3fe3937-4c14-4c5d-be3a-365f3d524925\");\n  if (element == null) {\n    console.log(\"Bokeh: ERROR: autoload.js configured with elementid 'd3fe3937-4c14-4c5d-be3a-365f3d524925' but no matching script tag was found. \")\n    return false;\n  }\n\n  var js_urls = [\"https://cdn.pydata.org/bokeh/release/bokeh-0.12.10.min.js\", \"https://cdn.pydata.org/bokeh/release/bokeh-widgets-0.12.10.min.js\", \"https://cdn.pydata.org/bokeh/release/bokeh-tables-0.12.10.min.js\", \"https://cdn.pydata.org/bokeh/release/bokeh-gl-0.12.10.min.js\"];\n\n  var inline_js = [\n    function(Bokeh) {\n      Bokeh.set_log_level(\"info\");\n    },\n    \n    function(Bokeh) {\n      \n    },\n    function(Bokeh) {\n      console.log(\"Bokeh: injecting CSS: https://cdn.pydata.org/bokeh/release/bokeh-0.12.10.min.css\");\n      Bokeh.embed.inject_css(\"https://cdn.pydata.org/bokeh/release/bokeh-0.12.10.min.css\");\n      console.log(\"Bokeh: injecting CSS: https://cdn.pydata.org/bokeh/release/bokeh-widgets-0.12.10.min.css\");\n      Bokeh.embed.inject_css(\"https://cdn.pydata.org/bokeh/release/bokeh-widgets-0.12.10.min.css\");\n      console.log(\"Bokeh: injecting CSS: https://cdn.pydata.org/bokeh/release/bokeh-tables-0.12.10.min.css\");\n      Bokeh.embed.inject_css(\"https://cdn.pydata.org/bokeh/release/bokeh-tables-0.12.10.min.css\");\n    }\n  ];\n\n  function run_inline_js() {\n    \n    if ((root.Bokeh !== undefined) || (force === true)) {\n      for (var i = 0; i < inline_js.length; i++) {\n        inline_js[i].call(root, root.Bokeh);\n      }if (force === true) {\n        display_loaded();\n      }} else if (Date.now() < root._bokeh_timeout) {\n      setTimeout(run_inline_js, 100);\n    } else if (!root._bokeh_failed_load) {\n      console.log(\"Bokeh: BokehJS failed to load within specified timeout.\");\n      root._bokeh_failed_load = true;\n    } else if (force !== true) {\n      var cell = $(document.getElementById(\"d3fe3937-4c14-4c5d-be3a-365f3d524925\")).parents('.cell').data().cell;\n      cell.output_area.append_execute_result(NB_LOAD_WARNING)\n    }\n\n  }\n\n  if (root._bokeh_is_loading === 0) {\n    console.log(\"Bokeh: BokehJS loaded, going straight to plotting\");\n    run_inline_js();\n  } else {\n    load_libs(js_urls, function() {\n      console.log(\"Bokeh: BokehJS plotting callback run at\", now());\n      run_inline_js();\n    });\n  }\n}(window));"
     },
     "metadata": {},
     "output_type": "display_data"
    }
   ],
   "source": [
    "from bokeh.plotting import figure\n",
    "from bokeh.io import output_notebook, push_notebook, show\n",
    "from bokeh.driving import linear\n",
    "from bokeh.layouts import row,gridplot\n",
    "from IPython.display import clear_output,display\n",
    "output_notebook()"
   ]
  },
  {
   "cell_type": "code",
   "execution_count": 5,
   "metadata": {
    "ExecuteTime": {
     "end_time": "2018-01-03T05:41:10.339649Z",
     "start_time": "2018-01-03T05:41:10.335123Z"
    },
    "collapsed": true
   },
   "outputs": [],
   "source": [
    "from bokeh.client import push_session\n",
    "from bokeh.driving import cosine\n",
    "from bokeh.plotting import figure, curdoc"
   ]
  },
  {
   "cell_type": "code",
   "execution_count": 6,
   "metadata": {
    "ExecuteTime": {
     "end_time": "2018-01-03T05:41:10.382171Z",
     "start_time": "2018-01-03T05:41:10.366813Z"
    },
    "collapsed": true
   },
   "outputs": [],
   "source": [
    "from hyperdash import Experiment"
   ]
  },
  {
   "cell_type": "code",
   "execution_count": 10,
   "metadata": {
    "ExecuteTime": {
     "end_time": "2018-01-03T21:58:01.711477Z",
     "start_time": "2018-01-03T21:58:01.551123Z"
    },
    "collapsed": true
   },
   "outputs": [],
   "source": [
    "%matplotlib inline\n",
    "from matplotlib import pyplot as plt"
   ]
  },
  {
   "cell_type": "code",
   "execution_count": null,
   "metadata": {
    "ExecuteTime": {
     "end_time": "2017-12-30T05:33:43.439121Z",
     "start_time": "2017-12-30T05:33:43.298713Z"
    },
    "collapsed": true
   },
   "outputs": [],
   "source": [
    "pre_env = gym.make(\"MinecraftCliffWalking1-v0\")\n",
    "pre_env.init(videoResolution=[400,400],allowContinuousMovement=[\"move\", \"turn\", \"strafe\"],observeGrid=[20,-1,20,20,-1,20],observeDistance=[4,45,12])\n",
    "env = MinecraftWrapper(pre_env,1/10,(41,41))"
   ]
  },
  {
   "cell_type": "code",
   "execution_count": null,
   "metadata": {
    "ExecuteTime": {
     "end_time": "2017-12-28T06:32:00.743610Z",
     "start_time": "2017-12-28T06:32:00.731472Z"
    },
    "collapsed": true
   },
   "outputs": [],
   "source": [
    "def proc2_reward(info):\n",
    "    if info is None:\n",
    "        return 0\n",
    "    elif 'observation' not in info.keys():\n",
    "        return 0\n",
    "    elif info['observation'] is None:\n",
    "        return 0\n",
    "    elif 'distanceFromdist' in info['observation'].keys():\n",
    "        return 10/(0.001 + info['observation']['distanceFromdist'])\n",
    "    else:\n",
    "        return 0"
   ]
  },
  {
   "cell_type": "code",
   "execution_count": null,
   "metadata": {
    "ExecuteTime": {
     "end_time": "2017-12-31T07:41:41.024575Z",
     "start_time": "2017-12-31T07:41:41.005637Z"
    },
    "collapsed": true
   },
   "outputs": [],
   "source": [
    "def model(inpt, num_actions, scope, reuse=False):\n",
    "    \"\"\"This model takes as input an observation and returns values of all actions.\"\"\"\n",
    "    with tf.variable_scope(scope, reuse=reuse):\n",
    "        \n",
    "        model = Sequential()\n",
    "        model.add(Conv2D(32,(8,8),input_shape=env.observation_space.shape,activation='relu'))\n",
    "        model.add(Conv2D(64,(4,4),activation='relu'))\n",
    "        model.add(Conv2D(64,(3,3),activation='relu'))\n",
    "        model.add(Flatten())\n",
    "        model.add(Dense(256,activation='relu')\n",
    "        model.add(Dense(output_dim=num_actions,activation='softmax'))\n",
    "        \n",
    "        \n",
    "        '''\n",
    "        a = Conv2D(32,(8,8),input_shape=env.observation_space.shape,activation='relu')(inpt)\n",
    "        b = Conv2D(64,(3,3),activation='relu')(a)\n",
    "        d = Flatten()(b)\n",
    "        c = Dense(output_dim=num_actions,activation='softmax')(d)\n",
    "        '''\n",
    "        return model(inpt)"
   ]
  },
  {
   "cell_type": "code",
   "execution_count": null,
   "metadata": {
    "ExecuteTime": {
     "end_time": "2017-12-28T06:32:01.703389Z",
     "start_time": "2017-12-28T06:32:01.683271Z"
    },
    "collapsed": true
   },
   "outputs": [],
   "source": [
    "def old_model(inpt, num_actions, scope, reuse=False):\n",
    "    \"\"\"This model takes as input an observation and returns values of all actions.\"\"\"\n",
    "    with tf.variable_scope(scope, reuse=reuse):\n",
    "        out = inpt\n",
    "\n",
    "        out =  tf.layers.conv2d(\n",
    "                inputs=out,\n",
    "                filters=32,\n",
    "                kernel_size=[8, 8],\n",
    "                padding=\"same\",\n",
    "                activation=tf.nn.relu)\n",
    "        out =  tf.layers.conv2d(\n",
    "                inputs=out,\n",
    "                filters=64,\n",
    "                kernel_size=[4, 4],\n",
    "                padding=\"same\",\n",
    "                activation=tf.nn.relu)\n",
    "        out2 = tf.contrib.layers.flatten(out)\n",
    "        out2 = tf.layers.dense(inputs=out2, units=64)\n",
    "        out2 = tf.layers.dense(inputs=out2, units=num_actions)\n",
    "    return out2"
   ]
  },
  {
   "cell_type": "code",
   "execution_count": 7,
   "metadata": {
    "ExecuteTime": {
     "end_time": "2018-01-03T05:41:10.412168Z",
     "start_time": "2018-01-03T05:41:10.407777Z"
    },
    "collapsed": true
   },
   "outputs": [],
   "source": [
    "def lib_model(inpt,num_action,scope,reuse = False):\n",
    "    with tf.variable_scope(scope,reuse = reuse):\n",
    "        return cnn_to_mlp([(32,8,4),(64,4,2),(64,3,1)],[256],True,True)"
   ]
  },
  {
   "cell_type": "code",
   "execution_count": null,
   "metadata": {
    "ExecuteTime": {
     "start_time": "2017-12-29T00:35:35.060Z"
    },
    "collapsed": true
   },
   "outputs": [],
   "source": [
    "U.reset()\n",
    "exp  = Experiment(\"openAI DQN - Minecraft\")\n",
    "exp.param(\"notes\",\"using MLP CNN 32,8x8,s4 - 64,4x4,s2 - 64,3x3,s1\")\n",
    "#env = gym.make('SpaceInvaders-v0')\n",
    "\n",
    "with U.make_session(2) as sess:\n",
    "    # Create all the functions necessary to train the model\n",
    "    K.set_session(sess)\n",
    "    dqn_model = cnn_to_mlp(\n",
    "        convs=[(32, 8, 4), (64, 4, 2), (64, 3, 1)],\n",
    "        hiddens=[256],\n",
    "        dueling=True\n",
    "    )\n",
    "    act, train, update_target, debug = deepq.build_train(\n",
    "        make_obs_ph=lambda name: U.BatchInput(env.observation_space.shape, name=name),\n",
    "        q_func= model,\n",
    "        num_actions=env.action_space.n,\n",
    "        optimizer=tf.train.AdamOptimizer(learning_rate=5e-4),\n",
    "    )\n",
    "    \n",
    "    # Create the replay buffer\n",
    "    replay_buffer = ReplayBuffer(1000000)\n",
    "    # Create the schedule for exploration starting from 1 (every action is random) down to\n",
    "    # 0.02 (98% of actions are selected according to values predicted by the model).\n",
    "    exploration = LinearSchedule(schedule_timesteps=1000, initial_p=1.0, final_p=0.02)\n",
    "\n",
    "    # Initialize the parameters and copy them to the target network.\n",
    "    U.initialize()\n",
    "    update_target()\n",
    "\n",
    "    episode_rewards = [0.0]\n",
    "    obs = env.reset()\n",
    "    for t in itertools.count():\n",
    "        # Take action and update exploration to the newest value\n",
    "        action = act(obs[None], update_eps=exploration.value(t))[0]\n",
    "        new_obs, rew, done, info = env.step(action)\n",
    "        #rew += proc2_reward(info)\n",
    "        # Store transition in the replay buffer.\n",
    "        replay_buffer.add(obs, action, rew, new_obs, float(done))\n",
    "        obs = new_obs\n",
    "\n",
    "        episode_rewards[-1] += rew\n",
    "        if done:\n",
    "            obs = env.reset()\n",
    "            exp.metric(\"reward\",episode_rewards[-1])\n",
    "            episode_rewards.append(0)\n",
    "\n",
    "        is_solved = t > 100 and np.mean(episode_rewards[-101:-1]) >= 200\n",
    "        if is_solved:\n",
    "            # Show off the result\n",
    "            #env.render()\n",
    "            #print(\"Solved\")\n",
    "            pass\n",
    "        else:\n",
    "            # Minimize the error in Bellman's equation on a batch sampled from replay buffer.\n",
    "            if t > 100:\n",
    "                obses_t, actions, rewards, obses_tp1, dones = replay_buffer.sample(32)\n",
    "                train(obses_t, actions, rewards, obses_tp1, dones, np.ones_like(rewards))\n",
    "            # Update target network periodically.\n",
    "            if t % 1000 == 0:\n",
    "                update_target()\n",
    "\n",
    "        if done and len(episode_rewards) % 10 == 0:\n",
    "            logger.record_tabular(\"steps\", t)\n",
    "            logger.record_tabular(\"episodes\", len(episode_rewards))\n",
    "            logger.record_tabular(\"mean episode reward\", round(np.mean(episode_rewards[-101:-1]), 1))\n",
    "            logger.record_tabular(\"% time spent exploring\", int(100 * exploration.value(t)))\n",
    "            logger.dump_tabular()"
   ]
  },
  {
   "cell_type": "code",
   "execution_count": null,
   "metadata": {
    "ExecuteTime": {
     "end_time": "2017-12-29T21:40:06.098091Z",
     "start_time": "2017-12-29T21:40:06.088394Z"
    },
    "collapsed": true
   },
   "outputs": [],
   "source": [
    "def preprocess(rgb_array,scale = 1/12):\n",
    "    frame_shape = rgb_array.shape\n",
    "    \n",
    "    frame = np.array(rgb_array)\n",
    "    gray_frame = np.dot(frame[...,:3],[0.299,0.587,0.114]).reshape((frame_shape[0],frame_shape[1]))\n",
    "    smaller = scimisc.imresize(gray_frame,scale,mode='L').astype('float64')\n",
    "    smaller /= 255.0\n",
    "    smaller = np.expand_dims(smaller,2) # convert to a 3D array of shape (height,width,grayscale)\n",
    "    #smaller = np.reshape(smaller, [1, *(smaller.shape)])\n",
    "    return smaller.astype(\"uint8\")"
   ]
  },
  {
   "cell_type": "code",
   "execution_count": 8,
   "metadata": {
    "ExecuteTime": {
     "end_time": "2018-01-03T05:41:19.198382Z",
     "start_time": "2018-01-03T05:41:19.025779Z"
    },
    "collapsed": true
   },
   "outputs": [],
   "source": [
    "def train(env,exp,model,buffer_size,epsilon,learning_rate,preprocessor = None):\n",
    "    U.reset()\n",
    "    #exp.param(\"notes\",\"using MLP CNN 32,8x8,s4 - 64,4x4,s2 - 64,3x3,s1\")\n",
    "    \n",
    "\n",
    "    with U.make_session(2) as sess:\n",
    "        K.set_session(sess)\n",
    "        try:\n",
    "            # Create all the functions necessary to train the model\n",
    "            \n",
    "            act, train, update_target, debug = deepq.build_train(\n",
    "                make_obs_ph=lambda name: U.BatchInput(env.observation_space.shape, name=name),\n",
    "                q_func= model,\n",
    "                num_actions=env.action_space.n,\n",
    "                optimizer=tf.train.AdamOptimizer(learning_rate=learning_rate),\n",
    "            )\n",
    "    \n",
    "            # Create the replay buffer\n",
    "            replay_buffer = ReplayBuffer(buffer_size)\n",
    "            # Create the schedule for exploration starting from 1 (every action is random) down to\n",
    "            # 0.02 (98% of actions are selected according to values predicted by the model).\n",
    "            exploration = LinearSchedule(schedule_timesteps=1000, initial_p=1.0, final_p=0.02)\n",
    "\n",
    "            # Initialize the parameters and copy them to the target network.\n",
    "            U.initialize()\n",
    "            update_target()\n",
    "            \n",
    "            #\n",
    "\n",
    "            episode_rewards = [0.0]\n",
    "            obs = env.reset()\n",
    "            if preprocessor:\n",
    "                obs = preprocessor(obs)\n",
    "            for t in itertools.count():\n",
    "                # Take action and update exploration to the newest value\n",
    "                action = act(obs[None], update_eps=exploration.value(t))[0]\n",
    "                new_obs, rew, done, info = env.step(action)\n",
    "                if preprocessor:\n",
    "                    new_obs = preprocessor(new_obs)\n",
    "                #rew += proc2_reward(info)\n",
    "                # Store transition in the replay buffer.\n",
    "                replay_buffer.add(obs, action, rew, new_obs, float(done))\n",
    "                obs = new_obs\n",
    "\n",
    "                episode_rewards[-1] += rew\n",
    "                if done:\n",
    "                    obs = env.reset()\n",
    "                    if preprocessor:\n",
    "                        obs = preprocessor(obs)\n",
    "                    if exp:\n",
    "                        exp.metric(\"reward\",episode_rewards[-1])\n",
    "                    episode_rewards.append(0)\n",
    "                    \n",
    "                # Minimize the error in Bellman's equation on a batch sampled from replay buffer.\n",
    "                if t > 100:\n",
    "                    obses_t, actions, rewards, obses_tp1, dones = replay_buffer.sample(32)\n",
    "                    train(obses_t, actions, rewards, obses_tp1, dones, np.ones_like(rewards))\n",
    "                # Update target network periodically.\n",
    "                if t % 1000 == 0:\n",
    "                    update_target()\n",
    "\n",
    "                if done and len(episode_rewards) % 10 == 0:\n",
    "                    logger.record_tabular(\"steps\", t)\n",
    "                    logger.record_tabular(\"episodes\", len(episode_rewards))\n",
    "                    logger.record_tabular(\"mean episode reward\", round(np.mean(episode_rewards[-101:-1]), 1))\n",
    "                    logger.record_tabular(\"% time spent exploring\", int(100 * exploration.value(t)))\n",
    "                    logger.dump_tabular()\n",
    "        except:\n",
    "            if exp:\n",
    "                exp.end()\n",
    "            raise"
   ]
  },
  {
   "cell_type": "code",
   "execution_count": null,
   "metadata": {
    "ExecuteTime": {
     "start_time": "2017-12-29T21:43:51.490Z"
    },
    "collapsed": true
   },
   "outputs": [],
   "source": [
    "env = gym.make('SpaceInvaders-v0')\n",
    "exp = Experiment(\"OpenAI - DQN - SpaceInvaders\")\n",
    "train(env,exp,(42,32,1),5000)"
   ]
  },
  {
   "cell_type": "code",
   "execution_count": null,
   "metadata": {
    "ExecuteTime": {
     "end_time": "2018-01-01T01:58:55.141590Z",
     "start_time": "2018-01-01T01:58:52.223403Z"
    },
    "collapsed": true
   },
   "outputs": [],
   "source": [
    "pre_env = gym.make(\"MinecraftCliffWalking1-v0\")\n",
    "pre_env.init(videoResolution=[400,400],allowContinuousMovement=[\"move\", \"turn\", \"strafe\"],observeGrid=[20,-1,20,20,-1,20],observeDistance=[4,45,12])\n",
    "env = MinecraftWrapper(pre_env,1/10,(41,41))\n",
    "\n",
    "exp = Experiment(\"OpenAI - DQN - SpaceInvaders\")\n",
    "learning_rate = 0.001\n",
    "epsilon = 0.99\n",
    "buffer_size = 1000000\n",
    "exp.param(\"learning rate\", \"Adam Optimizer with lr = {}\".format(learning_rate))\n",
    "exp.param(\"buffer_size\",buffer_size)\n",
    "\n",
    "train(env,exp,env.observation_space.shape,5000,buffer_size,epsilon,learning_rate)\n",
    "\n"
   ]
  },
  {
   "cell_type": "code",
   "execution_count": null,
   "metadata": {
    "ExecuteTime": {
     "start_time": "2018-01-03T05:42:07.069Z"
    }
   },
   "outputs": [
    {
     "name": "stdout",
     "output_type": "stream",
     "text": [
      "{ memory capacity: 2000000 }\n",
      "WARNING:tensorflow:From /home/ubuntu/baselines/baselines/deepq/build_graph.py:366: arg_max (from tensorflow.python.ops.gen_math_ops) is deprecated and will be removed in a future version.\n",
      "Instructions for updating:\n",
      "Use `argmax` instead\n"
     ]
    },
    {
     "name": "stderr",
     "output_type": "stream",
     "text": [
      "Agent missed 13 observation(s).\n"
     ]
    },
    {
     "name": "stdout",
     "output_type": "stream",
     "text": [
      "| reward: -95.243161 |\n",
      "| reward: -95.281449 |\n",
      "| reward: -94.303300 |\n",
      "| reward: -97.161375 |\n",
      "| reward: -97.161319 |\n",
      "| reward: -97.158468 |\n",
      "| reward: -96.195225 |\n",
      "| reward: -96.222156 |\n",
      "| reward: -97.158468 |\n",
      "-------------------------------------\n",
      "| % time spent exploring | 95       |\n",
      "| episodes               | 10       |\n",
      "| mean episode reward    | -96.2    |\n",
      "| steps                  | 44       |\n",
      "-------------------------------------\n",
      "| reward: -93.392468 |\n",
      "| reward: -96.220235 |\n",
      "| reward: -67.036959 |\n",
      "| reward: -95.286541 |\n",
      "| reward: -96.221503 |\n"
     ]
    },
    {
     "name": "stderr",
     "output_type": "stream",
     "text": [
      "Agent missed 1 observation(s).\n"
     ]
    },
    {
     "name": "stdout",
     "output_type": "stream",
     "text": [
      "| reward: -94.342658 |\n",
      "| reward: -90.559246 |\n",
      "| reward: -95.287410 |\n"
     ]
    },
    {
     "name": "stderr",
     "output_type": "stream",
     "text": [
      "Agent missed 1 observation(s).\n"
     ]
    },
    {
     "name": "stdout",
     "output_type": "stream",
     "text": [
      "| reward: -96.207628 |\n",
      "| reward: -93.398344 |\n",
      "-------------------------------------\n",
      "| % time spent exploring | 86       |\n",
      "| episodes               | 20       |\n",
      "| mean episode reward    | -93.9    |\n",
      "| steps                  | 138      |\n",
      "-------------------------------------\n",
      "| reward: -91.481891 |\n",
      "| reward: -95.282963 |\n"
     ]
    },
    {
     "name": "stderr",
     "output_type": "stream",
     "text": [
      "Agent missed 1 observation(s).\n"
     ]
    },
    {
     "name": "stdout",
     "output_type": "stream",
     "text": [
      "| reward: -94.339107 |\n",
      "| reward: -94.295744 |\n"
     ]
    },
    {
     "name": "stderr",
     "output_type": "stream",
     "text": [
      "Agent missed 1 observation(s).\n"
     ]
    },
    {
     "name": "stdout",
     "output_type": "stream",
     "text": [
      "| reward: -95.241489 |\n",
      "| reward: -93.351255 |\n",
      "| reward: -96.208738 |\n",
      "| reward: -90.506862 |\n",
      "| reward: -95.287157 |\n",
      "| reward: -87.674616 |\n",
      "-------------------------------------\n",
      "| % time spent exploring | 78       |\n",
      "| episodes               | 30       |\n",
      "| mean episode reward    | -93.7    |\n",
      "| steps                  | 218      |\n",
      "-------------------------------------\n",
      "| reward: -97.161635 |\n",
      "| reward: -90.525361 |\n",
      "| reward: -96.194989 |\n",
      "| reward: -96.229133 |\n",
      "| reward: -97.163792 |\n",
      "| reward: -95.251885 |\n",
      "| reward: -93.348576 |\n",
      "| reward: -95.241020 |\n",
      "| reward: -97.158187 |\n",
      "| reward: -96.213955 |\n",
      "-------------------------------------\n",
      "| % time spent exploring | 72       |\n",
      "| episodes               | 40       |\n",
      "| mean episode reward    | -94.2    |\n",
      "| steps                  | 276      |\n",
      "-------------------------------------\n",
      "| reward: -97.157697 |\n",
      "| reward: -95.242821 |\n",
      "| reward: -95.284877 |\n",
      "| reward: -95.266148 |\n",
      "| reward: -94.284796 |\n",
      "| reward: -96.216331 |\n",
      "| reward: -76.859005 |\n",
      "| reward: -94.334810 |\n",
      "| reward: -95.253573 |\n",
      "| reward: -97.160162 |\n",
      "-------------------------------------\n",
      "| % time spent exploring | 65       |\n",
      "| episodes               | 50       |\n",
      "| mean episode reward    | -94.1    |\n",
      "| steps                  | 351      |\n",
      "-------------------------------------\n",
      "| reward: -90.508239 |\n",
      "| reward: -94.293798 |\n",
      "| reward: -96.222505 |\n",
      "| reward: -96.227560 |\n",
      "| reward: -96.229051 |\n",
      "| reward: -93.388297 |\n",
      "| reward: -94.349371 |\n",
      "| reward: -81.880575 |\n",
      "| reward: -97.158854 |\n",
      "| reward: -95.244343 |\n",
      "-------------------------------------\n",
      "| % time spent exploring | 58       |\n",
      "| episodes               | 60       |\n",
      "| mean episode reward    | -94      |\n",
      "| steps                  | 428      |\n",
      "-------------------------------------\n",
      "| reward: -97.160957 |\n",
      "| reward: -95.243501 |\n",
      "| reward: -95.254724 |\n",
      "| reward: -95.243721 |\n",
      "| reward: -93.378645 |\n",
      "| reward: -95.288046 |\n",
      "| reward: -97.160758 |\n",
      "| reward: -95.288625 |\n",
      "| reward: -95.243123 |\n"
     ]
    }
   ],
   "source": [
    "pre_env = gym.make(\"MinecraftCliffWalking1-v0\")\n",
    "pre_env.init(videoResolution=[400,400],allowContinuousMovement=[\"move\", \"turn\", \"strafe\"],observeGrid=[20,-1,20,20,-1,20],observeDistance=[4,45,12])\n",
    "env = MinecraftWrapper(pre_env,1/5,(41,41))\n",
    "\n",
    "exp = Experiment(\"OpenAI - DQN - CliffWalking Unnormalized input\")\n",
    "exp.param(\"memory capacity\",2000000)\n",
    "model1 = cnn_to_mlp([(32,8,4),(64,4,2),(64,3,1)],[256],True,True)\n",
    "train(env,exp,model1,2000000,1,0.001)"
   ]
  },
  {
   "cell_type": "markdown",
   "metadata": {
    "collapsed": true
   },
   "source": [
    "# Tests"
   ]
  },
  {
   "cell_type": "code",
   "execution_count": null,
   "metadata": {
    "ExecuteTime": {
     "end_time": "2018-01-01T01:56:56.421095Z",
     "start_time": "2018-01-01T01:56:56.413981Z"
    },
    "collapsed": true
   },
   "outputs": [],
   "source": [
    "np.ones_like((5,5,3))"
   ]
  },
  {
   "cell_type": "code",
   "execution_count": null,
   "metadata": {
    "ExecuteTime": {
     "end_time": "2017-12-27T20:27:24.193205Z",
     "start_time": "2017-12-27T20:27:24.146277Z"
    },
    "collapsed": true
   },
   "outputs": [],
   "source": [
    "def reward_proc(info,grid_shape = (41,41)):\n",
    "    if \"grid\" not in info['observation'].keys():\n",
    "        return 0\n",
    "    # reformat grid to a vector that only show the floor with blocks\n",
    "    vec = []    \n",
    "    for item in info['observation']['grid'][::-1]:\n",
    "        if 'lava' in item:\n",
    "            vec.append(1)\n",
    "        elif 'lapis' in item:\n",
    "            vec.append(2)\n",
    "        else:\n",
    "            vec.append(0)\n",
    "\n",
    "     # compute reward depending on distance to target\n",
    "    new_state = np.array(vec)\n",
    "    tmp = np.array(vec).reshape(grid_shape)\n",
    "    idx2 = np.argwhere(tmp == 2)\n",
    "\n",
    "    size = grid_shape[0]\n",
    "    idx1 = (np.ceil(size/2),np.ceil(size/2))\n",
    "\n",
    "    a = (self._dist(idx2,idx1))\n",
    "    if(a > 0):\n",
    "        try:\n",
    "            dist_reward = 2000/(a)\n",
    "        except:\n",
    "            dist_reward = 0\n",
    "        return dist_reward"
   ]
  },
  {
   "cell_type": "code",
   "execution_count": null,
   "metadata": {
    "ExecuteTime": {
     "end_time": "2017-12-27T20:37:22.909889Z",
     "start_time": "2017-12-27T20:37:22.903651Z"
    },
    "collapsed": true
   },
   "outputs": [],
   "source": [
    "def update(x,y,handle,plot):\n",
    "    plot.data_source.data['x'] += [x]\n",
    "    plot.data_source.data['y'] += [y]\n",
    "    push_notebook(handle=handle)"
   ]
  },
  {
   "cell_type": "code",
   "execution_count": null,
   "metadata": {
    "ExecuteTime": {
     "end_time": "2017-12-27T20:40:52.294008Z",
     "start_time": "2017-12-27T20:40:52.191419Z"
    },
    "collapsed": true
   },
   "outputs": [],
   "source": [
    "fig_test = figure(plot_width=1000, plot_height=400,title=\"rewards_test\",\n",
    "                      x_axis_label=\"x\",\n",
    "                      y_axis_label=\"y\")\n",
    "test_plot = fig_test.line([],[],color=\"navy\",line_width=2)\n",
    "# make a grid\n",
    "handle_test = show(fig_test, notebook_handle=True)"
   ]
  },
  {
   "cell_type": "code",
   "execution_count": null,
   "metadata": {
    "ExecuteTime": {
     "end_time": "2017-12-27T20:41:38.507864Z",
     "start_time": "2017-12-27T20:41:17.103285Z"
    },
    "collapsed": true
   },
   "outputs": [],
   "source": [
    "count = 0\n",
    "for e in range(100):\n",
    "    done = False\n",
    "    obs = env.reset()\n",
    "    #env.render()\n",
    "    count = 0\n",
    "    while not done:\n",
    "        \n",
    "        #env.render()\n",
    "        a = env.action_space.sample()\n",
    "        s,r,done,info = env.step(a)\n",
    "        r_ = proc2_reward(info)\n",
    "        print(r_)\n",
    "        r += r_\n",
    "        update(count,r_,handle_test,test_plot)\n",
    "        count += 1\n",
    "    "
   ]
  },
  {
   "cell_type": "code",
   "execution_count": null,
   "metadata": {
    "ExecuteTime": {
     "end_time": "2017-12-27T20:27:35.534116Z",
     "start_time": "2017-12-27T20:27:35.491428Z"
    },
    "collapsed": true
   },
   "outputs": [],
   "source": [
    "env.close()"
   ]
  },
  {
   "cell_type": "code",
   "execution_count": null,
   "metadata": {
    "ExecuteTime": {
     "end_time": "2017-12-27T20:16:30.979433Z",
     "start_time": "2017-12-27T20:16:30.328041Z"
    },
    "collapsed": true
   },
   "outputs": [],
   "source": [
    "env.reset()\n",
    "s,r,done,info = env.step(0)"
   ]
  },
  {
   "cell_type": "code",
   "execution_count": null,
   "metadata": {
    "ExecuteTime": {
     "end_time": "2017-12-27T20:16:31.562802Z",
     "start_time": "2017-12-27T20:16:31.511331Z"
    },
    "collapsed": true
   },
   "outputs": [],
   "source": [
    "s,r,done,info = env.step(0)\n",
    "info"
   ]
  },
  {
   "cell_type": "code",
   "execution_count": null,
   "metadata": {
    "ExecuteTime": {
     "end_time": "2017-12-27T20:16:35.591597Z",
     "start_time": "2017-12-27T20:16:35.581697Z"
    },
    "collapsed": true
   },
   "outputs": [],
   "source": [
    "proc2_reward(info)"
   ]
  },
  {
   "cell_type": "code",
   "execution_count": null,
   "metadata": {
    "collapsed": true
   },
   "outputs": [],
   "source": [
    "            act, train, update_target, debug = deepq.build_train(\n",
    "                make_obs_ph=lambda name: U.BatchInput(env.observation_space.shape, name=name),\n",
    "                q_func= model,\n",
    "                num_actions=env.action_space.n,\n",
    "                optimizer=tf.train.AdamOptimizer(learning_rate=learning_rate),\n",
    "            )\n",
    "    "
   ]
  },
  {
   "cell_type": "code",
   "execution_count": null,
   "metadata": {
    "ExecuteTime": {
     "end_time": "2017-12-31T08:05:45.868620Z",
     "start_time": "2017-12-31T08:05:45.861164Z"
    },
    "collapsed": true
   },
   "outputs": [],
   "source": [
    " make_obs_ph=lambda name: U.BatchInput(env.observation_space.shape, name=name)\n"
   ]
  },
  {
   "cell_type": "code",
   "execution_count": null,
   "metadata": {
    "ExecuteTime": {
     "end_time": "2017-12-31T08:05:52.341566Z",
     "start_time": "2017-12-31T08:05:52.338380Z"
    },
    "collapsed": true
   },
   "outputs": [],
   "source": [
    "q_func= model"
   ]
  },
  {
   "cell_type": "code",
   "execution_count": null,
   "metadata": {
    "ExecuteTime": {
     "end_time": "2017-12-31T08:06:07.082146Z",
     "start_time": "2017-12-31T08:06:07.077695Z"
    },
    "collapsed": true
   },
   "outputs": [],
   "source": [
    "optimizer=tf.train.AdamOptimizer(learning_rate=0.001)"
   ]
  },
  {
   "cell_type": "code",
   "execution_count": null,
   "metadata": {
    "ExecuteTime": {
     "end_time": "2017-12-31T08:06:21.066241Z",
     "start_time": "2017-12-31T08:06:21.060172Z"
    },
    "collapsed": true
   },
   "outputs": [],
   "source": [
    "obs_t_input = U.ensure_tf_input(make_obs_ph(\"obs_t\"))"
   ]
  },
  {
   "cell_type": "code",
   "execution_count": null,
   "metadata": {
    "ExecuteTime": {
     "end_time": "2017-12-31T08:06:59.094959Z",
     "start_time": "2017-12-31T08:06:59.034551Z"
    },
    "collapsed": true
   },
   "outputs": [],
   "source": [
    "q_t = q_func(obs_t_input.get(), 6, scope=\"q_func\", reuse=True)  # reuse parameters from act"
   ]
  },
  {
   "cell_type": "code",
   "execution_count": null,
   "metadata": {
    "ExecuteTime": {
     "end_time": "2017-12-31T08:07:08.408175Z",
     "start_time": "2017-12-31T08:07:08.402765Z"
    },
    "collapsed": true
   },
   "outputs": [],
   "source": [
    "q_func_vars = U.scope_vars(U.absolute_scope_name(\"q_func\"))"
   ]
  },
  {
   "cell_type": "code",
   "execution_count": null,
   "metadata": {
    "ExecuteTime": {
     "end_time": "2017-12-31T08:10:06.556430Z",
     "start_time": "2017-12-31T08:10:06.546423Z"
    },
    "collapsed": true
   },
   "outputs": [],
   "source": [
    "tf.trainable_variables()"
   ]
  },
  {
   "cell_type": "code",
   "execution_count": 11,
   "metadata": {
    "ExecuteTime": {
     "end_time": "2018-01-03T21:58:20.774986Z",
     "start_time": "2018-01-03T21:58:20.226741Z"
    },
    "collapsed": true
   },
   "outputs": [],
   "source": [
    "s = env.reset()"
   ]
  },
  {
   "cell_type": "code",
   "execution_count": 15,
   "metadata": {
    "ExecuteTime": {
     "end_time": "2018-01-03T22:00:40.855550Z",
     "start_time": "2018-01-03T22:00:40.849099Z"
    }
   },
   "outputs": [],
   "source": [
    "s_ = np.squeeze(s,-1)"
   ]
  },
  {
   "cell_type": "code",
   "execution_count": 16,
   "metadata": {
    "ExecuteTime": {
     "end_time": "2018-01-03T22:00:45.362883Z",
     "start_time": "2018-01-03T22:00:45.358700Z"
    }
   },
   "outputs": [
    {
     "data": {
      "text/plain": [
       "(80, 80)"
      ]
     },
     "execution_count": 16,
     "metadata": {},
     "output_type": "execute_result"
    }
   ],
   "source": [
    "s_.shape"
   ]
  },
  {
   "cell_type": "code",
   "execution_count": 17,
   "metadata": {
    "ExecuteTime": {
     "end_time": "2018-01-03T22:00:55.956380Z",
     "start_time": "2018-01-03T22:00:55.807756Z"
    }
   },
   "outputs": [
    {
     "data": {
      "text/plain": [
       "<matplotlib.image.AxesImage at 0x7f62f246f2b0>"
      ]
     },
     "execution_count": 17,
     "metadata": {},
     "output_type": "execute_result"
    },
    {
     "data": {
      "image/png": "[encoded data removed]",
      "text/plain": [
       "<matplotlib.figure.Figure at 0x7f62f24ecc18>"
      ]
     },
     "metadata": {},
     "output_type": "display_data"
    }
   ],
   "source": [
    "plt.imshow(s_)"
   ]
  },
  {
   "cell_type": "code",
   "execution_count": null,
   "metadata": {
    "collapsed": true
   },
   "outputs": [],
   "source": []
  }
 ],
 "metadata": {
  "anaconda-cloud": {},
  "kernelspec": {
   "display_name": "Python [conda env:casper]",
   "language": "python",
   "name": "conda-env-casper-py"
  },
  "language_info": {
   "codemirror_mode": {
    "name": "ipython",
    "version": 3
   },
   "file_extension": ".py",
   "mimetype": "text/x-python",
   "name": "python",
   "nbconvert_exporter": "python",
   "pygments_lexer": "ipython3",
   "version": "3.5.4"
  },
  "varInspector": {
   "cols": {
    "lenName": 16,
    "lenType": 16,
    "lenVar": 40
   },
   "kernels_config": {
    "python": {
     "delete_cmd_postfix": "",
     "delete_cmd_prefix": "del ",
     "library": "var_list.py",
     "varRefreshCmd": "print(var_dic_list())"
    },
    "r": {
     "delete_cmd_postfix": ") ",
     "delete_cmd_prefix": "rm(",
     "library": "var_list.r",
     "varRefreshCmd": "cat(var_dic_list()) "
    }
   },
   "types_to_exclude": [
    "module",
    "function",
    "builtin_function_or_method",
    "instance",
    "_Feature"
   ],
   "window_display": false
  }
 },
 "nbformat": 4,
 "nbformat_minor": 2
}
