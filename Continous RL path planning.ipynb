{
 "cells": [
  {
   "cell_type": "markdown",
   "metadata": {},
   "source": [
    "## Libraries"
   ]
  },
  {
   "cell_type": "code",
   "execution_count": 1,
   "metadata": {
    "ExecuteTime": {
     "end_time": "2017-11-21T19:00:20.350736Z",
     "start_time": "2017-11-21T19:00:20.144106Z"
    },
    "collapsed": true
   },
   "outputs": [],
   "source": [
    "import pdb;\n",
    "import scipy.misc as scimisc"
   ]
  },
  {
   "cell_type": "code",
   "execution_count": 2,
   "metadata": {
    "ExecuteTime": {
     "end_time": "2017-11-21T19:00:20.556297Z",
     "start_time": "2017-11-21T19:00:20.524709Z"
    },
    "collapsed": true
   },
   "outputs": [],
   "source": [
    "\n",
    "from tkinter import *\n",
    "from PIL import Image\n",
    "from PIL import ImageTk"
   ]
  },
  {
   "cell_type": "code",
   "execution_count": 3,
   "metadata": {
    "ExecuteTime": {
     "end_time": "2017-11-21T19:00:21.426425Z",
     "start_time": "2017-11-21T19:00:20.959567Z"
    },
    "collapsed": true
   },
   "outputs": [],
   "source": [
    "%matplotlib inline\n",
    "import matplotlib.pyplot as plt\n",
    "import matplotlib.image as mpimg\n",
    "import matplotlib.animation as animation\n",
    "from PIL import Image"
   ]
  },
  {
   "cell_type": "code",
   "execution_count": 4,
   "metadata": {
    "ExecuteTime": {
     "end_time": "2017-11-21T19:00:21.828631Z",
     "start_time": "2017-11-21T19:00:21.776950Z"
    },
    "collapsed": true
   },
   "outputs": [],
   "source": [
    "import MalmoPython\n",
    "import os\n",
    "import sys\n",
    "import time\n",
    "import random\n",
    "import json\n",
    "import numpy as np\n",
    "import time\n",
    "from IPython.display import clear_output,display\n",
    "import logging\n",
    "import math\n",
    "actions = {\n",
    "    'strafe':{\n",
    "        'left': 'strafe -1',\n",
    "        'right': 'strafe 1'\n",
    "    },\n",
    "    'move':{\n",
    "        'back':'move -1',\n",
    "        'forward':'move 1'\n",
    "    },\n",
    "    'pitch':{\n",
    "        'up':'pitch -0.03',\n",
    "        'down':'pitch 0.03'\n",
    "    },\n",
    "    'turn':{\n",
    "        'anti':'turn -1',\n",
    "        'clk':'turn 1'\n",
    "    },\n",
    "    'jump':{\n",
    "        'on':'jump 1',\n",
    "        'off':'jump 0'\n",
    "    },\n",
    "    'attack':{\n",
    "        'on': 'attack 1',\n",
    "        'off': 'attack 0'\n",
    "    },\n",
    "    'use':{\n",
    "        'on': 'use 1',\n",
    "        'off': 'use 0'\n",
    "    },\n",
    "    'crouch':{\n",
    "        'on':'crouch 1',\n",
    "        'off':'crouch 0'\n",
    "    }\n",
    "}\n",
    "# Create default Malmo objects:"
   ]
  },
  {
   "cell_type": "code",
   "execution_count": 5,
   "metadata": {
    "ExecuteTime": {
     "end_time": "2017-11-21T19:00:23.564430Z",
     "start_time": "2017-11-21T19:00:22.678064Z"
    }
   },
   "outputs": [
    {
     "data": {
      "text/html": [
       "\n",
       "    <div class=\"bk-root\">\n",
       "        <a href=\"https://bokeh.pydata.org\" target=\"_blank\" class=\"bk-logo bk-logo-small bk-logo-notebook\"></a>\n",
       "        <span id=\"d0fb4a7f-3f9f-4051-9071-a6fb8521057e\">Loading BokehJS ...</span>\n",
       "    </div>"
      ]
     },
     "metadata": {},
     "output_type": "display_data"
    },
    {
     "data": {
      "application/javascript": [
       "\n",
       "(function(root) {\n",
       "  function now() {\n",
       "    return new Date();\n",
       "  }\n",
       "\n",
       "  var force = true;\n",
       "\n",
       "  if (typeof (root._bokeh_onload_callbacks) === \"undefined\" || force === true) {\n",
       "    root._bokeh_onload_callbacks = [];\n",
       "    root._bokeh_is_loading = undefined;\n",
       "  }\n",
       "\n",
       "  var JS_MIME_TYPE = 'application/javascript';\n",
       "  var HTML_MIME_TYPE = 'text/html';\n",
       "  var EXEC_MIME_TYPE = 'application/vnd.bokehjs_exec.v0+json';\n",
       "  var CLASS_NAME = 'output_bokeh rendered_html';\n",
       "\n",
       "  /**\n",
       "   * Render data to the DOM node\n",
       "   */\n",
       "  function render(props, node) {\n",
       "    var script = document.createElement(\"script\");\n",
       "    node.appendChild(script);\n",
       "  }\n",
       "\n",
       "  /**\n",
       "   * Handle when an output is cleared or removed\n",
       "   */\n",
       "  function handleClearOutput(event, handle) {\n",
       "    var cell = handle.cell;\n",
       "\n",
       "    var id = cell.output_area._bokeh_element_id;\n",
       "    var server_id = cell.output_area._bokeh_server_id;\n",
       "    // Clean up Bokeh references\n",
       "    if (id !== undefined) {\n",
       "      Bokeh.index[id].model.document.clear();\n",
       "      delete Bokeh.index[id];\n",
       "    }\n",
       "\n",
       "    if (server_id !== undefined) {\n",
       "      // Clean up Bokeh references\n",
       "      var cmd = \"from bokeh.io.state import curstate; print(curstate().uuid_to_server['\" + server_id + \"'].get_sessions()[0].document.roots[0]._id)\";\n",
       "      cell.notebook.kernel.execute(cmd, {\n",
       "        iopub: {\n",
       "          output: function(msg) {\n",
       "            var element_id = msg.content.text.trim();\n",
       "            Bokeh.index[element_id].model.document.clear();\n",
       "            delete Bokeh.index[element_id];\n",
       "          }\n",
       "        }\n",
       "      });\n",
       "      // Destroy server and session\n",
       "      var cmd = \"import bokeh.io.notebook as ion; ion.destroy_server('\" + server_id + \"')\";\n",
       "      cell.notebook.kernel.execute(cmd);\n",
       "    }\n",
       "  }\n",
       "\n",
       "  /**\n",
       "   * Handle when a new output is added\n",
       "   */\n",
       "  function handleAddOutput(event, handle) {\n",
       "    var output_area = handle.output_area;\n",
       "    var output = handle.output;\n",
       "\n",
       "    // limit handleAddOutput to display_data with EXEC_MIME_TYPE content only\n",
       "    if ((output.output_type != \"display_data\") || (!output.data.hasOwnProperty(EXEC_MIME_TYPE))) {\n",
       "      return\n",
       "    }\n",
       "\n",
       "    var toinsert = output_area.element.find(`.${CLASS_NAME.split(' ')[0]}`);\n",
       "\n",
       "    if (output.metadata[EXEC_MIME_TYPE][\"id\"] !== undefined) {\n",
       "      toinsert[0].firstChild.textContent = output.data[JS_MIME_TYPE];\n",
       "      // store reference to embed id on output_area\n",
       "      output_area._bokeh_element_id = output.metadata[EXEC_MIME_TYPE][\"id\"];\n",
       "    }\n",
       "    if (output.metadata[EXEC_MIME_TYPE][\"server_id\"] !== undefined) {\n",
       "      var bk_div = document.createElement(\"div\");\n",
       "      bk_div.innerHTML = output.data[HTML_MIME_TYPE];\n",
       "      var script_attrs = bk_div.children[0].attributes;\n",
       "      for (var i = 0; i < script_attrs.length; i++) {\n",
       "        toinsert[0].firstChild.setAttribute(script_attrs[i].name, script_attrs[i].value);\n",
       "      }\n",
       "      // store reference to server id on output_area\n",
       "      output_area._bokeh_server_id = output.metadata[EXEC_MIME_TYPE][\"server_id\"];\n",
       "    }\n",
       "  }\n",
       "\n",
       "  function register_renderer(events, OutputArea) {\n",
       "\n",
       "    function append_mime(data, metadata, element) {\n",
       "      // create a DOM node to render to\n",
       "      var toinsert = this.create_output_subarea(\n",
       "        metadata,\n",
       "        CLASS_NAME,\n",
       "        EXEC_MIME_TYPE\n",
       "      );\n",
       "      this.keyboard_manager.register_events(toinsert);\n",
       "      // Render to node\n",
       "      var props = {data: data, metadata: metadata[EXEC_MIME_TYPE]};\n",
       "      render(props, toinsert[0]);\n",
       "      element.append(toinsert);\n",
       "      return toinsert\n",
       "    }\n",
       "\n",
       "    /* Handle when an output is cleared or removed */\n",
       "    events.on('clear_output.CodeCell', handleClearOutput);\n",
       "    events.on('delete.Cell', handleClearOutput);\n",
       "\n",
       "    /* Handle when a new output is added */\n",
       "    events.on('output_added.OutputArea', handleAddOutput);\n",
       "\n",
       "    /**\n",
       "     * Register the mime type and append_mime function with output_area\n",
       "     */\n",
       "    OutputArea.prototype.register_mime_type(EXEC_MIME_TYPE, append_mime, {\n",
       "      /* Is output safe? */\n",
       "      safe: true,\n",
       "      /* Index of renderer in `output_area.display_order` */\n",
       "      index: 0\n",
       "    });\n",
       "  }\n",
       "\n",
       "  // register the mime type if in Jupyter Notebook environment and previously unregistered\n",
       "  if (root.Jupyter !== undefined) {\n",
       "    var events = require('base/js/events');\n",
       "    var OutputArea = require('notebook/js/outputarea').OutputArea;\n",
       "\n",
       "    if (OutputArea.prototype.mime_types().indexOf(EXEC_MIME_TYPE) == -1) {\n",
       "      register_renderer(events, OutputArea);\n",
       "    }\n",
       "  }\n",
       "\n",
       "  \n",
       "  if (typeof (root._bokeh_timeout) === \"undefined\" || force === true) {\n",
       "    root._bokeh_timeout = Date.now() + 5000;\n",
       "    root._bokeh_failed_load = false;\n",
       "  }\n",
       "\n",
       "  var NB_LOAD_WARNING = {'data': {'text/html':\n",
       "     \"<div style='background-color: #fdd'>\\n\"+\n",
       "     \"<p>\\n\"+\n",
       "     \"BokehJS does not appear to have successfully loaded. If loading BokehJS from CDN, this \\n\"+\n",
       "     \"may be due to a slow or bad network connection. Possible fixes:\\n\"+\n",
       "     \"</p>\\n\"+\n",
       "     \"<ul>\\n\"+\n",
       "     \"<li>re-rerun `output_notebook()` to attempt to load from CDN again, or</li>\\n\"+\n",
       "     \"<li>use INLINE resources instead, as so:</li>\\n\"+\n",
       "     \"</ul>\\n\"+\n",
       "     \"<code>\\n\"+\n",
       "     \"from bokeh.resources import INLINE\\n\"+\n",
       "     \"output_notebook(resources=INLINE)\\n\"+\n",
       "     \"</code>\\n\"+\n",
       "     \"</div>\"}};\n",
       "\n",
       "  function display_loaded() {\n",
       "    var el = document.getElementById(\"d0fb4a7f-3f9f-4051-9071-a6fb8521057e\");\n",
       "    if (el != null) {\n",
       "      el.textContent = \"BokehJS is loading...\";\n",
       "    }\n",
       "    if (root.Bokeh !== undefined) {\n",
       "      if (el != null) {\n",
       "        el.textContent = \"BokehJS \" + root.Bokeh.version + \" successfully loaded.\";\n",
       "      }\n",
       "    } else if (Date.now() < root._bokeh_timeout) {\n",
       "      setTimeout(display_loaded, 100)\n",
       "    }\n",
       "  }\n",
       "\n",
       "\n",
       "  function run_callbacks() {\n",
       "    try {\n",
       "      root._bokeh_onload_callbacks.forEach(function(callback) { callback() });\n",
       "    }\n",
       "    finally {\n",
       "      delete root._bokeh_onload_callbacks\n",
       "    }\n",
       "    console.info(\"Bokeh: all callbacks have finished\");\n",
       "  }\n",
       "\n",
       "  function load_libs(js_urls, callback) {\n",
       "    root._bokeh_onload_callbacks.push(callback);\n",
       "    if (root._bokeh_is_loading > 0) {\n",
       "      console.log(\"Bokeh: BokehJS is being loaded, scheduling callback at\", now());\n",
       "      return null;\n",
       "    }\n",
       "    if (js_urls == null || js_urls.length === 0) {\n",
       "      run_callbacks();\n",
       "      return null;\n",
       "    }\n",
       "    console.log(\"Bokeh: BokehJS not loaded, scheduling load and callback at\", now());\n",
       "    root._bokeh_is_loading = js_urls.length;\n",
       "    for (var i = 0; i < js_urls.length; i++) {\n",
       "      var url = js_urls[i];\n",
       "      var s = document.createElement('script');\n",
       "      s.src = url;\n",
       "      s.async = false;\n",
       "      s.onreadystatechange = s.onload = function() {\n",
       "        root._bokeh_is_loading--;\n",
       "        if (root._bokeh_is_loading === 0) {\n",
       "          console.log(\"Bokeh: all BokehJS libraries loaded\");\n",
       "          run_callbacks()\n",
       "        }\n",
       "      };\n",
       "      s.onerror = function() {\n",
       "        console.warn(\"failed to load library \" + url);\n",
       "      };\n",
       "      console.log(\"Bokeh: injecting script tag for BokehJS library: \", url);\n",
       "      document.getElementsByTagName(\"head\")[0].appendChild(s);\n",
       "    }\n",
       "  };var element = document.getElementById(\"d0fb4a7f-3f9f-4051-9071-a6fb8521057e\");\n",
       "  if (element == null) {\n",
       "    console.log(\"Bokeh: ERROR: autoload.js configured with elementid 'd0fb4a7f-3f9f-4051-9071-a6fb8521057e' but no matching script tag was found. \")\n",
       "    return false;\n",
       "  }\n",
       "\n",
       "  var js_urls = [\"https://cdn.pydata.org/bokeh/release/bokeh-0.12.10.min.js\", \"https://cdn.pydata.org/bokeh/release/bokeh-widgets-0.12.10.min.js\", \"https://cdn.pydata.org/bokeh/release/bokeh-tables-0.12.10.min.js\", \"https://cdn.pydata.org/bokeh/release/bokeh-gl-0.12.10.min.js\"];\n",
       "\n",
       "  var inline_js = [\n",
       "    function(Bokeh) {\n",
       "      Bokeh.set_log_level(\"info\");\n",
       "    },\n",
       "    \n",
       "    function(Bokeh) {\n",
       "      \n",
       "    },\n",
       "    function(Bokeh) {\n",
       "      console.log(\"Bokeh: injecting CSS: https://cdn.pydata.org/bokeh/release/bokeh-0.12.10.min.css\");\n",
       "      Bokeh.embed.inject_css(\"https://cdn.pydata.org/bokeh/release/bokeh-0.12.10.min.css\");\n",
       "      console.log(\"Bokeh: injecting CSS: https://cdn.pydata.org/bokeh/release/bokeh-widgets-0.12.10.min.css\");\n",
       "      Bokeh.embed.inject_css(\"https://cdn.pydata.org/bokeh/release/bokeh-widgets-0.12.10.min.css\");\n",
       "      console.log(\"Bokeh: injecting CSS: https://cdn.pydata.org/bokeh/release/bokeh-tables-0.12.10.min.css\");\n",
       "      Bokeh.embed.inject_css(\"https://cdn.pydata.org/bokeh/release/bokeh-tables-0.12.10.min.css\");\n",
       "    }\n",
       "  ];\n",
       "\n",
       "  function run_inline_js() {\n",
       "    \n",
       "    if ((root.Bokeh !== undefined) || (force === true)) {\n",
       "      for (var i = 0; i < inline_js.length; i++) {\n",
       "        inline_js[i].call(root, root.Bokeh);\n",
       "      }if (force === true) {\n",
       "        display_loaded();\n",
       "      }} else if (Date.now() < root._bokeh_timeout) {\n",
       "      setTimeout(run_inline_js, 100);\n",
       "    } else if (!root._bokeh_failed_load) {\n",
       "      console.log(\"Bokeh: BokehJS failed to load within specified timeout.\");\n",
       "      root._bokeh_failed_load = true;\n",
       "    } else if (force !== true) {\n",
       "      var cell = $(document.getElementById(\"d0fb4a7f-3f9f-4051-9071-a6fb8521057e\")).parents('.cell').data().cell;\n",
       "      cell.output_area.append_execute_result(NB_LOAD_WARNING)\n",
       "    }\n",
       "\n",
       "  }\n",
       "\n",
       "  if (root._bokeh_is_loading === 0) {\n",
       "    console.log(\"Bokeh: BokehJS loaded, going straight to plotting\");\n",
       "    run_inline_js();\n",
       "  } else {\n",
       "    load_libs(js_urls, function() {\n",
       "      console.log(\"Bokeh: BokehJS plotting callback run at\", now());\n",
       "      run_inline_js();\n",
       "    });\n",
       "  }\n",
       "}(window));"
      ],
      "application/vnd.bokehjs_load.v0+json": "\n(function(root) {\n  function now() {\n    return new Date();\n  }\n\n  var force = true;\n\n  if (typeof (root._bokeh_onload_callbacks) === \"undefined\" || force === true) {\n    root._bokeh_onload_callbacks = [];\n    root._bokeh_is_loading = undefined;\n  }\n\n  \n\n  \n  if (typeof (root._bokeh_timeout) === \"undefined\" || force === true) {\n    root._bokeh_timeout = Date.now() + 5000;\n    root._bokeh_failed_load = false;\n  }\n\n  var NB_LOAD_WARNING = {'data': {'text/html':\n     \"<div style='background-color: #fdd'>\\n\"+\n     \"<p>\\n\"+\n     \"BokehJS does not appear to have successfully loaded. If loading BokehJS from CDN, this \\n\"+\n     \"may be due to a slow or bad network connection. Possible fixes:\\n\"+\n     \"</p>\\n\"+\n     \"<ul>\\n\"+\n     \"<li>re-rerun `output_notebook()` to attempt to load from CDN again, or</li>\\n\"+\n     \"<li>use INLINE resources instead, as so:</li>\\n\"+\n     \"</ul>\\n\"+\n     \"<code>\\n\"+\n     \"from bokeh.resources import INLINE\\n\"+\n     \"output_notebook(resources=INLINE)\\n\"+\n     \"</code>\\n\"+\n     \"</div>\"}};\n\n  function display_loaded() {\n    var el = document.getElementById(\"d0fb4a7f-3f9f-4051-9071-a6fb8521057e\");\n    if (el != null) {\n      el.textContent = \"BokehJS is loading...\";\n    }\n    if (root.Bokeh !== undefined) {\n      if (el != null) {\n        el.textContent = \"BokehJS \" + root.Bokeh.version + \" successfully loaded.\";\n      }\n    } else if (Date.now() < root._bokeh_timeout) {\n      setTimeout(display_loaded, 100)\n    }\n  }\n\n\n  function run_callbacks() {\n    try {\n      root._bokeh_onload_callbacks.forEach(function(callback) { callback() });\n    }\n    finally {\n      delete root._bokeh_onload_callbacks\n    }\n    console.info(\"Bokeh: all callbacks have finished\");\n  }\n\n  function load_libs(js_urls, callback) {\n    root._bokeh_onload_callbacks.push(callback);\n    if (root._bokeh_is_loading > 0) {\n      console.log(\"Bokeh: BokehJS is being loaded, scheduling callback at\", now());\n      return null;\n    }\n    if (js_urls == null || js_urls.length === 0) {\n      run_callbacks();\n      return null;\n    }\n    console.log(\"Bokeh: BokehJS not loaded, scheduling load and callback at\", now());\n    root._bokeh_is_loading = js_urls.length;\n    for (var i = 0; i < js_urls.length; i++) {\n      var url = js_urls[i];\n      var s = document.createElement('script');\n      s.src = url;\n      s.async = false;\n      s.onreadystatechange = s.onload = function() {\n        root._bokeh_is_loading--;\n        if (root._bokeh_is_loading === 0) {\n          console.log(\"Bokeh: all BokehJS libraries loaded\");\n          run_callbacks()\n        }\n      };\n      s.onerror = function() {\n        console.warn(\"failed to load library \" + url);\n      };\n      console.log(\"Bokeh: injecting script tag for BokehJS library: \", url);\n      document.getElementsByTagName(\"head\")[0].appendChild(s);\n    }\n  };var element = document.getElementById(\"d0fb4a7f-3f9f-4051-9071-a6fb8521057e\");\n  if (element == null) {\n    console.log(\"Bokeh: ERROR: autoload.js configured with elementid 'd0fb4a7f-3f9f-4051-9071-a6fb8521057e' but no matching script tag was found. \")\n    return false;\n  }\n\n  var js_urls = [\"https://cdn.pydata.org/bokeh/release/bokeh-0.12.10.min.js\", \"https://cdn.pydata.org/bokeh/release/bokeh-widgets-0.12.10.min.js\", \"https://cdn.pydata.org/bokeh/release/bokeh-tables-0.12.10.min.js\", \"https://cdn.pydata.org/bokeh/release/bokeh-gl-0.12.10.min.js\"];\n\n  var inline_js = [\n    function(Bokeh) {\n      Bokeh.set_log_level(\"info\");\n    },\n    \n    function(Bokeh) {\n      \n    },\n    function(Bokeh) {\n      console.log(\"Bokeh: injecting CSS: https://cdn.pydata.org/bokeh/release/bokeh-0.12.10.min.css\");\n      Bokeh.embed.inject_css(\"https://cdn.pydata.org/bokeh/release/bokeh-0.12.10.min.css\");\n      console.log(\"Bokeh: injecting CSS: https://cdn.pydata.org/bokeh/release/bokeh-widgets-0.12.10.min.css\");\n      Bokeh.embed.inject_css(\"https://cdn.pydata.org/bokeh/release/bokeh-widgets-0.12.10.min.css\");\n      console.log(\"Bokeh: injecting CSS: https://cdn.pydata.org/bokeh/release/bokeh-tables-0.12.10.min.css\");\n      Bokeh.embed.inject_css(\"https://cdn.pydata.org/bokeh/release/bokeh-tables-0.12.10.min.css\");\n    }\n  ];\n\n  function run_inline_js() {\n    \n    if ((root.Bokeh !== undefined) || (force === true)) {\n      for (var i = 0; i < inline_js.length; i++) {\n        inline_js[i].call(root, root.Bokeh);\n      }if (force === true) {\n        display_loaded();\n      }} else if (Date.now() < root._bokeh_timeout) {\n      setTimeout(run_inline_js, 100);\n    } else if (!root._bokeh_failed_load) {\n      console.log(\"Bokeh: BokehJS failed to load within specified timeout.\");\n      root._bokeh_failed_load = true;\n    } else if (force !== true) {\n      var cell = $(document.getElementById(\"d0fb4a7f-3f9f-4051-9071-a6fb8521057e\")).parents('.cell').data().cell;\n      cell.output_area.append_execute_result(NB_LOAD_WARNING)\n    }\n\n  }\n\n  if (root._bokeh_is_loading === 0) {\n    console.log(\"Bokeh: BokehJS loaded, going straight to plotting\");\n    run_inline_js();\n  } else {\n    load_libs(js_urls, function() {\n      console.log(\"Bokeh: BokehJS plotting callback run at\", now());\n      run_inline_js();\n    });\n  }\n}(window));"
     },
     "metadata": {},
     "output_type": "display_data"
    }
   ],
   "source": [
    "from bokeh.plotting import figure\n",
    "from bokeh.io import output_notebook, push_notebook, show\n",
    "from bokeh.driving import linear\n",
    "from bokeh.layouts import row,gridplot\n",
    "from IPython.display import clear_output,display\n",
    "output_notebook()"
   ]
  },
  {
   "cell_type": "code",
   "execution_count": 6,
   "metadata": {
    "ExecuteTime": {
     "end_time": "2017-11-21T19:00:23.595437Z",
     "start_time": "2017-11-21T19:00:23.587814Z"
    },
    "collapsed": true
   },
   "outputs": [],
   "source": [
    "simple_actions = {\n",
    "    'strafe':{\n",
    "        'left': 'strafe -1',\n",
    "        'right': 'strafe 1'\n",
    "    },\n",
    "    'move':{\n",
    "        'back':'move -1',\n",
    "        'forward':'move 1'\n",
    "    }   \n",
    "}\n",
    "# flatten dict of actions\n",
    "ractions = []\n",
    "for action_type in simple_actions.keys():\n",
    "    \n",
    "    for action in simple_actions[action_type]:\n",
    "        ractions.append(simple_actions[action_type][action])"
   ]
  },
  {
   "cell_type": "markdown",
   "metadata": {},
   "source": [
    "## Brain"
   ]
  },
  {
   "cell_type": "code",
   "execution_count": 7,
   "metadata": {
    "ExecuteTime": {
     "end_time": "2017-11-21T19:00:53.500602Z",
     "start_time": "2017-11-21T19:00:24.319852Z"
    }
   },
   "outputs": [
    {
     "name": "stderr",
     "output_type": "stream",
     "text": [
      "Using TensorFlow backend.\n"
     ]
    }
   ],
   "source": [
    "from keras.models import Sequential,model_from_json\n",
    "from keras.layers import Dense, Activation,GRU,Input,LSTM,Conv2D,Flatten\n",
    "from keras.optimizers import RMSprop"
   ]
  },
  {
   "cell_type": "code",
   "execution_count": 65,
   "metadata": {
    "ExecuteTime": {
     "end_time": "2017-11-21T19:48:35.492105Z",
     "start_time": "2017-11-21T19:48:35.395972Z"
    },
    "collapsed": true
   },
   "outputs": [],
   "source": [
    "class Brain:\n",
    "    def __init__(self, stateCnt, actionCnt):\n",
    "        self.stateCnt = stateCnt\n",
    "        self.actionCnt = actionCnt\n",
    "    \n",
    "        self.model = self._createModel()\n",
    "        # self.model.load_weights(\"cartpole-basic.h5\")\n",
    "    def save(self):\n",
    "        model_json = self.model.to_json()\n",
    "        with open('model.json','w') as json_file:\n",
    "            json_file.write(model_json)\n",
    "            \n",
    "        self.model.save_weights('CNNmodel.h5')\n",
    "    def load(self):\n",
    "        self.model.load_weights('CNNmodel.h5')\n",
    "    def _createModel(self):\n",
    "        model = Sequential()\n",
    "        # Lets try a CNN to take screen as input\n",
    "        # batch size is 64, 320x240 video RGB channels with an extra channel for depth\n",
    "        frame_width = 35\n",
    "        frame_height = 25\n",
    "        model.add(Conv2D(32,(8,8),input_shape=(frame_height,frame_width,1),activation='relu'))\n",
    "        model.add(Conv2D(64,(4,4),input_shape=(frame_height,frame_width,1),activation='relu'))\n",
    "        model.add(Conv2D(64,(3,3),input_shape=(frame_height,frame_width,1),activation='relu'))\n",
    "        model.add(Flatten())\n",
    "        model.add(Dense(500,activation='relu'))\n",
    "        model.add(Dense(output_dim=self.actionCnt,activation='softmax'))\n",
    "        \n",
    "        opt = RMSprop(lr=0.00025)\n",
    "        model.compile(loss='mse', optimizer=opt)\n",
    "\n",
    "        return model\n",
    "\n",
    "    def train(self, x, y, epoch=1, verbose=0):\n",
    "        self.model.fit(x, y, batch_size=64, nb_epoch=epoch, verbose=verbose)\n",
    "\n",
    "    def predict(self, s):\n",
    "        return np.array(self.model.predict(s))\n",
    "\n",
    "    def predictOne(self, s):\n",
    "        return self.predict(s.reshape(1, *self.stateCnt)).flatten()\n"
   ]
  },
  {
   "cell_type": "markdown",
   "metadata": {},
   "source": [
    "## Memory"
   ]
  },
  {
   "cell_type": "code",
   "execution_count": 9,
   "metadata": {
    "ExecuteTime": {
     "end_time": "2017-11-21T19:00:53.692881Z",
     "start_time": "2017-11-21T19:00:53.676648Z"
    },
    "collapsed": true
   },
   "outputs": [],
   "source": [
    "class Memory:   # stored as ( s, a, r, s_ )\n",
    "    def __init__(self, capacity):\n",
    "        self.samples = []\n",
    "        self.capacity = capacity\n",
    "        \n",
    "\n",
    "    def add(self, sample):\n",
    "        self.samples.append(sample)        \n",
    "\n",
    "        if len(self.samples) > self.capacity:\n",
    "            self.samples.pop(0)\n",
    "\n",
    "    def sample(self, n):\n",
    "        n = min(n, len(self.samples))\n",
    "        return random.sample(self.samples, n)"
   ]
  },
  {
   "cell_type": "markdown",
   "metadata": {},
   "source": [
    "## Agent"
   ]
  },
  {
   "cell_type": "code",
   "execution_count": 10,
   "metadata": {
    "ExecuteTime": {
     "end_time": "2017-11-21T19:00:53.935190Z",
     "start_time": "2017-11-21T19:00:53.739039Z"
    },
    "collapsed": true
   },
   "outputs": [],
   "source": [
    "MEMORY_CAPACITY = 100000\n",
    "BATCH_SIZE = 64\n",
    "\n",
    "GAMMA = 0.99\n",
    "\n",
    "MAX_EPSILON = 1\n",
    "MIN_EPSILON = 0.01\n",
    "LAMBDA = 0.001      # speed of decay\n",
    "\n",
    "class Agent:\n",
    "    steps = 0\n",
    "    epsilon = MAX_EPSILON\n",
    "\n",
    "    def __init__(self, stateCnt, actionCnt,actions):\n",
    "        self.stateCnt = stateCnt\n",
    "        self.actionCnt = actionCnt\n",
    "        self.actions = actions\n",
    "\n",
    "        self.brain = Brain(stateCnt, actionCnt)\n",
    "        self.memory = Memory(MEMORY_CAPACITY)\n",
    "        \n",
    "    def act(self, s):\n",
    "        # Epsilon greedy action selection\n",
    "        if random.random() < self.epsilon:\n",
    "            act_int = random.randint(0, self.actionCnt-1)\n",
    "        else:\n",
    "            act_int = np.argmax(self.brain.predictOne(s))\n",
    "        return self.actions[act_int],act_int\n",
    "\n",
    "    def observe(self, sample):  # in (s, a, r, s_) format\n",
    "        self.memory.add(sample)        \n",
    "\n",
    "        # slowly decrease Epsilon based on our eperience\n",
    "        self.steps += 1\n",
    "        self.epsilon = MIN_EPSILON + (MAX_EPSILON - MIN_EPSILON) * math.exp(-LAMBDA * self.steps)\n",
    "\n",
    "    def replay(self):    \n",
    "        batch = self.memory.sample(BATCH_SIZE)\n",
    "        batchLen = len(batch)\n",
    "\n",
    "        no_state = np.zeros(self.stateCnt)\n",
    "         \n",
    "        states = np.array([ o[0] for o in batch ])\n",
    "        states_ = np.array([ (no_state if o[3] is None else o[3]) for o in batch ])\n",
    "        \n",
    "        p = agent.brain.predict(states)\n",
    "        p_ = agent.brain.predict(states_)\n",
    "\n",
    "        x = np.zeros((batchLen, *self.stateCnt))\n",
    "        y = np.zeros((batchLen, self.actionCnt))\n",
    "        \n",
    "        for i in range(batchLen):\n",
    "            o = batch[i]\n",
    "            s = o[0]\n",
    "            a = o[1]\n",
    "            r = o[2]\n",
    "            s_ = o[3]\n",
    "            \n",
    "            t = p[i]\n",
    "            if s_ is None:\n",
    "                t[a] = r\n",
    "            else:\n",
    "                t[a] = r + GAMMA * np.amax(p_[i])\n",
    "            x[i] = s\n",
    "            y[i] = t\n",
    "            \n",
    "            self.brain.train(x, y)"
   ]
  },
  {
   "cell_type": "markdown",
   "metadata": {},
   "source": [
    "## Environment"
   ]
  },
  {
   "cell_type": "code",
   "execution_count": 59,
   "metadata": {
    "ExecuteTime": {
     "end_time": "2017-11-21T19:45:27.426516Z",
     "start_time": "2017-11-21T19:45:27.013974Z"
    }
   },
   "outputs": [],
   "source": [
    "class Env:\n",
    "    def __init__(self,actions,obs_shape = 3):\n",
    "        self.world_state = None\n",
    "        self.my_mission_record = MalmoPython.MissionRecordSpec()\n",
    "        self.data = None\n",
    "        #self.observation_space = np.zeros(shape=(obs_shape**2,))\n",
    "        self.obs_shape = obs_shape\n",
    "        self.actions = actions\n",
    "        \n",
    "        self.host = MalmoPython.AgentHost()\n",
    "        try:\n",
    "            self.host.parse( sys.argv )\n",
    "        except RuntimeError as e:\n",
    "            print ('ERROR:',e)\n",
    "            print (self.host.getUsage())\n",
    "            if self.host.receivedArgument(\"help\"):\n",
    "                print (self.host.getUsage())\n",
    "                exit(0)\n",
    "    def _dist(self,x,y):\n",
    "        return np.sqrt(np.sum((x-y)**2))\n",
    "    def observe(self):\n",
    "        num_frames_seen = self.world_state.number_of_video_frames_since_last_state\n",
    "        while self.world_state.is_mission_running and self.world_state.number_of_video_frames_since_last_state == num_frames_seen:\n",
    "            self.world_state = self.host.peekWorldState()\n",
    "        \n",
    "        while self.world_state.is_mission_running and all(e.text=='{}' for e in self.world_state.observations):\n",
    "            self.world_state = self.host.peekWorldState()\n",
    "        \n",
    "        if self.world_state.number_of_observations_since_last_state > 0:\n",
    "            self.data = json.loads(self.world_state.observations[-1].text)\n",
    "        \n",
    "\n",
    "        state = self.world_state\n",
    "            \n",
    "        #data = json.loads(state.observations[-1].text)\n",
    "        # get reward if detected, else reward is -1\n",
    "        reward = 1\n",
    "        if state.number_of_rewards_since_last_state > 0:\n",
    "            reward = state.rewards[0].getValue()\n",
    "        '''\n",
    "        # reformat grid to a vector that only show the floor with blocks\n",
    "        vec = []    \n",
    "        for item in self.data['grid'][::-1]:\n",
    "            if 'lava' in item:\n",
    "                vec.append(1)\n",
    "            elif 'lapis' in item:\n",
    "                vec.append(2)\n",
    "            else:\n",
    "                vec.append(0)\n",
    "        '''\n",
    "        \n",
    "        frame = np.array(state.video_frames[-1].pixels).reshape(self.obs_shape)\n",
    "        gray_frame = np.dot(frame[...,:3],[0.299,0.587,0.114]).reshape((self.obs_shape[0],self.obs_shape[1]))\n",
    "        \n",
    "        \n",
    "        smaller = scimisc.imresize(gray_frame,1/12,mode='L')\n",
    "        smaller = np.expand_dims(smaller,2)\n",
    "        '''\n",
    "        # compute reward depending on distance to target\n",
    "        new_state = np.array(vec)\n",
    "        tmp = np.array(vec).reshape(self.observation_space.shape)\n",
    "        idx2 = np.argwhere(tmp == 2)\n",
    "        \n",
    "        size = self.observation_space.shape[0]\n",
    "        idx1 = (np.ceil(size/2),np.ceil(size/2))\n",
    "                     \n",
    "        a = (self._dist(idx2,idx1))\n",
    "        if(a > 0):\n",
    "            dist_reward = 100 - a\n",
    "            reward += dist_reward\n",
    "            print(\"close to objective reward : {}\".format(dist_reward))\n",
    "            \n",
    "        '''\n",
    "        \n",
    "        \n",
    "        return(reward,smaller,self.data,state) # return r,s,data,extra_info\n",
    "        \n",
    "    def startworld(self,world_file):\n",
    "        with open(world_file,'r') as f:\n",
    "            my_mission = MalmoPython.MissionSpec(f.read(), True)\n",
    "        my_mission_record = MalmoPython.MissionRecordSpec()\n",
    "        # Attempt to start a mission:\n",
    "        max_retries = 3\n",
    "        for retry in range(max_retries):\n",
    "            try:\n",
    "                self.host.startMission( my_mission, my_mission_record )\n",
    "                sys.stdout.write(\"Mission Started\")\n",
    "                break\n",
    "            except RuntimeError as e:\n",
    "                if retry == max_retries - 1:\n",
    "                    print (\"Error starting mission:{}\".format(e))\n",
    "                    exit(1)\n",
    "                else:\n",
    "                    time.sleep(2)\n",
    "        # Loop until mission starts:\n",
    "        #print (\"Waiting for the mission to start \")\n",
    "        self.world_state = self.host.getWorldState()\n",
    "        while (not self.world_state.has_mission_begun):\n",
    "            sys.stdout.write(\".\")\n",
    "            time.sleep(0.1)\n",
    "            self.world_state = self.host.getWorldState()\n",
    "            for error in self.world_state.errors:\n",
    "                print (\"Error:\",error.text)\n",
    "                \n",
    "        ## wait until a valid observation        \n",
    "        while self.world_state.is_mission_running and all(e.text=='{}' for e in self.world_state.observations):\n",
    "            self.world_state = self.host.peekWorldState()\n",
    "        #populate emtpy fields for init\n",
    "        self.data = json.loads(self.world_state.observations[-1].text)\n",
    "        \n",
    "        return self.observe()\n",
    "    def quit(self):\n",
    "        self.host.sendCommand('quit')\n",
    "        \n",
    "    def step(self,action):\n",
    "        self.host.sendCommand(self.actions[action])\n",
    "        return self.observe()"
   ]
  },
  {
   "cell_type": "code",
   "execution_count": null,
   "metadata": {
    "ExecuteTime": {
     "start_time": "2017-11-21T18:55:20.852Z"
    },
    "collapsed": true
   },
   "outputs": [],
   "source": [
    "class RobustEnv:\n",
    "    \n",
    "    \n",
    "    def waitForInitialState( self ):\n",
    "        '''Before a command has been sent we wait for an observation of the world and a frame.'''\n",
    "        # wait for a valid observation\n",
    "        world_state = self.host.peekWorldState()\n",
    "        while world_state.is_mission_running and all(e.text=='{}' for e in world_state.observations):\n",
    "            world_state = self.host.peekWorldState()\n",
    "        # wait for a frame to arrive after that\n",
    "        num_frames_seen = world_state.number_of_video_frames_since_last_state\n",
    "        while world_state.is_mission_running and world_state.number_of_video_frames_since_last_state == num_frames_seen:\n",
    "            world_state = self.host.peekWorldState()\n",
    "        world_state = self.host.getWorldState()\n",
    "\n",
    "        if world_state.is_mission_running:\n",
    "                \n",
    "            assert len(world_state.video_frames) > 0, 'No video frames!?'\n",
    "\n",
    "        return world_state\n",
    "    def waitForNextState( self ):\n",
    "        '''After each command has been sent we wait for the observation to change as expected and a frame.'''\n",
    "        # wait for the observation position to have changed\n",
    "        print('Waiting for observation...', end=' ')\n",
    "        while True:\n",
    "            world_state = self.agent_host.peekWorldState()\n",
    "            if not world_state.is_mission_running:\n",
    "                print('mission ended.')\n",
    "                break\n",
    "            if not all(e.text=='{}' for e in world_state.observations):\n",
    "                obs = json.loads( world_state.observations[-1].text )\n",
    "                print('received.')\n",
    "                break\n",
    "        \n",
    "        # wait for the render position to have changed\n",
    "        print('Waiting for render...', end=' ')\n",
    "        while True:\n",
    "            world_state = self.agent_host.peekWorldState()\n",
    "            if not world_state.is_mission_running:\n",
    "                print('mission ended.')\n",
    "                break\n",
    "            if len(world_state.video_frames) > 0:\n",
    "                print('received.')\n",
    "                break\n",
    "            \n",
    "        num_frames_before_get = len(world_state.video_frames)\n",
    "        world_state = self.agent_host.getWorldState()\n",
    "            \n",
    "        if world_state.is_mission_running:\n",
    "            assert len(world_state.video_frames) > 0, 'No video frames!?'\n",
    "            num_frames_after_get = len(world_state.video_frames)\n",
    "            assert num_frames_after_get >= num_frames_before_get, 'Fewer frames after getWorldState!?'\n",
    "            frame = world_state.video_frames[-1]\n",
    "            obs = json.loads( world_state.observations[-1].text )\n",
    "        \n",
    "        reward = 1\n",
    "        if world.number_of_rewards_since_last_state > 0:\n",
    "            reward = state.rewards[0].getValue()\n",
    "        \n",
    "        return world_state"
   ]
  },
  {
   "cell_type": "markdown",
   "metadata": {},
   "source": [
    "## Test for manual code execution"
   ]
  },
  {
   "cell_type": "code",
   "execution_count": null,
   "metadata": {
    "ExecuteTime": {
     "end_time": "2017-11-12T05:30:11.429860Z",
     "start_time": "2017-11-12T05:30:11.353743Z"
    },
    "collapsed": true
   },
   "outputs": [],
   "source": [
    "\n",
    "agent_host = MalmoPython.AgentHost()\n",
    "try:\n",
    "    agent_host.parse( sys.argv )\n",
    "except RuntimeError as e:\n",
    "    print ('ERROR:',e)\n",
    "    print (agent_host.getUsage())\n",
    "    exit(1)\n",
    "if agent_host.receivedArgument(\"help\"):\n",
    "    print (agent_host.getUsage())\n",
    "    exit(0)\n",
    "\n"
   ]
  },
  {
   "cell_type": "code",
   "execution_count": 34,
   "metadata": {
    "ExecuteTime": {
     "end_time": "2017-11-21T19:32:34.097655Z",
     "start_time": "2017-11-21T19:31:41.235746Z"
    },
    "scrolled": false
   },
   "outputs": [
    {
     "name": "stdout",
     "output_type": "stream",
     "text": [
      "ERROR: unrecognised option '-f'\n",
      "Malmo version: 0.31.0\n",
      "\n",
      "Allowed options:\n",
      "  -h [ --help ]         show description of allowed options\n",
      "  --test                run this as an integration test\n",
      "\n",
      "\n",
      "Mission Started.......(1, 75, 105)\n",
      "(1, 75, 105)\n",
      "(1, 75, 105)\n",
      "(1, 75, 105)\n",
      "(1, 75, 105)\n",
      "(1, 75, 105)\n",
      "(1, 75, 105)\n",
      "(1, 75, 105)\n",
      "(1, 75, 105)\n",
      "(1, 75, 105)\n",
      "(1, 75, 105)\n",
      "(1, 75, 105)\n",
      "(1, 75, 105)\n",
      "(1, 75, 105)\n",
      "(1, 75, 105)\n",
      "(1, 75, 105)\n"
     ]
    }
   ],
   "source": [
    "env = Env(ractions,(300,420,3))\n",
    "r,s,data,ws = env.startworld('CliffWalking.xml')\n",
    "done = ws.is_mission_running is False\n",
    "root = Tk()\n",
    "root_frame = Frame(root)\n",
    "canvas = Canvas(root_frame, borderwidth=0, highlightthickness=0, width=200, height=130, bg=\"black\" )\n",
    "root_frame.pack()\n",
    "canvas.pack()\n",
    "\n",
    "frame_width = 25\n",
    "frame_height = 35\n",
    "\n",
    "count = 0\n",
    "while(not done):\n",
    "    try:\n",
    "        r,s,data,ws = env.observe()\n",
    "        count += 1\n",
    "        #image = Image.frombytes('RGB', (frame.width,frame.height), bytes(frame.pixels) )\n",
    "\n",
    "\n",
    "        #pre process\n",
    "        #frame = s.reshape(frame_height,frame_width)\n",
    "        #smaller = scimisc.imresize(fe,0.25,mode='L')\n",
    "        #s = np.squeeze(s,2)\n",
    "        \n",
    "        image = Image.fromarray(s.astype('int8'),mode='L')\n",
    "        photo = ImageTk.PhotoImage(image)\n",
    "\n",
    "        root.one = photo\n",
    "        canvas.delete(\"all\")\n",
    "        canvas.create_image(frame_width/2,frame_height/2, image=photo)\n",
    "        done = ws.is_mission_running is False\n",
    "        root.update()\n",
    "        \n",
    "\n",
    "        if count % 100 == 0:\n",
    "            print(s[None].shape)\n",
    "    except:\n",
    "        root.destroy()\n",
    "    "
   ]
  },
  {
   "cell_type": "code",
   "execution_count": 27,
   "metadata": {
    "ExecuteTime": {
     "end_time": "2017-11-21T19:29:43.315293Z",
     "start_time": "2017-11-21T19:29:43.311257Z"
    },
    "collapsed": true
   },
   "outputs": [],
   "source": [
    "root.destroy()"
   ]
  },
  {
   "cell_type": "markdown",
   "metadata": {},
   "source": [
    "## Plots"
   ]
  },
  {
   "cell_type": "code",
   "execution_count": 64,
   "metadata": {
    "ExecuteTime": {
     "end_time": "2017-11-21T19:46:18.707491Z",
     "start_time": "2017-11-21T19:46:18.607457Z"
    },
    "scrolled": false
   },
   "outputs": [
    {
     "data": {
      "text/html": [
       "\n",
       "<div class=\"bk-root\">\n",
       "    <div class=\"bk-plotdiv\" id=\"e402d7dc-9980-471e-bf39-6ff67eb19f5c\"></div>\n",
       "</div>"
      ]
     },
     "metadata": {},
     "output_type": "display_data"
    },
    {
     "data": {
      "application/javascript": [
       "(function(root) {\n",
       "  function embed_document(root) {\n",
       "    var docs_json = {\"f0386718-1022-4b60-b218-388bafa0a20a\":{\"roots\":{\"references\":[{\"attributes\":{},\"id\":\"dfd264c2-893d-4373-9b5f-91bcc88088df\",\"type\":\"SaveTool\"},{\"attributes\":{\"active_drag\":\"auto\",\"active_inspect\":\"auto\",\"active_scroll\":\"auto\",\"active_tap\":\"auto\",\"tools\":[{\"id\":\"d080b8ba-6cab-4c9f-a259-5f58fe751c49\",\"type\":\"PanTool\"},{\"id\":\"3e16bde5-db39-4e39-afcc-96eb451ea388\",\"type\":\"WheelZoomTool\"},{\"id\":\"1438c2c1-059a-4aa3-ac7e-b627613e70b7\",\"type\":\"BoxZoomTool\"},{\"id\":\"dfd264c2-893d-4373-9b5f-91bcc88088df\",\"type\":\"SaveTool\"},{\"id\":\"bec61be3-0417-47bf-8776-e355c9d513c2\",\"type\":\"ResetTool\"},{\"id\":\"8cab69e2-b0f5-4c78-b71d-4923cab1de5c\",\"type\":\"HelpTool\"}]},\"id\":\"94420e01-4349-4e10-a6a7-6283e330493b\",\"type\":\"Toolbar\"},{\"attributes\":{\"callback\":null,\"column_names\":[\"y\",\"x\"],\"data\":{\"x\":[],\"y\":[]}},\"id\":\"027a06c7-828f-4713-89ab-d27df9eee206\",\"type\":\"ColumnDataSource\"},{\"attributes\":{\"data_source\":{\"id\":\"027a06c7-828f-4713-89ab-d27df9eee206\",\"type\":\"ColumnDataSource\"},\"glyph\":{\"id\":\"8baaf20c-24c3-4ddc-90b2-eaab910421fe\",\"type\":\"Line\"},\"hover_glyph\":null,\"muted_glyph\":null,\"nonselection_glyph\":{\"id\":\"559b8e94-b940-4363-ba2f-c3840ac41a47\",\"type\":\"Line\"},\"selection_glyph\":null,\"view\":{\"id\":\"ade5cbb0-468d-43fd-9382-717faabf333a\",\"type\":\"CDSView\"}},\"id\":\"e397aff5-b29f-4259-a23a-78abc233bef0\",\"type\":\"GlyphRenderer\"},{\"attributes\":{\"axis_label\":\"x\",\"formatter\":{\"id\":\"817ae03a-9c0e-47f4-b921-811908791d43\",\"type\":\"BasicTickFormatter\"},\"plot\":{\"id\":\"8ae822e8-cd90-4d78-92b3-115f0de296a4\",\"subtype\":\"Figure\",\"type\":\"Plot\"},\"ticker\":{\"id\":\"fff6df4d-5efb-456a-9b7d-6f2ecf44ded2\",\"type\":\"BasicTicker\"}},\"id\":\"3489a85d-e0dc-4f19-8db0-8130707a3d8f\",\"type\":\"LinearAxis\"},{\"attributes\":{\"plot\":{\"id\":\"8ae822e8-cd90-4d78-92b3-115f0de296a4\",\"subtype\":\"Figure\",\"type\":\"Plot\"},\"ticker\":{\"id\":\"fff6df4d-5efb-456a-9b7d-6f2ecf44ded2\",\"type\":\"BasicTicker\"}},\"id\":\"f7987d9a-cf0e-43d4-b7ca-cb2c3c35ddf9\",\"type\":\"Grid\"},{\"attributes\":{\"axis_label\":\"y\",\"formatter\":{\"id\":\"ee334de8-056e-459b-b5d1-feac5e182f67\",\"type\":\"BasicTickFormatter\"},\"plot\":{\"id\":\"8ae822e8-cd90-4d78-92b3-115f0de296a4\",\"subtype\":\"Figure\",\"type\":\"Plot\"},\"ticker\":{\"id\":\"e6f42040-4c9f-47cb-ad5c-4f2dbd9c2ceb\",\"type\":\"BasicTicker\"}},\"id\":\"17f3aeaa-58f8-4b6f-a6df-267a3265ff5e\",\"type\":\"LinearAxis\"},{\"attributes\":{},\"id\":\"fff6df4d-5efb-456a-9b7d-6f2ecf44ded2\",\"type\":\"BasicTicker\"},{\"attributes\":{\"overlay\":{\"id\":\"a0b2930f-8fe6-4a3c-a567-eb028a294798\",\"type\":\"BoxAnnotation\"}},\"id\":\"1438c2c1-059a-4aa3-ac7e-b627613e70b7\",\"type\":\"BoxZoomTool\"},{\"attributes\":{\"plot\":null,\"text\":\"rewards\"},\"id\":\"4c8aa202-5bea-4570-84b4-ba98a9ce12b5\",\"type\":\"Title\"},{\"attributes\":{},\"id\":\"e6f42040-4c9f-47cb-ad5c-4f2dbd9c2ceb\",\"type\":\"BasicTicker\"},{\"attributes\":{\"callback\":null},\"id\":\"c20a9968-1a8c-47fb-ab5c-108eb03f02fc\",\"type\":\"DataRange1d\"},{\"attributes\":{},\"id\":\"2453c3bb-b167-4af7-8435-e8765852e7f2\",\"type\":\"LinearScale\"},{\"attributes\":{},\"id\":\"da42fff6-ed59-4724-8e73-b05e106c7ce5\",\"type\":\"LinearScale\"},{\"attributes\":{\"line_alpha\":{\"value\":0.1},\"line_color\":{\"value\":\"#1f77b4\"},\"line_width\":{\"value\":2},\"x\":{\"field\":\"x\"},\"y\":{\"field\":\"y\"}},\"id\":\"559b8e94-b940-4363-ba2f-c3840ac41a47\",\"type\":\"Line\"},{\"attributes\":{},\"id\":\"ee334de8-056e-459b-b5d1-feac5e182f67\",\"type\":\"BasicTickFormatter\"},{\"attributes\":{},\"id\":\"8cab69e2-b0f5-4c78-b71d-4923cab1de5c\",\"type\":\"HelpTool\"},{\"attributes\":{\"callback\":null},\"id\":\"5cc998ea-c42a-452d-83db-203f0764efdb\",\"type\":\"DataRange1d\"},{\"attributes\":{\"bottom_units\":\"screen\",\"fill_alpha\":{\"value\":0.5},\"fill_color\":{\"value\":\"lightgrey\"},\"left_units\":\"screen\",\"level\":\"overlay\",\"line_alpha\":{\"value\":1.0},\"line_color\":{\"value\":\"black\"},\"line_dash\":[4,4],\"line_width\":{\"value\":2},\"plot\":null,\"render_mode\":\"css\",\"right_units\":\"screen\",\"top_units\":\"screen\"},\"id\":\"a0b2930f-8fe6-4a3c-a567-eb028a294798\",\"type\":\"BoxAnnotation\"},{\"attributes\":{\"source\":{\"id\":\"027a06c7-828f-4713-89ab-d27df9eee206\",\"type\":\"ColumnDataSource\"}},\"id\":\"ade5cbb0-468d-43fd-9382-717faabf333a\",\"type\":\"CDSView\"},{\"attributes\":{},\"id\":\"d080b8ba-6cab-4c9f-a259-5f58fe751c49\",\"type\":\"PanTool\"},{\"attributes\":{\"below\":[{\"id\":\"3489a85d-e0dc-4f19-8db0-8130707a3d8f\",\"type\":\"LinearAxis\"}],\"left\":[{\"id\":\"17f3aeaa-58f8-4b6f-a6df-267a3265ff5e\",\"type\":\"LinearAxis\"}],\"plot_height\":400,\"plot_width\":400,\"renderers\":[{\"id\":\"3489a85d-e0dc-4f19-8db0-8130707a3d8f\",\"type\":\"LinearAxis\"},{\"id\":\"f7987d9a-cf0e-43d4-b7ca-cb2c3c35ddf9\",\"type\":\"Grid\"},{\"id\":\"17f3aeaa-58f8-4b6f-a6df-267a3265ff5e\",\"type\":\"LinearAxis\"},{\"id\":\"c756f81a-11bf-4491-b3be-d4299874b7eb\",\"type\":\"Grid\"},{\"id\":\"a0b2930f-8fe6-4a3c-a567-eb028a294798\",\"type\":\"BoxAnnotation\"},{\"id\":\"e397aff5-b29f-4259-a23a-78abc233bef0\",\"type\":\"GlyphRenderer\"}],\"title\":{\"id\":\"4c8aa202-5bea-4570-84b4-ba98a9ce12b5\",\"type\":\"Title\"},\"toolbar\":{\"id\":\"94420e01-4349-4e10-a6a7-6283e330493b\",\"type\":\"Toolbar\"},\"x_range\":{\"id\":\"c20a9968-1a8c-47fb-ab5c-108eb03f02fc\",\"type\":\"DataRange1d\"},\"x_scale\":{\"id\":\"da42fff6-ed59-4724-8e73-b05e106c7ce5\",\"type\":\"LinearScale\"},\"y_range\":{\"id\":\"5cc998ea-c42a-452d-83db-203f0764efdb\",\"type\":\"DataRange1d\"},\"y_scale\":{\"id\":\"2453c3bb-b167-4af7-8435-e8765852e7f2\",\"type\":\"LinearScale\"}},\"id\":\"8ae822e8-cd90-4d78-92b3-115f0de296a4\",\"subtype\":\"Figure\",\"type\":\"Plot\"},{\"attributes\":{},\"id\":\"bec61be3-0417-47bf-8776-e355c9d513c2\",\"type\":\"ResetTool\"},{\"attributes\":{\"dimension\":1,\"plot\":{\"id\":\"8ae822e8-cd90-4d78-92b3-115f0de296a4\",\"subtype\":\"Figure\",\"type\":\"Plot\"},\"ticker\":{\"id\":\"e6f42040-4c9f-47cb-ad5c-4f2dbd9c2ceb\",\"type\":\"BasicTicker\"}},\"id\":\"c756f81a-11bf-4491-b3be-d4299874b7eb\",\"type\":\"Grid\"},{\"attributes\":{},\"id\":\"3e16bde5-db39-4e39-afcc-96eb451ea388\",\"type\":\"WheelZoomTool\"},{\"attributes\":{\"line_color\":{\"value\":\"firebrick\"},\"line_width\":{\"value\":2},\"x\":{\"field\":\"x\"},\"y\":{\"field\":\"y\"}},\"id\":\"8baaf20c-24c3-4ddc-90b2-eaab910421fe\",\"type\":\"Line\"},{\"attributes\":{},\"id\":\"817ae03a-9c0e-47f4-b921-811908791d43\",\"type\":\"BasicTickFormatter\"}],\"root_ids\":[\"8ae822e8-cd90-4d78-92b3-115f0de296a4\"]},\"title\":\"Bokeh Application\",\"version\":\"0.12.10\"}};\n",
       "    var render_items = [{\"docid\":\"f0386718-1022-4b60-b218-388bafa0a20a\",\"elementid\":\"e402d7dc-9980-471e-bf39-6ff67eb19f5c\",\"modelid\":\"8ae822e8-cd90-4d78-92b3-115f0de296a4\",\"notebook_comms_target\":\"0208392e-d508-4ce6-a0c1-491f075addd1\"}];\n",
       "\n",
       "    root.Bokeh.embed.embed_items(docs_json, render_items);\n",
       "  }\n",
       "\n",
       "  if (root.Bokeh !== undefined) {\n",
       "    embed_document(root);\n",
       "  } else {\n",
       "    var attempts = 0;\n",
       "    var timer = setInterval(function(root) {\n",
       "      if (root.Bokeh !== undefined) {\n",
       "        embed_document(root);\n",
       "        clearInterval(timer);\n",
       "      }\n",
       "      attempts++;\n",
       "      if (attempts > 100) {\n",
       "        console.log(\"Bokeh: ERROR: Unable to embed document because BokehJS library is missing\")\n",
       "        clearInterval(timer);\n",
       "      }\n",
       "    }, 10, root)\n",
       "  }\n",
       "})(window);"
      ],
      "application/vnd.bokehjs_exec.v0+json": ""
     },
     "metadata": {
      "application/vnd.bokehjs_exec.v0+json": {
       "id": "8ae822e8-cd90-4d78-92b3-115f0de296a4"
      }
     },
     "output_type": "display_data"
    }
   ],
   "source": [
    "fig1 = figure(plot_width=400, plot_height=400,title=\"rewards\",\n",
    "                      x_axis_label=\"x\",\n",
    "                      y_axis_label=\"y\")\n",
    "rplot = fig1.line([],[],color=\"firebrick\",line_width=2)\n",
    "# make a grid\n",
    "handle1 = show(fig1, notebook_handle=True)"
   ]
  },
  {
   "cell_type": "code",
   "execution_count": 55,
   "metadata": {
    "ExecuteTime": {
     "end_time": "2017-11-21T19:44:12.973872Z",
     "start_time": "2017-11-21T19:44:12.963779Z"
    },
    "collapsed": true
   },
   "outputs": [],
   "source": [
    "def update(x,y,handle,plot):\n",
    "    plot.data_source.data['x'] += [x]\n",
    "    plot.data_source.data['y'] += [y]\n",
    "    push_notebook(handle=handle)"
   ]
  },
  {
   "cell_type": "markdown",
   "metadata": {},
   "source": [
    "## Run Code"
   ]
  },
  {
   "cell_type": "code",
   "execution_count": null,
   "metadata": {
    "ExecuteTime": {
     "end_time": "2017-11-14T20:10:36.161463Z",
     "start_time": "2017-11-14T20:10:36.130766Z"
    },
    "collapsed": true
   },
   "outputs": [],
   "source": [
    "env.quit()"
   ]
  },
  {
   "cell_type": "code",
   "execution_count": 66,
   "metadata": {
    "ExecuteTime": {
     "end_time": "2017-11-21T19:48:43.927950Z",
     "start_time": "2017-11-21T19:48:43.716988Z"
    }
   },
   "outputs": [
    {
     "name": "stdout",
     "output_type": "stream",
     "text": [
      "ERROR: unrecognised option '-f'\n",
      "Malmo version: 0.31.0\n",
      "\n",
      "Allowed options:\n",
      "  -h [ --help ]         show description of allowed options\n",
      "  --test                run this as an integration test\n",
      "\n",
      "\n"
     ]
    },
    {
     "name": "stderr",
     "output_type": "stream",
     "text": [
      "/home/ubuntu/miniconda2/envs/casper/lib/python3.5/site-packages/ipykernel/__main__.py:27: UserWarning: Update your `Dense` call to the Keras 2 API: `Dense(units=4, activation=\"softmax\")`\n"
     ]
    }
   ],
   "source": [
    "agent = Agent((25,35,1),4,ractions)\n",
    "env = Env(ractions,(300,420,3))"
   ]
  },
  {
   "cell_type": "code",
   "execution_count": null,
   "metadata": {
    "ExecuteTime": {
     "start_time": "2017-11-21T19:45:54.299Z"
    },
    "scrolled": true
   },
   "outputs": [
    {
     "name": "stdout",
     "output_type": "stream",
     "text": [
      "Mission Started......."
     ]
    },
    {
     "name": "stderr",
     "output_type": "stream",
     "text": [
      "/home/ubuntu/miniconda2/envs/casper/lib/python3.5/site-packages/bokeh/models/sources.py:137: BokehUserWarning: ColumnDataSource's columns must be of the same length. Current lengths: ('x', 1), ('y', 0)\n",
      "  \"Current lengths: %s\" % \", \".join(sorted(str((k, len(v))) for k, v in data.items())), BokehUserWarning))\n",
      "/home/ubuntu/miniconda2/envs/casper/lib/python3.5/site-packages/keras/models.py:848: UserWarning: The `nb_epoch` argument in `fit` has been renamed `epochs`.\n",
      "  warnings.warn('The `nb_epoch` argument in `fit` '\n",
      "/home/ubuntu/miniconda2/envs/casper/lib/python3.5/site-packages/bokeh/models/sources.py:137: BokehUserWarning: ColumnDataSource's columns must be of the same length. Current lengths: ('x', 2), ('y', 1)\n",
      "  \"Current lengths: %s\" % \", \".join(sorted(str((k, len(v))) for k, v in data.items())), BokehUserWarning))\n",
      "/home/ubuntu/miniconda2/envs/casper/lib/python3.5/site-packages/bokeh/models/sources.py:137: BokehUserWarning: ColumnDataSource's columns must be of the same length. Current lengths: ('x', 3), ('y', 2)\n",
      "  \"Current lengths: %s\" % \", \".join(sorted(str((k, len(v))) for k, v in data.items())), BokehUserWarning))\n",
      "/home/ubuntu/miniconda2/envs/casper/lib/python3.5/site-packages/bokeh/models/sources.py:137: BokehUserWarning: ColumnDataSource's columns must be of the same length. Current lengths: ('x', 4), ('y', 3)\n",
      "  \"Current lengths: %s\" % \", \".join(sorted(str((k, len(v))) for k, v in data.items())), BokehUserWarning))\n",
      "/home/ubuntu/miniconda2/envs/casper/lib/python3.5/site-packages/bokeh/models/sources.py:137: BokehUserWarning: ColumnDataSource's columns must be of the same length. Current lengths: ('x', 5), ('y', 4)\n",
      "  \"Current lengths: %s\" % \", \".join(sorted(str((k, len(v))) for k, v in data.items())), BokehUserWarning))\n",
      "/home/ubuntu/miniconda2/envs/casper/lib/python3.5/site-packages/bokeh/models/sources.py:137: BokehUserWarning: ColumnDataSource's columns must be of the same length. Current lengths: ('x', 6), ('y', 5)\n",
      "  \"Current lengths: %s\" % \", \".join(sorted(str((k, len(v))) for k, v in data.items())), BokehUserWarning))\n",
      "/home/ubuntu/miniconda2/envs/casper/lib/python3.5/site-packages/bokeh/models/sources.py:137: BokehUserWarning: ColumnDataSource's columns must be of the same length. Current lengths: ('x', 7), ('y', 6)\n",
      "  \"Current lengths: %s\" % \", \".join(sorted(str((k, len(v))) for k, v in data.items())), BokehUserWarning))\n",
      "/home/ubuntu/miniconda2/envs/casper/lib/python3.5/site-packages/bokeh/models/sources.py:137: BokehUserWarning: ColumnDataSource's columns must be of the same length. Current lengths: ('x', 8), ('y', 7)\n",
      "  \"Current lengths: %s\" % \", \".join(sorted(str((k, len(v))) for k, v in data.items())), BokehUserWarning))\n",
      "/home/ubuntu/miniconda2/envs/casper/lib/python3.5/site-packages/bokeh/models/sources.py:137: BokehUserWarning: ColumnDataSource's columns must be of the same length. Current lengths: ('x', 9), ('y', 8)\n",
      "  \"Current lengths: %s\" % \", \".join(sorted(str((k, len(v))) for k, v in data.items())), BokehUserWarning))\n",
      "/home/ubuntu/miniconda2/envs/casper/lib/python3.5/site-packages/bokeh/models/sources.py:137: BokehUserWarning: ColumnDataSource's columns must be of the same length. Current lengths: ('x', 10), ('y', 9)\n",
      "  \"Current lengths: %s\" % \", \".join(sorted(str((k, len(v))) for k, v in data.items())), BokehUserWarning))\n",
      "/home/ubuntu/miniconda2/envs/casper/lib/python3.5/site-packages/bokeh/models/sources.py:137: BokehUserWarning: ColumnDataSource's columns must be of the same length. Current lengths: ('x', 11), ('y', 10)\n",
      "  \"Current lengths: %s\" % \", \".join(sorted(str((k, len(v))) for k, v in data.items())), BokehUserWarning))\n"
     ]
    },
    {
     "name": "stdout",
     "output_type": "stream",
     "text": [
      "done play through 0\n",
      "Mission Started......."
     ]
    },
    {
     "name": "stderr",
     "output_type": "stream",
     "text": [
      "/home/ubuntu/miniconda2/envs/casper/lib/python3.5/site-packages/bokeh/models/sources.py:137: BokehUserWarning: ColumnDataSource's columns must be of the same length. Current lengths: ('x', 12), ('y', 11)\n",
      "  \"Current lengths: %s\" % \", \".join(sorted(str((k, len(v))) for k, v in data.items())), BokehUserWarning))\n",
      "/home/ubuntu/miniconda2/envs/casper/lib/python3.5/site-packages/bokeh/models/sources.py:137: BokehUserWarning: ColumnDataSource's columns must be of the same length. Current lengths: ('x', 13), ('y', 12)\n",
      "  \"Current lengths: %s\" % \", \".join(sorted(str((k, len(v))) for k, v in data.items())), BokehUserWarning))\n",
      "/home/ubuntu/miniconda2/envs/casper/lib/python3.5/site-packages/bokeh/models/sources.py:137: BokehUserWarning: ColumnDataSource's columns must be of the same length. Current lengths: ('x', 14), ('y', 13)\n",
      "  \"Current lengths: %s\" % \", \".join(sorted(str((k, len(v))) for k, v in data.items())), BokehUserWarning))\n",
      "/home/ubuntu/miniconda2/envs/casper/lib/python3.5/site-packages/bokeh/models/sources.py:137: BokehUserWarning: ColumnDataSource's columns must be of the same length. Current lengths: ('x', 15), ('y', 14)\n",
      "  \"Current lengths: %s\" % \", \".join(sorted(str((k, len(v))) for k, v in data.items())), BokehUserWarning))\n",
      "/home/ubuntu/miniconda2/envs/casper/lib/python3.5/site-packages/bokeh/models/sources.py:137: BokehUserWarning: ColumnDataSource's columns must be of the same length. Current lengths: ('x', 16), ('y', 15)\n",
      "  \"Current lengths: %s\" % \", \".join(sorted(str((k, len(v))) for k, v in data.items())), BokehUserWarning))\n",
      "/home/ubuntu/miniconda2/envs/casper/lib/python3.5/site-packages/bokeh/models/sources.py:137: BokehUserWarning: ColumnDataSource's columns must be of the same length. Current lengths: ('x', 17), ('y', 16)\n",
      "  \"Current lengths: %s\" % \", \".join(sorted(str((k, len(v))) for k, v in data.items())), BokehUserWarning))\n",
      "/home/ubuntu/miniconda2/envs/casper/lib/python3.5/site-packages/bokeh/models/sources.py:137: BokehUserWarning: ColumnDataSource's columns must be of the same length. Current lengths: ('x', 18), ('y', 17)\n",
      "  \"Current lengths: %s\" % \", \".join(sorted(str((k, len(v))) for k, v in data.items())), BokehUserWarning))\n"
     ]
    },
    {
     "name": "stdout",
     "output_type": "stream",
     "text": [
      "done play through 1\n",
      "Mission Started......."
     ]
    },
    {
     "name": "stderr",
     "output_type": "stream",
     "text": [
      "/home/ubuntu/miniconda2/envs/casper/lib/python3.5/site-packages/bokeh/models/sources.py:137: BokehUserWarning: ColumnDataSource's columns must be of the same length. Current lengths: ('x', 19), ('y', 18)\n",
      "  \"Current lengths: %s\" % \", \".join(sorted(str((k, len(v))) for k, v in data.items())), BokehUserWarning))\n",
      "/home/ubuntu/miniconda2/envs/casper/lib/python3.5/site-packages/bokeh/models/sources.py:137: BokehUserWarning: ColumnDataSource's columns must be of the same length. Current lengths: ('x', 20), ('y', 19)\n",
      "  \"Current lengths: %s\" % \", \".join(sorted(str((k, len(v))) for k, v in data.items())), BokehUserWarning))\n",
      "/home/ubuntu/miniconda2/envs/casper/lib/python3.5/site-packages/bokeh/models/sources.py:137: BokehUserWarning: ColumnDataSource's columns must be of the same length. Current lengths: ('x', 21), ('y', 20)\n",
      "  \"Current lengths: %s\" % \", \".join(sorted(str((k, len(v))) for k, v in data.items())), BokehUserWarning))\n",
      "/home/ubuntu/miniconda2/envs/casper/lib/python3.5/site-packages/bokeh/models/sources.py:137: BokehUserWarning: ColumnDataSource's columns must be of the same length. Current lengths: ('x', 22), ('y', 21)\n",
      "  \"Current lengths: %s\" % \", \".join(sorted(str((k, len(v))) for k, v in data.items())), BokehUserWarning))\n",
      "/home/ubuntu/miniconda2/envs/casper/lib/python3.5/site-packages/bokeh/models/sources.py:137: BokehUserWarning: ColumnDataSource's columns must be of the same length. Current lengths: ('x', 23), ('y', 22)\n",
      "  \"Current lengths: %s\" % \", \".join(sorted(str((k, len(v))) for k, v in data.items())), BokehUserWarning))\n"
     ]
    },
    {
     "name": "stdout",
     "output_type": "stream",
     "text": [
      "done play through 2\n",
      "Mission Started......"
     ]
    },
    {
     "name": "stderr",
     "output_type": "stream",
     "text": [
      "/home/ubuntu/miniconda2/envs/casper/lib/python3.5/site-packages/bokeh/models/sources.py:137: BokehUserWarning: ColumnDataSource's columns must be of the same length. Current lengths: ('x', 24), ('y', 23)\n",
      "  \"Current lengths: %s\" % \", \".join(sorted(str((k, len(v))) for k, v in data.items())), BokehUserWarning))\n",
      "/home/ubuntu/miniconda2/envs/casper/lib/python3.5/site-packages/bokeh/models/sources.py:137: BokehUserWarning: ColumnDataSource's columns must be of the same length. Current lengths: ('x', 25), ('y', 24)\n",
      "  \"Current lengths: %s\" % \", \".join(sorted(str((k, len(v))) for k, v in data.items())), BokehUserWarning))\n",
      "/home/ubuntu/miniconda2/envs/casper/lib/python3.5/site-packages/bokeh/models/sources.py:137: BokehUserWarning: ColumnDataSource's columns must be of the same length. Current lengths: ('x', 26), ('y', 25)\n",
      "  \"Current lengths: %s\" % \", \".join(sorted(str((k, len(v))) for k, v in data.items())), BokehUserWarning))\n",
      "/home/ubuntu/miniconda2/envs/casper/lib/python3.5/site-packages/bokeh/models/sources.py:137: BokehUserWarning: ColumnDataSource's columns must be of the same length. Current lengths: ('x', 27), ('y', 26)\n",
      "  \"Current lengths: %s\" % \", \".join(sorted(str((k, len(v))) for k, v in data.items())), BokehUserWarning))\n"
     ]
    },
    {
     "name": "stdout",
     "output_type": "stream",
     "text": [
      "done play through 3\n",
      "Mission Started......."
     ]
    },
    {
     "name": "stderr",
     "output_type": "stream",
     "text": [
      "/home/ubuntu/miniconda2/envs/casper/lib/python3.5/site-packages/bokeh/models/sources.py:137: BokehUserWarning: ColumnDataSource's columns must be of the same length. Current lengths: ('x', 28), ('y', 27)\n",
      "  \"Current lengths: %s\" % \", \".join(sorted(str((k, len(v))) for k, v in data.items())), BokehUserWarning))\n",
      "/home/ubuntu/miniconda2/envs/casper/lib/python3.5/site-packages/bokeh/models/sources.py:137: BokehUserWarning: ColumnDataSource's columns must be of the same length. Current lengths: ('x', 29), ('y', 28)\n",
      "  \"Current lengths: %s\" % \", \".join(sorted(str((k, len(v))) for k, v in data.items())), BokehUserWarning))\n",
      "/home/ubuntu/miniconda2/envs/casper/lib/python3.5/site-packages/bokeh/models/sources.py:137: BokehUserWarning: ColumnDataSource's columns must be of the same length. Current lengths: ('x', 30), ('y', 29)\n",
      "  \"Current lengths: %s\" % \", \".join(sorted(str((k, len(v))) for k, v in data.items())), BokehUserWarning))\n",
      "/home/ubuntu/miniconda2/envs/casper/lib/python3.5/site-packages/bokeh/models/sources.py:137: BokehUserWarning: ColumnDataSource's columns must be of the same length. Current lengths: ('x', 31), ('y', 30)\n",
      "  \"Current lengths: %s\" % \", \".join(sorted(str((k, len(v))) for k, v in data.items())), BokehUserWarning))\n"
     ]
    },
    {
     "name": "stdout",
     "output_type": "stream",
     "text": [
      "done play through 4\n",
      "Mission Started......"
     ]
    },
    {
     "name": "stderr",
     "output_type": "stream",
     "text": [
      "/home/ubuntu/miniconda2/envs/casper/lib/python3.5/site-packages/bokeh/models/sources.py:137: BokehUserWarning: ColumnDataSource's columns must be of the same length. Current lengths: ('x', 32), ('y', 31)\n",
      "  \"Current lengths: %s\" % \", \".join(sorted(str((k, len(v))) for k, v in data.items())), BokehUserWarning))\n",
      "/home/ubuntu/miniconda2/envs/casper/lib/python3.5/site-packages/bokeh/models/sources.py:137: BokehUserWarning: ColumnDataSource's columns must be of the same length. Current lengths: ('x', 33), ('y', 32)\n",
      "  \"Current lengths: %s\" % \", \".join(sorted(str((k, len(v))) for k, v in data.items())), BokehUserWarning))\n",
      "/home/ubuntu/miniconda2/envs/casper/lib/python3.5/site-packages/bokeh/models/sources.py:137: BokehUserWarning: ColumnDataSource's columns must be of the same length. Current lengths: ('x', 34), ('y', 33)\n",
      "  \"Current lengths: %s\" % \", \".join(sorted(str((k, len(v))) for k, v in data.items())), BokehUserWarning))\n",
      "/home/ubuntu/miniconda2/envs/casper/lib/python3.5/site-packages/bokeh/models/sources.py:137: BokehUserWarning: ColumnDataSource's columns must be of the same length. Current lengths: ('x', 35), ('y', 34)\n",
      "  \"Current lengths: %s\" % \", \".join(sorted(str((k, len(v))) for k, v in data.items())), BokehUserWarning))\n"
     ]
    },
    {
     "name": "stdout",
     "output_type": "stream",
     "text": [
      "done play through 5\n",
      "Mission Started......."
     ]
    },
    {
     "name": "stderr",
     "output_type": "stream",
     "text": [
      "/home/ubuntu/miniconda2/envs/casper/lib/python3.5/site-packages/bokeh/models/sources.py:137: BokehUserWarning: ColumnDataSource's columns must be of the same length. Current lengths: ('x', 36), ('y', 35)\n",
      "  \"Current lengths: %s\" % \", \".join(sorted(str((k, len(v))) for k, v in data.items())), BokehUserWarning))\n",
      "/home/ubuntu/miniconda2/envs/casper/lib/python3.5/site-packages/bokeh/models/sources.py:137: BokehUserWarning: ColumnDataSource's columns must be of the same length. Current lengths: ('x', 37), ('y', 36)\n",
      "  \"Current lengths: %s\" % \", \".join(sorted(str((k, len(v))) for k, v in data.items())), BokehUserWarning))\n",
      "/home/ubuntu/miniconda2/envs/casper/lib/python3.5/site-packages/bokeh/models/sources.py:137: BokehUserWarning: ColumnDataSource's columns must be of the same length. Current lengths: ('x', 38), ('y', 37)\n",
      "  \"Current lengths: %s\" % \", \".join(sorted(str((k, len(v))) for k, v in data.items())), BokehUserWarning))\n"
     ]
    },
    {
     "name": "stdout",
     "output_type": "stream",
     "text": [
      "done play through 6\n",
      "Mission Started......."
     ]
    },
    {
     "name": "stderr",
     "output_type": "stream",
     "text": [
      "/home/ubuntu/miniconda2/envs/casper/lib/python3.5/site-packages/bokeh/models/sources.py:137: BokehUserWarning: ColumnDataSource's columns must be of the same length. Current lengths: ('x', 39), ('y', 38)\n",
      "  \"Current lengths: %s\" % \", \".join(sorted(str((k, len(v))) for k, v in data.items())), BokehUserWarning))\n",
      "/home/ubuntu/miniconda2/envs/casper/lib/python3.5/site-packages/bokeh/models/sources.py:137: BokehUserWarning: ColumnDataSource's columns must be of the same length. Current lengths: ('x', 40), ('y', 39)\n",
      "  \"Current lengths: %s\" % \", \".join(sorted(str((k, len(v))) for k, v in data.items())), BokehUserWarning))\n",
      "/home/ubuntu/miniconda2/envs/casper/lib/python3.5/site-packages/bokeh/models/sources.py:137: BokehUserWarning: ColumnDataSource's columns must be of the same length. Current lengths: ('x', 41), ('y', 40)\n",
      "  \"Current lengths: %s\" % \", \".join(sorted(str((k, len(v))) for k, v in data.items())), BokehUserWarning))\n"
     ]
    },
    {
     "name": "stdout",
     "output_type": "stream",
     "text": [
      "done play through 7\n",
      "Mission Started........"
     ]
    },
    {
     "name": "stderr",
     "output_type": "stream",
     "text": [
      "/home/ubuntu/miniconda2/envs/casper/lib/python3.5/site-packages/bokeh/models/sources.py:137: BokehUserWarning: ColumnDataSource's columns must be of the same length. Current lengths: ('x', 42), ('y', 41)\n",
      "  \"Current lengths: %s\" % \", \".join(sorted(str((k, len(v))) for k, v in data.items())), BokehUserWarning))\n",
      "/home/ubuntu/miniconda2/envs/casper/lib/python3.5/site-packages/bokeh/models/sources.py:137: BokehUserWarning: ColumnDataSource's columns must be of the same length. Current lengths: ('x', 43), ('y', 42)\n",
      "  \"Current lengths: %s\" % \", \".join(sorted(str((k, len(v))) for k, v in data.items())), BokehUserWarning))\n",
      "/home/ubuntu/miniconda2/envs/casper/lib/python3.5/site-packages/bokeh/models/sources.py:137: BokehUserWarning: ColumnDataSource's columns must be of the same length. Current lengths: ('x', 44), ('y', 43)\n",
      "  \"Current lengths: %s\" % \", \".join(sorted(str((k, len(v))) for k, v in data.items())), BokehUserWarning))\n",
      "/home/ubuntu/miniconda2/envs/casper/lib/python3.5/site-packages/bokeh/models/sources.py:137: BokehUserWarning: ColumnDataSource's columns must be of the same length. Current lengths: ('x', 45), ('y', 44)\n",
      "  \"Current lengths: %s\" % \", \".join(sorted(str((k, len(v))) for k, v in data.items())), BokehUserWarning))\n"
     ]
    },
    {
     "name": "stdout",
     "output_type": "stream",
     "text": [
      "done play through 8\n",
      "Mission Started........"
     ]
    },
    {
     "name": "stderr",
     "output_type": "stream",
     "text": [
      "/home/ubuntu/miniconda2/envs/casper/lib/python3.5/site-packages/bokeh/models/sources.py:137: BokehUserWarning: ColumnDataSource's columns must be of the same length. Current lengths: ('x', 46), ('y', 45)\n",
      "  \"Current lengths: %s\" % \", \".join(sorted(str((k, len(v))) for k, v in data.items())), BokehUserWarning))\n",
      "/home/ubuntu/miniconda2/envs/casper/lib/python3.5/site-packages/bokeh/models/sources.py:137: BokehUserWarning: ColumnDataSource's columns must be of the same length. Current lengths: ('x', 47), ('y', 46)\n",
      "  \"Current lengths: %s\" % \", \".join(sorted(str((k, len(v))) for k, v in data.items())), BokehUserWarning))\n",
      "/home/ubuntu/miniconda2/envs/casper/lib/python3.5/site-packages/bokeh/models/sources.py:137: BokehUserWarning: ColumnDataSource's columns must be of the same length. Current lengths: ('x', 48), ('y', 47)\n",
      "  \"Current lengths: %s\" % \", \".join(sorted(str((k, len(v))) for k, v in data.items())), BokehUserWarning))\n"
     ]
    },
    {
     "name": "stdout",
     "output_type": "stream",
     "text": [
      "done play through 9\n",
      "Mission Started......."
     ]
    },
    {
     "name": "stderr",
     "output_type": "stream",
     "text": [
      "/home/ubuntu/miniconda2/envs/casper/lib/python3.5/site-packages/bokeh/models/sources.py:137: BokehUserWarning: ColumnDataSource's columns must be of the same length. Current lengths: ('x', 49), ('y', 48)\n",
      "  \"Current lengths: %s\" % \", \".join(sorted(str((k, len(v))) for k, v in data.items())), BokehUserWarning))\n",
      "/home/ubuntu/miniconda2/envs/casper/lib/python3.5/site-packages/bokeh/models/sources.py:137: BokehUserWarning: ColumnDataSource's columns must be of the same length. Current lengths: ('x', 50), ('y', 49)\n",
      "  \"Current lengths: %s\" % \", \".join(sorted(str((k, len(v))) for k, v in data.items())), BokehUserWarning))\n",
      "/home/ubuntu/miniconda2/envs/casper/lib/python3.5/site-packages/bokeh/models/sources.py:137: BokehUserWarning: ColumnDataSource's columns must be of the same length. Current lengths: ('x', 51), ('y', 50)\n",
      "  \"Current lengths: %s\" % \", \".join(sorted(str((k, len(v))) for k, v in data.items())), BokehUserWarning))\n"
     ]
    },
    {
     "name": "stdout",
     "output_type": "stream",
     "text": [
      "done play through 10\n",
      "Mission Started......."
     ]
    },
    {
     "name": "stderr",
     "output_type": "stream",
     "text": [
      "/home/ubuntu/miniconda2/envs/casper/lib/python3.5/site-packages/bokeh/models/sources.py:137: BokehUserWarning: ColumnDataSource's columns must be of the same length. Current lengths: ('x', 52), ('y', 51)\n",
      "  \"Current lengths: %s\" % \", \".join(sorted(str((k, len(v))) for k, v in data.items())), BokehUserWarning))\n",
      "/home/ubuntu/miniconda2/envs/casper/lib/python3.5/site-packages/bokeh/models/sources.py:137: BokehUserWarning: ColumnDataSource's columns must be of the same length. Current lengths: ('x', 53), ('y', 52)\n",
      "  \"Current lengths: %s\" % \", \".join(sorted(str((k, len(v))) for k, v in data.items())), BokehUserWarning))\n",
      "/home/ubuntu/miniconda2/envs/casper/lib/python3.5/site-packages/bokeh/models/sources.py:137: BokehUserWarning: ColumnDataSource's columns must be of the same length. Current lengths: ('x', 54), ('y', 53)\n",
      "  \"Current lengths: %s\" % \", \".join(sorted(str((k, len(v))) for k, v in data.items())), BokehUserWarning))\n"
     ]
    },
    {
     "name": "stdout",
     "output_type": "stream",
     "text": [
      "done play through 11\n",
      "Mission Started......."
     ]
    },
    {
     "name": "stderr",
     "output_type": "stream",
     "text": [
      "/home/ubuntu/miniconda2/envs/casper/lib/python3.5/site-packages/bokeh/models/sources.py:137: BokehUserWarning: ColumnDataSource's columns must be of the same length. Current lengths: ('x', 55), ('y', 54)\n",
      "  \"Current lengths: %s\" % \", \".join(sorted(str((k, len(v))) for k, v in data.items())), BokehUserWarning))\n",
      "/home/ubuntu/miniconda2/envs/casper/lib/python3.5/site-packages/bokeh/models/sources.py:137: BokehUserWarning: ColumnDataSource's columns must be of the same length. Current lengths: ('x', 56), ('y', 55)\n",
      "  \"Current lengths: %s\" % \", \".join(sorted(str((k, len(v))) for k, v in data.items())), BokehUserWarning))\n",
      "/home/ubuntu/miniconda2/envs/casper/lib/python3.5/site-packages/bokeh/models/sources.py:137: BokehUserWarning: ColumnDataSource's columns must be of the same length. Current lengths: ('x', 57), ('y', 56)\n",
      "  \"Current lengths: %s\" % \", \".join(sorted(str((k, len(v))) for k, v in data.items())), BokehUserWarning))\n"
     ]
    },
    {
     "name": "stdout",
     "output_type": "stream",
     "text": [
      "done play through 12\n",
      "Mission Started......."
     ]
    },
    {
     "name": "stderr",
     "output_type": "stream",
     "text": [
      "/home/ubuntu/miniconda2/envs/casper/lib/python3.5/site-packages/bokeh/models/sources.py:137: BokehUserWarning: ColumnDataSource's columns must be of the same length. Current lengths: ('x', 58), ('y', 57)\n",
      "  \"Current lengths: %s\" % \", \".join(sorted(str((k, len(v))) for k, v in data.items())), BokehUserWarning))\n",
      "/home/ubuntu/miniconda2/envs/casper/lib/python3.5/site-packages/bokeh/models/sources.py:137: BokehUserWarning: ColumnDataSource's columns must be of the same length. Current lengths: ('x', 59), ('y', 58)\n",
      "  \"Current lengths: %s\" % \", \".join(sorted(str((k, len(v))) for k, v in data.items())), BokehUserWarning))\n",
      "/home/ubuntu/miniconda2/envs/casper/lib/python3.5/site-packages/bokeh/models/sources.py:137: BokehUserWarning: ColumnDataSource's columns must be of the same length. Current lengths: ('x', 60), ('y', 59)\n",
      "  \"Current lengths: %s\" % \", \".join(sorted(str((k, len(v))) for k, v in data.items())), BokehUserWarning))\n"
     ]
    },
    {
     "name": "stdout",
     "output_type": "stream",
     "text": [
      "done play through 13\n",
      "Mission Started......."
     ]
    },
    {
     "name": "stderr",
     "output_type": "stream",
     "text": [
      "/home/ubuntu/miniconda2/envs/casper/lib/python3.5/site-packages/bokeh/models/sources.py:137: BokehUserWarning: ColumnDataSource's columns must be of the same length. Current lengths: ('x', 61), ('y', 60)\n",
      "  \"Current lengths: %s\" % \", \".join(sorted(str((k, len(v))) for k, v in data.items())), BokehUserWarning))\n",
      "/home/ubuntu/miniconda2/envs/casper/lib/python3.5/site-packages/bokeh/models/sources.py:137: BokehUserWarning: ColumnDataSource's columns must be of the same length. Current lengths: ('x', 62), ('y', 61)\n",
      "  \"Current lengths: %s\" % \", \".join(sorted(str((k, len(v))) for k, v in data.items())), BokehUserWarning))\n",
      "/home/ubuntu/miniconda2/envs/casper/lib/python3.5/site-packages/bokeh/models/sources.py:137: BokehUserWarning: ColumnDataSource's columns must be of the same length. Current lengths: ('x', 63), ('y', 62)\n",
      "  \"Current lengths: %s\" % \", \".join(sorted(str((k, len(v))) for k, v in data.items())), BokehUserWarning))\n"
     ]
    },
    {
     "name": "stdout",
     "output_type": "stream",
     "text": [
      "done play through 14\n",
      "Mission Started......."
     ]
    },
    {
     "name": "stderr",
     "output_type": "stream",
     "text": [
      "/home/ubuntu/miniconda2/envs/casper/lib/python3.5/site-packages/bokeh/models/sources.py:137: BokehUserWarning: ColumnDataSource's columns must be of the same length. Current lengths: ('x', 64), ('y', 63)\n",
      "  \"Current lengths: %s\" % \", \".join(sorted(str((k, len(v))) for k, v in data.items())), BokehUserWarning))\n",
      "/home/ubuntu/miniconda2/envs/casper/lib/python3.5/site-packages/bokeh/models/sources.py:137: BokehUserWarning: ColumnDataSource's columns must be of the same length. Current lengths: ('x', 65), ('y', 64)\n",
      "  \"Current lengths: %s\" % \", \".join(sorted(str((k, len(v))) for k, v in data.items())), BokehUserWarning))\n",
      "/home/ubuntu/miniconda2/envs/casper/lib/python3.5/site-packages/bokeh/models/sources.py:137: BokehUserWarning: ColumnDataSource's columns must be of the same length. Current lengths: ('x', 66), ('y', 65)\n",
      "  \"Current lengths: %s\" % \", \".join(sorted(str((k, len(v))) for k, v in data.items())), BokehUserWarning))\n"
     ]
    },
    {
     "name": "stdout",
     "output_type": "stream",
     "text": [
      "done play through 15\n",
      "Mission Started......."
     ]
    },
    {
     "name": "stderr",
     "output_type": "stream",
     "text": [
      "/home/ubuntu/miniconda2/envs/casper/lib/python3.5/site-packages/bokeh/models/sources.py:137: BokehUserWarning: ColumnDataSource's columns must be of the same length. Current lengths: ('x', 67), ('y', 66)\n",
      "  \"Current lengths: %s\" % \", \".join(sorted(str((k, len(v))) for k, v in data.items())), BokehUserWarning))\n"
     ]
    }
   ],
   "source": [
    "#r,s,data,ws = env.startworld('CliffWalking.xml')\n",
    "R = [0.0]\n",
    "for t in range(100):\n",
    "    r,s,data,ws = env.startworld('CliffWalking.xml')\n",
    "    done = ws.is_mission_running is False\n",
    "    while(not done):\n",
    "        send_a, a = agent.act(s)\n",
    "        r,s_,data,ws = env.step(a)\n",
    "        done = ws.is_mission_running is False\n",
    "        update(t,R[-1],handle1,rplot)\n",
    "        #normalize data\n",
    "        #s /= 255\n",
    "        #s_ /= 255\n",
    "        agent.observe((s,a,r,s_))\n",
    "        #pdb.set_trace()\n",
    "        agent.replay()\n",
    "        \n",
    "        s = s_\n",
    "        R[-1] += r\n",
    "        #agent.brain.save()\n",
    "        \n",
    "    R.append(0.0)\n",
    "    \n",
    "    print('done play through {}'.format(t))\n",
    "    \n",
    "    \n",
    "fig2 = figure(plot_width=400, plot_height=400,title=\"Rewards per episode\",\n",
    "                      x_axis_label=\"x\",\n",
    "                      y_axis_label=\"y\")\n",
    "rplot2 = fig2.line(range(len(R)),R,color=\"teal\",line_width=2)\n",
    "handle2 = show(fig2, notebook_handle=True)"
   ]
  },
  {
   "cell_type": "code",
   "execution_count": null,
   "metadata": {
    "ExecuteTime": {
     "end_time": "2017-10-30T16:52:37.677790Z",
     "start_time": "2017-10-30T16:52:37.597709Z"
    },
    "collapsed": true
   },
   "outputs": [],
   "source": [
    "a = np.array(range(27)).reshape(3,3,3)\n",
    "a.shape"
   ]
  },
  {
   "cell_type": "code",
   "execution_count": null,
   "metadata": {
    "ExecuteTime": {
     "end_time": "2017-10-30T16:52:52.098051Z",
     "start_time": "2017-10-30T16:52:52.079027Z"
    },
    "collapsed": true
   },
   "outputs": [],
   "source": [
    "np.pad(a,[(0,3),(0,0),(0,0)], 'constant')"
   ]
  },
  {
   "cell_type": "code",
   "execution_count": null,
   "metadata": {
    "ExecuteTime": {
     "end_time": "2017-10-30T17:19:21.356053Z",
     "start_time": "2017-10-30T17:19:21.240331Z"
    },
    "collapsed": true
   },
   "outputs": [],
   "source": [
    "b = np.array(range(49)).reshape(None,1,49)"
   ]
  },
  {
   "cell_type": "code",
   "execution_count": null,
   "metadata": {
    "ExecuteTime": {
     "end_time": "2017-10-30T17:05:47.072738Z",
     "start_time": "2017-10-30T17:05:47.049731Z"
    },
    "collapsed": true
   },
   "outputs": [],
   "source": [
    "b"
   ]
  },
  {
   "cell_type": "code",
   "execution_count": null,
   "metadata": {
    "ExecuteTime": {
     "end_time": "2017-11-06T19:07:37.574976Z",
     "start_time": "2017-11-06T19:07:37.568168Z"
    },
    "collapsed": true
   },
   "outputs": [],
   "source": [
    "ws.video_frames[0].channels"
   ]
  },
  {
   "cell_type": "code",
   "execution_count": null,
   "metadata": {
    "collapsed": true
   },
   "outputs": [],
   "source": []
  }
 ],
 "metadata": {
  "anaconda-cloud": {},
  "kernelspec": {
   "display_name": "Python [conda env:casper]",
   "language": "python",
   "name": "conda-env-casper-py"
  },
  "language_info": {
   "codemirror_mode": {
    "name": "ipython",
    "version": 3
   },
   "file_extension": ".py",
   "mimetype": "text/x-python",
   "name": "python",
   "nbconvert_exporter": "python",
   "pygments_lexer": "ipython3",
   "version": "3.5.4"
  },
  "notify_time": "10",
  "varInspector": {
   "cols": {
    "lenName": 16,
    "lenType": 16,
    "lenVar": 40
   },
   "kernels_config": {
    "python": {
     "delete_cmd_postfix": "",
     "delete_cmd_prefix": "del ",
     "library": "var_list.py",
     "varRefreshCmd": "print(var_dic_list())"
    },
    "r": {
     "delete_cmd_postfix": ") ",
     "delete_cmd_prefix": "rm(",
     "library": "var_list.r",
     "varRefreshCmd": "cat(var_dic_list()) "
    }
   },
   "types_to_exclude": [
    "module",
    "function",
    "builtin_function_or_method",
    "instance",
    "_Feature"
   ],
   "window_display": false
  }
 },
 "nbformat": 4,
 "nbformat_minor": 2
}
