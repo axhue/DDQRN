{
 "cells": [
  {
   "cell_type": "code",
   "execution_count": 12,
   "metadata": {
    "ExecuteTime": {
     "end_time": "2018-01-01T21:14:35.165198Z",
     "start_time": "2018-01-01T21:14:35.158886Z"
    }
   },
   "outputs": [],
   "source": [
    "import logging\n",
    "import os\n",
    "import tensorflow as tf\n",
    "import gym\n",
    "from baselines import logger\n",
    "from baselines.common import set_global_seeds\n",
    "from baselines import bench\n",
    "from baselines.acktr.acktr_cont import learn\n",
    "from baselines.acktr.policies import GaussianMlpPolicy,CnnPolicy\n",
    "from baselines.acktr.value_functions import NeuralNetValueFunction"
   ]
  },
  {
   "cell_type": "code",
   "execution_count": 4,
   "metadata": {
    "ExecuteTime": {
     "end_time": "2018-01-01T21:09:22.832059Z",
     "start_time": "2018-01-01T21:09:22.785304Z"
    },
    "collapsed": true
   },
   "outputs": [],
   "source": [
    "import gym\n",
    "import gym_minecraft\n",
    "from MinecraftGym import MinecraftWrapper"
   ]
  },
  {
   "cell_type": "code",
   "execution_count": 7,
   "metadata": {
    "ExecuteTime": {
     "end_time": "2018-01-01T21:10:34.379384Z",
     "start_time": "2018-01-01T21:10:34.369995Z"
    }
   },
   "outputs": [],
   "source": [
    "from keras import backend as K\n",
    "from keras.models import Sequential,model_from_json\n",
    "from keras.layers import Dense, Activation,GRU,Input,LSTM,Conv2D,Flatten\n",
    "from keras.optimizers import RMSprop,Adam,TFOptimizer\n",
    "from keras.callbacks import TensorBoard"
   ]
  },
  {
   "cell_type": "code",
   "execution_count": 6,
   "metadata": {
    "ExecuteTime": {
     "end_time": "2018-01-01T21:09:41.946445Z",
     "start_time": "2018-01-01T21:09:41.943563Z"
    },
    "collapsed": true
   },
   "outputs": [],
   "source": [
    "from baselines.acktr import kfac"
   ]
  },
  {
   "cell_type": "code",
   "execution_count": 8,
   "metadata": {
    "ExecuteTime": {
     "end_time": "2018-01-01T21:10:38.455216Z",
     "start_time": "2018-01-01T21:10:38.320870Z"
    }
   },
   "outputs": [],
   "source": [
    "pre_env = gym.make(\"MinecraftCliffWalking1-v0\")\n",
    "pre_env.init(videoResolution=[400,400],allowContinuousMovement=[\"move\", \"turn\", \"strafe\"])\n",
    "env = MinecraftWrapper(pre_env,scale=1/5)"
   ]
  },
  {
   "cell_type": "code",
   "execution_count": 6,
   "metadata": {
    "ExecuteTime": {
     "end_time": "2017-12-25T06:05:25.213327Z",
     "start_time": "2017-12-25T06:05:25.075236Z"
    }
   },
   "outputs": [
    {
     "name": "stderr",
     "output_type": "stream",
     "text": [
      "/home/ubuntu/miniconda2/envs/casper/lib/python3.5/site-packages/ipykernel/__main__.py:10: UserWarning: Update your `Dense` call to the Keras 2 API: `Dense(units=6, activation=\"softmax\")`\n"
     ]
    }
   ],
   "source": [
    "## create an image based value function using CNN\n",
    "\n",
    "model = Sequential()\n",
    "model.add(Conv2D(32,(8,8),input_shape=env.observation_space.shape,activation='relu'))\n",
    "model.add(Conv2D(64,(4,4),activation='relu'))\n",
    "model.add(Conv2D(64,(3,3),activation='relu'))\n",
    "model.add(Flatten())\n",
    "model.add(Dense(60,activation='relu'))\n",
    "model.add(Dense(32,activation='relu'))\n",
    "model.add(Dense(output_dim=env.action_space.n,activation='softmax'))"
   ]
  },
  {
   "cell_type": "code",
   "execution_count": 15,
   "metadata": {
    "ExecuteTime": {
     "end_time": "2018-01-01T21:16:10.271448Z",
     "start_time": "2018-01-01T21:16:10.232674Z"
    },
    "collapsed": true
   },
   "outputs": [],
   "source": [
    "class CNNValueFunction(object):\n",
    "    def __init__(self, ob_dim, ac_dim): #pylint: disable=W0613\n",
    "        model = Sequential()\n",
    "        model.add(Conv2D(32,(8,8),input_shape=ob_dim,activation='relu'))\n",
    "        model.add(Conv2D(64,(4,4),activation='relu'))\n",
    "        model.add(Conv2D(64,(3,3),activation='relu'))\n",
    "        model.add(Flatten())\n",
    "        model.add(Dense(60,activation='relu'))\n",
    "        model.add(Dense(32,activation='relu'))\n",
    "        model.add(Dense(output_dim=env.action_space.n,activation='softmax'))\n",
    "        optim = kfac.KfacOptimizer(learning_rate=0.001, cold_lr=0.001*(1-0.9), momentum=0.9, \\\n",
    "                                    clip_kl=0.3, epsilon=0.1, stats_decay=0.95, \\\n",
    "                                    async=1, kfac_update=2, cold_iter=50, max_grad_norm=1.0)\n",
    "        self.model = model.compile(loss=\"mean_squared_error\",optimizer=TFOptimizer(optim))\n",
    "    def predict(self, path):\n",
    "        return self.model.predict(path)\n",
    "    def fit(self, paths, targvals):\n",
    "        '''\n",
    "        X = np.concatenate([self._preproc(p) for p in paths])\n",
    "        y = np.concatenate(targvals)\n",
    "        logger.record_tabular(\"EVBefore\", common.explained_variance(self._predict(X), y))\n",
    "        for _ in range(25): self.do_update(X, y)\n",
    "        logger.record_tabular(\"EVAfter\", common.explained_variance(self._predict(X), y))\n",
    "        '''\n",
    "        self.model.fit(paths,targvals)\n"
   ]
  },
  {
   "cell_type": "code",
   "execution_count": 26,
   "metadata": {
    "ExecuteTime": {
     "end_time": "2018-01-01T21:19:20.935558Z",
     "start_time": "2018-01-01T21:19:20.916687Z"
    },
    "collapsed": true
   },
   "outputs": [],
   "source": [
    "\n",
    "def train(num_timesteps):\n",
    "    #env=gym.make(env_id)\n",
    "    #env = bench.Monitor(env, logger.get_dir() and os.path.join(logger.get_dir(), str(rank)))\n",
    "    #set_global_seeds(seed)\n",
    "    #env.seed(seed)\n",
    "    gym.logger.setLevel(logging.WARN)\n",
    "\n",
    "    with tf.Session(config=tf.ConfigProto()) as sess:\n",
    "        ob_dim = env.observation_space.shape\n",
    "        ac_dim = env.action_space.n\n",
    "        with tf.variable_scope(\"vf\"):\n",
    "            vf = CNNValueFunction(ob_dim,ac_dim)\n",
    "        with tf.variable_scope(\"pi\"):\n",
    "            policy = CnnPolicy(sess,env.observation_space, env.action_space,1,64,1)\n",
    "\n",
    "        learn(env, policy=policy, vf=vf,\n",
    "            gamma=0.99, lam=0.97, timesteps_per_batch=2500,\n",
    "            desired_kl=0.002,\n",
    "            num_timesteps=num_timesteps, animate=False)\n",
    "\n",
    "    env.close()"
   ]
  },
  {
   "cell_type": "code",
   "execution_count": 27,
   "metadata": {
    "ExecuteTime": {
     "end_time": "2018-01-01T21:19:23.418701Z",
     "start_time": "2018-01-01T21:19:22.426036Z"
    }
   },
   "outputs": [
    {
     "name": "stderr",
     "output_type": "stream",
     "text": [
      "/home/ubuntu/miniconda2/envs/casper/lib/python3.5/site-packages/ipykernel/__main__.py:10: UserWarning: Update your `Dense` call to the Keras 2 API: `Dense(units=6, activation=\"softmax\")`\n"
     ]
    },
    {
     "ename": "AttributeError",
     "evalue": "'CnnPolicy' object has no attribute 'update_info'",
     "output_type": "error",
     "traceback": [
      "\u001b[0;31m---------------------------------------------------------------------------\u001b[0m",
      "\u001b[0;31mAttributeError\u001b[0m                            Traceback (most recent call last)",
      "\u001b[0;32m<ipython-input-27-8da1e5edee76>\u001b[0m in \u001b[0;36m<module>\u001b[0;34m()\u001b[0m\n\u001b[0;32m----> 1\u001b[0;31m \u001b[0mtrain\u001b[0m\u001b[0;34m(\u001b[0m\u001b[0mint\u001b[0m\u001b[0;34m(\u001b[0m\u001b[0;36m1e6\u001b[0m\u001b[0;34m)\u001b[0m\u001b[0;34m)\u001b[0m\u001b[0;34m\u001b[0m\u001b[0m\n\u001b[0m",
      "\u001b[0;32m<ipython-input-26-b78c9d34f30b>\u001b[0m in \u001b[0;36mtrain\u001b[0;34m(num_timesteps)\u001b[0m\n\u001b[1;32m     18\u001b[0m             \u001b[0mgamma\u001b[0m\u001b[0;34m=\u001b[0m\u001b[0;36m0.99\u001b[0m\u001b[0;34m,\u001b[0m \u001b[0mlam\u001b[0m\u001b[0;34m=\u001b[0m\u001b[0;36m0.97\u001b[0m\u001b[0;34m,\u001b[0m \u001b[0mtimesteps_per_batch\u001b[0m\u001b[0;34m=\u001b[0m\u001b[0;36m2500\u001b[0m\u001b[0;34m,\u001b[0m\u001b[0;34m\u001b[0m\u001b[0m\n\u001b[1;32m     19\u001b[0m             \u001b[0mdesired_kl\u001b[0m\u001b[0;34m=\u001b[0m\u001b[0;36m0.002\u001b[0m\u001b[0;34m,\u001b[0m\u001b[0;34m\u001b[0m\u001b[0m\n\u001b[0;32m---> 20\u001b[0;31m             num_timesteps=num_timesteps, animate=False)\n\u001b[0m\u001b[1;32m     21\u001b[0m \u001b[0;34m\u001b[0m\u001b[0m\n\u001b[1;32m     22\u001b[0m     \u001b[0menv\u001b[0m\u001b[0;34m.\u001b[0m\u001b[0mclose\u001b[0m\u001b[0;34m(\u001b[0m\u001b[0;34m)\u001b[0m\u001b[0;34m\u001b[0m\u001b[0m\n",
      "\u001b[0;32m~/baselines/baselines/acktr/acktr_cont.py\u001b[0m in \u001b[0;36mlearn\u001b[0;34m(env, policy, vf, gamma, lam, timesteps_per_batch, num_timesteps, animate, callback, desired_kl)\u001b[0m\n\u001b[1;32m     53\u001b[0m     \u001b[0mmax_pathlength\u001b[0m \u001b[0;34m=\u001b[0m \u001b[0menv\u001b[0m\u001b[0;34m.\u001b[0m\u001b[0mspec\u001b[0m\u001b[0;34m.\u001b[0m\u001b[0mtimestep_limit\u001b[0m\u001b[0;34m\u001b[0m\u001b[0m\n\u001b[1;32m     54\u001b[0m     \u001b[0mstepsize\u001b[0m \u001b[0;34m=\u001b[0m \u001b[0mtf\u001b[0m\u001b[0;34m.\u001b[0m\u001b[0mVariable\u001b[0m\u001b[0;34m(\u001b[0m\u001b[0minitial_value\u001b[0m\u001b[0;34m=\u001b[0m\u001b[0mnp\u001b[0m\u001b[0;34m.\u001b[0m\u001b[0mfloat32\u001b[0m\u001b[0;34m(\u001b[0m\u001b[0mnp\u001b[0m\u001b[0;34m.\u001b[0m\u001b[0marray\u001b[0m\u001b[0;34m(\u001b[0m\u001b[0;36m0.03\u001b[0m\u001b[0;34m)\u001b[0m\u001b[0;34m)\u001b[0m\u001b[0;34m,\u001b[0m \u001b[0mname\u001b[0m\u001b[0;34m=\u001b[0m\u001b[0;34m'stepsize'\u001b[0m\u001b[0;34m)\u001b[0m\u001b[0;34m\u001b[0m\u001b[0m\n\u001b[0;32m---> 55\u001b[0;31m     \u001b[0minputs\u001b[0m\u001b[0;34m,\u001b[0m \u001b[0mloss\u001b[0m\u001b[0;34m,\u001b[0m \u001b[0mloss_sampled\u001b[0m \u001b[0;34m=\u001b[0m \u001b[0mpolicy\u001b[0m\u001b[0;34m.\u001b[0m\u001b[0mupdate_info\u001b[0m\u001b[0;34m\u001b[0m\u001b[0m\n\u001b[0m\u001b[1;32m     56\u001b[0m     optim = kfac.KfacOptimizer(learning_rate=stepsize, cold_lr=stepsize*(1-0.9), momentum=0.9, kfac_update=2,\\\n\u001b[1;32m     57\u001b[0m                                 \u001b[0mepsilon\u001b[0m\u001b[0;34m=\u001b[0m\u001b[0;36m1e-2\u001b[0m\u001b[0;34m,\u001b[0m \u001b[0mstats_decay\u001b[0m\u001b[0;34m=\u001b[0m\u001b[0;36m0.99\u001b[0m\u001b[0;34m,\u001b[0m \u001b[0masync\u001b[0m\u001b[0;34m=\u001b[0m\u001b[0;36m1\u001b[0m\u001b[0;34m,\u001b[0m \u001b[0mcold_iter\u001b[0m\u001b[0;34m=\u001b[0m\u001b[0;36m1\u001b[0m\u001b[0;34m,\u001b[0m\u001b[0;34m\u001b[0m\u001b[0m\n",
      "\u001b[0;31mAttributeError\u001b[0m: 'CnnPolicy' object has no attribute 'update_info'"
     ]
    }
   ],
   "source": [
    "train(int(1e6))"
   ]
  },
  {
   "cell_type": "code",
   "execution_count": null,
   "metadata": {
    "collapsed": true
   },
   "outputs": [],
   "source": []
  }
 ],
 "metadata": {
  "anaconda-cloud": {},
  "kernelspec": {
   "display_name": "Python [conda env:casper]",
   "language": "python",
   "name": "conda-env-casper-py"
  },
  "language_info": {
   "codemirror_mode": {
    "name": "ipython",
    "version": 3
   },
   "file_extension": ".py",
   "mimetype": "text/x-python",
   "name": "python",
   "nbconvert_exporter": "python",
   "pygments_lexer": "ipython3",
   "version": "3.5.4"
  },
  "varInspector": {
   "cols": {
    "lenName": 16,
    "lenType": 16,
    "lenVar": 40
   },
   "kernels_config": {
    "python": {
     "delete_cmd_postfix": "",
     "delete_cmd_prefix": "del ",
     "library": "var_list.py",
     "varRefreshCmd": "print(var_dic_list())"
    },
    "r": {
     "delete_cmd_postfix": ") ",
     "delete_cmd_prefix": "rm(",
     "library": "var_list.r",
     "varRefreshCmd": "cat(var_dic_list()) "
    }
   },
   "types_to_exclude": [
    "module",
    "function",
    "builtin_function_or_method",
    "instance",
    "_Feature"
   ],
   "window_display": false
  }
 },
 "nbformat": 4,
 "nbformat_minor": 2
}
