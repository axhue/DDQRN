{
 "cells": [
  {
   "cell_type": "code",
   "execution_count": 1,
   "metadata": {
    "ExecuteTime": {
     "end_time": "2017-11-04T21:59:41.803899Z",
     "start_time": "2017-11-04T21:59:41.721769Z"
    },
    "collapsed": true,
    "nbpresent": {
     "id": "42b610d5-4e09-4691-9dc9-360f1cebe4cd"
    }
   },
   "outputs": [],
   "source": [
    "import MalmoPython\n",
    "import os\n",
    "import sys\n",
    "import time\n",
    "import random\n",
    "import json\n",
    "import itertools\n",
    "import math"
   ]
  },
  {
   "cell_type": "code",
   "execution_count": 2,
   "metadata": {
    "ExecuteTime": {
     "end_time": "2017-11-04T21:59:53.182709Z",
     "start_time": "2017-11-04T21:59:41.888407Z"
    },
    "collapsed": true,
    "nbpresent": {
     "id": "f334c05e-5ca4-457b-a936-434f8280dd57"
    }
   },
   "outputs": [],
   "source": [
    "from baselines import deepq\n",
    "from baselines import logger\n",
    "from baselines.deepq.replay_buffer import ReplayBuffer\n",
    "from baselines.common.schedules import LinearSchedule"
   ]
  },
  {
   "cell_type": "code",
   "execution_count": 3,
   "metadata": {
    "ExecuteTime": {
     "end_time": "2017-11-04T21:59:53.200687Z",
     "start_time": "2017-11-04T21:59:53.194096Z"
    },
    "collapsed": true,
    "nbpresent": {
     "id": "e0b41b12-3583-41b3-bfea-65b5e2379621"
    }
   },
   "outputs": [],
   "source": [
    "import tensorflow as tf\n",
    "import tensorflow.contrib.layers as layers\n",
    "import baselines.common.tf_util as U"
   ]
  },
  {
   "cell_type": "code",
   "execution_count": 4,
   "metadata": {
    "ExecuteTime": {
     "end_time": "2017-11-04T21:59:53.213590Z",
     "start_time": "2017-11-04T21:59:53.208743Z"
    },
    "collapsed": true,
    "nbpresent": {
     "id": "81accd10-06e1-48c6-b354-908d009d6a30"
    }
   },
   "outputs": [],
   "source": [
    "from IPython.display import clear_output,display\n",
    "import numpy as np"
   ]
  },
  {
   "cell_type": "code",
   "execution_count": 5,
   "metadata": {
    "ExecuteTime": {
     "end_time": "2017-11-04T21:59:53.308342Z",
     "start_time": "2017-11-04T21:59:53.221372Z"
    }
   },
   "outputs": [
    {
     "name": "stderr",
     "output_type": "stream",
     "text": [
      "Using TensorFlow backend.\n"
     ]
    }
   ],
   "source": [
    "from keras import backend as Kend\n",
    "from keras.layers import GRU,Dense,Activation,Input,LSTM\n",
    "from keras.models import Sequential"
   ]
  },
  {
   "cell_type": "code",
   "execution_count": 6,
   "metadata": {
    "ExecuteTime": {
     "end_time": "2017-11-04T21:59:53.871341Z",
     "start_time": "2017-11-04T21:59:53.315979Z"
    },
    "nbpresent": {
     "id": "680db395-ec81-4e4c-afdd-b500c82a7ff0"
    }
   },
   "outputs": [
    {
     "data": {
      "text/html": [
       "\n",
       "    <div class=\"bk-root\">\n",
       "        <a href=\"https://bokeh.pydata.org\" target=\"_blank\" class=\"bk-logo bk-logo-small bk-logo-notebook\"></a>\n",
       "        <span id=\"1930d102-2c4e-4386-968d-ab33db7ec31f\">Loading BokehJS ...</span>\n",
       "    </div>"
      ]
     },
     "metadata": {},
     "output_type": "display_data"
    },
    {
     "data": {
      "application/javascript": [
       "\n",
       "(function(root) {\n",
       "  function now() {\n",
       "    return new Date();\n",
       "  }\n",
       "\n",
       "  var force = true;\n",
       "\n",
       "  if (typeof (root._bokeh_onload_callbacks) === \"undefined\" || force === true) {\n",
       "    root._bokeh_onload_callbacks = [];\n",
       "    root._bokeh_is_loading = undefined;\n",
       "  }\n",
       "\n",
       "  var JS_MIME_TYPE = 'application/javascript';\n",
       "  var HTML_MIME_TYPE = 'text/html';\n",
       "  var EXEC_MIME_TYPE = 'application/vnd.bokehjs_exec.v0+json';\n",
       "  var CLASS_NAME = 'output_bokeh rendered_html';\n",
       "\n",
       "  /**\n",
       "   * Render data to the DOM node\n",
       "   */\n",
       "  function render(props, node) {\n",
       "    var script = document.createElement(\"script\");\n",
       "    node.appendChild(script);\n",
       "  }\n",
       "\n",
       "  /**\n",
       "   * Handle when an output is cleared or removed\n",
       "   */\n",
       "  function handleClearOutput(event, handle) {\n",
       "    var cell = handle.cell;\n",
       "\n",
       "    var id = cell.output_area._bokeh_element_id;\n",
       "    var server_id = cell.output_area._bokeh_server_id;\n",
       "    // Clean up Bokeh references\n",
       "    if (id !== undefined) {\n",
       "      Bokeh.index[id].model.document.clear();\n",
       "      delete Bokeh.index[id];\n",
       "    }\n",
       "\n",
       "    if (server_id !== undefined) {\n",
       "      // Clean up Bokeh references\n",
       "      var cmd = \"from bokeh.io.state import curstate; print(curstate().uuid_to_server['\" + server_id + \"'].get_sessions()[0].document.roots[0]._id)\";\n",
       "      cell.notebook.kernel.execute(cmd, {\n",
       "        iopub: {\n",
       "          output: function(msg) {\n",
       "            var element_id = msg.content.text.trim();\n",
       "            Bokeh.index[element_id].model.document.clear();\n",
       "            delete Bokeh.index[element_id];\n",
       "          }\n",
       "        }\n",
       "      });\n",
       "      // Destroy server and session\n",
       "      var cmd = \"import bokeh.io.notebook as ion; ion.destroy_server('\" + server_id + \"')\";\n",
       "      cell.notebook.kernel.execute(cmd);\n",
       "    }\n",
       "  }\n",
       "\n",
       "  /**\n",
       "   * Handle when a new output is added\n",
       "   */\n",
       "  function handleAddOutput(event, handle) {\n",
       "    var output_area = handle.output_area;\n",
       "    var output = handle.output;\n",
       "\n",
       "    // limit handleAddOutput to display_data with EXEC_MIME_TYPE content only\n",
       "    if ((output.output_type != \"display_data\") || (!output.data.hasOwnProperty(EXEC_MIME_TYPE))) {\n",
       "      return\n",
       "    }\n",
       "\n",
       "    var toinsert = output_area.element.find(`.${CLASS_NAME.split(' ')[0]}`);\n",
       "\n",
       "    if (output.metadata[EXEC_MIME_TYPE][\"id\"] !== undefined) {\n",
       "      toinsert[0].firstChild.textContent = output.data[JS_MIME_TYPE];\n",
       "      // store reference to embed id on output_area\n",
       "      output_area._bokeh_element_id = output.metadata[EXEC_MIME_TYPE][\"id\"];\n",
       "    }\n",
       "    if (output.metadata[EXEC_MIME_TYPE][\"server_id\"] !== undefined) {\n",
       "      var bk_div = document.createElement(\"div\");\n",
       "      bk_div.innerHTML = output.data[HTML_MIME_TYPE];\n",
       "      var script_attrs = bk_div.children[0].attributes;\n",
       "      for (var i = 0; i < script_attrs.length; i++) {\n",
       "        toinsert[0].firstChild.setAttribute(script_attrs[i].name, script_attrs[i].value);\n",
       "      }\n",
       "      // store reference to server id on output_area\n",
       "      output_area._bokeh_server_id = output.metadata[EXEC_MIME_TYPE][\"server_id\"];\n",
       "    }\n",
       "  }\n",
       "\n",
       "  function register_renderer(events, OutputArea) {\n",
       "\n",
       "    function append_mime(data, metadata, element) {\n",
       "      // create a DOM node to render to\n",
       "      var toinsert = this.create_output_subarea(\n",
       "        metadata,\n",
       "        CLASS_NAME,\n",
       "        EXEC_MIME_TYPE\n",
       "      );\n",
       "      this.keyboard_manager.register_events(toinsert);\n",
       "      // Render to node\n",
       "      var props = {data: data, metadata: metadata[EXEC_MIME_TYPE]};\n",
       "      render(props, toinsert[0]);\n",
       "      element.append(toinsert);\n",
       "      return toinsert\n",
       "    }\n",
       "\n",
       "    /* Handle when an output is cleared or removed */\n",
       "    events.on('clear_output.CodeCell', handleClearOutput);\n",
       "    events.on('delete.Cell', handleClearOutput);\n",
       "\n",
       "    /* Handle when a new output is added */\n",
       "    events.on('output_added.OutputArea', handleAddOutput);\n",
       "\n",
       "    /**\n",
       "     * Register the mime type and append_mime function with output_area\n",
       "     */\n",
       "    OutputArea.prototype.register_mime_type(EXEC_MIME_TYPE, append_mime, {\n",
       "      /* Is output safe? */\n",
       "      safe: true,\n",
       "      /* Index of renderer in `output_area.display_order` */\n",
       "      index: 0\n",
       "    });\n",
       "  }\n",
       "\n",
       "  // register the mime type if in Jupyter Notebook environment and previously unregistered\n",
       "  if (root.Jupyter !== undefined) {\n",
       "    var events = require('base/js/events');\n",
       "    var OutputArea = require('notebook/js/outputarea').OutputArea;\n",
       "\n",
       "    if (OutputArea.prototype.mime_types().indexOf(EXEC_MIME_TYPE) == -1) {\n",
       "      register_renderer(events, OutputArea);\n",
       "    }\n",
       "  }\n",
       "\n",
       "  \n",
       "  if (typeof (root._bokeh_timeout) === \"undefined\" || force === true) {\n",
       "    root._bokeh_timeout = Date.now() + 5000;\n",
       "    root._bokeh_failed_load = false;\n",
       "  }\n",
       "\n",
       "  var NB_LOAD_WARNING = {'data': {'text/html':\n",
       "     \"<div style='background-color: #fdd'>\\n\"+\n",
       "     \"<p>\\n\"+\n",
       "     \"BokehJS does not appear to have successfully loaded. If loading BokehJS from CDN, this \\n\"+\n",
       "     \"may be due to a slow or bad network connection. Possible fixes:\\n\"+\n",
       "     \"</p>\\n\"+\n",
       "     \"<ul>\\n\"+\n",
       "     \"<li>re-rerun `output_notebook()` to attempt to load from CDN again, or</li>\\n\"+\n",
       "     \"<li>use INLINE resources instead, as so:</li>\\n\"+\n",
       "     \"</ul>\\n\"+\n",
       "     \"<code>\\n\"+\n",
       "     \"from bokeh.resources import INLINE\\n\"+\n",
       "     \"output_notebook(resources=INLINE)\\n\"+\n",
       "     \"</code>\\n\"+\n",
       "     \"</div>\"}};\n",
       "\n",
       "  function display_loaded() {\n",
       "    var el = document.getElementById(\"1930d102-2c4e-4386-968d-ab33db7ec31f\");\n",
       "    if (el != null) {\n",
       "      el.textContent = \"BokehJS is loading...\";\n",
       "    }\n",
       "    if (root.Bokeh !== undefined) {\n",
       "      if (el != null) {\n",
       "        el.textContent = \"BokehJS \" + root.Bokeh.version + \" successfully loaded.\";\n",
       "      }\n",
       "    } else if (Date.now() < root._bokeh_timeout) {\n",
       "      setTimeout(display_loaded, 100)\n",
       "    }\n",
       "  }\n",
       "\n",
       "\n",
       "  function run_callbacks() {\n",
       "    try {\n",
       "      root._bokeh_onload_callbacks.forEach(function(callback) { callback() });\n",
       "    }\n",
       "    finally {\n",
       "      delete root._bokeh_onload_callbacks\n",
       "    }\n",
       "    console.info(\"Bokeh: all callbacks have finished\");\n",
       "  }\n",
       "\n",
       "  function load_libs(js_urls, callback) {\n",
       "    root._bokeh_onload_callbacks.push(callback);\n",
       "    if (root._bokeh_is_loading > 0) {\n",
       "      console.log(\"Bokeh: BokehJS is being loaded, scheduling callback at\", now());\n",
       "      return null;\n",
       "    }\n",
       "    if (js_urls == null || js_urls.length === 0) {\n",
       "      run_callbacks();\n",
       "      return null;\n",
       "    }\n",
       "    console.log(\"Bokeh: BokehJS not loaded, scheduling load and callback at\", now());\n",
       "    root._bokeh_is_loading = js_urls.length;\n",
       "    for (var i = 0; i < js_urls.length; i++) {\n",
       "      var url = js_urls[i];\n",
       "      var s = document.createElement('script');\n",
       "      s.src = url;\n",
       "      s.async = false;\n",
       "      s.onreadystatechange = s.onload = function() {\n",
       "        root._bokeh_is_loading--;\n",
       "        if (root._bokeh_is_loading === 0) {\n",
       "          console.log(\"Bokeh: all BokehJS libraries loaded\");\n",
       "          run_callbacks()\n",
       "        }\n",
       "      };\n",
       "      s.onerror = function() {\n",
       "        console.warn(\"failed to load library \" + url);\n",
       "      };\n",
       "      console.log(\"Bokeh: injecting script tag for BokehJS library: \", url);\n",
       "      document.getElementsByTagName(\"head\")[0].appendChild(s);\n",
       "    }\n",
       "  };var element = document.getElementById(\"1930d102-2c4e-4386-968d-ab33db7ec31f\");\n",
       "  if (element == null) {\n",
       "    console.log(\"Bokeh: ERROR: autoload.js configured with elementid '1930d102-2c4e-4386-968d-ab33db7ec31f' but no matching script tag was found. \")\n",
       "    return false;\n",
       "  }\n",
       "\n",
       "  var js_urls = [\"https://cdn.pydata.org/bokeh/release/bokeh-0.12.10.min.js\", \"https://cdn.pydata.org/bokeh/release/bokeh-widgets-0.12.10.min.js\", \"https://cdn.pydata.org/bokeh/release/bokeh-tables-0.12.10.min.js\", \"https://cdn.pydata.org/bokeh/release/bokeh-gl-0.12.10.min.js\"];\n",
       "\n",
       "  var inline_js = [\n",
       "    function(Bokeh) {\n",
       "      Bokeh.set_log_level(\"info\");\n",
       "    },\n",
       "    \n",
       "    function(Bokeh) {\n",
       "      \n",
       "    },\n",
       "    function(Bokeh) {\n",
       "      console.log(\"Bokeh: injecting CSS: https://cdn.pydata.org/bokeh/release/bokeh-0.12.10.min.css\");\n",
       "      Bokeh.embed.inject_css(\"https://cdn.pydata.org/bokeh/release/bokeh-0.12.10.min.css\");\n",
       "      console.log(\"Bokeh: injecting CSS: https://cdn.pydata.org/bokeh/release/bokeh-widgets-0.12.10.min.css\");\n",
       "      Bokeh.embed.inject_css(\"https://cdn.pydata.org/bokeh/release/bokeh-widgets-0.12.10.min.css\");\n",
       "      console.log(\"Bokeh: injecting CSS: https://cdn.pydata.org/bokeh/release/bokeh-tables-0.12.10.min.css\");\n",
       "      Bokeh.embed.inject_css(\"https://cdn.pydata.org/bokeh/release/bokeh-tables-0.12.10.min.css\");\n",
       "    }\n",
       "  ];\n",
       "\n",
       "  function run_inline_js() {\n",
       "    \n",
       "    if ((root.Bokeh !== undefined) || (force === true)) {\n",
       "      for (var i = 0; i < inline_js.length; i++) {\n",
       "        inline_js[i].call(root, root.Bokeh);\n",
       "      }if (force === true) {\n",
       "        display_loaded();\n",
       "      }} else if (Date.now() < root._bokeh_timeout) {\n",
       "      setTimeout(run_inline_js, 100);\n",
       "    } else if (!root._bokeh_failed_load) {\n",
       "      console.log(\"Bokeh: BokehJS failed to load within specified timeout.\");\n",
       "      root._bokeh_failed_load = true;\n",
       "    } else if (force !== true) {\n",
       "      var cell = $(document.getElementById(\"1930d102-2c4e-4386-968d-ab33db7ec31f\")).parents('.cell').data().cell;\n",
       "      cell.output_area.append_execute_result(NB_LOAD_WARNING)\n",
       "    }\n",
       "\n",
       "  }\n",
       "\n",
       "  if (root._bokeh_is_loading === 0) {\n",
       "    console.log(\"Bokeh: BokehJS loaded, going straight to plotting\");\n",
       "    run_inline_js();\n",
       "  } else {\n",
       "    load_libs(js_urls, function() {\n",
       "      console.log(\"Bokeh: BokehJS plotting callback run at\", now());\n",
       "      run_inline_js();\n",
       "    });\n",
       "  }\n",
       "}(window));"
      ],
      "application/vnd.bokehjs_load.v0+json": "\n(function(root) {\n  function now() {\n    return new Date();\n  }\n\n  var force = true;\n\n  if (typeof (root._bokeh_onload_callbacks) === \"undefined\" || force === true) {\n    root._bokeh_onload_callbacks = [];\n    root._bokeh_is_loading = undefined;\n  }\n\n  \n\n  \n  if (typeof (root._bokeh_timeout) === \"undefined\" || force === true) {\n    root._bokeh_timeout = Date.now() + 5000;\n    root._bokeh_failed_load = false;\n  }\n\n  var NB_LOAD_WARNING = {'data': {'text/html':\n     \"<div style='background-color: #fdd'>\\n\"+\n     \"<p>\\n\"+\n     \"BokehJS does not appear to have successfully loaded. If loading BokehJS from CDN, this \\n\"+\n     \"may be due to a slow or bad network connection. Possible fixes:\\n\"+\n     \"</p>\\n\"+\n     \"<ul>\\n\"+\n     \"<li>re-rerun `output_notebook()` to attempt to load from CDN again, or</li>\\n\"+\n     \"<li>use INLINE resources instead, as so:</li>\\n\"+\n     \"</ul>\\n\"+\n     \"<code>\\n\"+\n     \"from bokeh.resources import INLINE\\n\"+\n     \"output_notebook(resources=INLINE)\\n\"+\n     \"</code>\\n\"+\n     \"</div>\"}};\n\n  function display_loaded() {\n    var el = document.getElementById(\"1930d102-2c4e-4386-968d-ab33db7ec31f\");\n    if (el != null) {\n      el.textContent = \"BokehJS is loading...\";\n    }\n    if (root.Bokeh !== undefined) {\n      if (el != null) {\n        el.textContent = \"BokehJS \" + root.Bokeh.version + \" successfully loaded.\";\n      }\n    } else if (Date.now() < root._bokeh_timeout) {\n      setTimeout(display_loaded, 100)\n    }\n  }\n\n\n  function run_callbacks() {\n    try {\n      root._bokeh_onload_callbacks.forEach(function(callback) { callback() });\n    }\n    finally {\n      delete root._bokeh_onload_callbacks\n    }\n    console.info(\"Bokeh: all callbacks have finished\");\n  }\n\n  function load_libs(js_urls, callback) {\n    root._bokeh_onload_callbacks.push(callback);\n    if (root._bokeh_is_loading > 0) {\n      console.log(\"Bokeh: BokehJS is being loaded, scheduling callback at\", now());\n      return null;\n    }\n    if (js_urls == null || js_urls.length === 0) {\n      run_callbacks();\n      return null;\n    }\n    console.log(\"Bokeh: BokehJS not loaded, scheduling load and callback at\", now());\n    root._bokeh_is_loading = js_urls.length;\n    for (var i = 0; i < js_urls.length; i++) {\n      var url = js_urls[i];\n      var s = document.createElement('script');\n      s.src = url;\n      s.async = false;\n      s.onreadystatechange = s.onload = function() {\n        root._bokeh_is_loading--;\n        if (root._bokeh_is_loading === 0) {\n          console.log(\"Bokeh: all BokehJS libraries loaded\");\n          run_callbacks()\n        }\n      };\n      s.onerror = function() {\n        console.warn(\"failed to load library \" + url);\n      };\n      console.log(\"Bokeh: injecting script tag for BokehJS library: \", url);\n      document.getElementsByTagName(\"head\")[0].appendChild(s);\n    }\n  };var element = document.getElementById(\"1930d102-2c4e-4386-968d-ab33db7ec31f\");\n  if (element == null) {\n    console.log(\"Bokeh: ERROR: autoload.js configured with elementid '1930d102-2c4e-4386-968d-ab33db7ec31f' but no matching script tag was found. \")\n    return false;\n  }\n\n  var js_urls = [\"https://cdn.pydata.org/bokeh/release/bokeh-0.12.10.min.js\", \"https://cdn.pydata.org/bokeh/release/bokeh-widgets-0.12.10.min.js\", \"https://cdn.pydata.org/bokeh/release/bokeh-tables-0.12.10.min.js\", \"https://cdn.pydata.org/bokeh/release/bokeh-gl-0.12.10.min.js\"];\n\n  var inline_js = [\n    function(Bokeh) {\n      Bokeh.set_log_level(\"info\");\n    },\n    \n    function(Bokeh) {\n      \n    },\n    function(Bokeh) {\n      console.log(\"Bokeh: injecting CSS: https://cdn.pydata.org/bokeh/release/bokeh-0.12.10.min.css\");\n      Bokeh.embed.inject_css(\"https://cdn.pydata.org/bokeh/release/bokeh-0.12.10.min.css\");\n      console.log(\"Bokeh: injecting CSS: https://cdn.pydata.org/bokeh/release/bokeh-widgets-0.12.10.min.css\");\n      Bokeh.embed.inject_css(\"https://cdn.pydata.org/bokeh/release/bokeh-widgets-0.12.10.min.css\");\n      console.log(\"Bokeh: injecting CSS: https://cdn.pydata.org/bokeh/release/bokeh-tables-0.12.10.min.css\");\n      Bokeh.embed.inject_css(\"https://cdn.pydata.org/bokeh/release/bokeh-tables-0.12.10.min.css\");\n    }\n  ];\n\n  function run_inline_js() {\n    \n    if ((root.Bokeh !== undefined) || (force === true)) {\n      for (var i = 0; i < inline_js.length; i++) {\n        inline_js[i].call(root, root.Bokeh);\n      }if (force === true) {\n        display_loaded();\n      }} else if (Date.now() < root._bokeh_timeout) {\n      setTimeout(run_inline_js, 100);\n    } else if (!root._bokeh_failed_load) {\n      console.log(\"Bokeh: BokehJS failed to load within specified timeout.\");\n      root._bokeh_failed_load = true;\n    } else if (force !== true) {\n      var cell = $(document.getElementById(\"1930d102-2c4e-4386-968d-ab33db7ec31f\")).parents('.cell').data().cell;\n      cell.output_area.append_execute_result(NB_LOAD_WARNING)\n    }\n\n  }\n\n  if (root._bokeh_is_loading === 0) {\n    console.log(\"Bokeh: BokehJS loaded, going straight to plotting\");\n    run_inline_js();\n  } else {\n    load_libs(js_urls, function() {\n      console.log(\"Bokeh: BokehJS plotting callback run at\", now());\n      run_inline_js();\n    });\n  }\n}(window));"
     },
     "metadata": {},
     "output_type": "display_data"
    }
   ],
   "source": [
    "from bokeh.plotting import figure\n",
    "from bokeh.io import output_notebook, push_notebook, show\n",
    "from bokeh.driving import linear\n",
    "from bokeh.layouts import row,gridplot\n",
    "output_notebook()"
   ]
  },
  {
   "cell_type": "code",
   "execution_count": null,
   "metadata": {
    "collapsed": true
   },
   "outputs": [],
   "source": [
    "show()"
   ]
  },
  {
   "cell_type": "markdown",
   "metadata": {
    "nbpresent": {
     "id": "aa7d4ac1-3969-42b4-8a2b-f921cf3157f2"
    }
   },
   "source": [
    "## Make Env be able to interface with code"
   ]
  },
  {
   "cell_type": "code",
   "execution_count": 147,
   "metadata": {
    "ExecuteTime": {
     "end_time": "2017-11-05T03:32:02.225256Z",
     "start_time": "2017-11-05T03:32:00.048149Z"
    },
    "code_folding": [],
    "nbpresent": {
     "id": "ed717a9d-ef8d-40d0-b145-b6312d8f977b"
    }
   },
   "outputs": [],
   "source": [
    "class Env:\n",
    "    def __init__(self,actions,obs_shape = 3):\n",
    "        self.world_state = None\n",
    "        self.my_mission_record = MalmoPython.MissionRecordSpec()\n",
    "        self.data = None\n",
    "        self.observation_space = np.zeros(shape=(obs_shape**2,))\n",
    "        self.grid = obs_shape\n",
    "        self.actions = actions\n",
    "        \n",
    "        self.host = MalmoPython.AgentHost()\n",
    "        try:\n",
    "            self.host.parse( sys.argv )\n",
    "        except RuntimeError as e:\n",
    "            print ('ERROR:',e)\n",
    "            print (self.host.getUsage())\n",
    "            if self.host.receivedArgument(\"help\"):\n",
    "                print (self.host.getUsage())\n",
    "                exit(0)\n",
    "    def _dist(self,x,y):\n",
    "        return np.sqrt(np.sum((x-y)**2))\n",
    "    def _locate_closest(self,block_id,grid,pos):\n",
    "        block_loc = np.argwhere(grid==block_id)\n",
    "        \n",
    "        if (block_loc.size == 0 and self.world_state.is_mission_running):\n",
    "            return np.inf\n",
    "        else:\n",
    "            block_dist = []\n",
    "            for idx in block_loc:\n",
    "                block_dist.append(self._dist(idx,pos))\n",
    "            return np.min(np.array(block_dist))\n",
    "        \n",
    "    def observe(self):\n",
    "        \n",
    "        self.world_state = self.host.peekWorldState()\n",
    "        while self.world_state.is_mission_running and all(e.text=='{}' for e in self.world_state.observations):\n",
    "            self.world_state = self.host.peekWorldState()\n",
    "\n",
    "        # If there are some new observations\n",
    "        if self.world_state.number_of_observations_since_last_state > 0:\n",
    "            self.data = json.loads(self.world_state.observations[-1].text)\n",
    "        \n",
    "        state = self.world_state\n",
    "            \n",
    "        #data = json.loads(state.observations[-1].text)\n",
    "        # get reward if detected, else reward is -1\n",
    "        reward = 0\n",
    "        if state.number_of_rewards_since_last_state > 0:\n",
    "            reward = state.rewards[0].getValue()\n",
    "    \n",
    "        # reformat grid to a vector that only show the floor with blocks\n",
    "        vec = []    \n",
    "        for item in self.data['grid'][::-1]:\n",
    "            if 'lava' in item:\n",
    "                vec.append(1)\n",
    "            elif 'lapis' in item:\n",
    "                vec.append(2)\n",
    "            else:\n",
    "                vec.append(0)\n",
    "        \n",
    "        \n",
    "        #calculate distance to target and assign reward\n",
    "        new_state = np.array(vec)\n",
    "        \n",
    "        if self.world_state.is_mission_running is False and new_state.sum() != 0.1:\n",
    "            return 0,0,0,self.world_state\n",
    "        \n",
    "        tmp = np.array(vec).reshape(self.grid,self.grid)\n",
    "        center = int(np.floor(self.grid/2))\n",
    "        cntr_idx = (center,center)\n",
    "                     \n",
    "        target_dist = self._locate_closest(2,tmp,cntr_idx)\n",
    "        \n",
    "        fire_dist = self._locate_closest(1,tmp,cntr_idx)\n",
    "        \n",
    "        lnd_dist = self._locate_closest(0,tmp,cntr_idx)\n",
    "        \n",
    "        tmp[cntr_idx] = 5\n",
    "            \n",
    "        proto_state = np.array([target_dist,fire_dist,lnd_dist])\n",
    "        if fire_dist == np.inf:\n",
    "            print(tmp)\n",
    "        reward = (1/(1+target_dist))*800 + fire_dist*100 + (1/(1+lnd_dist))\n",
    "        return(reward,proto_state,tmp,state) # return r,s,data,extra_info\n",
    "        \n",
    "    def startworld(self,world_file):\n",
    "        with open(world_file,'r') as f:\n",
    "            my_mission = MalmoPython.MissionSpec(f.read(), True)\n",
    "        my_mission_record = MalmoPython.MissionRecordSpec()\n",
    "        # Attempt to start a mission:\n",
    "        max_retries = 3\n",
    "        for retry in range(max_retries):\n",
    "            try:\n",
    "                self.host.startMission( my_mission, my_mission_record )\n",
    "                sys.stdout.write(\"Mission Started\")\n",
    "                break\n",
    "            except RuntimeError as e:\n",
    "                if retry == max_retries - 1:\n",
    "                    print (\"Error starting mission:{}\".format(e))\n",
    "                    exit(1)\n",
    "                else:\n",
    "                    time.sleep(2)\n",
    "        # Loop until mission starts:\n",
    "        #print (\"Waiting for the mission to start \")\n",
    "        self.world_state = self.host.getWorldState()\n",
    "        while (not self.world_state.has_mission_begun):\n",
    "            sys.stdout.write(\".\")\n",
    "            time.sleep(0.1)\n",
    "            self.world_state = self.host.getWorldState()\n",
    "            for error in self.world_state.errors:\n",
    "                print (\"Error:\",error.text)\n",
    "                \n",
    "        ## wait until a valid observation        \n",
    "        while self.world_state.is_mission_running and all(e.text=='{}' for e in self.world_state.observations):\n",
    "            self.world_state = self.host.peekWorldState()\n",
    "        #populate emtpy fields for init\n",
    "        self.data = json.loads(self.world_state.observations[-1].text)\n",
    "        \n",
    "        return self.observe()\n",
    "    def quit(self):\n",
    "        self.host.sendCommand('quit')\n",
    "        \n",
    "    def step(self,action):\n",
    "        self.host.sendCommand(self.actions[action])\n",
    "        return self.observe()"
   ]
  },
  {
   "cell_type": "markdown",
   "metadata": {
    "nbpresent": {
     "id": "7cfe91e8-435e-4ef8-b7c5-2816074783df"
    }
   },
   "source": [
    "## Test ground"
   ]
  },
  {
   "cell_type": "code",
   "execution_count": 10,
   "metadata": {
    "ExecuteTime": {
     "end_time": "2017-11-04T22:00:37.843526Z",
     "start_time": "2017-11-04T22:00:37.794927Z"
    },
    "code_folding": [
     1,
     3,
     7
    ],
    "nbpresent": {
     "id": "76a26485-09ad-41b8-b5b3-73f109ad7d93"
    }
   },
   "outputs": [
    {
     "name": "stdout",
     "output_type": "stream",
     "text": [
      "ERROR: unrecognised option '-f'\n",
      "Malmo version: 0.31.0\n",
      "\n",
      "Allowed options:\n",
      "  -h [ --help ]         show description of allowed options\n",
      "  --test                run this as an integration test\n",
      "\n",
      "\n"
     ]
    }
   ],
   "source": [
    "agent_host = MalmoPython.AgentHost()\n",
    "try:\n",
    "    agent_host.parse( sys.argv )\n",
    "except RuntimeError as e:\n",
    "    print ('ERROR:',e)\n",
    "    print (agent_host.getUsage())\n",
    "    exit(1)\n",
    "if agent_host.receivedArgument(\"help\"):\n",
    "    print (agent_host.getUsage())\n",
    "    exit(0)"
   ]
  },
  {
   "cell_type": "code",
   "execution_count": 148,
   "metadata": {
    "ExecuteTime": {
     "end_time": "2017-11-05T03:32:16.675792Z",
     "start_time": "2017-11-05T03:32:07.772555Z"
    },
    "nbpresent": {
     "id": "f8cd07de-94da-4478-b8db-59cfcf140f63"
    },
    "scrolled": true
   },
   "outputs": [
    {
     "name": "stdout",
     "output_type": "stream",
     "text": [
      "ERROR: unrecognised option '-f'\n",
      "Malmo version: 0.31.0\n",
      "\n",
      "Allowed options:\n",
      "  -h [ --help ]         show description of allowed options\n",
      "  --test                run this as an integration test\n",
      "\n",
      "\n",
      "Mission Started..............."
     ]
    },
    {
     "data": {
      "text/plain": [
       "array([ inf,   1.,   0.])"
      ]
     },
     "metadata": {},
     "output_type": "display_data"
    },
    {
     "data": {
      "text/plain": [
       "101.0"
      ]
     },
     "metadata": {},
     "output_type": "display_data"
    },
    {
     "data": {
      "text/plain": [
       "array([ inf,   1.,   0.])"
      ]
     },
     "metadata": {},
     "output_type": "display_data"
    },
    {
     "data": {
      "text/plain": [
       "101.0"
      ]
     },
     "metadata": {},
     "output_type": "display_data"
    },
    {
     "data": {
      "text/plain": [
       "array([ inf,   1.,   0.])"
      ]
     },
     "metadata": {},
     "output_type": "display_data"
    },
    {
     "data": {
      "text/plain": [
       "101.0"
      ]
     },
     "metadata": {},
     "output_type": "display_data"
    },
    {
     "data": {
      "text/plain": [
       "array([ inf,   1.,   0.])"
      ]
     },
     "metadata": {},
     "output_type": "display_data"
    },
    {
     "data": {
      "text/plain": [
       "101.0"
      ]
     },
     "metadata": {},
     "output_type": "display_data"
    },
    {
     "name": "stdout",
     "output_type": "stream",
     "text": [
      "[[0 0 0 0 0 0 0 0 0 0 0 0 0 0 0 0 0 0 0 0 0]\n",
      " [0 0 0 0 0 0 0 0 0 0 0 0 0 0 0 0 0 0 0 0 0]\n",
      " [0 0 0 0 0 0 0 0 0 0 0 0 0 0 0 0 0 0 0 0 0]\n",
      " [0 0 0 0 0 0 0 0 0 0 0 0 0 0 0 0 0 0 0 0 0]\n",
      " [0 0 0 0 0 0 0 0 0 0 0 0 0 0 0 0 0 0 0 0 0]\n",
      " [0 0 0 0 0 0 0 0 0 0 0 0 0 0 0 0 0 0 0 0 0]\n",
      " [0 0 0 0 0 0 0 0 0 0 0 0 0 0 0 0 0 0 0 0 0]\n",
      " [0 0 0 0 0 0 0 0 0 0 0 0 0 0 0 0 0 0 0 0 0]\n",
      " [0 0 0 0 0 0 0 0 0 0 0 0 0 0 0 0 0 0 0 0 0]\n",
      " [0 0 0 0 0 0 0 0 0 0 0 0 0 0 0 0 0 0 0 0 0]\n",
      " [0 0 0 0 0 0 0 0 0 0 5 0 0 0 0 0 0 0 0 0 0]\n",
      " [0 0 0 0 0 0 0 0 0 0 0 0 0 0 0 0 0 0 0 0 0]\n",
      " [0 0 0 0 0 0 0 0 0 0 0 0 0 0 0 0 0 0 0 0 0]\n",
      " [0 0 0 0 0 0 0 0 0 0 0 0 0 0 0 0 0 0 0 0 0]\n",
      " [0 0 0 0 0 0 0 0 0 0 0 0 0 0 0 0 0 0 0 0 0]\n",
      " [0 0 0 0 0 0 0 0 0 0 0 0 0 0 0 0 0 0 0 0 0]\n",
      " [0 0 0 0 0 0 0 0 0 0 0 0 0 0 0 0 0 0 0 0 0]\n",
      " [0 0 0 0 0 0 0 0 0 0 0 0 0 0 0 0 0 0 0 0 0]\n",
      " [0 0 0 0 0 0 0 0 0 0 0 0 0 0 0 0 0 0 0 0 0]\n",
      " [0 0 0 0 0 0 0 0 0 0 0 0 0 0 0 0 0 0 0 0 0]\n",
      " [0 0 0 0 0 0 0 0 0 0 0 0 0 0 0 0 0 0 0 0 0]]\n"
     ]
    },
    {
     "data": {
      "text/plain": [
       "array([ inf,  inf,   0.])"
      ]
     },
     "metadata": {},
     "output_type": "display_data"
    },
    {
     "data": {
      "text/plain": [
       "inf"
      ]
     },
     "metadata": {},
     "output_type": "display_data"
    },
    {
     "data": {
      "text/plain": [
       "0"
      ]
     },
     "metadata": {},
     "output_type": "display_data"
    },
    {
     "data": {
      "text/plain": [
       "0"
      ]
     },
     "metadata": {},
     "output_type": "display_data"
    },
    {
     "data": {
      "text/plain": [
       "0"
      ]
     },
     "metadata": {},
     "output_type": "display_data"
    },
    {
     "data": {
      "text/plain": [
       "0"
      ]
     },
     "metadata": {},
     "output_type": "display_data"
    },
    {
     "data": {
      "text/plain": [
       "0"
      ]
     },
     "metadata": {},
     "output_type": "display_data"
    },
    {
     "name": "stdout",
     "output_type": "stream",
     "text": [
      "done\n"
     ]
    }
   ],
   "source": [
    "tempenv = Env(None,21)\n",
    "r,s,data,ws = tempenv.startworld(\"CliffWalking.xml\")\n",
    "\n",
    "for t in itertools.count():\n",
    "    #clear_output(wait=True)\n",
    "    display(s,r)\n",
    "\n",
    "    time.sleep(1)\n",
    "    \n",
    "    if ws.is_mission_running is False:\n",
    "        r,s,data,ws = tempenv.observe()\n",
    "        #clear_output(wait=True)\n",
    "        display(s,r,data)\n",
    "        print('done')\n",
    "        break\n",
    "    r,s,data,ws = tempenv.observe()\n"
   ]
  },
  {
   "cell_type": "code",
   "execution_count": 105,
   "metadata": {
    "ExecuteTime": {
     "end_time": "2017-11-05T03:06:35.634019Z",
     "start_time": "2017-11-05T03:06:35.631486Z"
    },
    "collapsed": true,
    "nbpresent": {
     "id": "4b5a1bc5-6d97-4a31-ac10-e912ce687f84"
    }
   },
   "outputs": [],
   "source": [
    "tempenv.quit()"
   ]
  },
  {
   "cell_type": "code",
   "execution_count": null,
   "metadata": {
    "ExecuteTime": {
     "end_time": "2017-10-24T22:01:21.323020Z",
     "start_time": "2017-10-24T22:01:21.266869Z"
    },
    "collapsed": true,
    "nbpresent": {
     "id": "1d60808f-37f6-49b0-859b-be08faad7ec5"
    }
   },
   "outputs": [],
   "source": [
    "    world_state = agent_host.getWorldState()\n",
    "    # print(chose_act)\n",
    "    clear_output(wait=True)\n",
    "    a = json.loads(world_state.observations[-1].text)\n",
    "    \n",
    "    vec = []\n",
    "    for item in a['grid'][::-1]:\n",
    "        if 'lava' in item:\n",
    "            vec.append(1)\n",
    "        else:\n",
    "            vec.append(0)\n",
    "    narray = np.array(vec)\n",
    "    narray"
   ]
  },
  {
   "cell_type": "code",
   "execution_count": null,
   "metadata": {
    "ExecuteTime": {
     "end_time": "2017-10-29T03:49:52.765757Z",
     "start_time": "2017-10-29T03:49:52.739210Z"
    },
    "collapsed": true
   },
   "outputs": [],
   "source": [
    "dir(tf.layers.dense)"
   ]
  },
  {
   "cell_type": "code",
   "execution_count": null,
   "metadata": {
    "ExecuteTime": {
     "end_time": "2017-10-29T03:50:21.653490Z",
     "start_time": "2017-10-29T03:50:21.633525Z"
    },
    "collapsed": true
   },
   "outputs": [],
   "source": [
    "a = Sequential()\n",
    "dir(a)"
   ]
  },
  {
   "cell_type": "markdown",
   "metadata": {
    "nbpresent": {
     "id": "6119af2b-7cb1-4a25-8962-1f582a6457f3"
    }
   },
   "source": [
    "## Start Code"
   ]
  },
  {
   "cell_type": "code",
   "execution_count": 112,
   "metadata": {
    "ExecuteTime": {
     "end_time": "2017-11-05T03:12:16.659053Z",
     "start_time": "2017-11-05T03:12:16.583141Z"
    },
    "collapsed": true,
    "nbpresent": {
     "id": "19d5c873-7cfd-4488-abf5-409af8bc7587"
    }
   },
   "outputs": [],
   "source": [
    "simple_actions = {\n",
    "    'strafe':{\n",
    "        'left': 'strafe -1',\n",
    "        'right': 'strafe 1'\n",
    "    },\n",
    "    'move':{\n",
    "        'back':'move -1',\n",
    "        'forward':'move 1'\n",
    "    }   \n",
    "}\n",
    "# flatten dict of actions\n",
    "ractions = []\n",
    "for action_type in simple_actions.keys():\n",
    "    \n",
    "    for action in simple_actions[action_type]:\n",
    "        ractions.append(simple_actions[action_type][action])"
   ]
  },
  {
   "cell_type": "code",
   "execution_count": 113,
   "metadata": {
    "ExecuteTime": {
     "end_time": "2017-11-05T03:12:17.339477Z",
     "start_time": "2017-11-05T03:12:17.311631Z"
    },
    "collapsed": true,
    "nbpresent": {
     "id": "d2ce188a-82f9-4eb1-9bca-0c8a8776f040"
    }
   },
   "outputs": [],
   "source": [
    "def model(inpt, num_actions, scope, reuse=False):\n",
    "    \"\"\"This model takes as input an observation and returns values of all actions.\"\"\"\n",
    "    with tf.variable_scope(scope, reuse=reuse):\n",
    "        out = inpt\n",
    "        out = layers.fully_connected(out, num_outputs=65, activation_fn=tf.nn.relu)\n",
    "        out = layers.fully_connected(out, num_outputs=130, activation_fn=tf.nn.relu)\n",
    "        out = layers.fully_connected(out, num_outputs=num_actions, activation_fn=tf.nn.softmax)\n",
    "        return out"
   ]
  },
  {
   "cell_type": "code",
   "execution_count": 114,
   "metadata": {
    "ExecuteTime": {
     "end_time": "2017-11-05T03:12:18.644180Z",
     "start_time": "2017-11-05T03:12:18.287407Z"
    },
    "nbpresent": {
     "id": "e5e16cbc-6376-415e-9a57-ea14065633cb"
    },
    "scrolled": true
   },
   "outputs": [
    {
     "data": {
      "text/html": [
       "\n",
       "<div class=\"bk-root\">\n",
       "    <div class=\"bk-plotdiv\" id=\"00abdebf-fd54-4871-8421-6244359e666c\"></div>\n",
       "</div>"
      ]
     },
     "metadata": {},
     "output_type": "display_data"
    },
    {
     "data": {
      "application/javascript": [
       "(function(root) {\n",
       "  function embed_document(root) {\n",
       "    var docs_json = {\"c86469be-0176-4d2c-a46a-4ae21ee93a1a\":{\"roots\":{\"references\":[{\"attributes\":{\"callback\":null,\"column_names\":[\"x\",\"y\"],\"data\":{\"x\":[],\"y\":[]}},\"id\":\"df71a8f8-cc47-4203-9318-74677f28b1a0\",\"type\":\"ColumnDataSource\"},{\"attributes\":{\"axis_label\":\"y\",\"formatter\":{\"id\":\"064323b4-dfd7-407e-95b5-1e9384ac4540\",\"type\":\"BasicTickFormatter\"},\"plot\":{\"id\":\"e6b895c5-98cf-4faf-8a8e-4ea83d806d70\",\"subtype\":\"Figure\",\"type\":\"Plot\"},\"ticker\":{\"id\":\"7c011c39-19e8-4429-b5e0-bf8bec42fe06\",\"type\":\"BasicTicker\"}},\"id\":\"eb2eaabb-34cc-4f57-b412-9fe85264aff8\",\"type\":\"LinearAxis\"},{\"attributes\":{},\"id\":\"064323b4-dfd7-407e-95b5-1e9384ac4540\",\"type\":\"BasicTickFormatter\"},{\"attributes\":{\"line_alpha\":{\"value\":0.1},\"line_color\":{\"value\":\"#1f77b4\"},\"line_width\":{\"value\":2},\"x\":{\"field\":\"x\"},\"y\":{\"field\":\"y\"}},\"id\":\"da66ea5f-8575-4406-9de9-52da46d00959\",\"type\":\"Line\"},{\"attributes\":{},\"id\":\"e53f027e-5dff-455c-b9b5-6f28af578144\",\"type\":\"LinearScale\"},{\"attributes\":{},\"id\":\"6d3b4a2e-695c-43e5-9f89-36a13e6e0934\",\"type\":\"HelpTool\"},{\"attributes\":{},\"id\":\"81b7ea43-17d7-493a-bbd2-e8b97ce2a095\",\"type\":\"BasicTicker\"},{\"attributes\":{\"bottom_units\":\"screen\",\"fill_alpha\":{\"value\":0.5},\"fill_color\":{\"value\":\"lightgrey\"},\"left_units\":\"screen\",\"level\":\"overlay\",\"line_alpha\":{\"value\":1.0},\"line_color\":{\"value\":\"black\"},\"line_dash\":[4,4],\"line_width\":{\"value\":2},\"plot\":null,\"render_mode\":\"css\",\"right_units\":\"screen\",\"top_units\":\"screen\"},\"id\":\"8e2e3b79-d6a0-4fd4-b2fb-9bd4dce29579\",\"type\":\"BoxAnnotation\"},{\"attributes\":{\"line_color\":{\"value\":\"firebrick\"},\"line_width\":{\"value\":2},\"x\":{\"field\":\"x\"},\"y\":{\"field\":\"y\"}},\"id\":\"ad8523c2-9dcd-44df-abe0-e79deaff3509\",\"type\":\"Line\"},{\"attributes\":{},\"id\":\"29a61f28-23da-4db9-8230-a87c7adfe364\",\"type\":\"SaveTool\"},{\"attributes\":{\"overlay\":{\"id\":\"8e2e3b79-d6a0-4fd4-b2fb-9bd4dce29579\",\"type\":\"BoxAnnotation\"}},\"id\":\"bd633b06-0821-4b0c-add6-7ca61e7d4587\",\"type\":\"BoxZoomTool\"},{\"attributes\":{\"callback\":null},\"id\":\"5bff7634-0e45-4250-bf2b-4d5197fbbb1c\",\"type\":\"DataRange1d\"},{\"attributes\":{},\"id\":\"41948db3-2933-449a-a431-bc2646648418\",\"type\":\"WheelZoomTool\"},{\"attributes\":{\"active_drag\":\"auto\",\"active_inspect\":\"auto\",\"active_scroll\":\"auto\",\"active_tap\":\"auto\",\"tools\":[{\"id\":\"80781fb5-15b6-4078-a2d3-021e7b08860e\",\"type\":\"PanTool\"},{\"id\":\"41948db3-2933-449a-a431-bc2646648418\",\"type\":\"WheelZoomTool\"},{\"id\":\"bd633b06-0821-4b0c-add6-7ca61e7d4587\",\"type\":\"BoxZoomTool\"},{\"id\":\"29a61f28-23da-4db9-8230-a87c7adfe364\",\"type\":\"SaveTool\"},{\"id\":\"cebeacfc-f5d8-4719-9b46-7c6b0f34437e\",\"type\":\"ResetTool\"},{\"id\":\"6d3b4a2e-695c-43e5-9f89-36a13e6e0934\",\"type\":\"HelpTool\"}]},\"id\":\"30633343-672c-4c9b-9561-2cbbb4a3e7b2\",\"type\":\"Toolbar\"},{\"attributes\":{\"source\":{\"id\":\"df71a8f8-cc47-4203-9318-74677f28b1a0\",\"type\":\"ColumnDataSource\"}},\"id\":\"b2ff9f2d-0609-4242-af08-5df73de197d7\",\"type\":\"CDSView\"},{\"attributes\":{\"data_source\":{\"id\":\"df71a8f8-cc47-4203-9318-74677f28b1a0\",\"type\":\"ColumnDataSource\"},\"glyph\":{\"id\":\"ad8523c2-9dcd-44df-abe0-e79deaff3509\",\"type\":\"Line\"},\"hover_glyph\":null,\"muted_glyph\":null,\"nonselection_glyph\":{\"id\":\"da66ea5f-8575-4406-9de9-52da46d00959\",\"type\":\"Line\"},\"selection_glyph\":null,\"view\":{\"id\":\"b2ff9f2d-0609-4242-af08-5df73de197d7\",\"type\":\"CDSView\"}},\"id\":\"43f81344-1033-4c6b-b766-68254094d156\",\"type\":\"GlyphRenderer\"},{\"attributes\":{},\"id\":\"6a2f073d-f231-4fe9-b88d-baf2bf0103b7\",\"type\":\"BasicTickFormatter\"},{\"attributes\":{},\"id\":\"28e52717-74df-4778-9b68-a0240d17cbd8\",\"type\":\"LinearScale\"},{\"attributes\":{},\"id\":\"7c011c39-19e8-4429-b5e0-bf8bec42fe06\",\"type\":\"BasicTicker\"},{\"attributes\":{\"below\":[{\"id\":\"cdd1e4c7-7391-4f5b-b9fa-29945057977a\",\"type\":\"LinearAxis\"}],\"left\":[{\"id\":\"eb2eaabb-34cc-4f57-b412-9fe85264aff8\",\"type\":\"LinearAxis\"}],\"plot_height\":400,\"plot_width\":400,\"renderers\":[{\"id\":\"cdd1e4c7-7391-4f5b-b9fa-29945057977a\",\"type\":\"LinearAxis\"},{\"id\":\"cae61a93-5fb3-4f72-9068-cdb8db1217d7\",\"type\":\"Grid\"},{\"id\":\"eb2eaabb-34cc-4f57-b412-9fe85264aff8\",\"type\":\"LinearAxis\"},{\"id\":\"437b85ee-5d8c-432f-b4ad-a5a9ce7bf9f2\",\"type\":\"Grid\"},{\"id\":\"8e2e3b79-d6a0-4fd4-b2fb-9bd4dce29579\",\"type\":\"BoxAnnotation\"},{\"id\":\"43f81344-1033-4c6b-b766-68254094d156\",\"type\":\"GlyphRenderer\"}],\"sizing_mode\":\"scale_width\",\"title\":{\"id\":\"4c07a993-946d-4f5f-8d94-4aa82e7f3a87\",\"type\":\"Title\"},\"toolbar\":{\"id\":\"30633343-672c-4c9b-9561-2cbbb4a3e7b2\",\"type\":\"Toolbar\"},\"x_range\":{\"id\":\"67ee14cd-58dd-4592-b584-110d8b9c4eb8\",\"type\":\"DataRange1d\"},\"x_scale\":{\"id\":\"28e52717-74df-4778-9b68-a0240d17cbd8\",\"type\":\"LinearScale\"},\"y_range\":{\"id\":\"5bff7634-0e45-4250-bf2b-4d5197fbbb1c\",\"type\":\"DataRange1d\"},\"y_scale\":{\"id\":\"e53f027e-5dff-455c-b9b5-6f28af578144\",\"type\":\"LinearScale\"}},\"id\":\"e6b895c5-98cf-4faf-8a8e-4ea83d806d70\",\"subtype\":\"Figure\",\"type\":\"Plot\"},{\"attributes\":{\"plot\":null,\"text\":\"rewards\"},\"id\":\"4c07a993-946d-4f5f-8d94-4aa82e7f3a87\",\"type\":\"Title\"},{\"attributes\":{\"axis_label\":\"x\",\"formatter\":{\"id\":\"6a2f073d-f231-4fe9-b88d-baf2bf0103b7\",\"type\":\"BasicTickFormatter\"},\"plot\":{\"id\":\"e6b895c5-98cf-4faf-8a8e-4ea83d806d70\",\"subtype\":\"Figure\",\"type\":\"Plot\"},\"ticker\":{\"id\":\"81b7ea43-17d7-493a-bbd2-e8b97ce2a095\",\"type\":\"BasicTicker\"}},\"id\":\"cdd1e4c7-7391-4f5b-b9fa-29945057977a\",\"type\":\"LinearAxis\"},{\"attributes\":{\"plot\":{\"id\":\"e6b895c5-98cf-4faf-8a8e-4ea83d806d70\",\"subtype\":\"Figure\",\"type\":\"Plot\"},\"ticker\":{\"id\":\"81b7ea43-17d7-493a-bbd2-e8b97ce2a095\",\"type\":\"BasicTicker\"}},\"id\":\"cae61a93-5fb3-4f72-9068-cdb8db1217d7\",\"type\":\"Grid\"},{\"attributes\":{},\"id\":\"cebeacfc-f5d8-4719-9b46-7c6b0f34437e\",\"type\":\"ResetTool\"},{\"attributes\":{\"callback\":null},\"id\":\"67ee14cd-58dd-4592-b584-110d8b9c4eb8\",\"type\":\"DataRange1d\"},{\"attributes\":{},\"id\":\"80781fb5-15b6-4078-a2d3-021e7b08860e\",\"type\":\"PanTool\"},{\"attributes\":{\"dimension\":1,\"plot\":{\"id\":\"e6b895c5-98cf-4faf-8a8e-4ea83d806d70\",\"subtype\":\"Figure\",\"type\":\"Plot\"},\"ticker\":{\"id\":\"7c011c39-19e8-4429-b5e0-bf8bec42fe06\",\"type\":\"BasicTicker\"}},\"id\":\"437b85ee-5d8c-432f-b4ad-a5a9ce7bf9f2\",\"type\":\"Grid\"}],\"root_ids\":[\"e6b895c5-98cf-4faf-8a8e-4ea83d806d70\"]},\"title\":\"Bokeh Application\",\"version\":\"0.12.10\"}};\n",
       "    var render_items = [{\"docid\":\"c86469be-0176-4d2c-a46a-4ae21ee93a1a\",\"elementid\":\"00abdebf-fd54-4871-8421-6244359e666c\",\"modelid\":\"e6b895c5-98cf-4faf-8a8e-4ea83d806d70\",\"notebook_comms_target\":\"a9e51fa4-465e-437b-a76c-5503ed04485b\"}];\n",
       "\n",
       "    root.Bokeh.embed.embed_items(docs_json, render_items);\n",
       "  }\n",
       "\n",
       "  if (root.Bokeh !== undefined) {\n",
       "    embed_document(root);\n",
       "  } else {\n",
       "    var attempts = 0;\n",
       "    var timer = setInterval(function(root) {\n",
       "      if (root.Bokeh !== undefined) {\n",
       "        embed_document(root);\n",
       "        clearInterval(timer);\n",
       "      }\n",
       "      attempts++;\n",
       "      if (attempts > 100) {\n",
       "        console.log(\"Bokeh: ERROR: Unable to embed document because BokehJS library is missing\")\n",
       "        clearInterval(timer);\n",
       "      }\n",
       "    }, 10, root)\n",
       "  }\n",
       "})(window);"
      ],
      "application/vnd.bokehjs_exec.v0+json": ""
     },
     "metadata": {
      "application/vnd.bokehjs_exec.v0+json": {
       "id": "e6b895c5-98cf-4faf-8a8e-4ea83d806d70"
      }
     },
     "output_type": "display_data"
    },
    {
     "data": {
      "text/plain": [
       "<function bokeh.plotting.figure.figure>"
      ]
     },
     "execution_count": 114,
     "metadata": {},
     "output_type": "execute_result"
    }
   ],
   "source": [
    "p = figure(plot_width=400, plot_height=400,title=\"rewards\",\n",
    "                      x_axis_label=\"x\",\n",
    "                      y_axis_label=\"y\",sizing_mode='scale_width')\n",
    "rewards_plot = p.line([],[],color=\"firebrick\",line_width=2)\n",
    "# make a grid\n",
    "handle = show(p, notebook_handle=True)\n",
    "figure"
   ]
  },
  {
   "cell_type": "code",
   "execution_count": 115,
   "metadata": {
    "ExecuteTime": {
     "end_time": "2017-11-05T03:12:19.813015Z",
     "start_time": "2017-11-05T03:12:19.796939Z"
    },
    "collapsed": true,
    "nbpresent": {
     "id": "992d8ea5-6b35-4c23-be17-94adbb16236c"
    }
   },
   "outputs": [],
   "source": [
    "def update(x,y):\n",
    "    rewards_plot.data_source.data['x'] += [x]\n",
    "    rewards_plot.data_source.data['y'] += [y]\n",
    "    push_notebook(handle=handle)"
   ]
  },
  {
   "cell_type": "code",
   "execution_count": 120,
   "metadata": {
    "ExecuteTime": {
     "end_time": "2017-11-05T03:13:29.635375Z",
     "start_time": "2017-11-05T03:13:28.984401Z"
    },
    "code_folding": [],
    "collapsed": true,
    "nbpresent": {
     "id": "96e74fe6-4ce8-41d0-8ad4-e54ad1bcc029"
    }
   },
   "outputs": [],
   "source": [
    "def Train(env,world):\n",
    "    U.reset()\n",
    "    with U.make_session(2) as sess:\n",
    "        replay_buffer = ReplayBuffer(500000)\n",
    "        #exploration = LinearSchedule(schedule_timesteps=10000, initial_p=0.5, final_p=0.1)\n",
    "        episode_rewards = [0.0]\n",
    "        \n",
    "        Kend.set_session(sess)\n",
    "        \n",
    "        def new_model(inpt, num_actions, scope, reuse=False):\n",
    "            with tf.variable_scope(scope, reuse=reuse):\n",
    "                out = Dense(64,activation='relu')(inpt)\n",
    "                out = Dense(num_actions,activation='softmax')(out)\n",
    "                return out\n",
    "        \n",
    "        r,s,data,ws = env.startworld(world)\n",
    "        act, train, update_target, debug = deepq.build_train(\n",
    "        make_obs_ph=lambda name: U.BatchInput((3,), name=name), # prev 49\n",
    "        q_func=model,\n",
    "        num_actions= len(env.actions), #prev len(ractions)\n",
    "        optimizer=tf.train.AdamOptimizer(learning_rate=0.01)\n",
    "        )\n",
    "        U.initialize()\n",
    "        update_target()\n",
    "        \n",
    "        R = 0\n",
    "    \n",
    "        for t in itertools.count():\n",
    "            # exploration schedule update_eps=exploration.value(t)\n",
    "            action = act(s[None])[0]\n",
    "\n",
    "            r,s_,data,ws = env.step(action)\n",
    "\n",
    "            done = ws.is_mission_running is False\n",
    "            replay_buffer.add(s,action,r,s_,done)\n",
    "\n",
    "\n",
    "            s = s_\n",
    "\n",
    "            episode_rewards[-1] += r\n",
    "            \n",
    "            R += r\n",
    "            #writer = tf.summary.FileWriter(\"logs\", sess.graph)\n",
    "            if done: #mission is done\n",
    "                _,s,_,ws = env.startworld('CliffWalking.xml')\n",
    "                print(t,episode_rewards[-1])\n",
    "                update(t,episode_rewards[-1])\n",
    "                episode_rewards.append(0)\n",
    "                #s = gym_env.reset()\n",
    "\n",
    "\n",
    "            is_solved = t > 100 and np.mean(episode_rewards) >= 10000\n",
    "\n",
    "            if is_solved:\n",
    "                # Show off the result\n",
    "                whaa = 5+2\n",
    "            else:\n",
    "                # Minimize the error in Bellman's equation on a batch sampled from replay buffer.\n",
    "                if t > 1000:\n",
    "                    obses_t, actions, rewards, obses_tp1, dones = replay_buffer.sample(32)\n",
    "                    train(obses_t, actions, rewards, obses_tp1, dones, np.ones_like(rewards))\n",
    "                # Update target network periodically.\n",
    "                if t % 1000 == 0:\n",
    "                    update_target()\n",
    "                    clear_output(wait=True)             \n",
    "                    display(r)\n",
    "\n",
    "                if t % 100 == 0 and t > 5:\n",
    "                    whaa = 1\n",
    "\n",
    "            if done and len(episode_rewards) % 10 == 0:\n",
    "                logger.record_tabular(\"steps\", t)\n",
    "                logger.record_tabular(\"episodes\", len(episode_rewards))\n",
    "                logger.record_tabular(\"mean episode reward\", round(np.mean(episode_rewards[-101:-1]), 1))\n",
    "                logger.record_tabular(\"% time spent exploring\", int(100 * exploration.value(t)))\n",
    "                logger.dump_tabular()\n",
    "        #writer.close()\n",
    "                "
   ]
  },
  {
   "cell_type": "code",
   "execution_count": 121,
   "metadata": {
    "ExecuteTime": {
     "end_time": "2017-11-05T03:13:42.900016Z",
     "start_time": "2017-11-05T03:13:32.238214Z"
    },
    "nbpresent": {
     "id": "a5634679-2985-492d-bbcb-eeadc1927a15"
    },
    "scrolled": true
   },
   "outputs": [
    {
     "data": {
      "text/plain": [
       "101.0"
      ]
     },
     "metadata": {},
     "output_type": "display_data"
    },
    {
     "name": "stdout",
     "output_type": "stream",
     "text": [
      "Mission Started..............74 inf\n"
     ]
    },
    {
     "name": "stderr",
     "output_type": "stream",
     "text": [
      "/home/ubuntu/miniconda2/envs/casper/lib/python3.5/site-packages/bokeh/models/sources.py:137: BokehUserWarning: ColumnDataSource's columns must be of the same length. Current lengths: ('x', 1), ('y', 0)\n",
      "  \"Current lengths: %s\" % \", \".join(sorted(str((k, len(v))) for k, v in data.items())), BokehUserWarning))\n"
     ]
    },
    {
     "ename": "ValueError",
     "evalue": "Out of range float values are not JSON compliant",
     "output_type": "error",
     "traceback": [
      "\u001b[0;31m---------------------------------------------------------------------------\u001b[0m",
      "\u001b[0;31mValueError\u001b[0m                                Traceback (most recent call last)",
      "\u001b[0;32m<ipython-input-121-5150a54c7f7d>\u001b[0m in \u001b[0;36m<module>\u001b[0;34m()\u001b[0m\n\u001b[1;32m      1\u001b[0m \u001b[0menv\u001b[0m \u001b[0;34m=\u001b[0m \u001b[0mEnv\u001b[0m\u001b[0;34m(\u001b[0m\u001b[0mractions\u001b[0m\u001b[0;34m,\u001b[0m\u001b[0;36m21\u001b[0m\u001b[0;34m)\u001b[0m\u001b[0;34m\u001b[0m\u001b[0m\n\u001b[0;32m----> 2\u001b[0;31m \u001b[0mTrain\u001b[0m\u001b[0;34m(\u001b[0m\u001b[0menv\u001b[0m\u001b[0;34m,\u001b[0m\u001b[0;34m'CliffWalking.xml'\u001b[0m\u001b[0;34m)\u001b[0m\u001b[0;34m\u001b[0m\u001b[0m\n\u001b[0m",
      "\u001b[0;32m<ipython-input-120-5e0545bb9e2d>\u001b[0m in \u001b[0;36mTrain\u001b[0;34m(env, world)\u001b[0m\n\u001b[1;32m     45\u001b[0m                 \u001b[0m_\u001b[0m\u001b[0;34m,\u001b[0m\u001b[0ms\u001b[0m\u001b[0;34m,\u001b[0m\u001b[0m_\u001b[0m\u001b[0;34m,\u001b[0m\u001b[0mws\u001b[0m \u001b[0;34m=\u001b[0m \u001b[0menv\u001b[0m\u001b[0;34m.\u001b[0m\u001b[0mstartworld\u001b[0m\u001b[0;34m(\u001b[0m\u001b[0;34m'CliffWalking.xml'\u001b[0m\u001b[0;34m)\u001b[0m\u001b[0;34m\u001b[0m\u001b[0m\n\u001b[1;32m     46\u001b[0m                 \u001b[0mprint\u001b[0m\u001b[0;34m(\u001b[0m\u001b[0mt\u001b[0m\u001b[0;34m,\u001b[0m\u001b[0mepisode_rewards\u001b[0m\u001b[0;34m[\u001b[0m\u001b[0;34m-\u001b[0m\u001b[0;36m1\u001b[0m\u001b[0;34m]\u001b[0m\u001b[0;34m)\u001b[0m\u001b[0;34m\u001b[0m\u001b[0m\n\u001b[0;32m---> 47\u001b[0;31m                 \u001b[0mupdate\u001b[0m\u001b[0;34m(\u001b[0m\u001b[0mt\u001b[0m\u001b[0;34m,\u001b[0m\u001b[0mepisode_rewards\u001b[0m\u001b[0;34m[\u001b[0m\u001b[0;34m-\u001b[0m\u001b[0;36m1\u001b[0m\u001b[0;34m]\u001b[0m\u001b[0;34m)\u001b[0m\u001b[0;34m\u001b[0m\u001b[0m\n\u001b[0m\u001b[1;32m     48\u001b[0m                 \u001b[0mepisode_rewards\u001b[0m\u001b[0;34m.\u001b[0m\u001b[0mappend\u001b[0m\u001b[0;34m(\u001b[0m\u001b[0;36m0\u001b[0m\u001b[0;34m)\u001b[0m\u001b[0;34m\u001b[0m\u001b[0m\n\u001b[1;32m     49\u001b[0m                 \u001b[0;31m#s = gym_env.reset()\u001b[0m\u001b[0;34m\u001b[0m\u001b[0;34m\u001b[0m\u001b[0m\n",
      "\u001b[0;32m<ipython-input-115-f907a6b46572>\u001b[0m in \u001b[0;36mupdate\u001b[0;34m(x, y)\u001b[0m\n\u001b[1;32m      2\u001b[0m     \u001b[0mrewards_plot\u001b[0m\u001b[0;34m.\u001b[0m\u001b[0mdata_source\u001b[0m\u001b[0;34m.\u001b[0m\u001b[0mdata\u001b[0m\u001b[0;34m[\u001b[0m\u001b[0;34m'x'\u001b[0m\u001b[0;34m]\u001b[0m \u001b[0;34m+=\u001b[0m \u001b[0;34m[\u001b[0m\u001b[0mx\u001b[0m\u001b[0;34m]\u001b[0m\u001b[0;34m\u001b[0m\u001b[0m\n\u001b[1;32m      3\u001b[0m     \u001b[0mrewards_plot\u001b[0m\u001b[0;34m.\u001b[0m\u001b[0mdata_source\u001b[0m\u001b[0;34m.\u001b[0m\u001b[0mdata\u001b[0m\u001b[0;34m[\u001b[0m\u001b[0;34m'y'\u001b[0m\u001b[0;34m]\u001b[0m \u001b[0;34m+=\u001b[0m \u001b[0;34m[\u001b[0m\u001b[0my\u001b[0m\u001b[0;34m]\u001b[0m\u001b[0;34m\u001b[0m\u001b[0m\n\u001b[0;32m----> 4\u001b[0;31m     \u001b[0mpush_notebook\u001b[0m\u001b[0;34m(\u001b[0m\u001b[0mhandle\u001b[0m\u001b[0;34m=\u001b[0m\u001b[0mhandle\u001b[0m\u001b[0;34m)\u001b[0m\u001b[0;34m\u001b[0m\u001b[0m\n\u001b[0m",
      "\u001b[0;32m~/miniconda2/envs/casper/lib/python3.5/site-packages/bokeh/util/api.py\u001b[0m in \u001b[0;36mwrapper\u001b[0;34m(*args, **kw)\u001b[0m\n\u001b[1;32m    188\u001b[0m         \u001b[0;34m@\u001b[0m\u001b[0mwraps\u001b[0m\u001b[0;34m(\u001b[0m\u001b[0mobj\u001b[0m\u001b[0;34m)\u001b[0m\u001b[0;34m\u001b[0m\u001b[0m\n\u001b[1;32m    189\u001b[0m         \u001b[0;32mdef\u001b[0m \u001b[0mwrapper\u001b[0m\u001b[0;34m(\u001b[0m\u001b[0;34m*\u001b[0m\u001b[0margs\u001b[0m\u001b[0;34m,\u001b[0m \u001b[0;34m**\u001b[0m\u001b[0mkw\u001b[0m\u001b[0;34m)\u001b[0m\u001b[0;34m:\u001b[0m\u001b[0;34m\u001b[0m\u001b[0m\n\u001b[0;32m--> 190\u001b[0;31m             \u001b[0;32mreturn\u001b[0m \u001b[0mobj\u001b[0m\u001b[0;34m(\u001b[0m\u001b[0;34m*\u001b[0m\u001b[0margs\u001b[0m\u001b[0;34m,\u001b[0m \u001b[0;34m**\u001b[0m\u001b[0mkw\u001b[0m\u001b[0;34m)\u001b[0m\u001b[0;34m\u001b[0m\u001b[0m\n\u001b[0m\u001b[1;32m    191\u001b[0m \u001b[0;34m\u001b[0m\u001b[0m\n\u001b[1;32m    192\u001b[0m         \u001b[0mwrapper\u001b[0m\u001b[0;34m.\u001b[0m\u001b[0m__bkversion__\u001b[0m \u001b[0;34m=\u001b[0m \u001b[0mversion\u001b[0m\u001b[0;34m\u001b[0m\u001b[0m\n",
      "\u001b[0;32m~/miniconda2/envs/casper/lib/python3.5/site-packages/bokeh/io/notebook.py\u001b[0m in \u001b[0;36mpush_notebook\u001b[0;34m(document, state, handle)\u001b[0m\n\u001b[1;32m    252\u001b[0m     \u001b[0mevents\u001b[0m \u001b[0;34m=\u001b[0m \u001b[0mlist\u001b[0m\u001b[0;34m(\u001b[0m\u001b[0mhandle\u001b[0m\u001b[0;34m.\u001b[0m\u001b[0mdoc\u001b[0m\u001b[0;34m.\u001b[0m\u001b[0m_held_events\u001b[0m\u001b[0;34m)\u001b[0m\u001b[0;34m\u001b[0m\u001b[0m\n\u001b[1;32m    253\u001b[0m     \u001b[0mhandle\u001b[0m\u001b[0;34m.\u001b[0m\u001b[0mdoc\u001b[0m\u001b[0;34m.\u001b[0m\u001b[0m_held_events\u001b[0m \u001b[0;34m=\u001b[0m \u001b[0;34m[\u001b[0m\u001b[0;34m]\u001b[0m\u001b[0;34m\u001b[0m\u001b[0m\n\u001b[0;32m--> 254\u001b[0;31m     \u001b[0mmsg\u001b[0m \u001b[0;34m=\u001b[0m \u001b[0mProtocol\u001b[0m\u001b[0;34m(\u001b[0m\u001b[0;34m\"1.0\"\u001b[0m\u001b[0;34m)\u001b[0m\u001b[0;34m.\u001b[0m\u001b[0mcreate\u001b[0m\u001b[0;34m(\u001b[0m\u001b[0;34m\"PATCH-DOC\"\u001b[0m\u001b[0;34m,\u001b[0m \u001b[0mevents\u001b[0m\u001b[0;34m)\u001b[0m\u001b[0;34m\u001b[0m\u001b[0m\n\u001b[0m\u001b[1;32m    255\u001b[0m \u001b[0;34m\u001b[0m\u001b[0m\n\u001b[1;32m    256\u001b[0m     \u001b[0mhandle\u001b[0m\u001b[0;34m.\u001b[0m\u001b[0mcomms\u001b[0m\u001b[0;34m.\u001b[0m\u001b[0msend\u001b[0m\u001b[0;34m(\u001b[0m\u001b[0mmsg\u001b[0m\u001b[0;34m.\u001b[0m\u001b[0mheader_json\u001b[0m\u001b[0;34m)\u001b[0m\u001b[0;34m\u001b[0m\u001b[0m\n",
      "\u001b[0;32m~/miniconda2/envs/casper/lib/python3.5/site-packages/bokeh/protocol/__init__.py\u001b[0m in \u001b[0;36mcreate\u001b[0;34m(self, msgtype, *args, **kwargs)\u001b[0m\n\u001b[1;32m     44\u001b[0m         \u001b[0;32mif\u001b[0m \u001b[0mmsgtype\u001b[0m \u001b[0;32mnot\u001b[0m \u001b[0;32min\u001b[0m \u001b[0mself\u001b[0m\u001b[0;34m.\u001b[0m\u001b[0m_messages\u001b[0m\u001b[0;34m:\u001b[0m\u001b[0;34m\u001b[0m\u001b[0m\n\u001b[1;32m     45\u001b[0m             \u001b[0;32mraise\u001b[0m \u001b[0mProtocolError\u001b[0m\u001b[0;34m(\u001b[0m\u001b[0;34m\"Unknown message type %r for protocol version %s\"\u001b[0m \u001b[0;34m%\u001b[0m \u001b[0;34m(\u001b[0m\u001b[0mmsgtype\u001b[0m\u001b[0;34m,\u001b[0m \u001b[0mself\u001b[0m\u001b[0;34m.\u001b[0m\u001b[0m_version\u001b[0m\u001b[0;34m)\u001b[0m\u001b[0;34m)\u001b[0m\u001b[0;34m\u001b[0m\u001b[0m\n\u001b[0;32m---> 46\u001b[0;31m         \u001b[0;32mreturn\u001b[0m \u001b[0mself\u001b[0m\u001b[0;34m.\u001b[0m\u001b[0m_messages\u001b[0m\u001b[0;34m[\u001b[0m\u001b[0mmsgtype\u001b[0m\u001b[0;34m]\u001b[0m\u001b[0;34m.\u001b[0m\u001b[0mcreate\u001b[0m\u001b[0;34m(\u001b[0m\u001b[0;34m*\u001b[0m\u001b[0margs\u001b[0m\u001b[0;34m,\u001b[0m \u001b[0;34m**\u001b[0m\u001b[0mkwargs\u001b[0m\u001b[0;34m)\u001b[0m\u001b[0;34m\u001b[0m\u001b[0m\n\u001b[0m\u001b[1;32m     47\u001b[0m \u001b[0;34m\u001b[0m\u001b[0m\n\u001b[1;32m     48\u001b[0m     \u001b[0;32mdef\u001b[0m \u001b[0massemble\u001b[0m\u001b[0;34m(\u001b[0m\u001b[0mself\u001b[0m\u001b[0;34m,\u001b[0m \u001b[0mheader_json\u001b[0m\u001b[0;34m,\u001b[0m \u001b[0mmetadata_json\u001b[0m\u001b[0;34m,\u001b[0m \u001b[0mcontent_json\u001b[0m\u001b[0;34m)\u001b[0m\u001b[0;34m:\u001b[0m\u001b[0;34m\u001b[0m\u001b[0m\n",
      "\u001b[0;32m~/miniconda2/envs/casper/lib/python3.5/site-packages/bokeh/protocol/messages/patch_doc.py\u001b[0m in \u001b[0;36mcreate\u001b[0;34m(cls, events, use_buffers, **metadata)\u001b[0m\n\u001b[1;32m     53\u001b[0m         \u001b[0;31m# this roundtrip is fortunate, but is needed because there are type conversions\u001b[0m\u001b[0;34m\u001b[0m\u001b[0;34m\u001b[0m\u001b[0m\n\u001b[1;32m     54\u001b[0m         \u001b[0;31m# in BokehJSONEncoder which keep us from easily generating non-string JSON\u001b[0m\u001b[0;34m\u001b[0m\u001b[0;34m\u001b[0m\u001b[0m\n\u001b[0;32m---> 55\u001b[0;31m         \u001b[0mpatch_json\u001b[0m\u001b[0;34m,\u001b[0m \u001b[0mbuffers\u001b[0m \u001b[0;34m=\u001b[0m \u001b[0mprocess_document_events\u001b[0m\u001b[0;34m(\u001b[0m\u001b[0mevents\u001b[0m\u001b[0;34m,\u001b[0m \u001b[0muse_buffers\u001b[0m\u001b[0;34m)\u001b[0m\u001b[0;34m\u001b[0m\u001b[0m\n\u001b[0m\u001b[1;32m     56\u001b[0m         \u001b[0mcontent\u001b[0m \u001b[0;34m=\u001b[0m \u001b[0mloads\u001b[0m\u001b[0;34m(\u001b[0m\u001b[0mpatch_json\u001b[0m\u001b[0;34m)\u001b[0m\u001b[0;34m\u001b[0m\u001b[0m\n\u001b[1;32m     57\u001b[0m \u001b[0;34m\u001b[0m\u001b[0m\n",
      "\u001b[0;32m~/miniconda2/envs/casper/lib/python3.5/site-packages/bokeh/protocol/messages/patch_doc.py\u001b[0m in \u001b[0;36mprocess_document_events\u001b[0;34m(events, use_buffers)\u001b[0m\n\u001b[1;32m     96\u001b[0m     }\n\u001b[1;32m     97\u001b[0m \u001b[0;34m\u001b[0m\u001b[0m\n\u001b[0;32m---> 98\u001b[0;31m     \u001b[0;32mreturn\u001b[0m \u001b[0mserialize_json\u001b[0m\u001b[0;34m(\u001b[0m\u001b[0mjson\u001b[0m\u001b[0;34m)\u001b[0m\u001b[0;34m,\u001b[0m \u001b[0mbuffers\u001b[0m \u001b[0;32mif\u001b[0m \u001b[0muse_buffers\u001b[0m \u001b[0;32melse\u001b[0m \u001b[0;34m[\u001b[0m\u001b[0;34m]\u001b[0m\u001b[0;34m\u001b[0m\u001b[0m\n\u001b[0m",
      "\u001b[0;32m~/miniconda2/envs/casper/lib/python3.5/site-packages/bokeh/core/json_encoder.py\u001b[0m in \u001b[0;36mserialize_json\u001b[0;34m(obj, pretty, indent, **kwargs)\u001b[0m\n\u001b[1;32m    210\u001b[0m         \u001b[0mindent\u001b[0m \u001b[0;34m=\u001b[0m \u001b[0;36m2\u001b[0m\u001b[0;34m\u001b[0m\u001b[0m\n\u001b[1;32m    211\u001b[0m \u001b[0;34m\u001b[0m\u001b[0m\n\u001b[0;32m--> 212\u001b[0;31m     \u001b[0;32mreturn\u001b[0m \u001b[0mjson\u001b[0m\u001b[0;34m.\u001b[0m\u001b[0mdumps\u001b[0m\u001b[0;34m(\u001b[0m\u001b[0mobj\u001b[0m\u001b[0;34m,\u001b[0m \u001b[0mcls\u001b[0m\u001b[0;34m=\u001b[0m\u001b[0mBokehJSONEncoder\u001b[0m\u001b[0;34m,\u001b[0m \u001b[0mallow_nan\u001b[0m\u001b[0;34m=\u001b[0m\u001b[0;32mFalse\u001b[0m\u001b[0;34m,\u001b[0m \u001b[0mindent\u001b[0m\u001b[0;34m=\u001b[0m\u001b[0mindent\u001b[0m\u001b[0;34m,\u001b[0m \u001b[0mseparators\u001b[0m\u001b[0;34m=\u001b[0m\u001b[0mseparators\u001b[0m\u001b[0;34m,\u001b[0m \u001b[0msort_keys\u001b[0m\u001b[0;34m=\u001b[0m\u001b[0;32mTrue\u001b[0m\u001b[0;34m,\u001b[0m \u001b[0;34m**\u001b[0m\u001b[0mkwargs\u001b[0m\u001b[0;34m)\u001b[0m\u001b[0;34m\u001b[0m\u001b[0m\n\u001b[0m",
      "\u001b[0;32m~/miniconda2/envs/casper/lib/python3.5/json/__init__.py\u001b[0m in \u001b[0;36mdumps\u001b[0;34m(obj, skipkeys, ensure_ascii, check_circular, allow_nan, cls, indent, separators, default, sort_keys, **kw)\u001b[0m\n\u001b[1;32m    235\u001b[0m         \u001b[0mcheck_circular\u001b[0m\u001b[0;34m=\u001b[0m\u001b[0mcheck_circular\u001b[0m\u001b[0;34m,\u001b[0m \u001b[0mallow_nan\u001b[0m\u001b[0;34m=\u001b[0m\u001b[0mallow_nan\u001b[0m\u001b[0;34m,\u001b[0m \u001b[0mindent\u001b[0m\u001b[0;34m=\u001b[0m\u001b[0mindent\u001b[0m\u001b[0;34m,\u001b[0m\u001b[0;34m\u001b[0m\u001b[0m\n\u001b[1;32m    236\u001b[0m         \u001b[0mseparators\u001b[0m\u001b[0;34m=\u001b[0m\u001b[0mseparators\u001b[0m\u001b[0;34m,\u001b[0m \u001b[0mdefault\u001b[0m\u001b[0;34m=\u001b[0m\u001b[0mdefault\u001b[0m\u001b[0;34m,\u001b[0m \u001b[0msort_keys\u001b[0m\u001b[0;34m=\u001b[0m\u001b[0msort_keys\u001b[0m\u001b[0;34m,\u001b[0m\u001b[0;34m\u001b[0m\u001b[0m\n\u001b[0;32m--> 237\u001b[0;31m         **kw).encode(obj)\n\u001b[0m\u001b[1;32m    238\u001b[0m \u001b[0;34m\u001b[0m\u001b[0m\n\u001b[1;32m    239\u001b[0m \u001b[0;34m\u001b[0m\u001b[0m\n",
      "\u001b[0;32m~/miniconda2/envs/casper/lib/python3.5/json/encoder.py\u001b[0m in \u001b[0;36mencode\u001b[0;34m(self, o)\u001b[0m\n\u001b[1;32m    196\u001b[0m         \u001b[0;31m# exceptions aren't as detailed.  The list call should be roughly\u001b[0m\u001b[0;34m\u001b[0m\u001b[0;34m\u001b[0m\u001b[0m\n\u001b[1;32m    197\u001b[0m         \u001b[0;31m# equivalent to the PySequence_Fast that ''.join() would do.\u001b[0m\u001b[0;34m\u001b[0m\u001b[0;34m\u001b[0m\u001b[0m\n\u001b[0;32m--> 198\u001b[0;31m         \u001b[0mchunks\u001b[0m \u001b[0;34m=\u001b[0m \u001b[0mself\u001b[0m\u001b[0;34m.\u001b[0m\u001b[0miterencode\u001b[0m\u001b[0;34m(\u001b[0m\u001b[0mo\u001b[0m\u001b[0;34m,\u001b[0m \u001b[0m_one_shot\u001b[0m\u001b[0;34m=\u001b[0m\u001b[0;32mTrue\u001b[0m\u001b[0;34m)\u001b[0m\u001b[0;34m\u001b[0m\u001b[0m\n\u001b[0m\u001b[1;32m    199\u001b[0m         \u001b[0;32mif\u001b[0m \u001b[0;32mnot\u001b[0m \u001b[0misinstance\u001b[0m\u001b[0;34m(\u001b[0m\u001b[0mchunks\u001b[0m\u001b[0;34m,\u001b[0m \u001b[0;34m(\u001b[0m\u001b[0mlist\u001b[0m\u001b[0;34m,\u001b[0m \u001b[0mtuple\u001b[0m\u001b[0;34m)\u001b[0m\u001b[0;34m)\u001b[0m\u001b[0;34m:\u001b[0m\u001b[0;34m\u001b[0m\u001b[0m\n\u001b[1;32m    200\u001b[0m             \u001b[0mchunks\u001b[0m \u001b[0;34m=\u001b[0m \u001b[0mlist\u001b[0m\u001b[0;34m(\u001b[0m\u001b[0mchunks\u001b[0m\u001b[0;34m)\u001b[0m\u001b[0;34m\u001b[0m\u001b[0m\n",
      "\u001b[0;32m~/miniconda2/envs/casper/lib/python3.5/json/encoder.py\u001b[0m in \u001b[0;36miterencode\u001b[0;34m(self, o, _one_shot)\u001b[0m\n\u001b[1;32m    254\u001b[0m                 \u001b[0mself\u001b[0m\u001b[0;34m.\u001b[0m\u001b[0mkey_separator\u001b[0m\u001b[0;34m,\u001b[0m \u001b[0mself\u001b[0m\u001b[0;34m.\u001b[0m\u001b[0mitem_separator\u001b[0m\u001b[0;34m,\u001b[0m \u001b[0mself\u001b[0m\u001b[0;34m.\u001b[0m\u001b[0msort_keys\u001b[0m\u001b[0;34m,\u001b[0m\u001b[0;34m\u001b[0m\u001b[0m\n\u001b[1;32m    255\u001b[0m                 self.skipkeys, _one_shot)\n\u001b[0;32m--> 256\u001b[0;31m         \u001b[0;32mreturn\u001b[0m \u001b[0m_iterencode\u001b[0m\u001b[0;34m(\u001b[0m\u001b[0mo\u001b[0m\u001b[0;34m,\u001b[0m \u001b[0;36m0\u001b[0m\u001b[0;34m)\u001b[0m\u001b[0;34m\u001b[0m\u001b[0m\n\u001b[0m\u001b[1;32m    257\u001b[0m \u001b[0;34m\u001b[0m\u001b[0m\n\u001b[1;32m    258\u001b[0m def _make_iterencode(markers, _default, _encoder, _indent, _floatstr,\n",
      "\u001b[0;31mValueError\u001b[0m: Out of range float values are not JSON compliant"
     ]
    }
   ],
   "source": [
    "env = Env(ractions,21)\n",
    "Train(env,'CliffWalking.xml')"
   ]
  },
  {
   "cell_type": "code",
   "execution_count": null,
   "metadata": {
    "ExecuteTime": {
     "end_time": "2017-10-30T18:03:14.929828Z",
     "start_time": "2017-10-30T17:55:28.098Z"
    },
    "collapsed": true,
    "nbpresent": {
     "id": "cd172eb1-8bcf-4c23-ad14-4b0db9bc5acb"
    }
   },
   "outputs": [],
   "source": [
    "env.quit()"
   ]
  },
  {
   "cell_type": "markdown",
   "metadata": {
    "collapsed": true,
    "nbpresent": {
     "id": "076f64a8-f68b-486b-a71b-5810f89283b2"
    }
   },
   "source": [
    "Testing with gym env"
   ]
  },
  {
   "cell_type": "code",
   "execution_count": null,
   "metadata": {
    "ExecuteTime": {
     "end_time": "2017-10-26T17:36:09.288629Z",
     "start_time": "2017-10-26T17:36:09.260170Z"
    },
    "collapsed": true,
    "nbpresent": {
     "id": "f852ea5b-f52b-4a94-929d-f6147adf0745"
    }
   },
   "outputs": [],
   "source": [
    "import gym\n",
    "gym_env = gym.make(\"CartPole-v0\")"
   ]
  },
  {
   "cell_type": "code",
   "execution_count": null,
   "metadata": {
    "ExecuteTime": {
     "end_time": "2017-10-26T02:05:27.892741Z",
     "start_time": "2017-10-26T02:05:27.860220Z"
    },
    "collapsed": true,
    "nbpresent": {
     "id": "adfe06c1-7a1b-4e0c-8445-71d69963c7c6"
    }
   },
   "outputs": [],
   "source": [
    "dir(env_gym.observation_space.sample())"
   ]
  },
  {
   "cell_type": "code",
   "execution_count": null,
   "metadata": {
    "ExecuteTime": {
     "end_time": "2017-10-24T22:06:09.357347Z",
     "start_time": "2017-10-24T22:06:09.328681Z"
    },
    "collapsed": true,
    "nbpresent": {
     "id": "d16f64a5-44bc-4aae-9cf0-4e1772e8a936"
    }
   },
   "outputs": [],
   "source": [
    "obs = env_gym.reset()\n",
    "obs[None]"
   ]
  },
  {
   "cell_type": "code",
   "execution_count": null,
   "metadata": {
    "ExecuteTime": {
     "end_time": "2017-10-24T21:02:03.930346Z",
     "start_time": "2017-10-24T21:02:03.926840Z"
    },
    "collapsed": true,
    "nbpresent": {
     "id": "1bcb9120-9050-42a3-b443-a5a0b362100f"
    }
   },
   "outputs": [],
   "source": [
    "env_gym.action_space.n"
   ]
  },
  {
   "cell_type": "code",
   "execution_count": null,
   "metadata": {
    "ExecuteTime": {
     "end_time": "2017-10-24T22:11:49.816020Z",
     "start_time": "2017-10-24T22:11:49.746242Z"
    },
    "collapsed": true,
    "nbpresent": {
     "id": "5897fe11-0a1b-48f5-86f7-f7f9faaf2916"
    }
   },
   "outputs": [],
   "source": [
    "obs,_,_,_ = env_gym.step(1)\n",
    "obs.shape"
   ]
  },
  {
   "cell_type": "markdown",
   "metadata": {
    "collapsed": true,
    "nbpresent": {
     "id": "0465372a-9521-43ff-9646-875aa2b68ff7"
    }
   },
   "source": [
    "## Testing Env class"
   ]
  },
  {
   "cell_type": "code",
   "execution_count": null,
   "metadata": {
    "ExecuteTime": {
     "end_time": "2017-10-24T22:09:10.679894Z",
     "start_time": "2017-10-24T22:09:09.646728Z"
    },
    "collapsed": true,
    "nbpresent": {
     "id": "4db1e16a-0aa6-4969-816f-4a89fff24240"
    }
   },
   "outputs": [],
   "source": [
    "env1 = Env(None)\n",
    "env1.startworld('CliffWalking.xml');\n",
    "r,s,data,ws = env.observe();\n",
    "s[None]"
   ]
  },
  {
   "cell_type": "code",
   "execution_count": null,
   "metadata": {
    "ExecuteTime": {
     "end_time": "2017-10-24T22:09:06.675087Z",
     "start_time": "2017-10-24T22:09:06.635639Z"
    },
    "collapsed": true,
    "nbpresent": {
     "id": "4ff7e3f4-f0fa-496e-832b-1b90a5dcfd68"
    }
   },
   "outputs": [],
   "source": [
    "env1.quit()"
   ]
  },
  {
   "cell_type": "code",
   "execution_count": null,
   "metadata": {
    "ExecuteTime": {
     "end_time": "2017-10-24T22:49:48.476651Z",
     "start_time": "2017-10-24T22:49:48.435382Z"
    },
    "collapsed": true,
    "nbpresent": {
     "id": "471237d0-2a3d-405e-8cc0-155964739c2b"
    }
   },
   "outputs": [],
   "source": [
    "class a:\n",
    "    def __init__(self):\n",
    "        self.prop1 = 1\n",
    "        self.prop2 = 2"
   ]
  },
  {
   "cell_type": "code",
   "execution_count": null,
   "metadata": {
    "ExecuteTime": {
     "end_time": "2017-10-24T22:49:58.406639Z",
     "start_time": "2017-10-24T22:49:58.402610Z"
    },
    "collapsed": true,
    "nbpresent": {
     "id": "35fb6ff7-8a99-4f60-8725-c2ade73f536f"
    }
   },
   "outputs": [],
   "source": [
    "show()"
   ]
  },
  {
   "cell_type": "code",
   "execution_count": null,
   "metadata": {
    "ExecuteTime": {
     "end_time": "2017-10-24T22:50:02.904448Z",
     "start_time": "2017-10-24T22:50:02.898384Z"
    },
    "collapsed": true,
    "nbpresent": {
     "id": "6d7f2ac4-5032-4a0c-a597-8e8fd08d6dec"
    }
   },
   "outputs": [],
   "source": [
    "a.prop1"
   ]
  },
  {
   "cell_type": "code",
   "execution_count": null,
   "metadata": {
    "ExecuteTime": {
     "end_time": "2017-10-25T21:47:14.442385Z",
     "start_time": "2017-10-25T21:47:14.407300Z"
    },
    "collapsed": true,
    "nbpresent": {
     "id": "8abe4bc5-791f-47ef-8bb0-f0b9cb0b4b69"
    }
   },
   "outputs": [],
   "source": [
    "deepq.build_train??"
   ]
  },
  {
   "cell_type": "code",
   "execution_count": null,
   "metadata": {
    "ExecuteTime": {
     "end_time": "2017-10-26T17:17:09.921311Z",
     "start_time": "2017-10-26T17:17:09.435127Z"
    },
    "collapsed": true,
    "nbpresent": {
     "id": "fbf07119-4d5a-4e8b-bbb5-59530218e7d3"
    }
   },
   "outputs": [],
   "source": [
    "\n"
   ]
  },
  {
   "cell_type": "code",
   "execution_count": null,
   "metadata": {
    "ExecuteTime": {
     "end_time": "2017-10-26T17:17:21.204846Z",
     "start_time": "2017-10-26T17:17:21.167051Z"
    },
    "collapsed": true,
    "nbpresent": {
     "id": "8da507ad-29ee-44a7-86d0-2168d25c6940"
    }
   },
   "outputs": [],
   "source": [
    "\n",
    "def update(count):\n",
    "    tmp1  = rewards.data_source.data['x']\n",
    "    tmp2 = rewards.data_source.data['y']\n",
    "    rewards.data_source.data['x'] += [count]\n",
    "    rewards.data_source.data['y'] += [random.randint(1,10000)]\n",
    "    push_notebook(handle=handle)"
   ]
  },
  {
   "cell_type": "code",
   "execution_count": null,
   "metadata": {
    "ExecuteTime": {
     "end_time": "2017-10-26T17:17:22.574361Z",
     "start_time": "2017-10-26T17:17:21.754253Z"
    },
    "collapsed": true,
    "nbpresent": {
     "id": "fc5bd984-a8fc-473d-aae7-07213d116bd7"
    }
   },
   "outputs": [],
   "source": [
    "for i in range(50):\n",
    "    update(i)"
   ]
  },
  {
   "cell_type": "code",
   "execution_count": null,
   "metadata": {
    "ExecuteTime": {
     "end_time": "2017-10-26T17:08:31.180244Z",
     "start_time": "2017-10-26T17:08:30.618798Z"
    },
    "collapsed": true,
    "nbpresent": {
     "id": "f0a6d32b-3ee5-4d07-bddf-c9bc2475c1a8"
    }
   },
   "outputs": [],
   "source": [
    "opts = dict(plot_width=250, plot_height=250, min_border=0)\n",
    "p1 = figure(**opts)\n",
    "r1 = p1.circle([1,2,3], [4,5,6], size=20)\n",
    "\n",
    "p2 = figure(**opts)\n",
    "r2 = p2.circle([1,2,3], [4,5,6], size=20)\n",
    "\n",
    "# get a handle to update the shown cell with\n",
    "t = show(row(p1, p2), notebook_handle=True)"
   ]
  },
  {
   "cell_type": "code",
   "execution_count": null,
   "metadata": {
    "ExecuteTime": {
     "end_time": "2017-10-26T17:08:41.305356Z",
     "start_time": "2017-10-26T17:08:41.287899Z"
    },
    "collapsed": true,
    "nbpresent": {
     "id": "6fe8df2d-d40b-4830-b0fa-127580d9cbcf"
    }
   },
   "outputs": [],
   "source": [
    "r1.glyph.fill_color = \"white\"\n",
    "push_notebook(handle=t)"
   ]
  },
  {
   "cell_type": "code",
   "execution_count": null,
   "metadata": {
    "ExecuteTime": {
     "end_time": "2017-10-26T17:09:04.161008Z",
     "start_time": "2017-10-26T17:09:04.131925Z"
    },
    "collapsed": true,
    "nbpresent": {
     "id": "088d96dd-9de5-4954-a840-5c942da07274"
    }
   },
   "outputs": [],
   "source": [
    "r1.glyph.fill_color = \"orange\"\n",
    "push_notebook(handle=t)"
   ]
  },
  {
   "cell_type": "code",
   "execution_count": null,
   "metadata": {
    "ExecuteTime": {
     "end_time": "2017-10-26T17:09:37.168901Z",
     "start_time": "2017-10-26T17:09:37.136236Z"
    },
    "collapsed": true,
    "nbpresent": {
     "id": "c6f252cf-7dba-4758-ac1a-635f32fc2b5c"
    }
   },
   "outputs": [],
   "source": [
    "dir(p)"
   ]
  },
  {
   "cell_type": "code",
   "execution_count": null,
   "metadata": {
    "collapsed": true,
    "nbpresent": {
     "id": "1a5a0202-b437-459e-a5a0-e7481b8aeacd"
    }
   },
   "outputs": [],
   "source": []
  }
 ],
 "metadata": {
  "anaconda-cloud": {},
  "kernelspec": {
   "display_name": "Python [conda env:casper]",
   "language": "python",
   "name": "conda-env-casper-py"
  },
  "language_info": {
   "codemirror_mode": {
    "name": "ipython",
    "version": 3
   },
   "file_extension": ".py",
   "mimetype": "text/x-python",
   "name": "python",
   "nbconvert_exporter": "python",
   "pygments_lexer": "ipython3",
   "version": "3.5.4"
  },
  "nbpresent": {
   "slides": {
    "07bc0d93-7d9c-4206-bdb8-d4d032f08dea": {
     "id": "07bc0d93-7d9c-4206-bdb8-d4d032f08dea",
     "prev": "1036b307-a4d9-4770-8f1f-509a911ecf9a",
     "regions": {
      "e6f28205-4450-4d79-ba95-efb35ae64e97": {
       "attrs": {
        "height": 0.8,
        "width": 0.8,
        "x": 0.1,
        "y": 0.1
       },
       "content": {
        "cell": "8da507ad-29ee-44a7-86d0-2168d25c6940",
        "part": "whole"
       },
       "id": "e6f28205-4450-4d79-ba95-efb35ae64e97"
      }
     }
    },
    "0e374223-c149-4db9-a8a9-0cefe9bc504d": {
     "id": "0e374223-c149-4db9-a8a9-0cefe9bc504d",
     "prev": "1c5ce398-457f-4925-a52c-72e821ef34da",
     "regions": {
      "cf283169-3773-4bc1-bcbb-22b60d487eb5": {
       "attrs": {
        "height": 0.8,
        "width": 0.8,
        "x": 0.1,
        "y": 0.1
       },
       "content": {
        "cell": "2903dbb7-b748-4973-8874-32e8bb0e0762",
        "part": "whole"
       },
       "id": "cf283169-3773-4bc1-bcbb-22b60d487eb5"
      }
     }
    },
    "1036b307-a4d9-4770-8f1f-509a911ecf9a": {
     "id": "1036b307-a4d9-4770-8f1f-509a911ecf9a",
     "prev": "4f3d5f68-f13e-462e-be3f-af7f4ed0cb9f",
     "regions": {
      "dae026b4-3d79-4ef4-8992-8cb8476ff479": {
       "attrs": {
        "height": 0.8,
        "width": 0.8,
        "x": 0.1,
        "y": 0.1
       },
       "content": {
        "cell": "fbf07119-4d5a-4e8b-bbb5-59530218e7d3",
        "part": "whole"
       },
       "id": "dae026b4-3d79-4ef4-8992-8cb8476ff479"
      }
     }
    },
    "13f68bf7-cf0c-4a4c-8ebf-a49b5366cad2": {
     "id": "13f68bf7-cf0c-4a4c-8ebf-a49b5366cad2",
     "prev": "b89fa9b0-b78f-4f31-8300-b8b62dd2cb81",
     "regions": {
      "ebe7af0b-0381-4b92-b7d3-d2688841790f": {
       "attrs": {
        "height": 0.8,
        "width": 0.8,
        "x": 0.1,
        "y": 0.1
       },
       "content": {
        "cell": "7cfe91e8-435e-4ef8-b7c5-2816074783df",
        "part": "whole"
       },
       "id": "ebe7af0b-0381-4b92-b7d3-d2688841790f"
      }
     }
    },
    "18d3c7dc-55e9-4523-9053-08eb8e93e694": {
     "id": "18d3c7dc-55e9-4523-9053-08eb8e93e694",
     "prev": "a227b250-a602-4c24-9831-00f33df5f777",
     "regions": {
      "b303a433-217a-4fda-90e6-49823b686ac7": {
       "attrs": {
        "height": 0.8,
        "width": 0.8,
        "x": 0.1,
        "y": 0.1
       },
       "content": {
        "cell": "471237d0-2a3d-405e-8cc0-155964739c2b",
        "part": "whole"
       },
       "id": "b303a433-217a-4fda-90e6-49823b686ac7"
      }
     }
    },
    "19d0e4eb-213d-4a37-8e6b-5e95d31b2889": {
     "id": "19d0e4eb-213d-4a37-8e6b-5e95d31b2889",
     "prev": "39b1df3a-9641-4b79-9b32-2ec87b6c7f90",
     "regions": {
      "c6285556-acf2-4294-87f2-b8f3e7094729": {
       "attrs": {
        "height": 0.8,
        "width": 0.8,
        "x": 0.1,
        "y": 0.1
       },
       "content": {
        "cell": "1a5a0202-b437-459e-a5a0-e7481b8aeacd",
        "part": "whole"
       },
       "id": "c6285556-acf2-4294-87f2-b8f3e7094729"
      }
     }
    },
    "1c5ce398-457f-4925-a52c-72e821ef34da": {
     "id": "1c5ce398-457f-4925-a52c-72e821ef34da",
     "prev": "13f68bf7-cf0c-4a4c-8ebf-a49b5366cad2",
     "regions": {
      "dd3093f4-70d8-4095-97a1-388034505e85": {
       "attrs": {
        "height": 0.8,
        "width": 0.8,
        "x": 0.1,
        "y": 0.1
       },
       "content": {
        "cell": "76a26485-09ad-41b8-b5b3-73f109ad7d93",
        "part": "whole"
       },
       "id": "dd3093f4-70d8-4095-97a1-388034505e85"
      }
     }
    },
    "2dd05d81-e1fc-4dcf-a6dd-def9553edaa1": {
     "id": "2dd05d81-e1fc-4dcf-a6dd-def9553edaa1",
     "prev": "54a10d39-08eb-4654-b05d-a2006a8217e0",
     "regions": {
      "dc66d9bb-878d-41fe-89c7-c62d073c6942": {
       "attrs": {
        "height": 0.8,
        "width": 0.8,
        "x": 0.1,
        "y": 0.1
       },
       "content": {
        "cell": "e5e16cbc-6376-415e-9a57-ea14065633cb",
        "part": "whole"
       },
       "id": "dc66d9bb-878d-41fe-89c7-c62d073c6942"
      }
     }
    },
    "2eb521fc-d7c5-4957-a3ad-b1365a019a8c": {
     "id": "2eb521fc-d7c5-4957-a3ad-b1365a019a8c",
     "prev": "43f07784-50e3-4988-9fe8-374fa42ee8bd",
     "regions": {
      "bfd2d543-5525-4e90-bb60-940275b83e82": {
       "attrs": {
        "height": 0.8,
        "width": 0.8,
        "x": 0.1,
        "y": 0.1
       },
       "content": {
        "cell": "cd172eb1-8bcf-4c23-ad14-4b0db9bc5acb",
        "part": "whole"
       },
       "id": "bfd2d543-5525-4e90-bb60-940275b83e82"
      }
     }
    },
    "2ff16e77-947e-4276-8b22-00db4156486a": {
     "id": "2ff16e77-947e-4276-8b22-00db4156486a",
     "prev": "d5311de7-f04e-40d4-988e-b8d82288ab07",
     "regions": {
      "e132ed52-1caf-47b7-8d2e-36da6e726298": {
       "attrs": {
        "height": 0.8,
        "width": 0.8,
        "x": 0.1,
        "y": 0.1
       },
       "content": {
        "cell": "f852ea5b-f52b-4a94-929d-f6147adf0745",
        "part": "whole"
       },
       "id": "e132ed52-1caf-47b7-8d2e-36da6e726298"
      }
     }
    },
    "39b1df3a-9641-4b79-9b32-2ec87b6c7f90": {
     "id": "39b1df3a-9641-4b79-9b32-2ec87b6c7f90",
     "prev": "98c9a3b3-12e0-4a41-ba77-a0a67688265d",
     "regions": {
      "4945c279-4463-4e49-aaff-0610accd3767": {
       "attrs": {
        "height": 0.8,
        "width": 0.8,
        "x": 0.1,
        "y": 0.1
       },
       "content": {
        "cell": "c6f252cf-7dba-4758-ac1a-635f32fc2b5c",
        "part": "whole"
       },
       "id": "4945c279-4463-4e49-aaff-0610accd3767"
      }
     }
    },
    "3d72ad01-561d-4c58-8786-06fe10b1c1cb": {
     "id": "3d72ad01-561d-4c58-8786-06fe10b1c1cb",
     "prev": "0e374223-c149-4db9-a8a9-0cefe9bc504d",
     "regions": {
      "0580b518-2cf2-48d0-93e9-ecffc1d58e24": {
       "attrs": {
        "height": 0.8,
        "width": 0.8,
        "x": 0.1,
        "y": 0.1
       },
       "content": {
        "cell": "37cc9b78-fb9d-4d06-8795-1b2c37e25663",
        "part": "whole"
       },
       "id": "0580b518-2cf2-48d0-93e9-ecffc1d58e24"
      }
     }
    },
    "434a2625-640a-42b0-b74d-d73bde645dec": {
     "id": "434a2625-640a-42b0-b74d-d73bde645dec",
     "prev": "2dd05d81-e1fc-4dcf-a6dd-def9553edaa1",
     "regions": {
      "a2785ef7-c37e-40c0-943f-63102350748d": {
       "attrs": {
        "height": 0.8,
        "width": 0.8,
        "x": 0.1,
        "y": 0.1
       },
       "content": {
        "cell": "992d8ea5-6b35-4c23-be17-94adbb16236c",
        "part": "whole"
       },
       "id": "a2785ef7-c37e-40c0-943f-63102350748d"
      }
     }
    },
    "43f07784-50e3-4988-9fe8-374fa42ee8bd": {
     "id": "43f07784-50e3-4988-9fe8-374fa42ee8bd",
     "prev": "fc8f6214-db78-427d-9d23-21427171679d",
     "regions": {
      "32215082-5df0-456b-b79e-12d75bb958e2": {
       "attrs": {
        "height": 0.8,
        "width": 0.8,
        "x": 0.1,
        "y": 0.1
       },
       "content": {
        "cell": "f92c1392-8330-4a08-a74f-0add275a6d03",
        "part": "whole"
       },
       "id": "32215082-5df0-456b-b79e-12d75bb958e2"
      }
     }
    },
    "45e39bc2-ce7b-4f08-9495-10a17521be97": {
     "id": "45e39bc2-ce7b-4f08-9495-10a17521be97",
     "prev": "4faf1eee-ebae-4ba8-a7b4-183024fcca78",
     "regions": {
      "ad2191a0-0e53-47e1-9a69-862e8c0fe3c6": {
       "attrs": {
        "height": 0.8,
        "width": 0.8,
        "x": 0.1,
        "y": 0.1
       },
       "content": {
        "cell": "4b5a1bc5-6d97-4a31-ac10-e912ce687f84",
        "part": "whole"
       },
       "id": "ad2191a0-0e53-47e1-9a69-862e8c0fe3c6"
      }
     }
    },
    "4f3d5f68-f13e-462e-be3f-af7f4ed0cb9f": {
     "id": "4f3d5f68-f13e-462e-be3f-af7f4ed0cb9f",
     "prev": "cd195d72-af71-4990-8f3a-037a5cc971bb",
     "regions": {
      "a0eaa8c1-61a2-4f26-96e0-5d6868a60d10": {
       "attrs": {
        "height": 0.8,
        "width": 0.8,
        "x": 0.1,
        "y": 0.1
       },
       "content": {
        "cell": "8abe4bc5-791f-47ef-8bb0-f0b9cb0b4b69",
        "part": "whole"
       },
       "id": "a0eaa8c1-61a2-4f26-96e0-5d6868a60d10"
      }
     }
    },
    "4faf1eee-ebae-4ba8-a7b4-183024fcca78": {
     "id": "4faf1eee-ebae-4ba8-a7b4-183024fcca78",
     "prev": "3d72ad01-561d-4c58-8786-06fe10b1c1cb",
     "regions": {
      "bc5e0402-1d7a-44ed-ac0d-9d90fded6ac7": {
       "attrs": {
        "height": 0.8,
        "width": 0.8,
        "x": 0.1,
        "y": 0.1
       },
       "content": {
        "cell": "f8cd07de-94da-4478-b8db-59cfcf140f63",
        "part": "whole"
       },
       "id": "bc5e0402-1d7a-44ed-ac0d-9d90fded6ac7"
      }
     }
    },
    "54a10d39-08eb-4654-b05d-a2006a8217e0": {
     "id": "54a10d39-08eb-4654-b05d-a2006a8217e0",
     "prev": "fde18044-f9a0-4748-af4c-c67107a5cc19",
     "regions": {
      "9c7a1a8a-e156-4d7e-9404-08299182138e": {
       "attrs": {
        "height": 0.8,
        "width": 0.8,
        "x": 0.1,
        "y": 0.1
       },
       "content": {
        "cell": "d2ce188a-82f9-4eb1-9bca-0c8a8776f040",
        "part": "whole"
       },
       "id": "9c7a1a8a-e156-4d7e-9404-08299182138e"
      }
     }
    },
    "564dfdfb-57fd-4c64-a8c3-480c3ebe3052": {
     "id": "564dfdfb-57fd-4c64-a8c3-480c3ebe3052",
     "prev": "434a2625-640a-42b0-b74d-d73bde645dec",
     "regions": {
      "e7a25038-6065-427d-ab0d-fd2b8f3a8b4b": {
       "attrs": {
        "height": 0.8,
        "width": 0.8,
        "x": 0.1,
        "y": 0.1
       },
       "content": {
        "cell": "96e74fe6-4ce8-41d0-8ad4-e54ad1bcc029",
        "part": "whole"
       },
       "id": "e7a25038-6065-427d-ab0d-fd2b8f3a8b4b"
      }
     }
    },
    "6003570f-cf33-427d-87c1-efeadaf71509": {
     "id": "6003570f-cf33-427d-87c1-efeadaf71509",
     "prev": "b769d3bd-bf0c-44f8-a4b9-007131973129",
     "regions": {
      "c2ff83d9-bc1c-48fc-950b-cccee611882b": {
       "attrs": {
        "height": 0.8,
        "width": 0.8,
        "x": 0.1,
        "y": 0.1
       },
       "content": {
        "cell": "1bcb9120-9050-42a3-b443-a5a0b362100f",
        "part": "whole"
       },
       "id": "c2ff83d9-bc1c-48fc-950b-cccee611882b"
      }
     }
    },
    "6e243d86-f378-4c87-a619-dee3ba538642": {
     "id": "6e243d86-f378-4c87-a619-dee3ba538642",
     "prev": "18d3c7dc-55e9-4523-9053-08eb8e93e694",
     "regions": {
      "27103375-8300-427a-b71d-5e87ca325787": {
       "attrs": {
        "height": 0.8,
        "width": 0.8,
        "x": 0.1,
        "y": 0.1
       },
       "content": {
        "cell": "35fb6ff7-8a99-4f60-8725-c2ade73f536f",
        "part": "whole"
       },
       "id": "27103375-8300-427a-b71d-5e87ca325787"
      }
     }
    },
    "703bb046-2be4-4a07-bad4-8f7b9f92ca04": {
     "id": "703bb046-2be4-4a07-bad4-8f7b9f92ca04",
     "prev": "9263a517-c15b-49a9-b22a-b62dbbc6b149",
     "regions": {
      "38601f8d-fa04-465b-b702-199669165d47": {
       "attrs": {
        "height": 0.8,
        "width": 0.8,
        "x": 0.1,
        "y": 0.1
       },
       "content": {
        "cell": "f0a6d32b-3ee5-4d07-bddf-c9bc2475c1a8",
        "part": "whole"
       },
       "id": "38601f8d-fa04-465b-b702-199669165d47"
      }
     }
    },
    "9263a517-c15b-49a9-b22a-b62dbbc6b149": {
     "id": "9263a517-c15b-49a9-b22a-b62dbbc6b149",
     "prev": "07bc0d93-7d9c-4206-bdb8-d4d032f08dea",
     "regions": {
      "411f55af-3c39-42ae-95f7-04e6ff4a2254": {
       "attrs": {
        "height": 0.8,
        "width": 0.8,
        "x": 0.1,
        "y": 0.1
       },
       "content": {
        "cell": "fc5bd984-a8fc-473d-aae7-07213d116bd7",
        "part": "whole"
       },
       "id": "411f55af-3c39-42ae-95f7-04e6ff4a2254"
      }
     }
    },
    "98c9a3b3-12e0-4a41-ba77-a0a67688265d": {
     "id": "98c9a3b3-12e0-4a41-ba77-a0a67688265d",
     "prev": "ae265d71-8810-4ba2-87f9-c18aa527e206",
     "regions": {
      "93fc6e1c-30ea-4d7e-8a6a-8db0e31a4f33": {
       "attrs": {
        "height": 0.8,
        "width": 0.8,
        "x": 0.1,
        "y": 0.1
       },
       "content": {
        "cell": "088d96dd-9de5-4954-a840-5c942da07274",
        "part": "whole"
       },
       "id": "93fc6e1c-30ea-4d7e-8a6a-8db0e31a4f33"
      }
     }
    },
    "a227b250-a602-4c24-9831-00f33df5f777": {
     "id": "a227b250-a602-4c24-9831-00f33df5f777",
     "prev": "dec69906-a157-43be-8df0-ec51a576ab30",
     "regions": {
      "b7d821a7-6801-4cbb-9882-ab3bf97f9052": {
       "attrs": {
        "height": 0.8,
        "width": 0.8,
        "x": 0.1,
        "y": 0.1
       },
       "content": {
        "cell": "4ff7e3f4-f0fa-496e-832b-1b90a5dcfd68",
        "part": "whole"
       },
       "id": "b7d821a7-6801-4cbb-9882-ab3bf97f9052"
      }
     }
    },
    "a87ef3d0-2039-4bb7-a1d0-bef2b28551ea": {
     "id": "a87ef3d0-2039-4bb7-a1d0-bef2b28551ea",
     "prev": "2ff16e77-947e-4276-8b22-00db4156486a",
     "regions": {
      "ce8decc7-cb34-45d6-9acc-d1ff140ebe78": {
       "attrs": {
        "height": 0.8,
        "width": 0.8,
        "x": 0.1,
        "y": 0.1
       },
       "content": {
        "cell": "adfe06c1-7a1b-4e0c-8445-71d69963c7c6",
        "part": "whole"
       },
       "id": "ce8decc7-cb34-45d6-9acc-d1ff140ebe78"
      }
     }
    },
    "aa628051-5c38-4e08-a98a-541dedc534e2": {
     "id": "aa628051-5c38-4e08-a98a-541dedc534e2",
     "prev": null,
     "regions": {
      "2c8678ad-6df8-41a5-a758-2e8c17d2d912": {
       "attrs": {
        "height": 0.8,
        "width": 0.8,
        "x": 0.1,
        "y": 0.1
       },
       "content": {
        "cell": "e0b41b12-3583-41b3-bfea-65b5e2379621",
        "part": "whole"
       },
       "id": "2c8678ad-6df8-41a5-a758-2e8c17d2d912"
      }
     }
    },
    "ae265d71-8810-4ba2-87f9-c18aa527e206": {
     "id": "ae265d71-8810-4ba2-87f9-c18aa527e206",
     "prev": "703bb046-2be4-4a07-bad4-8f7b9f92ca04",
     "regions": {
      "f9efe363-c176-4a4e-86c5-ffa8f50c852c": {
       "attrs": {
        "height": 0.8,
        "width": 0.8,
        "x": 0.1,
        "y": 0.1
       },
       "content": {
        "cell": "6fe8df2d-d40b-4830-b0fa-127580d9cbcf",
        "part": "whole"
       },
       "id": "f9efe363-c176-4a4e-86c5-ffa8f50c852c"
      }
     }
    },
    "b769d3bd-bf0c-44f8-a4b9-007131973129": {
     "id": "b769d3bd-bf0c-44f8-a4b9-007131973129",
     "prev": "a87ef3d0-2039-4bb7-a1d0-bef2b28551ea",
     "regions": {
      "77cad82d-4847-4f11-8db4-bc188e471c09": {
       "attrs": {
        "height": 0.8,
        "width": 0.8,
        "x": 0.1,
        "y": 0.1
       },
       "content": {
        "cell": "d16f64a5-44bc-4aae-9cf0-4e1772e8a936",
        "part": "whole"
       },
       "id": "77cad82d-4847-4f11-8db4-bc188e471c09"
      }
     }
    },
    "b89fa9b0-b78f-4f31-8300-b8b62dd2cb81": {
     "id": "b89fa9b0-b78f-4f31-8300-b8b62dd2cb81",
     "prev": "e9333ab1-5f21-4e54-b0d4-74ab68d4facf",
     "regions": {
      "b402f08d-410c-4511-b485-c7d6dab83d8c": {
       "attrs": {
        "height": 0.8,
        "width": 0.8,
        "x": 0.1,
        "y": 0.1
       },
       "content": {
        "cell": "ed717a9d-ef8d-40d0-b145-b6312d8f977b",
        "part": "whole"
       },
       "id": "b402f08d-410c-4511-b485-c7d6dab83d8c"
      }
     }
    },
    "c3094d05-27f3-4f99-9837-16b8ac839d00": {
     "id": "c3094d05-27f3-4f99-9837-16b8ac839d00",
     "prev": "d8f32e4b-13d5-4e10-95b7-1d80dcfa6dad",
     "regions": {
      "ef910208-8ce0-45b7-884d-057f5216abfd": {
       "attrs": {
        "height": 0.8,
        "width": 0.8,
        "x": 0.1,
        "y": 0.1
       },
       "content": {
        "cell": "0465372a-9521-43ff-9646-875aa2b68ff7",
        "part": "whole"
       },
       "id": "ef910208-8ce0-45b7-884d-057f5216abfd"
      }
     }
    },
    "cd195d72-af71-4990-8f3a-037a5cc971bb": {
     "id": "cd195d72-af71-4990-8f3a-037a5cc971bb",
     "prev": "6e243d86-f378-4c87-a619-dee3ba538642",
     "regions": {
      "9a2c008a-1194-4f4f-88df-8273cd91d134": {
       "attrs": {
        "height": 0.8,
        "width": 0.8,
        "x": 0.1,
        "y": 0.1
       },
       "content": {
        "cell": "6d7f2ac4-5032-4a0c-a597-8e8fd08d6dec",
        "part": "whole"
       },
       "id": "9a2c008a-1194-4f4f-88df-8273cd91d134"
      }
     }
    },
    "d5311de7-f04e-40d4-988e-b8d82288ab07": {
     "id": "d5311de7-f04e-40d4-988e-b8d82288ab07",
     "prev": "2eb521fc-d7c5-4957-a3ad-b1365a019a8c",
     "regions": {
      "1e6f1257-d235-4874-bddb-9975be63f5e2": {
       "attrs": {
        "height": 0.8,
        "width": 0.8,
        "x": 0.1,
        "y": 0.1
       },
       "content": {
        "cell": "076f64a8-f68b-486b-a71b-5810f89283b2",
        "part": "whole"
       },
       "id": "1e6f1257-d235-4874-bddb-9975be63f5e2"
      }
     }
    },
    "d8f32e4b-13d5-4e10-95b7-1d80dcfa6dad": {
     "id": "d8f32e4b-13d5-4e10-95b7-1d80dcfa6dad",
     "prev": "6003570f-cf33-427d-87c1-efeadaf71509",
     "regions": {
      "d1439575-55fe-4596-a37b-b603ae709d9b": {
       "attrs": {
        "height": 0.8,
        "width": 0.8,
        "x": 0.1,
        "y": 0.1
       },
       "content": {
        "cell": "5897fe11-0a1b-48f5-86f7-f7f9faaf2916",
        "part": "whole"
       },
       "id": "d1439575-55fe-4596-a37b-b603ae709d9b"
      }
     }
    },
    "dd53668c-b67a-4b93-870b-b80c42f990d9": {
     "id": "dd53668c-b67a-4b93-870b-b80c42f990d9",
     "prev": "45e39bc2-ce7b-4f08-9495-10a17521be97",
     "regions": {
      "7c935647-d436-4089-82ad-f86521580c0b": {
       "attrs": {
        "height": 0.8,
        "width": 0.8,
        "x": 0.1,
        "y": 0.1
       },
       "content": {
        "cell": "1d60808f-37f6-49b0-859b-be08faad7ec5",
        "part": "whole"
       },
       "id": "7c935647-d436-4089-82ad-f86521580c0b"
      }
     }
    },
    "dec69906-a157-43be-8df0-ec51a576ab30": {
     "id": "dec69906-a157-43be-8df0-ec51a576ab30",
     "prev": "c3094d05-27f3-4f99-9837-16b8ac839d00",
     "regions": {
      "9bc1a9e1-0705-4393-95e7-606088208462": {
       "attrs": {
        "height": 0.8,
        "width": 0.8,
        "x": 0.1,
        "y": 0.1
       },
       "content": {
        "cell": "4db1e16a-0aa6-4969-816f-4a89fff24240",
        "part": "whole"
       },
       "id": "9bc1a9e1-0705-4393-95e7-606088208462"
      }
     }
    },
    "e9333ab1-5f21-4e54-b0d4-74ab68d4facf": {
     "id": "e9333ab1-5f21-4e54-b0d4-74ab68d4facf",
     "prev": "f441fe59-17ab-48ce-bd48-876e3236f185",
     "regions": {
      "bc8772a1-1bab-423c-8a52-dcde4d43c3fa": {
       "attrs": {
        "height": 0.8,
        "width": 0.8,
        "x": 0.1,
        "y": 0.1
       },
       "content": {
        "cell": "aa7d4ac1-3969-42b4-8a2b-f921cf3157f2",
        "part": "whole"
       },
       "id": "bc8772a1-1bab-423c-8a52-dcde4d43c3fa"
      }
     }
    },
    "f1a52746-e62b-4872-80b1-7ddf4b7f703e": {
     "id": "f1a52746-e62b-4872-80b1-7ddf4b7f703e",
     "prev": "dd53668c-b67a-4b93-870b-b80c42f990d9",
     "regions": {
      "15814415-90ae-48ff-b4e7-66d3587002bc": {
       "attrs": {
        "height": 0.8,
        "width": 0.8,
        "x": 0.1,
        "y": 0.1
       },
       "content": {
        "cell": "6119af2b-7cb1-4a25-8962-1f582a6457f3",
        "part": "whole"
       },
       "id": "15814415-90ae-48ff-b4e7-66d3587002bc"
      }
     }
    },
    "f2f9bff1-9209-4834-b2f0-7f7233b10a93": {
     "id": "f2f9bff1-9209-4834-b2f0-7f7233b10a93",
     "prev": "aa628051-5c38-4e08-a98a-541dedc534e2",
     "regions": {
      "17d2922e-4d1d-4a1b-92e9-76ed52d65133": {
       "attrs": {
        "height": 0.8,
        "width": 0.8,
        "x": 0.1,
        "y": 0.1
       },
       "content": {
        "cell": "81accd10-06e1-48c6-b354-908d009d6a30",
        "part": "whole"
       },
       "id": "17d2922e-4d1d-4a1b-92e9-76ed52d65133"
      }
     }
    },
    "f441fe59-17ab-48ce-bd48-876e3236f185": {
     "id": "f441fe59-17ab-48ce-bd48-876e3236f185",
     "prev": "f2f9bff1-9209-4834-b2f0-7f7233b10a93",
     "regions": {
      "f2ecaa86-6dd9-4014-b182-014974a23646": {
       "attrs": {
        "height": 0.8,
        "width": 0.8,
        "x": 0.1,
        "y": 0.1
       },
       "content": {
        "cell": "680db395-ec81-4e4c-afdd-b500c82a7ff0",
        "part": "whole"
       },
       "id": "f2ecaa86-6dd9-4014-b182-014974a23646"
      }
     }
    },
    "fc8f6214-db78-427d-9d23-21427171679d": {
     "id": "fc8f6214-db78-427d-9d23-21427171679d",
     "prev": "564dfdfb-57fd-4c64-a8c3-480c3ebe3052",
     "regions": {
      "c6f3e3c0-c126-402b-9109-b6d2f47c1161": {
       "attrs": {
        "height": 0.8,
        "width": 0.8,
        "x": 0.1,
        "y": 0.1
       },
       "content": {
        "cell": "a5634679-2985-492d-bbcb-eeadc1927a15",
        "part": "whole"
       },
       "id": "c6f3e3c0-c126-402b-9109-b6d2f47c1161"
      }
     }
    },
    "fde18044-f9a0-4748-af4c-c67107a5cc19": {
     "id": "fde18044-f9a0-4748-af4c-c67107a5cc19",
     "prev": "f1a52746-e62b-4872-80b1-7ddf4b7f703e",
     "regions": {
      "03b3c787-c95e-4979-89f8-44f4cccc8789": {
       "attrs": {
        "height": 0.8,
        "width": 0.8,
        "x": 0.1,
        "y": 0.1
       },
       "content": {
        "cell": "19d5c873-7cfd-4488-abf5-409af8bc7587",
        "part": "whole"
       },
       "id": "03b3c787-c95e-4979-89f8-44f4cccc8789"
      }
     }
    }
   },
   "themes": {
    "default": "8c03ee93-9986-4eb3-af71-0a4d00a0c3b0",
    "theme": {
     "1fa40237-0e31-4948-99a5-6dfbecb7a2fb": {
      "backgrounds": {
       "backgroundColor": {
        "background-color": "backgroundColor",
        "id": "backgroundColor"
       }
      },
      "id": "1fa40237-0e31-4948-99a5-6dfbecb7a2fb",
      "palette": {
       "backgroundColor": {
        "id": "backgroundColor",
        "rgb": [
         240,
         241,
         235
        ]
       },
       "headingColor": {
        "id": "headingColor",
        "rgb": [
         56,
         61,
         61
        ]
       },
       "linkColor": {
        "id": "linkColor",
        "rgb": [
         81,
         72,
         61
        ]
       },
       "mainColor": {
        "id": "mainColor",
        "rgb": [
         0,
         0,
         0
        ]
       }
      },
      "rules": {
       "a": {
        "color": "linkColor"
       },
       "h1": {
        "color": "headingColor",
        "font-family": "EB Garamond",
        "font-size": 7
       },
       "h2": {
        "color": "headingColor",
        "font-family": "EB Garamond",
        "font-size": 5
       },
       "h3": {
        "color": "headingColor",
        "font-family": "EB Garamond",
        "font-size": 3.75
       },
       "h4": {
        "color": "headingColor",
        "font-family": "EB Garamond",
        "font-size": 3
       },
       "h5": {
        "color": "headingColor",
        "font-family": "EB Garamond"
       },
       "h6": {
        "color": "headingColor",
        "font-family": "EB Garamond"
       },
       "h7": {
        "color": "headingColor",
        "font-family": "EB Garamond"
       },
       "li": {
        "color": "mainColor",
        "font-family": "EB Garamond",
        "font-size": 5
       },
       "p": {
        "color": "mainColor",
        "font-family": "EB Garamond",
        "font-size": 5
       }
      },
      "text-base": {
       "color": "mainColor",
       "font-family": "EB Garamond",
       "font-size": 5
      }
     },
     "8c03ee93-9986-4eb3-af71-0a4d00a0c3b0": {
      "backgrounds": {
       "backgroundColor": {
        "background-color": "backgroundColor",
        "id": "backgroundColor"
       }
      },
      "id": "8c03ee93-9986-4eb3-af71-0a4d00a0c3b0",
      "palette": {
       "backgroundColor": {
        "id": "backgroundColor",
        "rgb": [
         256,
         256,
         256
        ]
       },
       "headingColor": {
        "id": "headingColor",
        "rgb": [
         34,
         34,
         34
        ]
       },
       "linkColor": {
        "id": "linkColor",
        "rgb": [
         42,
         118,
         221
        ]
       },
       "mainColor": {
        "id": "mainColor",
        "rgb": [
         34,
         34,
         34
        ]
       }
      },
      "rules": {
       "a": {
        "color": "linkColor"
       },
       "h1": {
        "color": "headingColor",
        "font-family": "Source Sans Pro",
        "font-size": 5.25
       },
       "h2": {
        "color": "headingColor",
        "font-family": "Source Sans Pro",
        "font-size": 4
       },
       "h3": {
        "color": "headingColor",
        "font-family": "Source Sans Pro",
        "font-size": 3.5
       },
       "h4": {
        "color": "headingColor",
        "font-family": "Source Sans Pro",
        "font-size": 3
       },
       "h5": {
        "color": "headingColor",
        "font-family": "Source Sans Pro"
       },
       "h6": {
        "color": "headingColor",
        "font-family": "Source Sans Pro"
       },
       "h7": {
        "color": "headingColor",
        "font-family": "Source Sans Pro"
       },
       "li": {
        "color": "mainColor",
        "font-family": "Source Sans Pro",
        "font-size": 6
       },
       "p": {
        "color": "mainColor",
        "font-family": "Source Sans Pro",
        "font-size": 6
       }
      },
      "text-base": {
       "color": "mainColor",
       "font-family": "Source Sans Pro",
       "font-size": 6
      }
     }
    }
   }
  },
  "notify_time": "5",
  "varInspector": {
   "cols": {
    "lenName": 16,
    "lenType": 16,
    "lenVar": 40
   },
   "kernels_config": {
    "python": {
     "delete_cmd_postfix": "",
     "delete_cmd_prefix": "del ",
     "library": "var_list.py",
     "varRefreshCmd": "print(var_dic_list())"
    },
    "r": {
     "delete_cmd_postfix": ") ",
     "delete_cmd_prefix": "rm(",
     "library": "var_list.r",
     "varRefreshCmd": "cat(var_dic_list()) "
    }
   },
   "position": {
    "height": "145px",
    "left": "572px",
    "right": "19px",
    "top": "120px",
    "width": "350px"
   },
   "types_to_exclude": [
    "module",
    "function",
    "builtin_function_or_method",
    "instance",
    "_Feature"
   ],
   "window_display": false
  }
 },
 "nbformat": 4,
 "nbformat_minor": 2
}
