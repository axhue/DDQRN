{
 "cells": [
  {
   "cell_type": "code",
   "execution_count": 68,
   "metadata": {
    "ExecuteTime": {
     "end_time": "2017-11-07T20:50:18.815343Z",
     "start_time": "2017-11-07T20:50:18.795265Z"
    },
    "collapsed": true,
    "nbpresent": {
     "id": "42b610d5-4e09-4691-9dc9-360f1cebe4cd"
    }
   },
   "outputs": [],
   "source": [
    "import MalmoPython\n",
    "import os\n",
    "import sys\n",
    "import time\n",
    "import random\n",
    "import json\n",
    "import itertools\n",
    "import math"
   ]
  },
  {
   "cell_type": "code",
   "execution_count": 37,
   "metadata": {
    "ExecuteTime": {
     "end_time": "2017-11-07T17:20:17.229472Z",
     "start_time": "2017-11-07T17:20:17.222631Z"
    },
    "collapsed": true,
    "nbpresent": {
     "id": "f334c05e-5ca4-457b-a936-434f8280dd57"
    }
   },
   "outputs": [],
   "source": [
    "from baselines import deepq\n",
    "from baselines import logger\n",
    "from baselines.deepq.replay_buffer import ReplayBuffer\n",
    "from baselines.common.schedules import LinearSchedule"
   ]
  },
  {
   "cell_type": "code",
   "execution_count": 38,
   "metadata": {
    "ExecuteTime": {
     "end_time": "2017-11-07T17:20:17.525260Z",
     "start_time": "2017-11-07T17:20:17.518896Z"
    },
    "collapsed": true,
    "nbpresent": {
     "id": "e0b41b12-3583-41b3-bfea-65b5e2379621"
    }
   },
   "outputs": [],
   "source": [
    "import tensorflow as tf\n",
    "import tensorflow.contrib.layers as layers\n",
    "import baselines.common.tf_util as U"
   ]
  },
  {
   "cell_type": "code",
   "execution_count": 39,
   "metadata": {
    "ExecuteTime": {
     "end_time": "2017-11-07T17:20:17.828566Z",
     "start_time": "2017-11-07T17:20:17.823068Z"
    },
    "collapsed": true,
    "nbpresent": {
     "id": "81accd10-06e1-48c6-b354-908d009d6a30"
    }
   },
   "outputs": [],
   "source": [
    "from IPython.display import clear_output,display\n",
    "import numpy as np"
   ]
  },
  {
   "cell_type": "code",
   "execution_count": 40,
   "metadata": {
    "ExecuteTime": {
     "end_time": "2017-11-07T17:20:18.212254Z",
     "start_time": "2017-11-07T17:20:18.206800Z"
    },
    "collapsed": true
   },
   "outputs": [],
   "source": [
    "from keras import backend as Kend\n",
    "from keras.layers import GRU,Dense,Activation,Input,LSTM\n",
    "from keras.models import Sequential"
   ]
  },
  {
   "cell_type": "code",
   "execution_count": 41,
   "metadata": {
    "ExecuteTime": {
     "end_time": "2017-11-07T17:20:18.617318Z",
     "start_time": "2017-11-07T17:20:18.606890Z"
    },
    "nbpresent": {
     "id": "680db395-ec81-4e4c-afdd-b500c82a7ff0"
    }
   },
   "outputs": [
    {
     "data": {
      "text/html": [
       "\n",
       "    <div class=\"bk-root\">\n",
       "        <a href=\"https://bokeh.pydata.org\" target=\"_blank\" class=\"bk-logo bk-logo-small bk-logo-notebook\"></a>\n",
       "        <span id=\"5c0e4aee-4444-45bb-91eb-768eccea9405\">Loading BokehJS ...</span>\n",
       "    </div>"
      ]
     },
     "metadata": {},
     "output_type": "display_data"
    },
    {
     "data": {
      "application/javascript": [
       "\n",
       "(function(root) {\n",
       "  function now() {\n",
       "    return new Date();\n",
       "  }\n",
       "\n",
       "  var force = true;\n",
       "\n",
       "  if (typeof (root._bokeh_onload_callbacks) === \"undefined\" || force === true) {\n",
       "    root._bokeh_onload_callbacks = [];\n",
       "    root._bokeh_is_loading = undefined;\n",
       "  }\n",
       "\n",
       "  var JS_MIME_TYPE = 'application/javascript';\n",
       "  var HTML_MIME_TYPE = 'text/html';\n",
       "  var EXEC_MIME_TYPE = 'application/vnd.bokehjs_exec.v0+json';\n",
       "  var CLASS_NAME = 'output_bokeh rendered_html';\n",
       "\n",
       "  /**\n",
       "   * Render data to the DOM node\n",
       "   */\n",
       "  function render(props, node) {\n",
       "    var script = document.createElement(\"script\");\n",
       "    node.appendChild(script);\n",
       "  }\n",
       "\n",
       "  /**\n",
       "   * Handle when an output is cleared or removed\n",
       "   */\n",
       "  function handleClearOutput(event, handle) {\n",
       "    var cell = handle.cell;\n",
       "\n",
       "    var id = cell.output_area._bokeh_element_id;\n",
       "    var server_id = cell.output_area._bokeh_server_id;\n",
       "    // Clean up Bokeh references\n",
       "    if (id !== undefined) {\n",
       "      Bokeh.index[id].model.document.clear();\n",
       "      delete Bokeh.index[id];\n",
       "    }\n",
       "\n",
       "    if (server_id !== undefined) {\n",
       "      // Clean up Bokeh references\n",
       "      var cmd = \"from bokeh.io.state import curstate; print(curstate().uuid_to_server['\" + server_id + \"'].get_sessions()[0].document.roots[0]._id)\";\n",
       "      cell.notebook.kernel.execute(cmd, {\n",
       "        iopub: {\n",
       "          output: function(msg) {\n",
       "            var element_id = msg.content.text.trim();\n",
       "            Bokeh.index[element_id].model.document.clear();\n",
       "            delete Bokeh.index[element_id];\n",
       "          }\n",
       "        }\n",
       "      });\n",
       "      // Destroy server and session\n",
       "      var cmd = \"import bokeh.io.notebook as ion; ion.destroy_server('\" + server_id + \"')\";\n",
       "      cell.notebook.kernel.execute(cmd);\n",
       "    }\n",
       "  }\n",
       "\n",
       "  /**\n",
       "   * Handle when a new output is added\n",
       "   */\n",
       "  function handleAddOutput(event, handle) {\n",
       "    var output_area = handle.output_area;\n",
       "    var output = handle.output;\n",
       "\n",
       "    // limit handleAddOutput to display_data with EXEC_MIME_TYPE content only\n",
       "    if ((output.output_type != \"display_data\") || (!output.data.hasOwnProperty(EXEC_MIME_TYPE))) {\n",
       "      return\n",
       "    }\n",
       "\n",
       "    var toinsert = output_area.element.find(`.${CLASS_NAME.split(' ')[0]}`);\n",
       "\n",
       "    if (output.metadata[EXEC_MIME_TYPE][\"id\"] !== undefined) {\n",
       "      toinsert[0].firstChild.textContent = output.data[JS_MIME_TYPE];\n",
       "      // store reference to embed id on output_area\n",
       "      output_area._bokeh_element_id = output.metadata[EXEC_MIME_TYPE][\"id\"];\n",
       "    }\n",
       "    if (output.metadata[EXEC_MIME_TYPE][\"server_id\"] !== undefined) {\n",
       "      var bk_div = document.createElement(\"div\");\n",
       "      bk_div.innerHTML = output.data[HTML_MIME_TYPE];\n",
       "      var script_attrs = bk_div.children[0].attributes;\n",
       "      for (var i = 0; i < script_attrs.length; i++) {\n",
       "        toinsert[0].firstChild.setAttribute(script_attrs[i].name, script_attrs[i].value);\n",
       "      }\n",
       "      // store reference to server id on output_area\n",
       "      output_area._bokeh_server_id = output.metadata[EXEC_MIME_TYPE][\"server_id\"];\n",
       "    }\n",
       "  }\n",
       "\n",
       "  function register_renderer(events, OutputArea) {\n",
       "\n",
       "    function append_mime(data, metadata, element) {\n",
       "      // create a DOM node to render to\n",
       "      var toinsert = this.create_output_subarea(\n",
       "        metadata,\n",
       "        CLASS_NAME,\n",
       "        EXEC_MIME_TYPE\n",
       "      );\n",
       "      this.keyboard_manager.register_events(toinsert);\n",
       "      // Render to node\n",
       "      var props = {data: data, metadata: metadata[EXEC_MIME_TYPE]};\n",
       "      render(props, toinsert[0]);\n",
       "      element.append(toinsert);\n",
       "      return toinsert\n",
       "    }\n",
       "\n",
       "    /* Handle when an output is cleared or removed */\n",
       "    events.on('clear_output.CodeCell', handleClearOutput);\n",
       "    events.on('delete.Cell', handleClearOutput);\n",
       "\n",
       "    /* Handle when a new output is added */\n",
       "    events.on('output_added.OutputArea', handleAddOutput);\n",
       "\n",
       "    /**\n",
       "     * Register the mime type and append_mime function with output_area\n",
       "     */\n",
       "    OutputArea.prototype.register_mime_type(EXEC_MIME_TYPE, append_mime, {\n",
       "      /* Is output safe? */\n",
       "      safe: true,\n",
       "      /* Index of renderer in `output_area.display_order` */\n",
       "      index: 0\n",
       "    });\n",
       "  }\n",
       "\n",
       "  // register the mime type if in Jupyter Notebook environment and previously unregistered\n",
       "  if (root.Jupyter !== undefined) {\n",
       "    var events = require('base/js/events');\n",
       "    var OutputArea = require('notebook/js/outputarea').OutputArea;\n",
       "\n",
       "    if (OutputArea.prototype.mime_types().indexOf(EXEC_MIME_TYPE) == -1) {\n",
       "      register_renderer(events, OutputArea);\n",
       "    }\n",
       "  }\n",
       "\n",
       "  \n",
       "  if (typeof (root._bokeh_timeout) === \"undefined\" || force === true) {\n",
       "    root._bokeh_timeout = Date.now() + 5000;\n",
       "    root._bokeh_failed_load = false;\n",
       "  }\n",
       "\n",
       "  var NB_LOAD_WARNING = {'data': {'text/html':\n",
       "     \"<div style='background-color: #fdd'>\\n\"+\n",
       "     \"<p>\\n\"+\n",
       "     \"BokehJS does not appear to have successfully loaded. If loading BokehJS from CDN, this \\n\"+\n",
       "     \"may be due to a slow or bad network connection. Possible fixes:\\n\"+\n",
       "     \"</p>\\n\"+\n",
       "     \"<ul>\\n\"+\n",
       "     \"<li>re-rerun `output_notebook()` to attempt to load from CDN again, or</li>\\n\"+\n",
       "     \"<li>use INLINE resources instead, as so:</li>\\n\"+\n",
       "     \"</ul>\\n\"+\n",
       "     \"<code>\\n\"+\n",
       "     \"from bokeh.resources import INLINE\\n\"+\n",
       "     \"output_notebook(resources=INLINE)\\n\"+\n",
       "     \"</code>\\n\"+\n",
       "     \"</div>\"}};\n",
       "\n",
       "  function display_loaded() {\n",
       "    var el = document.getElementById(\"5c0e4aee-4444-45bb-91eb-768eccea9405\");\n",
       "    if (el != null) {\n",
       "      el.textContent = \"BokehJS is loading...\";\n",
       "    }\n",
       "    if (root.Bokeh !== undefined) {\n",
       "      if (el != null) {\n",
       "        el.textContent = \"BokehJS \" + root.Bokeh.version + \" successfully loaded.\";\n",
       "      }\n",
       "    } else if (Date.now() < root._bokeh_timeout) {\n",
       "      setTimeout(display_loaded, 100)\n",
       "    }\n",
       "  }\n",
       "\n",
       "\n",
       "  function run_callbacks() {\n",
       "    try {\n",
       "      root._bokeh_onload_callbacks.forEach(function(callback) { callback() });\n",
       "    }\n",
       "    finally {\n",
       "      delete root._bokeh_onload_callbacks\n",
       "    }\n",
       "    console.info(\"Bokeh: all callbacks have finished\");\n",
       "  }\n",
       "\n",
       "  function load_libs(js_urls, callback) {\n",
       "    root._bokeh_onload_callbacks.push(callback);\n",
       "    if (root._bokeh_is_loading > 0) {\n",
       "      console.log(\"Bokeh: BokehJS is being loaded, scheduling callback at\", now());\n",
       "      return null;\n",
       "    }\n",
       "    if (js_urls == null || js_urls.length === 0) {\n",
       "      run_callbacks();\n",
       "      return null;\n",
       "    }\n",
       "    console.log(\"Bokeh: BokehJS not loaded, scheduling load and callback at\", now());\n",
       "    root._bokeh_is_loading = js_urls.length;\n",
       "    for (var i = 0; i < js_urls.length; i++) {\n",
       "      var url = js_urls[i];\n",
       "      var s = document.createElement('script');\n",
       "      s.src = url;\n",
       "      s.async = false;\n",
       "      s.onreadystatechange = s.onload = function() {\n",
       "        root._bokeh_is_loading--;\n",
       "        if (root._bokeh_is_loading === 0) {\n",
       "          console.log(\"Bokeh: all BokehJS libraries loaded\");\n",
       "          run_callbacks()\n",
       "        }\n",
       "      };\n",
       "      s.onerror = function() {\n",
       "        console.warn(\"failed to load library \" + url);\n",
       "      };\n",
       "      console.log(\"Bokeh: injecting script tag for BokehJS library: \", url);\n",
       "      document.getElementsByTagName(\"head\")[0].appendChild(s);\n",
       "    }\n",
       "  };var element = document.getElementById(\"5c0e4aee-4444-45bb-91eb-768eccea9405\");\n",
       "  if (element == null) {\n",
       "    console.log(\"Bokeh: ERROR: autoload.js configured with elementid '5c0e4aee-4444-45bb-91eb-768eccea9405' but no matching script tag was found. \")\n",
       "    return false;\n",
       "  }\n",
       "\n",
       "  var js_urls = [\"https://cdn.pydata.org/bokeh/release/bokeh-0.12.10.min.js\", \"https://cdn.pydata.org/bokeh/release/bokeh-widgets-0.12.10.min.js\", \"https://cdn.pydata.org/bokeh/release/bokeh-tables-0.12.10.min.js\", \"https://cdn.pydata.org/bokeh/release/bokeh-gl-0.12.10.min.js\"];\n",
       "\n",
       "  var inline_js = [\n",
       "    function(Bokeh) {\n",
       "      Bokeh.set_log_level(\"info\");\n",
       "    },\n",
       "    \n",
       "    function(Bokeh) {\n",
       "      \n",
       "    },\n",
       "    function(Bokeh) {\n",
       "      console.log(\"Bokeh: injecting CSS: https://cdn.pydata.org/bokeh/release/bokeh-0.12.10.min.css\");\n",
       "      Bokeh.embed.inject_css(\"https://cdn.pydata.org/bokeh/release/bokeh-0.12.10.min.css\");\n",
       "      console.log(\"Bokeh: injecting CSS: https://cdn.pydata.org/bokeh/release/bokeh-widgets-0.12.10.min.css\");\n",
       "      Bokeh.embed.inject_css(\"https://cdn.pydata.org/bokeh/release/bokeh-widgets-0.12.10.min.css\");\n",
       "      console.log(\"Bokeh: injecting CSS: https://cdn.pydata.org/bokeh/release/bokeh-tables-0.12.10.min.css\");\n",
       "      Bokeh.embed.inject_css(\"https://cdn.pydata.org/bokeh/release/bokeh-tables-0.12.10.min.css\");\n",
       "    }\n",
       "  ];\n",
       "\n",
       "  function run_inline_js() {\n",
       "    \n",
       "    if ((root.Bokeh !== undefined) || (force === true)) {\n",
       "      for (var i = 0; i < inline_js.length; i++) {\n",
       "        inline_js[i].call(root, root.Bokeh);\n",
       "      }if (force === true) {\n",
       "        display_loaded();\n",
       "      }} else if (Date.now() < root._bokeh_timeout) {\n",
       "      setTimeout(run_inline_js, 100);\n",
       "    } else if (!root._bokeh_failed_load) {\n",
       "      console.log(\"Bokeh: BokehJS failed to load within specified timeout.\");\n",
       "      root._bokeh_failed_load = true;\n",
       "    } else if (force !== true) {\n",
       "      var cell = $(document.getElementById(\"5c0e4aee-4444-45bb-91eb-768eccea9405\")).parents('.cell').data().cell;\n",
       "      cell.output_area.append_execute_result(NB_LOAD_WARNING)\n",
       "    }\n",
       "\n",
       "  }\n",
       "\n",
       "  if (root._bokeh_is_loading === 0) {\n",
       "    console.log(\"Bokeh: BokehJS loaded, going straight to plotting\");\n",
       "    run_inline_js();\n",
       "  } else {\n",
       "    load_libs(js_urls, function() {\n",
       "      console.log(\"Bokeh: BokehJS plotting callback run at\", now());\n",
       "      run_inline_js();\n",
       "    });\n",
       "  }\n",
       "}(window));"
      ],
      "application/vnd.bokehjs_load.v0+json": "\n(function(root) {\n  function now() {\n    return new Date();\n  }\n\n  var force = true;\n\n  if (typeof (root._bokeh_onload_callbacks) === \"undefined\" || force === true) {\n    root._bokeh_onload_callbacks = [];\n    root._bokeh_is_loading = undefined;\n  }\n\n  \n\n  \n  if (typeof (root._bokeh_timeout) === \"undefined\" || force === true) {\n    root._bokeh_timeout = Date.now() + 5000;\n    root._bokeh_failed_load = false;\n  }\n\n  var NB_LOAD_WARNING = {'data': {'text/html':\n     \"<div style='background-color: #fdd'>\\n\"+\n     \"<p>\\n\"+\n     \"BokehJS does not appear to have successfully loaded. If loading BokehJS from CDN, this \\n\"+\n     \"may be due to a slow or bad network connection. Possible fixes:\\n\"+\n     \"</p>\\n\"+\n     \"<ul>\\n\"+\n     \"<li>re-rerun `output_notebook()` to attempt to load from CDN again, or</li>\\n\"+\n     \"<li>use INLINE resources instead, as so:</li>\\n\"+\n     \"</ul>\\n\"+\n     \"<code>\\n\"+\n     \"from bokeh.resources import INLINE\\n\"+\n     \"output_notebook(resources=INLINE)\\n\"+\n     \"</code>\\n\"+\n     \"</div>\"}};\n\n  function display_loaded() {\n    var el = document.getElementById(\"5c0e4aee-4444-45bb-91eb-768eccea9405\");\n    if (el != null) {\n      el.textContent = \"BokehJS is loading...\";\n    }\n    if (root.Bokeh !== undefined) {\n      if (el != null) {\n        el.textContent = \"BokehJS \" + root.Bokeh.version + \" successfully loaded.\";\n      }\n    } else if (Date.now() < root._bokeh_timeout) {\n      setTimeout(display_loaded, 100)\n    }\n  }\n\n\n  function run_callbacks() {\n    try {\n      root._bokeh_onload_callbacks.forEach(function(callback) { callback() });\n    }\n    finally {\n      delete root._bokeh_onload_callbacks\n    }\n    console.info(\"Bokeh: all callbacks have finished\");\n  }\n\n  function load_libs(js_urls, callback) {\n    root._bokeh_onload_callbacks.push(callback);\n    if (root._bokeh_is_loading > 0) {\n      console.log(\"Bokeh: BokehJS is being loaded, scheduling callback at\", now());\n      return null;\n    }\n    if (js_urls == null || js_urls.length === 0) {\n      run_callbacks();\n      return null;\n    }\n    console.log(\"Bokeh: BokehJS not loaded, scheduling load and callback at\", now());\n    root._bokeh_is_loading = js_urls.length;\n    for (var i = 0; i < js_urls.length; i++) {\n      var url = js_urls[i];\n      var s = document.createElement('script');\n      s.src = url;\n      s.async = false;\n      s.onreadystatechange = s.onload = function() {\n        root._bokeh_is_loading--;\n        if (root._bokeh_is_loading === 0) {\n          console.log(\"Bokeh: all BokehJS libraries loaded\");\n          run_callbacks()\n        }\n      };\n      s.onerror = function() {\n        console.warn(\"failed to load library \" + url);\n      };\n      console.log(\"Bokeh: injecting script tag for BokehJS library: \", url);\n      document.getElementsByTagName(\"head\")[0].appendChild(s);\n    }\n  };var element = document.getElementById(\"5c0e4aee-4444-45bb-91eb-768eccea9405\");\n  if (element == null) {\n    console.log(\"Bokeh: ERROR: autoload.js configured with elementid '5c0e4aee-4444-45bb-91eb-768eccea9405' but no matching script tag was found. \")\n    return false;\n  }\n\n  var js_urls = [\"https://cdn.pydata.org/bokeh/release/bokeh-0.12.10.min.js\", \"https://cdn.pydata.org/bokeh/release/bokeh-widgets-0.12.10.min.js\", \"https://cdn.pydata.org/bokeh/release/bokeh-tables-0.12.10.min.js\", \"https://cdn.pydata.org/bokeh/release/bokeh-gl-0.12.10.min.js\"];\n\n  var inline_js = [\n    function(Bokeh) {\n      Bokeh.set_log_level(\"info\");\n    },\n    \n    function(Bokeh) {\n      \n    },\n    function(Bokeh) {\n      console.log(\"Bokeh: injecting CSS: https://cdn.pydata.org/bokeh/release/bokeh-0.12.10.min.css\");\n      Bokeh.embed.inject_css(\"https://cdn.pydata.org/bokeh/release/bokeh-0.12.10.min.css\");\n      console.log(\"Bokeh: injecting CSS: https://cdn.pydata.org/bokeh/release/bokeh-widgets-0.12.10.min.css\");\n      Bokeh.embed.inject_css(\"https://cdn.pydata.org/bokeh/release/bokeh-widgets-0.12.10.min.css\");\n      console.log(\"Bokeh: injecting CSS: https://cdn.pydata.org/bokeh/release/bokeh-tables-0.12.10.min.css\");\n      Bokeh.embed.inject_css(\"https://cdn.pydata.org/bokeh/release/bokeh-tables-0.12.10.min.css\");\n    }\n  ];\n\n  function run_inline_js() {\n    \n    if ((root.Bokeh !== undefined) || (force === true)) {\n      for (var i = 0; i < inline_js.length; i++) {\n        inline_js[i].call(root, root.Bokeh);\n      }if (force === true) {\n        display_loaded();\n      }} else if (Date.now() < root._bokeh_timeout) {\n      setTimeout(run_inline_js, 100);\n    } else if (!root._bokeh_failed_load) {\n      console.log(\"Bokeh: BokehJS failed to load within specified timeout.\");\n      root._bokeh_failed_load = true;\n    } else if (force !== true) {\n      var cell = $(document.getElementById(\"5c0e4aee-4444-45bb-91eb-768eccea9405\")).parents('.cell').data().cell;\n      cell.output_area.append_execute_result(NB_LOAD_WARNING)\n    }\n\n  }\n\n  if (root._bokeh_is_loading === 0) {\n    console.log(\"Bokeh: BokehJS loaded, going straight to plotting\");\n    run_inline_js();\n  } else {\n    load_libs(js_urls, function() {\n      console.log(\"Bokeh: BokehJS plotting callback run at\", now());\n      run_inline_js();\n    });\n  }\n}(window));"
     },
     "metadata": {},
     "output_type": "display_data"
    }
   ],
   "source": [
    "from bokeh.plotting import figure\n",
    "from bokeh.io import output_notebook, push_notebook, show\n",
    "from bokeh.driving import linear\n",
    "from bokeh.layouts import row,gridplot\n",
    "output_notebook()"
   ]
  },
  {
   "cell_type": "markdown",
   "metadata": {
    "nbpresent": {
     "id": "aa7d4ac1-3969-42b4-8a2b-f921cf3157f2"
    }
   },
   "source": [
    "## Make Env be able to interface with code"
   ]
  },
  {
   "cell_type": "code",
   "execution_count": 59,
   "metadata": {
    "ExecuteTime": {
     "end_time": "2017-11-07T19:18:00.330641Z",
     "start_time": "2017-11-07T19:17:58.045982Z"
    },
    "code_folding": [],
    "collapsed": true,
    "nbpresent": {
     "id": "ed717a9d-ef8d-40d0-b145-b6312d8f977b"
    }
   },
   "outputs": [],
   "source": [
    "class Env:\n",
    "    def __init__(self,actions,obs_shape = 3):\n",
    "        self.world_state = None\n",
    "        self.my_mission_record = MalmoPython.MissionRecordSpec()\n",
    "        self.data = None\n",
    "        self.observation_space = np.zeros(shape=(obs_shape**2,))\n",
    "        self.grid = obs_shape\n",
    "        self.actions = actions\n",
    "        \n",
    "        self.host = MalmoPython.AgentHost()\n",
    "        try:\n",
    "            self.host.parse( sys.argv )\n",
    "        except RuntimeError as e:\n",
    "            print ('ERROR:',e)\n",
    "            print (self.host.getUsage())\n",
    "            if self.host.receivedArgument(\"help\"):\n",
    "                print (self.host.getUsage())\n",
    "                exit(0)\n",
    "    def _dist(self,x,y):\n",
    "        return np.sqrt(np.sum((x-y)**2))\n",
    "    def _locate_closest(self,block_id,grid,pos):\n",
    "        block_loc = np.argwhere(grid==block_id)\n",
    "        \n",
    "        if (block_loc.size == 0):\n",
    "            return None\n",
    "        else:\n",
    "            block_dist = []\n",
    "            for idx in block_loc:\n",
    "                block_dist.append(self._dist(idx,pos))\n",
    "            return np.min(np.array(block_dist))\n",
    "        \n",
    "    def observe(self):\n",
    "        num_frames_seen = self.world_state.number_of_video_frames_since_last_state\n",
    "        while self.world_state.is_mission_running and self.world_state.number_of_video_frames_since_last_state == num_frames_seen:\n",
    "            self.world_state = self.host.peekWorldState()\n",
    "        \n",
    "        while self.world_state.is_mission_running and all(e.text=='{}' for e in self.world_state.observations):\n",
    "            self.world_state = self.host.peekWorldState()\n",
    "        \n",
    "        if self.world_state.number_of_observations_since_last_state > 0:\n",
    "            self.data = json.loads(self.world_state.observations[-1].text)\n",
    "        \n",
    "\n",
    "        state = self.world_state\n",
    "            \n",
    "        #data = json.loads(state.observations[-1].text)\n",
    "        # get reward if detected, else reward is -1\n",
    "        reward = 0\n",
    "        if state.number_of_rewards_since_last_state > 0:\n",
    "            reward = state.rewards[0].getValue()\n",
    "    \n",
    "        # reformat grid to a vector that only show the floor with blocks\n",
    "        vec = []    \n",
    "        for item in self.data['grid'][::-1]:\n",
    "            if 'lava' in item:\n",
    "                vec.append(1)\n",
    "            elif 'lapis' in item:\n",
    "                vec.append(2)\n",
    "            else:\n",
    "                vec.append(0)\n",
    "        \n",
    "        \n",
    "        #calculate distance to target and assign reward\n",
    "        new_state = np.array(vec)\n",
    "        \n",
    "        #if self.world_state.is_mission_running is False and new_state.sum() != 0.1:\n",
    "        #    return 0,0,0,self.world_state\n",
    "        \n",
    "        tmp = np.array(vec).reshape(self.grid,self.grid)\n",
    "        center = int(np.floor(self.grid/2))\n",
    "        cntr_idx = (center,center)\n",
    "                     \n",
    "        target_dist = self._locate_closest(2,tmp,cntr_idx)\n",
    "        \n",
    "        fire_dist = self._locate_closest(1,tmp,cntr_idx)\n",
    "        \n",
    "        lnd_dist = self._locate_closest(0,tmp,cntr_idx)\n",
    "        \n",
    "        tmp[cntr_idx] = 5\n",
    "            \n",
    "        proto_state = [0,0,0]\n",
    "        reward+=0.01\n",
    "        \n",
    "        if target_dist:\n",
    "            reward += (1/(1+target_dist))*1000\n",
    "            proto_state[0] = target_dist\n",
    "        if fire_dist:\n",
    "            reward += (1/(1+fire_dist))*-100\n",
    "            proto_state[1] = fire_dist\n",
    "        if lnd_dist:\n",
    "            #reward += (1/(1+lnd_dist))\n",
    "            proto_state[2] = lnd_dist\n",
    "        return(reward,np.array(proto_state),self.data,state) # return r,s,data,extra_info\n",
    "        \n",
    "    def startworld(self,world_file):\n",
    "        with open(world_file,'r') as f:\n",
    "            my_mission = MalmoPython.MissionSpec(f.read(), True)\n",
    "        my_mission_record = MalmoPython.MissionRecordSpec()\n",
    "        # Attempt to start a mission:\n",
    "        max_retries = 3\n",
    "        for retry in range(max_retries):\n",
    "            try:\n",
    "                self.host.startMission( my_mission, my_mission_record )\n",
    "                sys.stdout.write(\"Mission Started\")\n",
    "                break\n",
    "            except RuntimeError as e:\n",
    "                if retry == max_retries - 1:\n",
    "                    print (\"Error starting mission:{}\".format(e))\n",
    "                    exit(1)\n",
    "                else:\n",
    "                    time.sleep(2)\n",
    "        # Loop until mission starts:\n",
    "        #print (\"Waiting for the mission to start \")\n",
    "        self.world_state = self.host.getWorldState()\n",
    "        while (not self.world_state.has_mission_begun):\n",
    "            sys.stdout.write(\".\")\n",
    "            time.sleep(0.1)\n",
    "            self.world_state = self.host.getWorldState()\n",
    "            for error in self.world_state.errors:\n",
    "                print (\"Error:\",error.text)\n",
    "                \n",
    "        ## wait until a valid observation        \n",
    "        while self.world_state.is_mission_running and all(e.text=='{}' for e in self.world_state.observations):\n",
    "            self.world_state = self.host.peekWorldState()\n",
    "        #populate emtpy fields for init\n",
    "        self.data = json.loads(self.world_state.observations[-1].text)\n",
    "        \n",
    "        return self.observe()\n",
    "    def quit(self):\n",
    "        self.host.sendCommand('quit')\n",
    "        \n",
    "    def step(self,action):\n",
    "        self.host.sendCommand(self.actions[action])\n",
    "        return self.observe()"
   ]
  },
  {
   "cell_type": "markdown",
   "metadata": {},
   "source": [
    "### Actions"
   ]
  },
  {
   "cell_type": "code",
   "execution_count": 43,
   "metadata": {
    "ExecuteTime": {
     "end_time": "2017-11-07T17:20:20.865234Z",
     "start_time": "2017-11-07T17:20:20.847033Z"
    },
    "collapsed": true
   },
   "outputs": [],
   "source": [
    "actions = {\n",
    "    'strafe':{\n",
    "        'left': 'strafe -1',\n",
    "        'right': 'strafe 1'\n",
    "    },\n",
    "    'move':{\n",
    "        'back':'move -1',\n",
    "        'forward':'move 1'\n",
    "    },\n",
    "    'pitch':{\n",
    "        'up':'pitch -0.03',\n",
    "        'down':'pitch 0.03'\n",
    "    },\n",
    "    'turn':{\n",
    "        'anti':'turn -1',\n",
    "        'clk':'turn 1'\n",
    "    },\n",
    "    'jump':{\n",
    "        'on':'jump 1',\n",
    "        'off':'jump 0'\n",
    "    },\n",
    "    'attack':{\n",
    "        'on': 'attack 1',\n",
    "        'off': 'attack 0'\n",
    "    },\n",
    "    'use':{\n",
    "        'on': 'use 1',\n",
    "        'off': 'use 0'\n",
    "    },\n",
    "    'crouch':{\n",
    "        'on':'crouch 1',\n",
    "        'off':'crouch 0'\n",
    "    }\n",
    "}"
   ]
  },
  {
   "cell_type": "code",
   "execution_count": 44,
   "metadata": {
    "ExecuteTime": {
     "end_time": "2017-11-07T17:20:21.406060Z",
     "start_time": "2017-11-07T17:20:21.398719Z"
    },
    "collapsed": true
   },
   "outputs": [],
   "source": [
    "simple_actions = {\n",
    "    'strafe':{\n",
    "        'left': 'strafe -1',\n",
    "        'right': 'strafe 1'\n",
    "    },\n",
    "    'move':{\n",
    "        'back':'move -1',\n",
    "        'forward':'move 1'\n",
    "    }   \n",
    "}\n",
    "# flatten dict of actions\n",
    "ractions = []\n",
    "for action_type in simple_actions.keys():\n",
    "    \n",
    "    for action in simple_actions[action_type]:\n",
    "        ractions.append(simple_actions[action_type][action])"
   ]
  },
  {
   "cell_type": "markdown",
   "metadata": {
    "nbpresent": {
     "id": "7cfe91e8-435e-4ef8-b7c5-2816074783df"
    }
   },
   "source": [
    "## Test ground"
   ]
  },
  {
   "cell_type": "code",
   "execution_count": 45,
   "metadata": {
    "ExecuteTime": {
     "end_time": "2017-11-07T17:20:22.785751Z",
     "start_time": "2017-11-07T17:20:22.774381Z"
    },
    "code_folding": [
     1,
     3,
     7
    ],
    "nbpresent": {
     "id": "76a26485-09ad-41b8-b5b3-73f109ad7d93"
    }
   },
   "outputs": [
    {
     "name": "stdout",
     "output_type": "stream",
     "text": [
      "ERROR: unrecognised option '-f'\n",
      "Malmo version: 0.31.0\n",
      "\n",
      "Allowed options:\n",
      "  -h [ --help ]         show description of allowed options\n",
      "  --test                run this as an integration test\n",
      "\n",
      "\n"
     ]
    }
   ],
   "source": [
    "agent_host = MalmoPython.AgentHost()\n",
    "try:\n",
    "    agent_host.parse( sys.argv )\n",
    "except RuntimeError as e:\n",
    "    print ('ERROR:',e)\n",
    "    print (agent_host.getUsage())\n",
    "    exit(1)\n",
    "if agent_host.receivedArgument(\"help\"):\n",
    "    print (agent_host.getUsage())\n",
    "    exit(0)"
   ]
  },
  {
   "cell_type": "code",
   "execution_count": 66,
   "metadata": {
    "ExecuteTime": {
     "end_time": "2017-11-07T19:26:35.787038Z",
     "start_time": "2017-11-07T19:26:35.339102Z"
    }
   },
   "outputs": [
    {
     "data": {
      "text/html": [
       "\n",
       "<div class=\"bk-root\">\n",
       "    <div class=\"bk-plotdiv\" id=\"7f151596-09eb-49ca-ad52-6c72d4015d2c\"></div>\n",
       "</div>"
      ]
     },
     "metadata": {},
     "output_type": "display_data"
    },
    {
     "data": {
      "application/javascript": [
       "(function(root) {\n",
       "  function embed_document(root) {\n",
       "    var docs_json = {\"167a6ba1-a1e9-4db2-9188-8c2179f9ce42\":{\"roots\":{\"references\":[{\"attributes\":{},\"id\":\"51b78a57-c578-4ecc-95eb-6183882dbf51\",\"type\":\"LinearScale\"},{\"attributes\":{},\"id\":\"057caa1f-8e7c-490b-b013-6fac44941ba7\",\"type\":\"BasicTickFormatter\"},{\"attributes\":{\"axis_label\":\"y\",\"formatter\":{\"id\":\"d17c5f49-ce96-4bbd-845e-a036db5e4398\",\"type\":\"BasicTickFormatter\"},\"plot\":{\"id\":\"cd84a4d6-0512-4ca6-9c28-3f99102710c2\",\"subtype\":\"Figure\",\"type\":\"Plot\"},\"ticker\":{\"id\":\"ce7f2f6e-8afd-4e9a-b203-d14661b7754c\",\"type\":\"BasicTicker\"}},\"id\":\"361cb261-9165-4bea-978a-c1984e644f41\",\"type\":\"LinearAxis\"},{\"attributes\":{},\"id\":\"e296c90c-bd3c-45bc-86be-941c3a4317ca\",\"type\":\"BasicTicker\"},{\"attributes\":{\"line_alpha\":{\"value\":0.1},\"line_color\":{\"value\":\"#1f77b4\"},\"line_width\":{\"value\":2},\"x\":{\"field\":\"x\"},\"y\":{\"field\":\"y\"}},\"id\":\"63f8f40a-84e8-46b5-bdd0-aa6eec572480\",\"type\":\"Line\"},{\"attributes\":{},\"id\":\"3bc69d0d-8337-48c1-836b-811c1457c591\",\"type\":\"WheelZoomTool\"},{\"attributes\":{\"active_drag\":\"auto\",\"active_inspect\":\"auto\",\"active_scroll\":\"auto\",\"active_tap\":\"auto\",\"tools\":[{\"id\":\"07b8e2fd-750f-4d91-96c0-3504257c0e0f\",\"type\":\"PanTool\"},{\"id\":\"3bc69d0d-8337-48c1-836b-811c1457c591\",\"type\":\"WheelZoomTool\"},{\"id\":\"ed155170-4ba8-4b81-b329-9fc66fbf9225\",\"type\":\"BoxZoomTool\"},{\"id\":\"e0d482d5-bc3f-4d55-9f2b-dcc05f7c2005\",\"type\":\"SaveTool\"},{\"id\":\"7ad45de3-43aa-4e6f-9fb1-6333928751a9\",\"type\":\"ResetTool\"},{\"id\":\"e457c80f-ac7d-421a-9a26-3c9a6a8c8cc0\",\"type\":\"HelpTool\"}]},\"id\":\"ab3a0670-70b8-486b-a15e-b555ce6a5f14\",\"type\":\"Toolbar\"},{\"attributes\":{},\"id\":\"ce7f2f6e-8afd-4e9a-b203-d14661b7754c\",\"type\":\"BasicTicker\"},{\"attributes\":{\"source\":{\"id\":\"cd214890-64ed-47a3-a8e4-88b2f97b4fc0\",\"type\":\"ColumnDataSource\"}},\"id\":\"55b89f61-d155-4e41-9725-d5ae6859452c\",\"type\":\"CDSView\"},{\"attributes\":{\"line_color\":{\"value\":\"firebrick\"},\"line_width\":{\"value\":2},\"x\":{\"field\":\"x\"},\"y\":{\"field\":\"y\"}},\"id\":\"03b40fb5-8724-46d3-bf0c-73c962ae3594\",\"type\":\"Line\"},{\"attributes\":{\"data_source\":{\"id\":\"cd214890-64ed-47a3-a8e4-88b2f97b4fc0\",\"type\":\"ColumnDataSource\"},\"glyph\":{\"id\":\"03b40fb5-8724-46d3-bf0c-73c962ae3594\",\"type\":\"Line\"},\"hover_glyph\":null,\"muted_glyph\":null,\"nonselection_glyph\":{\"id\":\"63f8f40a-84e8-46b5-bdd0-aa6eec572480\",\"type\":\"Line\"},\"selection_glyph\":null,\"view\":{\"id\":\"55b89f61-d155-4e41-9725-d5ae6859452c\",\"type\":\"CDSView\"}},\"id\":\"010a6736-0a08-4f05-80a7-3904adba1ac6\",\"type\":\"GlyphRenderer\"},{\"attributes\":{\"plot\":{\"id\":\"cd84a4d6-0512-4ca6-9c28-3f99102710c2\",\"subtype\":\"Figure\",\"type\":\"Plot\"},\"ticker\":{\"id\":\"e296c90c-bd3c-45bc-86be-941c3a4317ca\",\"type\":\"BasicTicker\"}},\"id\":\"99d41421-92c1-4d56-9faa-427ec0aaa9c5\",\"type\":\"Grid\"},{\"attributes\":{\"overlay\":{\"id\":\"4aa09294-635c-4100-971c-da06fe5136ff\",\"type\":\"BoxAnnotation\"}},\"id\":\"ed155170-4ba8-4b81-b329-9fc66fbf9225\",\"type\":\"BoxZoomTool\"},{\"attributes\":{\"callback\":null},\"id\":\"be1662f7-5e14-4dc7-98cc-2e01546c2552\",\"type\":\"DataRange1d\"},{\"attributes\":{},\"id\":\"7ad45de3-43aa-4e6f-9fb1-6333928751a9\",\"type\":\"ResetTool\"},{\"attributes\":{},\"id\":\"e0d482d5-bc3f-4d55-9f2b-dcc05f7c2005\",\"type\":\"SaveTool\"},{\"attributes\":{},\"id\":\"07b8e2fd-750f-4d91-96c0-3504257c0e0f\",\"type\":\"PanTool\"},{\"attributes\":{\"below\":[{\"id\":\"2280221b-1ff4-45f4-b7d9-e070b3ad3d40\",\"type\":\"LinearAxis\"}],\"left\":[{\"id\":\"361cb261-9165-4bea-978a-c1984e644f41\",\"type\":\"LinearAxis\"}],\"plot_height\":400,\"plot_width\":400,\"renderers\":[{\"id\":\"2280221b-1ff4-45f4-b7d9-e070b3ad3d40\",\"type\":\"LinearAxis\"},{\"id\":\"99d41421-92c1-4d56-9faa-427ec0aaa9c5\",\"type\":\"Grid\"},{\"id\":\"361cb261-9165-4bea-978a-c1984e644f41\",\"type\":\"LinearAxis\"},{\"id\":\"d7f59d78-e011-4622-a38e-98f770011570\",\"type\":\"Grid\"},{\"id\":\"4aa09294-635c-4100-971c-da06fe5136ff\",\"type\":\"BoxAnnotation\"},{\"id\":\"010a6736-0a08-4f05-80a7-3904adba1ac6\",\"type\":\"GlyphRenderer\"}],\"title\":{\"id\":\"6deb8629-93eb-49c5-813f-9db1c46f6b0d\",\"type\":\"Title\"},\"toolbar\":{\"id\":\"ab3a0670-70b8-486b-a15e-b555ce6a5f14\",\"type\":\"Toolbar\"},\"x_range\":{\"id\":\"be1662f7-5e14-4dc7-98cc-2e01546c2552\",\"type\":\"DataRange1d\"},\"x_scale\":{\"id\":\"51b78a57-c578-4ecc-95eb-6183882dbf51\",\"type\":\"LinearScale\"},\"y_range\":{\"id\":\"6953fb52-93c2-4132-8e46-9c21678333e2\",\"type\":\"DataRange1d\"},\"y_scale\":{\"id\":\"ea9ad0c6-3faf-4822-b10a-bfecb9594a47\",\"type\":\"LinearScale\"}},\"id\":\"cd84a4d6-0512-4ca6-9c28-3f99102710c2\",\"subtype\":\"Figure\",\"type\":\"Plot\"},{\"attributes\":{\"axis_label\":\"x\",\"formatter\":{\"id\":\"057caa1f-8e7c-490b-b013-6fac44941ba7\",\"type\":\"BasicTickFormatter\"},\"plot\":{\"id\":\"cd84a4d6-0512-4ca6-9c28-3f99102710c2\",\"subtype\":\"Figure\",\"type\":\"Plot\"},\"ticker\":{\"id\":\"e296c90c-bd3c-45bc-86be-941c3a4317ca\",\"type\":\"BasicTicker\"}},\"id\":\"2280221b-1ff4-45f4-b7d9-e070b3ad3d40\",\"type\":\"LinearAxis\"},{\"attributes\":{\"dimension\":1,\"plot\":{\"id\":\"cd84a4d6-0512-4ca6-9c28-3f99102710c2\",\"subtype\":\"Figure\",\"type\":\"Plot\"},\"ticker\":{\"id\":\"ce7f2f6e-8afd-4e9a-b203-d14661b7754c\",\"type\":\"BasicTicker\"}},\"id\":\"d7f59d78-e011-4622-a38e-98f770011570\",\"type\":\"Grid\"},{\"attributes\":{},\"id\":\"d17c5f49-ce96-4bbd-845e-a036db5e4398\",\"type\":\"BasicTickFormatter\"},{\"attributes\":{\"plot\":null,\"text\":\"rewards\"},\"id\":\"6deb8629-93eb-49c5-813f-9db1c46f6b0d\",\"type\":\"Title\"},{\"attributes\":{},\"id\":\"e457c80f-ac7d-421a-9a26-3c9a6a8c8cc0\",\"type\":\"HelpTool\"},{\"attributes\":{},\"id\":\"ea9ad0c6-3faf-4822-b10a-bfecb9594a47\",\"type\":\"LinearScale\"},{\"attributes\":{\"bottom_units\":\"screen\",\"fill_alpha\":{\"value\":0.5},\"fill_color\":{\"value\":\"lightgrey\"},\"left_units\":\"screen\",\"level\":\"overlay\",\"line_alpha\":{\"value\":1.0},\"line_color\":{\"value\":\"black\"},\"line_dash\":[4,4],\"line_width\":{\"value\":2},\"plot\":null,\"render_mode\":\"css\",\"right_units\":\"screen\",\"top_units\":\"screen\"},\"id\":\"4aa09294-635c-4100-971c-da06fe5136ff\",\"type\":\"BoxAnnotation\"},{\"attributes\":{\"callback\":null,\"column_names\":[\"x\",\"y\"],\"data\":{\"x\":[],\"y\":[]}},\"id\":\"cd214890-64ed-47a3-a8e4-88b2f97b4fc0\",\"type\":\"ColumnDataSource\"},{\"attributes\":{\"callback\":null},\"id\":\"6953fb52-93c2-4132-8e46-9c21678333e2\",\"type\":\"DataRange1d\"}],\"root_ids\":[\"cd84a4d6-0512-4ca6-9c28-3f99102710c2\"]},\"title\":\"Bokeh Application\",\"version\":\"0.12.10\"}};\n",
       "    var render_items = [{\"docid\":\"167a6ba1-a1e9-4db2-9188-8c2179f9ce42\",\"elementid\":\"7f151596-09eb-49ca-ad52-6c72d4015d2c\",\"modelid\":\"cd84a4d6-0512-4ca6-9c28-3f99102710c2\",\"notebook_comms_target\":\"4f74952e-79e7-48a5-8dcd-faab6d1f356b\"}];\n",
       "\n",
       "    root.Bokeh.embed.embed_items(docs_json, render_items);\n",
       "  }\n",
       "\n",
       "  if (root.Bokeh !== undefined) {\n",
       "    embed_document(root);\n",
       "  } else {\n",
       "    var attempts = 0;\n",
       "    var timer = setInterval(function(root) {\n",
       "      if (root.Bokeh !== undefined) {\n",
       "        embed_document(root);\n",
       "        clearInterval(timer);\n",
       "      }\n",
       "      attempts++;\n",
       "      if (attempts > 100) {\n",
       "        console.log(\"Bokeh: ERROR: Unable to embed document because BokehJS library is missing\")\n",
       "        clearInterval(timer);\n",
       "      }\n",
       "    }, 10, root)\n",
       "  }\n",
       "})(window);"
      ],
      "application/vnd.bokehjs_exec.v0+json": ""
     },
     "metadata": {
      "application/vnd.bokehjs_exec.v0+json": {
       "id": "cd84a4d6-0512-4ca6-9c28-3f99102710c2"
      }
     },
     "output_type": "display_data"
    }
   ],
   "source": [
    "p = figure(plot_width=400, plot_height=400,title=\"rewards\",\n",
    "                      x_axis_label=\"x\",\n",
    "                      y_axis_label=\"y\")\n",
    "test_plot = p.line([],[],color=\"firebrick\",line_width=2)\n",
    "# make a grid\n",
    "test_handle = show(p, notebook_handle=True)"
   ]
  },
  {
   "cell_type": "code",
   "execution_count": 67,
   "metadata": {
    "ExecuteTime": {
     "end_time": "2017-11-07T20:01:10.882253Z",
     "start_time": "2017-11-07T19:26:38.513474Z"
    },
    "scrolled": true
   },
   "outputs": [
    {
     "data": {
      "text/plain": [
       "array([ 11.18033989,   1.        ,   0.        ])"
      ]
     },
     "metadata": {},
     "output_type": "display_data"
    },
    {
     "data": {
      "text/plain": [
       "32.109515221765719"
      ]
     },
     "metadata": {},
     "output_type": "display_data"
    },
    {
     "name": "stderr",
     "output_type": "stream",
     "text": [
      "/home/ubuntu/miniconda2/envs/casper/lib/python3.5/site-packages/bokeh/models/sources.py:137: BokehUserWarning: ColumnDataSource's columns must be of the same length. Current lengths: ('x', 5965), ('y', 5964)\n",
      "  \"Current lengths: %s\" % \", \".join(sorted(str((k, len(v))) for k, v in data.items())), BokehUserWarning))\n"
     ]
    },
    {
     "ename": "KeyboardInterrupt",
     "evalue": "",
     "output_type": "error",
     "traceback": [
      "\u001b[0;31m---------------------------------------------------------------------------\u001b[0m",
      "\u001b[0;31mKeyboardInterrupt\u001b[0m                         Traceback (most recent call last)",
      "\u001b[0;32m<ipython-input-67-ea383b5c38a8>\u001b[0m in \u001b[0;36m<module>\u001b[0;34m()\u001b[0m\n\u001b[1;32m     15\u001b[0m         \u001b[0;31m#display(s,r)\u001b[0m\u001b[0;34m\u001b[0m\u001b[0;34m\u001b[0m\u001b[0m\n\u001b[1;32m     16\u001b[0m         \u001b[0mprint\u001b[0m\u001b[0;34m(\u001b[0m\u001b[0;34m'done'\u001b[0m\u001b[0;34m)\u001b[0m\u001b[0;34m\u001b[0m\u001b[0m\n\u001b[0;32m---> 17\u001b[0;31m     \u001b[0mr\u001b[0m\u001b[0;34m,\u001b[0m\u001b[0ms\u001b[0m\u001b[0;34m,\u001b[0m\u001b[0mdata\u001b[0m\u001b[0;34m,\u001b[0m\u001b[0mws\u001b[0m \u001b[0;34m=\u001b[0m \u001b[0mtempenv\u001b[0m\u001b[0;34m.\u001b[0m\u001b[0mobserve\u001b[0m\u001b[0;34m(\u001b[0m\u001b[0;34m)\u001b[0m\u001b[0;34m\u001b[0m\u001b[0m\n\u001b[0m",
      "\u001b[0;32m<ipython-input-59-254e19a6c12a>\u001b[0m in \u001b[0;36mobserve\u001b[0;34m(self)\u001b[0m\n\u001b[1;32m     75\u001b[0m         \u001b[0mfire_dist\u001b[0m \u001b[0;34m=\u001b[0m \u001b[0mself\u001b[0m\u001b[0;34m.\u001b[0m\u001b[0m_locate_closest\u001b[0m\u001b[0;34m(\u001b[0m\u001b[0;36m1\u001b[0m\u001b[0;34m,\u001b[0m\u001b[0mtmp\u001b[0m\u001b[0;34m,\u001b[0m\u001b[0mcntr_idx\u001b[0m\u001b[0;34m)\u001b[0m\u001b[0;34m\u001b[0m\u001b[0m\n\u001b[1;32m     76\u001b[0m \u001b[0;34m\u001b[0m\u001b[0m\n\u001b[0;32m---> 77\u001b[0;31m         \u001b[0mlnd_dist\u001b[0m \u001b[0;34m=\u001b[0m \u001b[0mself\u001b[0m\u001b[0;34m.\u001b[0m\u001b[0m_locate_closest\u001b[0m\u001b[0;34m(\u001b[0m\u001b[0;36m0\u001b[0m\u001b[0;34m,\u001b[0m\u001b[0mtmp\u001b[0m\u001b[0;34m,\u001b[0m\u001b[0mcntr_idx\u001b[0m\u001b[0;34m)\u001b[0m\u001b[0;34m\u001b[0m\u001b[0m\n\u001b[0m\u001b[1;32m     78\u001b[0m \u001b[0;34m\u001b[0m\u001b[0m\n\u001b[1;32m     79\u001b[0m         \u001b[0mtmp\u001b[0m\u001b[0;34m[\u001b[0m\u001b[0mcntr_idx\u001b[0m\u001b[0;34m]\u001b[0m \u001b[0;34m=\u001b[0m \u001b[0;36m5\u001b[0m\u001b[0;34m\u001b[0m\u001b[0m\n",
      "\u001b[0;32m<ipython-input-59-254e19a6c12a>\u001b[0m in \u001b[0;36m_locate_closest\u001b[0;34m(self, block_id, grid, pos)\u001b[0m\n\u001b[1;32m     27\u001b[0m             \u001b[0mblock_dist\u001b[0m \u001b[0;34m=\u001b[0m \u001b[0;34m[\u001b[0m\u001b[0;34m]\u001b[0m\u001b[0;34m\u001b[0m\u001b[0m\n\u001b[1;32m     28\u001b[0m             \u001b[0;32mfor\u001b[0m \u001b[0midx\u001b[0m \u001b[0;32min\u001b[0m \u001b[0mblock_loc\u001b[0m\u001b[0;34m:\u001b[0m\u001b[0;34m\u001b[0m\u001b[0m\n\u001b[0;32m---> 29\u001b[0;31m                 \u001b[0mblock_dist\u001b[0m\u001b[0;34m.\u001b[0m\u001b[0mappend\u001b[0m\u001b[0;34m(\u001b[0m\u001b[0mself\u001b[0m\u001b[0;34m.\u001b[0m\u001b[0m_dist\u001b[0m\u001b[0;34m(\u001b[0m\u001b[0midx\u001b[0m\u001b[0;34m,\u001b[0m\u001b[0mpos\u001b[0m\u001b[0;34m)\u001b[0m\u001b[0;34m)\u001b[0m\u001b[0;34m\u001b[0m\u001b[0m\n\u001b[0m\u001b[1;32m     30\u001b[0m             \u001b[0;32mreturn\u001b[0m \u001b[0mnp\u001b[0m\u001b[0;34m.\u001b[0m\u001b[0mmin\u001b[0m\u001b[0;34m(\u001b[0m\u001b[0mnp\u001b[0m\u001b[0;34m.\u001b[0m\u001b[0marray\u001b[0m\u001b[0;34m(\u001b[0m\u001b[0mblock_dist\u001b[0m\u001b[0;34m)\u001b[0m\u001b[0;34m)\u001b[0m\u001b[0;34m\u001b[0m\u001b[0m\n\u001b[1;32m     31\u001b[0m \u001b[0;34m\u001b[0m\u001b[0m\n",
      "\u001b[0;32m<ipython-input-59-254e19a6c12a>\u001b[0m in \u001b[0;36m_dist\u001b[0;34m(self, x, y)\u001b[0m\n\u001b[1;32m     18\u001b[0m                 \u001b[0mexit\u001b[0m\u001b[0;34m(\u001b[0m\u001b[0;36m0\u001b[0m\u001b[0;34m)\u001b[0m\u001b[0;34m\u001b[0m\u001b[0m\n\u001b[1;32m     19\u001b[0m     \u001b[0;32mdef\u001b[0m \u001b[0m_dist\u001b[0m\u001b[0;34m(\u001b[0m\u001b[0mself\u001b[0m\u001b[0;34m,\u001b[0m\u001b[0mx\u001b[0m\u001b[0;34m,\u001b[0m\u001b[0my\u001b[0m\u001b[0;34m)\u001b[0m\u001b[0;34m:\u001b[0m\u001b[0;34m\u001b[0m\u001b[0m\n\u001b[0;32m---> 20\u001b[0;31m         \u001b[0;32mreturn\u001b[0m \u001b[0mnp\u001b[0m\u001b[0;34m.\u001b[0m\u001b[0msqrt\u001b[0m\u001b[0;34m(\u001b[0m\u001b[0mnp\u001b[0m\u001b[0;34m.\u001b[0m\u001b[0msum\u001b[0m\u001b[0;34m(\u001b[0m\u001b[0;34m(\u001b[0m\u001b[0mx\u001b[0m\u001b[0;34m-\u001b[0m\u001b[0my\u001b[0m\u001b[0;34m)\u001b[0m\u001b[0;34m**\u001b[0m\u001b[0;36m2\u001b[0m\u001b[0;34m)\u001b[0m\u001b[0;34m)\u001b[0m\u001b[0;34m\u001b[0m\u001b[0m\n\u001b[0m\u001b[1;32m     21\u001b[0m     \u001b[0;32mdef\u001b[0m \u001b[0m_locate_closest\u001b[0m\u001b[0;34m(\u001b[0m\u001b[0mself\u001b[0m\u001b[0;34m,\u001b[0m\u001b[0mblock_id\u001b[0m\u001b[0;34m,\u001b[0m\u001b[0mgrid\u001b[0m\u001b[0;34m,\u001b[0m\u001b[0mpos\u001b[0m\u001b[0;34m)\u001b[0m\u001b[0;34m:\u001b[0m\u001b[0;34m\u001b[0m\u001b[0m\n\u001b[1;32m     22\u001b[0m         \u001b[0mblock_loc\u001b[0m \u001b[0;34m=\u001b[0m \u001b[0mnp\u001b[0m\u001b[0;34m.\u001b[0m\u001b[0margwhere\u001b[0m\u001b[0;34m(\u001b[0m\u001b[0mgrid\u001b[0m\u001b[0;34m==\u001b[0m\u001b[0mblock_id\u001b[0m\u001b[0;34m)\u001b[0m\u001b[0;34m\u001b[0m\u001b[0m\n",
      "\u001b[0;31mKeyboardInterrupt\u001b[0m: "
     ]
    }
   ],
   "source": [
    "tempenv = Env(None,61\n",
    "             d)\n",
    "r,s,data,ws = tempenv.startworld(\"CliffWalking.xml\")\n",
    "R = 0\n",
    "for t in itertools.count():\n",
    "    clear_output(wait=True)\n",
    "    display(s,r)\n",
    "\n",
    "    #time.sleep(1)\n",
    "    R += r\n",
    "    \n",
    "    update(t,R,test_plot,test_handle)\n",
    "    if ws.is_mission_running is False:\n",
    "        r,s,data,ws = tempenv.startworld(\"CliffWalking.xml\")\n",
    "        #clear_output(wait=True)\n",
    "        #display(s,r)\n",
    "        print('done')\n",
    "    r,s,data,ws = tempenv.observe()\n"
   ]
  },
  {
   "cell_type": "markdown",
   "metadata": {},
   "source": [
    "## Run Code"
   ]
  },
  {
   "cell_type": "code",
   "execution_count": 62,
   "metadata": {
    "ExecuteTime": {
     "end_time": "2017-11-07T19:18:54.885055Z",
     "start_time": "2017-11-07T19:18:54.328854Z"
    },
    "nbpresent": {
     "id": "e5e16cbc-6376-415e-9a57-ea14065633cb"
    },
    "scrolled": false
   },
   "outputs": [
    {
     "data": {
      "text/html": [
       "\n",
       "<div class=\"bk-root\">\n",
       "    <div class=\"bk-plotdiv\" id=\"d1764011-12f3-4fe2-b14b-9d716b2e9c8d\"></div>\n",
       "</div>"
      ]
     },
     "metadata": {},
     "output_type": "display_data"
    },
    {
     "data": {
      "application/javascript": [
       "(function(root) {\n",
       "  function embed_document(root) {\n",
       "    var docs_json = {\"897a2eee-5867-4e13-a508-1204973bfa7c\":{\"roots\":{\"references\":[{\"attributes\":{\"overlay\":{\"id\":\"d054b706-6449-4175-8130-2c189123ff0d\",\"type\":\"BoxAnnotation\"}},\"id\":\"4701ddeb-537e-44a9-b955-970cda96a9c2\",\"type\":\"BoxZoomTool\"},{\"attributes\":{\"callback\":null},\"id\":\"b4e97e26-92f1-44a3-ba34-8713df94f6a1\",\"type\":\"DataRange1d\"},{\"attributes\":{},\"id\":\"15d2481b-73e4-42bd-b500-f6e6a7eb5409\",\"type\":\"PanTool\"},{\"attributes\":{\"bottom_units\":\"screen\",\"fill_alpha\":{\"value\":0.5},\"fill_color\":{\"value\":\"lightgrey\"},\"left_units\":\"screen\",\"level\":\"overlay\",\"line_alpha\":{\"value\":1.0},\"line_color\":{\"value\":\"black\"},\"line_dash\":[4,4],\"line_width\":{\"value\":2},\"plot\":null,\"render_mode\":\"css\",\"right_units\":\"screen\",\"top_units\":\"screen\"},\"id\":\"d054b706-6449-4175-8130-2c189123ff0d\",\"type\":\"BoxAnnotation\"},{\"attributes\":{\"callback\":null,\"column_names\":[\"x\",\"y\"],\"data\":{\"x\":[],\"y\":[]}},\"id\":\"e3c46b79-a6d0-40d5-822f-1c8443fd6383\",\"type\":\"ColumnDataSource\"},{\"attributes\":{},\"id\":\"46e736cf-4f52-4458-85ee-35cb8a8224e1\",\"type\":\"BasicTickFormatter\"},{\"attributes\":{},\"id\":\"f4ae6a20-f045-4614-8032-da34072f8e7a\",\"type\":\"BasicTickFormatter\"},{\"attributes\":{\"line_color\":{\"value\":\"firebrick\"},\"line_width\":{\"value\":2},\"x\":{\"field\":\"x\"},\"y\":{\"field\":\"y\"}},\"id\":\"8dc3e9ab-5715-487c-b3bb-71e78285178d\",\"type\":\"Line\"},{\"attributes\":{\"plot\":null,\"text\":\"rewards\"},\"id\":\"4563b26f-6bee-44c2-aeba-8ba246b78760\",\"type\":\"Title\"},{\"attributes\":{\"plot\":{\"id\":\"c8f9def4-6066-4122-8ea0-e7ae372c7d08\",\"subtype\":\"Figure\",\"type\":\"Plot\"},\"ticker\":{\"id\":\"a7b55f53-3a59-48eb-b23f-e784d728b1ed\",\"type\":\"BasicTicker\"}},\"id\":\"3eb7f292-698f-48ce-87bc-bc0d74631026\",\"type\":\"Grid\"},{\"attributes\":{},\"id\":\"5c9f8c50-62d7-4289-9c53-ec139be727dc\",\"type\":\"SaveTool\"},{\"attributes\":{},\"id\":\"fd81ba37-6730-41e8-88ce-66287693138f\",\"type\":\"HelpTool\"},{\"attributes\":{\"source\":{\"id\":\"e3c46b79-a6d0-40d5-822f-1c8443fd6383\",\"type\":\"ColumnDataSource\"}},\"id\":\"c6707c6e-bfb1-4edd-bc87-af3329eef5ba\",\"type\":\"CDSView\"},{\"attributes\":{\"callback\":null},\"id\":\"79c0f045-5409-4b53-b641-fbe753b602f6\",\"type\":\"DataRange1d\"},{\"attributes\":{},\"id\":\"76c3a2f0-263a-4a9b-a7ab-6cc960a677ff\",\"type\":\"ResetTool\"},{\"attributes\":{},\"id\":\"d7f59300-c86b-4b71-8b9c-edc476e8997f\",\"type\":\"WheelZoomTool\"},{\"attributes\":{},\"id\":\"d1160e21-d490-455f-99e2-5f58a580a2c4\",\"type\":\"BasicTicker\"},{\"attributes\":{\"dimension\":1,\"plot\":{\"id\":\"c8f9def4-6066-4122-8ea0-e7ae372c7d08\",\"subtype\":\"Figure\",\"type\":\"Plot\"},\"ticker\":{\"id\":\"d1160e21-d490-455f-99e2-5f58a580a2c4\",\"type\":\"BasicTicker\"}},\"id\":\"7da28daf-d0c2-41f4-8c8d-23a728fd2f76\",\"type\":\"Grid\"},{\"attributes\":{\"axis_label\":\"x\",\"formatter\":{\"id\":\"46e736cf-4f52-4458-85ee-35cb8a8224e1\",\"type\":\"BasicTickFormatter\"},\"plot\":{\"id\":\"c8f9def4-6066-4122-8ea0-e7ae372c7d08\",\"subtype\":\"Figure\",\"type\":\"Plot\"},\"ticker\":{\"id\":\"a7b55f53-3a59-48eb-b23f-e784d728b1ed\",\"type\":\"BasicTicker\"}},\"id\":\"260c3613-fb4d-4615-9861-60b5d623c214\",\"type\":\"LinearAxis\"},{\"attributes\":{\"active_drag\":\"auto\",\"active_inspect\":\"auto\",\"active_scroll\":\"auto\",\"active_tap\":\"auto\",\"tools\":[{\"id\":\"15d2481b-73e4-42bd-b500-f6e6a7eb5409\",\"type\":\"PanTool\"},{\"id\":\"d7f59300-c86b-4b71-8b9c-edc476e8997f\",\"type\":\"WheelZoomTool\"},{\"id\":\"4701ddeb-537e-44a9-b955-970cda96a9c2\",\"type\":\"BoxZoomTool\"},{\"id\":\"5c9f8c50-62d7-4289-9c53-ec139be727dc\",\"type\":\"SaveTool\"},{\"id\":\"76c3a2f0-263a-4a9b-a7ab-6cc960a677ff\",\"type\":\"ResetTool\"},{\"id\":\"fd81ba37-6730-41e8-88ce-66287693138f\",\"type\":\"HelpTool\"}]},\"id\":\"16b0fd33-6bfd-4838-bc9d-aa6794d49ad2\",\"type\":\"Toolbar\"},{\"attributes\":{},\"id\":\"52355e2e-75a8-491f-82e2-1fe45f343aa3\",\"type\":\"LinearScale\"},{\"attributes\":{\"data_source\":{\"id\":\"e3c46b79-a6d0-40d5-822f-1c8443fd6383\",\"type\":\"ColumnDataSource\"},\"glyph\":{\"id\":\"8dc3e9ab-5715-487c-b3bb-71e78285178d\",\"type\":\"Line\"},\"hover_glyph\":null,\"muted_glyph\":null,\"nonselection_glyph\":{\"id\":\"a01b45dc-2956-4df1-a97d-f1c1b30c6c85\",\"type\":\"Line\"},\"selection_glyph\":null,\"view\":{\"id\":\"c6707c6e-bfb1-4edd-bc87-af3329eef5ba\",\"type\":\"CDSView\"}},\"id\":\"fc93e0c8-e735-40e1-9360-eb527ca4a512\",\"type\":\"GlyphRenderer\"},{\"attributes\":{\"axis_label\":\"y\",\"formatter\":{\"id\":\"f4ae6a20-f045-4614-8032-da34072f8e7a\",\"type\":\"BasicTickFormatter\"},\"plot\":{\"id\":\"c8f9def4-6066-4122-8ea0-e7ae372c7d08\",\"subtype\":\"Figure\",\"type\":\"Plot\"},\"ticker\":{\"id\":\"d1160e21-d490-455f-99e2-5f58a580a2c4\",\"type\":\"BasicTicker\"}},\"id\":\"65e26f76-4bf7-4014-8583-2ae9ad3347a3\",\"type\":\"LinearAxis\"},{\"attributes\":{\"below\":[{\"id\":\"260c3613-fb4d-4615-9861-60b5d623c214\",\"type\":\"LinearAxis\"}],\"left\":[{\"id\":\"65e26f76-4bf7-4014-8583-2ae9ad3347a3\",\"type\":\"LinearAxis\"}],\"plot_height\":400,\"plot_width\":400,\"renderers\":[{\"id\":\"260c3613-fb4d-4615-9861-60b5d623c214\",\"type\":\"LinearAxis\"},{\"id\":\"3eb7f292-698f-48ce-87bc-bc0d74631026\",\"type\":\"Grid\"},{\"id\":\"65e26f76-4bf7-4014-8583-2ae9ad3347a3\",\"type\":\"LinearAxis\"},{\"id\":\"7da28daf-d0c2-41f4-8c8d-23a728fd2f76\",\"type\":\"Grid\"},{\"id\":\"d054b706-6449-4175-8130-2c189123ff0d\",\"type\":\"BoxAnnotation\"},{\"id\":\"fc93e0c8-e735-40e1-9360-eb527ca4a512\",\"type\":\"GlyphRenderer\"}],\"title\":{\"id\":\"4563b26f-6bee-44c2-aeba-8ba246b78760\",\"type\":\"Title\"},\"toolbar\":{\"id\":\"16b0fd33-6bfd-4838-bc9d-aa6794d49ad2\",\"type\":\"Toolbar\"},\"x_range\":{\"id\":\"79c0f045-5409-4b53-b641-fbe753b602f6\",\"type\":\"DataRange1d\"},\"x_scale\":{\"id\":\"b0dc848e-644b-4e3b-ab8c-c9fac0e51379\",\"type\":\"LinearScale\"},\"y_range\":{\"id\":\"b4e97e26-92f1-44a3-ba34-8713df94f6a1\",\"type\":\"DataRange1d\"},\"y_scale\":{\"id\":\"52355e2e-75a8-491f-82e2-1fe45f343aa3\",\"type\":\"LinearScale\"}},\"id\":\"c8f9def4-6066-4122-8ea0-e7ae372c7d08\",\"subtype\":\"Figure\",\"type\":\"Plot\"},{\"attributes\":{},\"id\":\"a7b55f53-3a59-48eb-b23f-e784d728b1ed\",\"type\":\"BasicTicker\"},{\"attributes\":{},\"id\":\"b0dc848e-644b-4e3b-ab8c-c9fac0e51379\",\"type\":\"LinearScale\"},{\"attributes\":{\"line_alpha\":{\"value\":0.1},\"line_color\":{\"value\":\"#1f77b4\"},\"line_width\":{\"value\":2},\"x\":{\"field\":\"x\"},\"y\":{\"field\":\"y\"}},\"id\":\"a01b45dc-2956-4df1-a97d-f1c1b30c6c85\",\"type\":\"Line\"}],\"root_ids\":[\"c8f9def4-6066-4122-8ea0-e7ae372c7d08\"]},\"title\":\"Bokeh Application\",\"version\":\"0.12.10\"}};\n",
       "    var render_items = [{\"docid\":\"897a2eee-5867-4e13-a508-1204973bfa7c\",\"elementid\":\"d1764011-12f3-4fe2-b14b-9d716b2e9c8d\",\"modelid\":\"c8f9def4-6066-4122-8ea0-e7ae372c7d08\",\"notebook_comms_target\":\"bd305df9-0d5a-46ef-bfc6-431f08215f98\"}];\n",
       "\n",
       "    root.Bokeh.embed.embed_items(docs_json, render_items);\n",
       "  }\n",
       "\n",
       "  if (root.Bokeh !== undefined) {\n",
       "    embed_document(root);\n",
       "  } else {\n",
       "    var attempts = 0;\n",
       "    var timer = setInterval(function(root) {\n",
       "      if (root.Bokeh !== undefined) {\n",
       "        embed_document(root);\n",
       "        clearInterval(timer);\n",
       "      }\n",
       "      attempts++;\n",
       "      if (attempts > 100) {\n",
       "        console.log(\"Bokeh: ERROR: Unable to embed document because BokehJS library is missing\")\n",
       "        clearInterval(timer);\n",
       "      }\n",
       "    }, 10, root)\n",
       "  }\n",
       "})(window);"
      ],
      "application/vnd.bokehjs_exec.v0+json": ""
     },
     "metadata": {
      "application/vnd.bokehjs_exec.v0+json": {
       "id": "c8f9def4-6066-4122-8ea0-e7ae372c7d08"
      }
     },
     "output_type": "display_data"
    },
    {
     "data": {
      "text/plain": [
       "<function bokeh.plotting.figure.figure>"
      ]
     },
     "execution_count": 62,
     "metadata": {},
     "output_type": "execute_result"
    }
   ],
   "source": [
    "p = figure(plot_width=400, plot_height=400,title=\"rewards\",\n",
    "                      x_axis_label=\"x\",\n",
    "                      y_axis_label=\"y\")\n",
    "rewards_plot = p.line([],[],color=\"firebrick\",line_width=2)\n",
    "# make a grid\n",
    "handle = show(p, notebook_handle=True)\n",
    "figure"
   ]
  },
  {
   "cell_type": "code",
   "execution_count": 63,
   "metadata": {
    "ExecuteTime": {
     "end_time": "2017-11-07T19:18:55.222055Z",
     "start_time": "2017-11-07T19:18:55.201743Z"
    },
    "collapsed": true,
    "nbpresent": {
     "id": "992d8ea5-6b35-4c23-be17-94adbb16236c"
    }
   },
   "outputs": [],
   "source": [
    "def update(x,y,plot,handler):\n",
    "    plot.data_source.data['x'] += [x]\n",
    "    plot.data_source.data['y'] += [y]\n",
    "    push_notebook(handle=handler)"
   ]
  },
  {
   "cell_type": "code",
   "execution_count": 64,
   "metadata": {
    "ExecuteTime": {
     "end_time": "2017-11-07T19:18:58.924642Z",
     "start_time": "2017-11-07T19:18:57.512693Z"
    },
    "code_folding": [],
    "collapsed": true,
    "nbpresent": {
     "id": "96e74fe6-4ce8-41d0-8ad4-e54ad1bcc029"
    }
   },
   "outputs": [],
   "source": [
    "def model(inpt, num_actions, scope, reuse=False):\n",
    "    \"\"\"This model takes as input an observation and returns values of all actions.\"\"\"\n",
    "    with tf.variable_scope(scope, reuse=reuse):\n",
    "        out = inpt\n",
    "        out = layers.fully_connected(out, num_outputs=64, activation_fn=tf.nn.tanh)\n",
    "        out = layers.fully_connected(out, num_outputs=num_actions, activation_fn=None)\n",
    "        return out\n",
    "\n",
    "def Train(env,world):\n",
    "    U.reset()\n",
    "    with U.make_session(2) as sess:\n",
    "        replay_buffer = ReplayBuffer(5000)\n",
    "        exploration = LinearSchedule(schedule_timesteps=1000, initial_p=0.9, final_p=0.5)\n",
    "        episode_rewards = [0.0]\n",
    "        \n",
    "        Kend.set_session(sess)\n",
    "        \n",
    "        def new_model(inpt, num_actions, scope, reuse=False):\n",
    "            with tf.variable_scope(scope, reuse=reuse):\n",
    "                out = Dense(64,activation='relu')(inpt)\n",
    "                out = Dense(num_actions,activation='softmax')(out)\n",
    "                return out\n",
    "        \n",
    "        r,s,data,ws = env.startworld(world)\n",
    "        act, train, update_target, debug = deepq.build_train(\n",
    "        make_obs_ph=lambda name: U.BatchInput((3,), name=name), # prev 49\n",
    "        q_func=model,\n",
    "        num_actions= len(env.actions), #prev len(ractions)\n",
    "        optimizer=tf.train.AdamOptimizer(learning_rate=0.5)\n",
    "        )\n",
    "        U.initialize()\n",
    "        update_target()\n",
    "        \n",
    "        R = 0\n",
    "        episode = 0\n",
    "        for t in itertools.count():\n",
    "            # exploration schedule update_eps=exploration.value(t)\n",
    "            update_eps=exploration.value(t)\n",
    "            action = act(s[None])[0]\n",
    "\n",
    "            r,s_,data,ws = env.step(action)\n",
    "\n",
    "            done = ws.is_mission_running is False\n",
    "            replay_buffer.add(s,action,r,s_,done)\n",
    "\n",
    "\n",
    "            s = s_\n",
    "\n",
    "            episode_rewards[-1] += r\n",
    "            \n",
    "            R += r\n",
    "            #writer = tf.summary.FileWriter(\"logs\", sess.graph)\n",
    "            if done: #mission is done\n",
    "                _,s,_,ws = env.startworld('CliffWalking.xml')\n",
    "                clear_output(wait=True) \n",
    "                display(\"mission done reward : {} @ t = {}\".format(episode_rewards[-1],t))\n",
    "                update(episode,episode_rewards[-1],rewards_plot,handle)\n",
    "                episode_rewards.append(0)\n",
    "                episode+=1\n",
    "                time.sleep(0.5) # give env time to reset\n",
    "                #s = gym_env.reset()\n",
    "\n",
    "\n",
    "            is_solved = t > 100 and np.mean(episode_rewards) >= 10000\n",
    "            \n",
    "            if t%100 == 0:\n",
    "                display('reward @ t= {} is {}'.format(t,r))\n",
    "            \n",
    "            if is_solved:\n",
    "                # Show off the result\n",
    "                whaa = 5+2\n",
    "            else:\n",
    "                # Minimize the error in Bellman's equation on a batch sampled from replay buffer.\n",
    "                if t > 1000:\n",
    "                    obses_t, actions, rewards, obses_tp1, dones = replay_buffer.sample(32)\n",
    "                    train(obses_t, actions, rewards, obses_tp1, dones, np.ones_like(rewards))\n",
    "                # Update target network periodically.\n",
    "                if t % 1000 == 0:\n",
    "                    update_target()\n",
    "                    clear_output(wait=True)             \n",
    "                    display(r)\n",
    "\n",
    "                if t % 100 == 0 and t > 5:\n",
    "                    #display(r)\n",
    "                    whaa = 5\n",
    "\n",
    "            if done and len(episode_rewards) % 10 == 0:\n",
    "                logger.record_tabular(\"steps\", t)\n",
    "                logger.record_tabular(\"episodes\", len(episode_rewards))\n",
    "                logger.record_tabular(\"mean episode reward\", round(np.mean(episode_rewards[-101:-1]), 1))\n",
    "                logger.record_tabular(\"% time spent exploring\", int(100 * exploration.value(t)))\n",
    "                logger.dump_tabular()\n",
    "        #writer.close()\n",
    "                "
   ]
  },
  {
   "cell_type": "code",
   "execution_count": 65,
   "metadata": {
    "ExecuteTime": {
     "end_time": "2017-11-07T19:21:45.268457Z",
     "start_time": "2017-11-07T19:18:58.948166Z"
    }
   },
   "outputs": [
    {
     "data": {
      "text/plain": [
       "'mission done reward : -8855.057215672814 @ t = 241'"
      ]
     },
     "metadata": {},
     "output_type": "display_data"
    },
    {
     "name": "stderr",
     "output_type": "stream",
     "text": [
      "/home/ubuntu/miniconda2/envs/casper/lib/python3.5/site-packages/bokeh/models/sources.py:137: BokehUserWarning: ColumnDataSource's columns must be of the same length. Current lengths: ('x', 24), ('y', 23)\n",
      "  \"Current lengths: %s\" % \", \".join(sorted(str((k, len(v))) for k, v in data.items())), BokehUserWarning))\n"
     ]
    },
    {
     "name": "stdout",
     "output_type": "stream",
     "text": [
      "Mission Started............."
     ]
    },
    {
     "ename": "KeyError",
     "evalue": "'grid'",
     "output_type": "error",
     "traceback": [
      "\u001b[0;31m---------------------------------------------------------------------------\u001b[0m",
      "\u001b[0;31mKeyError\u001b[0m                                  Traceback (most recent call last)",
      "\u001b[0;32m<ipython-input-65-19a61d6fd6bc>\u001b[0m in \u001b[0;36m<module>\u001b[0;34m()\u001b[0m\n\u001b[1;32m      1\u001b[0m \u001b[0menv\u001b[0m \u001b[0;34m=\u001b[0m \u001b[0mEnv\u001b[0m\u001b[0;34m(\u001b[0m\u001b[0mractions\u001b[0m\u001b[0;34m,\u001b[0m\u001b[0;36m61\u001b[0m\u001b[0;34m)\u001b[0m\u001b[0;34m\u001b[0m\u001b[0m\n\u001b[0;32m----> 2\u001b[0;31m \u001b[0mTrain\u001b[0m\u001b[0;34m(\u001b[0m\u001b[0menv\u001b[0m\u001b[0;34m,\u001b[0m\u001b[0;34m'CliffWalking.xml'\u001b[0m\u001b[0;34m)\u001b[0m\u001b[0;34m\u001b[0m\u001b[0m\n\u001b[0m",
      "\u001b[0;32m<ipython-input-64-359dea75c178>\u001b[0m in \u001b[0;36mTrain\u001b[0;34m(env, world)\u001b[0m\n\u001b[1;32m     52\u001b[0m             \u001b[0;31m#writer = tf.summary.FileWriter(\"logs\", sess.graph)\u001b[0m\u001b[0;34m\u001b[0m\u001b[0;34m\u001b[0m\u001b[0m\n\u001b[1;32m     53\u001b[0m             \u001b[0;32mif\u001b[0m \u001b[0mdone\u001b[0m\u001b[0;34m:\u001b[0m \u001b[0;31m#mission is done\u001b[0m\u001b[0;34m\u001b[0m\u001b[0m\n\u001b[0;32m---> 54\u001b[0;31m                 \u001b[0m_\u001b[0m\u001b[0;34m,\u001b[0m\u001b[0ms\u001b[0m\u001b[0;34m,\u001b[0m\u001b[0m_\u001b[0m\u001b[0;34m,\u001b[0m\u001b[0mws\u001b[0m \u001b[0;34m=\u001b[0m \u001b[0menv\u001b[0m\u001b[0;34m.\u001b[0m\u001b[0mstartworld\u001b[0m\u001b[0;34m(\u001b[0m\u001b[0;34m'CliffWalking.xml'\u001b[0m\u001b[0;34m)\u001b[0m\u001b[0;34m\u001b[0m\u001b[0m\n\u001b[0m\u001b[1;32m     55\u001b[0m                 \u001b[0mclear_output\u001b[0m\u001b[0;34m(\u001b[0m\u001b[0mwait\u001b[0m\u001b[0;34m=\u001b[0m\u001b[0;32mTrue\u001b[0m\u001b[0;34m)\u001b[0m\u001b[0;34m\u001b[0m\u001b[0m\n\u001b[1;32m     56\u001b[0m                 \u001b[0mdisplay\u001b[0m\u001b[0;34m(\u001b[0m\u001b[0;34m\"mission done reward : {} @ t = {}\"\u001b[0m\u001b[0;34m.\u001b[0m\u001b[0mformat\u001b[0m\u001b[0;34m(\u001b[0m\u001b[0mepisode_rewards\u001b[0m\u001b[0;34m[\u001b[0m\u001b[0;34m-\u001b[0m\u001b[0;36m1\u001b[0m\u001b[0;34m]\u001b[0m\u001b[0;34m,\u001b[0m\u001b[0mt\u001b[0m\u001b[0;34m)\u001b[0m\u001b[0;34m)\u001b[0m\u001b[0;34m\u001b[0m\u001b[0m\n",
      "\u001b[0;32m<ipython-input-59-254e19a6c12a>\u001b[0m in \u001b[0;36mstartworld\u001b[0;34m(self, world_file)\u001b[0m\n\u001b[1;32m    126\u001b[0m         \u001b[0mself\u001b[0m\u001b[0;34m.\u001b[0m\u001b[0mdata\u001b[0m \u001b[0;34m=\u001b[0m \u001b[0mjson\u001b[0m\u001b[0;34m.\u001b[0m\u001b[0mloads\u001b[0m\u001b[0;34m(\u001b[0m\u001b[0mself\u001b[0m\u001b[0;34m.\u001b[0m\u001b[0mworld_state\u001b[0m\u001b[0;34m.\u001b[0m\u001b[0mobservations\u001b[0m\u001b[0;34m[\u001b[0m\u001b[0;34m-\u001b[0m\u001b[0;36m1\u001b[0m\u001b[0;34m]\u001b[0m\u001b[0;34m.\u001b[0m\u001b[0mtext\u001b[0m\u001b[0;34m)\u001b[0m\u001b[0;34m\u001b[0m\u001b[0m\n\u001b[1;32m    127\u001b[0m \u001b[0;34m\u001b[0m\u001b[0m\n\u001b[0;32m--> 128\u001b[0;31m         \u001b[0;32mreturn\u001b[0m \u001b[0mself\u001b[0m\u001b[0;34m.\u001b[0m\u001b[0mobserve\u001b[0m\u001b[0;34m(\u001b[0m\u001b[0;34m)\u001b[0m\u001b[0;34m\u001b[0m\u001b[0m\n\u001b[0m\u001b[1;32m    129\u001b[0m     \u001b[0;32mdef\u001b[0m \u001b[0mquit\u001b[0m\u001b[0;34m(\u001b[0m\u001b[0mself\u001b[0m\u001b[0;34m)\u001b[0m\u001b[0;34m:\u001b[0m\u001b[0;34m\u001b[0m\u001b[0m\n\u001b[1;32m    130\u001b[0m         \u001b[0mself\u001b[0m\u001b[0;34m.\u001b[0m\u001b[0mhost\u001b[0m\u001b[0;34m.\u001b[0m\u001b[0msendCommand\u001b[0m\u001b[0;34m(\u001b[0m\u001b[0;34m'quit'\u001b[0m\u001b[0;34m)\u001b[0m\u001b[0;34m\u001b[0m\u001b[0m\n",
      "\u001b[0;32m<ipython-input-59-254e19a6c12a>\u001b[0m in \u001b[0;36mobserve\u001b[0;34m(self)\u001b[0m\n\u001b[1;32m     52\u001b[0m         \u001b[0;31m# reformat grid to a vector that only show the floor with blocks\u001b[0m\u001b[0;34m\u001b[0m\u001b[0;34m\u001b[0m\u001b[0m\n\u001b[1;32m     53\u001b[0m         \u001b[0mvec\u001b[0m \u001b[0;34m=\u001b[0m \u001b[0;34m[\u001b[0m\u001b[0;34m]\u001b[0m\u001b[0;34m\u001b[0m\u001b[0m\n\u001b[0;32m---> 54\u001b[0;31m         \u001b[0;32mfor\u001b[0m \u001b[0mitem\u001b[0m \u001b[0;32min\u001b[0m \u001b[0mself\u001b[0m\u001b[0;34m.\u001b[0m\u001b[0mdata\u001b[0m\u001b[0;34m[\u001b[0m\u001b[0;34m'grid'\u001b[0m\u001b[0;34m]\u001b[0m\u001b[0;34m[\u001b[0m\u001b[0;34m:\u001b[0m\u001b[0;34m:\u001b[0m\u001b[0;34m-\u001b[0m\u001b[0;36m1\u001b[0m\u001b[0;34m]\u001b[0m\u001b[0;34m:\u001b[0m\u001b[0;34m\u001b[0m\u001b[0m\n\u001b[0m\u001b[1;32m     55\u001b[0m             \u001b[0;32mif\u001b[0m \u001b[0;34m'lava'\u001b[0m \u001b[0;32min\u001b[0m \u001b[0mitem\u001b[0m\u001b[0;34m:\u001b[0m\u001b[0;34m\u001b[0m\u001b[0m\n\u001b[1;32m     56\u001b[0m                 \u001b[0mvec\u001b[0m\u001b[0;34m.\u001b[0m\u001b[0mappend\u001b[0m\u001b[0;34m(\u001b[0m\u001b[0;36m1\u001b[0m\u001b[0;34m)\u001b[0m\u001b[0;34m\u001b[0m\u001b[0m\n",
      "\u001b[0;31mKeyError\u001b[0m: 'grid'"
     ]
    }
   ],
   "source": [
    "env = Env(ractions,61)\n",
    "Train(env,'CliffWalking.xml')"
   ]
  },
  {
   "cell_type": "code",
   "execution_count": null,
   "metadata": {
    "ExecuteTime": {
     "end_time": "2017-10-30T18:03:14.929828Z",
     "start_time": "2017-10-30T17:55:28.098Z"
    },
    "collapsed": true,
    "nbpresent": {
     "id": "cd172eb1-8bcf-4c23-ad14-4b0db9bc5acb"
    }
   },
   "outputs": [],
   "source": [
    "env.quit()"
   ]
  }
 ],
 "metadata": {
  "anaconda-cloud": {},
  "kernelspec": {
   "display_name": "Python [conda env:casper]",
   "language": "python",
   "name": "conda-env-casper-py"
  },
  "language_info": {
   "codemirror_mode": {
    "name": "ipython",
    "version": 3
   },
   "file_extension": ".py",
   "mimetype": "text/x-python",
   "name": "python",
   "nbconvert_exporter": "python",
   "pygments_lexer": "ipython3",
   "version": "3.5.4"
  },
  "nbpresent": {
   "slides": {
    "07bc0d93-7d9c-4206-bdb8-d4d032f08dea": {
     "id": "07bc0d93-7d9c-4206-bdb8-d4d032f08dea",
     "prev": "1036b307-a4d9-4770-8f1f-509a911ecf9a",
     "regions": {
      "e6f28205-4450-4d79-ba95-efb35ae64e97": {
       "attrs": {
        "height": 0.8,
        "width": 0.8,
        "x": 0.1,
        "y": 0.1
       },
       "content": {
        "cell": "8da507ad-29ee-44a7-86d0-2168d25c6940",
        "part": "whole"
       },
       "id": "e6f28205-4450-4d79-ba95-efb35ae64e97"
      }
     }
    },
    "0e374223-c149-4db9-a8a9-0cefe9bc504d": {
     "id": "0e374223-c149-4db9-a8a9-0cefe9bc504d",
     "prev": "1c5ce398-457f-4925-a52c-72e821ef34da",
     "regions": {
      "cf283169-3773-4bc1-bcbb-22b60d487eb5": {
       "attrs": {
        "height": 0.8,
        "width": 0.8,
        "x": 0.1,
        "y": 0.1
       },
       "content": {
        "cell": "2903dbb7-b748-4973-8874-32e8bb0e0762",
        "part": "whole"
       },
       "id": "cf283169-3773-4bc1-bcbb-22b60d487eb5"
      }
     }
    },
    "1036b307-a4d9-4770-8f1f-509a911ecf9a": {
     "id": "1036b307-a4d9-4770-8f1f-509a911ecf9a",
     "prev": "4f3d5f68-f13e-462e-be3f-af7f4ed0cb9f",
     "regions": {
      "dae026b4-3d79-4ef4-8992-8cb8476ff479": {
       "attrs": {
        "height": 0.8,
        "width": 0.8,
        "x": 0.1,
        "y": 0.1
       },
       "content": {
        "cell": "fbf07119-4d5a-4e8b-bbb5-59530218e7d3",
        "part": "whole"
       },
       "id": "dae026b4-3d79-4ef4-8992-8cb8476ff479"
      }
     }
    },
    "13f68bf7-cf0c-4a4c-8ebf-a49b5366cad2": {
     "id": "13f68bf7-cf0c-4a4c-8ebf-a49b5366cad2",
     "prev": "b89fa9b0-b78f-4f31-8300-b8b62dd2cb81",
     "regions": {
      "ebe7af0b-0381-4b92-b7d3-d2688841790f": {
       "attrs": {
        "height": 0.8,
        "width": 0.8,
        "x": 0.1,
        "y": 0.1
       },
       "content": {
        "cell": "7cfe91e8-435e-4ef8-b7c5-2816074783df",
        "part": "whole"
       },
       "id": "ebe7af0b-0381-4b92-b7d3-d2688841790f"
      }
     }
    },
    "18d3c7dc-55e9-4523-9053-08eb8e93e694": {
     "id": "18d3c7dc-55e9-4523-9053-08eb8e93e694",
     "prev": "a227b250-a602-4c24-9831-00f33df5f777",
     "regions": {
      "b303a433-217a-4fda-90e6-49823b686ac7": {
       "attrs": {
        "height": 0.8,
        "width": 0.8,
        "x": 0.1,
        "y": 0.1
       },
       "content": {
        "cell": "471237d0-2a3d-405e-8cc0-155964739c2b",
        "part": "whole"
       },
       "id": "b303a433-217a-4fda-90e6-49823b686ac7"
      }
     }
    },
    "19d0e4eb-213d-4a37-8e6b-5e95d31b2889": {
     "id": "19d0e4eb-213d-4a37-8e6b-5e95d31b2889",
     "prev": "39b1df3a-9641-4b79-9b32-2ec87b6c7f90",
     "regions": {
      "c6285556-acf2-4294-87f2-b8f3e7094729": {
       "attrs": {
        "height": 0.8,
        "width": 0.8,
        "x": 0.1,
        "y": 0.1
       },
       "content": {
        "cell": "1a5a0202-b437-459e-a5a0-e7481b8aeacd",
        "part": "whole"
       },
       "id": "c6285556-acf2-4294-87f2-b8f3e7094729"
      }
     }
    },
    "1c5ce398-457f-4925-a52c-72e821ef34da": {
     "id": "1c5ce398-457f-4925-a52c-72e821ef34da",
     "prev": "13f68bf7-cf0c-4a4c-8ebf-a49b5366cad2",
     "regions": {
      "dd3093f4-70d8-4095-97a1-388034505e85": {
       "attrs": {
        "height": 0.8,
        "width": 0.8,
        "x": 0.1,
        "y": 0.1
       },
       "content": {
        "cell": "76a26485-09ad-41b8-b5b3-73f109ad7d93",
        "part": "whole"
       },
       "id": "dd3093f4-70d8-4095-97a1-388034505e85"
      }
     }
    },
    "2dd05d81-e1fc-4dcf-a6dd-def9553edaa1": {
     "id": "2dd05d81-e1fc-4dcf-a6dd-def9553edaa1",
     "prev": "54a10d39-08eb-4654-b05d-a2006a8217e0",
     "regions": {
      "dc66d9bb-878d-41fe-89c7-c62d073c6942": {
       "attrs": {
        "height": 0.8,
        "width": 0.8,
        "x": 0.1,
        "y": 0.1
       },
       "content": {
        "cell": "e5e16cbc-6376-415e-9a57-ea14065633cb",
        "part": "whole"
       },
       "id": "dc66d9bb-878d-41fe-89c7-c62d073c6942"
      }
     }
    },
    "2eb521fc-d7c5-4957-a3ad-b1365a019a8c": {
     "id": "2eb521fc-d7c5-4957-a3ad-b1365a019a8c",
     "prev": "43f07784-50e3-4988-9fe8-374fa42ee8bd",
     "regions": {
      "bfd2d543-5525-4e90-bb60-940275b83e82": {
       "attrs": {
        "height": 0.8,
        "width": 0.8,
        "x": 0.1,
        "y": 0.1
       },
       "content": {
        "cell": "cd172eb1-8bcf-4c23-ad14-4b0db9bc5acb",
        "part": "whole"
       },
       "id": "bfd2d543-5525-4e90-bb60-940275b83e82"
      }
     }
    },
    "2ff16e77-947e-4276-8b22-00db4156486a": {
     "id": "2ff16e77-947e-4276-8b22-00db4156486a",
     "prev": "d5311de7-f04e-40d4-988e-b8d82288ab07",
     "regions": {
      "e132ed52-1caf-47b7-8d2e-36da6e726298": {
       "attrs": {
        "height": 0.8,
        "width": 0.8,
        "x": 0.1,
        "y": 0.1
       },
       "content": {
        "cell": "f852ea5b-f52b-4a94-929d-f6147adf0745",
        "part": "whole"
       },
       "id": "e132ed52-1caf-47b7-8d2e-36da6e726298"
      }
     }
    },
    "39b1df3a-9641-4b79-9b32-2ec87b6c7f90": {
     "id": "39b1df3a-9641-4b79-9b32-2ec87b6c7f90",
     "prev": "98c9a3b3-12e0-4a41-ba77-a0a67688265d",
     "regions": {
      "4945c279-4463-4e49-aaff-0610accd3767": {
       "attrs": {
        "height": 0.8,
        "width": 0.8,
        "x": 0.1,
        "y": 0.1
       },
       "content": {
        "cell": "c6f252cf-7dba-4758-ac1a-635f32fc2b5c",
        "part": "whole"
       },
       "id": "4945c279-4463-4e49-aaff-0610accd3767"
      }
     }
    },
    "3d72ad01-561d-4c58-8786-06fe10b1c1cb": {
     "id": "3d72ad01-561d-4c58-8786-06fe10b1c1cb",
     "prev": "0e374223-c149-4db9-a8a9-0cefe9bc504d",
     "regions": {
      "0580b518-2cf2-48d0-93e9-ecffc1d58e24": {
       "attrs": {
        "height": 0.8,
        "width": 0.8,
        "x": 0.1,
        "y": 0.1
       },
       "content": {
        "cell": "37cc9b78-fb9d-4d06-8795-1b2c37e25663",
        "part": "whole"
       },
       "id": "0580b518-2cf2-48d0-93e9-ecffc1d58e24"
      }
     }
    },
    "434a2625-640a-42b0-b74d-d73bde645dec": {
     "id": "434a2625-640a-42b0-b74d-d73bde645dec",
     "prev": "2dd05d81-e1fc-4dcf-a6dd-def9553edaa1",
     "regions": {
      "a2785ef7-c37e-40c0-943f-63102350748d": {
       "attrs": {
        "height": 0.8,
        "width": 0.8,
        "x": 0.1,
        "y": 0.1
       },
       "content": {
        "cell": "992d8ea5-6b35-4c23-be17-94adbb16236c",
        "part": "whole"
       },
       "id": "a2785ef7-c37e-40c0-943f-63102350748d"
      }
     }
    },
    "43f07784-50e3-4988-9fe8-374fa42ee8bd": {
     "id": "43f07784-50e3-4988-9fe8-374fa42ee8bd",
     "prev": "fc8f6214-db78-427d-9d23-21427171679d",
     "regions": {
      "32215082-5df0-456b-b79e-12d75bb958e2": {
       "attrs": {
        "height": 0.8,
        "width": 0.8,
        "x": 0.1,
        "y": 0.1
       },
       "content": {
        "cell": "f92c1392-8330-4a08-a74f-0add275a6d03",
        "part": "whole"
       },
       "id": "32215082-5df0-456b-b79e-12d75bb958e2"
      }
     }
    },
    "45e39bc2-ce7b-4f08-9495-10a17521be97": {
     "id": "45e39bc2-ce7b-4f08-9495-10a17521be97",
     "prev": "4faf1eee-ebae-4ba8-a7b4-183024fcca78",
     "regions": {
      "ad2191a0-0e53-47e1-9a69-862e8c0fe3c6": {
       "attrs": {
        "height": 0.8,
        "width": 0.8,
        "x": 0.1,
        "y": 0.1
       },
       "content": {
        "cell": "4b5a1bc5-6d97-4a31-ac10-e912ce687f84",
        "part": "whole"
       },
       "id": "ad2191a0-0e53-47e1-9a69-862e8c0fe3c6"
      }
     }
    },
    "4f3d5f68-f13e-462e-be3f-af7f4ed0cb9f": {
     "id": "4f3d5f68-f13e-462e-be3f-af7f4ed0cb9f",
     "prev": "cd195d72-af71-4990-8f3a-037a5cc971bb",
     "regions": {
      "a0eaa8c1-61a2-4f26-96e0-5d6868a60d10": {
       "attrs": {
        "height": 0.8,
        "width": 0.8,
        "x": 0.1,
        "y": 0.1
       },
       "content": {
        "cell": "8abe4bc5-791f-47ef-8bb0-f0b9cb0b4b69",
        "part": "whole"
       },
       "id": "a0eaa8c1-61a2-4f26-96e0-5d6868a60d10"
      }
     }
    },
    "4faf1eee-ebae-4ba8-a7b4-183024fcca78": {
     "id": "4faf1eee-ebae-4ba8-a7b4-183024fcca78",
     "prev": "3d72ad01-561d-4c58-8786-06fe10b1c1cb",
     "regions": {
      "bc5e0402-1d7a-44ed-ac0d-9d90fded6ac7": {
       "attrs": {
        "height": 0.8,
        "width": 0.8,
        "x": 0.1,
        "y": 0.1
       },
       "content": {
        "cell": "f8cd07de-94da-4478-b8db-59cfcf140f63",
        "part": "whole"
       },
       "id": "bc5e0402-1d7a-44ed-ac0d-9d90fded6ac7"
      }
     }
    },
    "54a10d39-08eb-4654-b05d-a2006a8217e0": {
     "id": "54a10d39-08eb-4654-b05d-a2006a8217e0",
     "prev": "fde18044-f9a0-4748-af4c-c67107a5cc19",
     "regions": {
      "9c7a1a8a-e156-4d7e-9404-08299182138e": {
       "attrs": {
        "height": 0.8,
        "width": 0.8,
        "x": 0.1,
        "y": 0.1
       },
       "content": {
        "cell": "d2ce188a-82f9-4eb1-9bca-0c8a8776f040",
        "part": "whole"
       },
       "id": "9c7a1a8a-e156-4d7e-9404-08299182138e"
      }
     }
    },
    "564dfdfb-57fd-4c64-a8c3-480c3ebe3052": {
     "id": "564dfdfb-57fd-4c64-a8c3-480c3ebe3052",
     "prev": "434a2625-640a-42b0-b74d-d73bde645dec",
     "regions": {
      "e7a25038-6065-427d-ab0d-fd2b8f3a8b4b": {
       "attrs": {
        "height": 0.8,
        "width": 0.8,
        "x": 0.1,
        "y": 0.1
       },
       "content": {
        "cell": "96e74fe6-4ce8-41d0-8ad4-e54ad1bcc029",
        "part": "whole"
       },
       "id": "e7a25038-6065-427d-ab0d-fd2b8f3a8b4b"
      }
     }
    },
    "6003570f-cf33-427d-87c1-efeadaf71509": {
     "id": "6003570f-cf33-427d-87c1-efeadaf71509",
     "prev": "b769d3bd-bf0c-44f8-a4b9-007131973129",
     "regions": {
      "c2ff83d9-bc1c-48fc-950b-cccee611882b": {
       "attrs": {
        "height": 0.8,
        "width": 0.8,
        "x": 0.1,
        "y": 0.1
       },
       "content": {
        "cell": "1bcb9120-9050-42a3-b443-a5a0b362100f",
        "part": "whole"
       },
       "id": "c2ff83d9-bc1c-48fc-950b-cccee611882b"
      }
     }
    },
    "6e243d86-f378-4c87-a619-dee3ba538642": {
     "id": "6e243d86-f378-4c87-a619-dee3ba538642",
     "prev": "18d3c7dc-55e9-4523-9053-08eb8e93e694",
     "regions": {
      "27103375-8300-427a-b71d-5e87ca325787": {
       "attrs": {
        "height": 0.8,
        "width": 0.8,
        "x": 0.1,
        "y": 0.1
       },
       "content": {
        "cell": "35fb6ff7-8a99-4f60-8725-c2ade73f536f",
        "part": "whole"
       },
       "id": "27103375-8300-427a-b71d-5e87ca325787"
      }
     }
    },
    "703bb046-2be4-4a07-bad4-8f7b9f92ca04": {
     "id": "703bb046-2be4-4a07-bad4-8f7b9f92ca04",
     "prev": "9263a517-c15b-49a9-b22a-b62dbbc6b149",
     "regions": {
      "38601f8d-fa04-465b-b702-199669165d47": {
       "attrs": {
        "height": 0.8,
        "width": 0.8,
        "x": 0.1,
        "y": 0.1
       },
       "content": {
        "cell": "f0a6d32b-3ee5-4d07-bddf-c9bc2475c1a8",
        "part": "whole"
       },
       "id": "38601f8d-fa04-465b-b702-199669165d47"
      }
     }
    },
    "9263a517-c15b-49a9-b22a-b62dbbc6b149": {
     "id": "9263a517-c15b-49a9-b22a-b62dbbc6b149",
     "prev": "07bc0d93-7d9c-4206-bdb8-d4d032f08dea",
     "regions": {
      "411f55af-3c39-42ae-95f7-04e6ff4a2254": {
       "attrs": {
        "height": 0.8,
        "width": 0.8,
        "x": 0.1,
        "y": 0.1
       },
       "content": {
        "cell": "fc5bd984-a8fc-473d-aae7-07213d116bd7",
        "part": "whole"
       },
       "id": "411f55af-3c39-42ae-95f7-04e6ff4a2254"
      }
     }
    },
    "98c9a3b3-12e0-4a41-ba77-a0a67688265d": {
     "id": "98c9a3b3-12e0-4a41-ba77-a0a67688265d",
     "prev": "ae265d71-8810-4ba2-87f9-c18aa527e206",
     "regions": {
      "93fc6e1c-30ea-4d7e-8a6a-8db0e31a4f33": {
       "attrs": {
        "height": 0.8,
        "width": 0.8,
        "x": 0.1,
        "y": 0.1
       },
       "content": {
        "cell": "088d96dd-9de5-4954-a840-5c942da07274",
        "part": "whole"
       },
       "id": "93fc6e1c-30ea-4d7e-8a6a-8db0e31a4f33"
      }
     }
    },
    "a227b250-a602-4c24-9831-00f33df5f777": {
     "id": "a227b250-a602-4c24-9831-00f33df5f777",
     "prev": "dec69906-a157-43be-8df0-ec51a576ab30",
     "regions": {
      "b7d821a7-6801-4cbb-9882-ab3bf97f9052": {
       "attrs": {
        "height": 0.8,
        "width": 0.8,
        "x": 0.1,
        "y": 0.1
       },
       "content": {
        "cell": "4ff7e3f4-f0fa-496e-832b-1b90a5dcfd68",
        "part": "whole"
       },
       "id": "b7d821a7-6801-4cbb-9882-ab3bf97f9052"
      }
     }
    },
    "a87ef3d0-2039-4bb7-a1d0-bef2b28551ea": {
     "id": "a87ef3d0-2039-4bb7-a1d0-bef2b28551ea",
     "prev": "2ff16e77-947e-4276-8b22-00db4156486a",
     "regions": {
      "ce8decc7-cb34-45d6-9acc-d1ff140ebe78": {
       "attrs": {
        "height": 0.8,
        "width": 0.8,
        "x": 0.1,
        "y": 0.1
       },
       "content": {
        "cell": "adfe06c1-7a1b-4e0c-8445-71d69963c7c6",
        "part": "whole"
       },
       "id": "ce8decc7-cb34-45d6-9acc-d1ff140ebe78"
      }
     }
    },
    "aa628051-5c38-4e08-a98a-541dedc534e2": {
     "id": "aa628051-5c38-4e08-a98a-541dedc534e2",
     "prev": null,
     "regions": {
      "2c8678ad-6df8-41a5-a758-2e8c17d2d912": {
       "attrs": {
        "height": 0.8,
        "width": 0.8,
        "x": 0.1,
        "y": 0.1
       },
       "content": {
        "cell": "e0b41b12-3583-41b3-bfea-65b5e2379621",
        "part": "whole"
       },
       "id": "2c8678ad-6df8-41a5-a758-2e8c17d2d912"
      }
     }
    },
    "ae265d71-8810-4ba2-87f9-c18aa527e206": {
     "id": "ae265d71-8810-4ba2-87f9-c18aa527e206",
     "prev": "703bb046-2be4-4a07-bad4-8f7b9f92ca04",
     "regions": {
      "f9efe363-c176-4a4e-86c5-ffa8f50c852c": {
       "attrs": {
        "height": 0.8,
        "width": 0.8,
        "x": 0.1,
        "y": 0.1
       },
       "content": {
        "cell": "6fe8df2d-d40b-4830-b0fa-127580d9cbcf",
        "part": "whole"
       },
       "id": "f9efe363-c176-4a4e-86c5-ffa8f50c852c"
      }
     }
    },
    "b769d3bd-bf0c-44f8-a4b9-007131973129": {
     "id": "b769d3bd-bf0c-44f8-a4b9-007131973129",
     "prev": "a87ef3d0-2039-4bb7-a1d0-bef2b28551ea",
     "regions": {
      "77cad82d-4847-4f11-8db4-bc188e471c09": {
       "attrs": {
        "height": 0.8,
        "width": 0.8,
        "x": 0.1,
        "y": 0.1
       },
       "content": {
        "cell": "d16f64a5-44bc-4aae-9cf0-4e1772e8a936",
        "part": "whole"
       },
       "id": "77cad82d-4847-4f11-8db4-bc188e471c09"
      }
     }
    },
    "b89fa9b0-b78f-4f31-8300-b8b62dd2cb81": {
     "id": "b89fa9b0-b78f-4f31-8300-b8b62dd2cb81",
     "prev": "e9333ab1-5f21-4e54-b0d4-74ab68d4facf",
     "regions": {
      "b402f08d-410c-4511-b485-c7d6dab83d8c": {
       "attrs": {
        "height": 0.8,
        "width": 0.8,
        "x": 0.1,
        "y": 0.1
       },
       "content": {
        "cell": "ed717a9d-ef8d-40d0-b145-b6312d8f977b",
        "part": "whole"
       },
       "id": "b402f08d-410c-4511-b485-c7d6dab83d8c"
      }
     }
    },
    "c3094d05-27f3-4f99-9837-16b8ac839d00": {
     "id": "c3094d05-27f3-4f99-9837-16b8ac839d00",
     "prev": "d8f32e4b-13d5-4e10-95b7-1d80dcfa6dad",
     "regions": {
      "ef910208-8ce0-45b7-884d-057f5216abfd": {
       "attrs": {
        "height": 0.8,
        "width": 0.8,
        "x": 0.1,
        "y": 0.1
       },
       "content": {
        "cell": "0465372a-9521-43ff-9646-875aa2b68ff7",
        "part": "whole"
       },
       "id": "ef910208-8ce0-45b7-884d-057f5216abfd"
      }
     }
    },
    "cd195d72-af71-4990-8f3a-037a5cc971bb": {
     "id": "cd195d72-af71-4990-8f3a-037a5cc971bb",
     "prev": "6e243d86-f378-4c87-a619-dee3ba538642",
     "regions": {
      "9a2c008a-1194-4f4f-88df-8273cd91d134": {
       "attrs": {
        "height": 0.8,
        "width": 0.8,
        "x": 0.1,
        "y": 0.1
       },
       "content": {
        "cell": "6d7f2ac4-5032-4a0c-a597-8e8fd08d6dec",
        "part": "whole"
       },
       "id": "9a2c008a-1194-4f4f-88df-8273cd91d134"
      }
     }
    },
    "d5311de7-f04e-40d4-988e-b8d82288ab07": {
     "id": "d5311de7-f04e-40d4-988e-b8d82288ab07",
     "prev": "2eb521fc-d7c5-4957-a3ad-b1365a019a8c",
     "regions": {
      "1e6f1257-d235-4874-bddb-9975be63f5e2": {
       "attrs": {
        "height": 0.8,
        "width": 0.8,
        "x": 0.1,
        "y": 0.1
       },
       "content": {
        "cell": "076f64a8-f68b-486b-a71b-5810f89283b2",
        "part": "whole"
       },
       "id": "1e6f1257-d235-4874-bddb-9975be63f5e2"
      }
     }
    },
    "d8f32e4b-13d5-4e10-95b7-1d80dcfa6dad": {
     "id": "d8f32e4b-13d5-4e10-95b7-1d80dcfa6dad",
     "prev": "6003570f-cf33-427d-87c1-efeadaf71509",
     "regions": {
      "d1439575-55fe-4596-a37b-b603ae709d9b": {
       "attrs": {
        "height": 0.8,
        "width": 0.8,
        "x": 0.1,
        "y": 0.1
       },
       "content": {
        "cell": "5897fe11-0a1b-48f5-86f7-f7f9faaf2916",
        "part": "whole"
       },
       "id": "d1439575-55fe-4596-a37b-b603ae709d9b"
      }
     }
    },
    "dd53668c-b67a-4b93-870b-b80c42f990d9": {
     "id": "dd53668c-b67a-4b93-870b-b80c42f990d9",
     "prev": "45e39bc2-ce7b-4f08-9495-10a17521be97",
     "regions": {
      "7c935647-d436-4089-82ad-f86521580c0b": {
       "attrs": {
        "height": 0.8,
        "width": 0.8,
        "x": 0.1,
        "y": 0.1
       },
       "content": {
        "cell": "1d60808f-37f6-49b0-859b-be08faad7ec5",
        "part": "whole"
       },
       "id": "7c935647-d436-4089-82ad-f86521580c0b"
      }
     }
    },
    "dec69906-a157-43be-8df0-ec51a576ab30": {
     "id": "dec69906-a157-43be-8df0-ec51a576ab30",
     "prev": "c3094d05-27f3-4f99-9837-16b8ac839d00",
     "regions": {
      "9bc1a9e1-0705-4393-95e7-606088208462": {
       "attrs": {
        "height": 0.8,
        "width": 0.8,
        "x": 0.1,
        "y": 0.1
       },
       "content": {
        "cell": "4db1e16a-0aa6-4969-816f-4a89fff24240",
        "part": "whole"
       },
       "id": "9bc1a9e1-0705-4393-95e7-606088208462"
      }
     }
    },
    "e9333ab1-5f21-4e54-b0d4-74ab68d4facf": {
     "id": "e9333ab1-5f21-4e54-b0d4-74ab68d4facf",
     "prev": "f441fe59-17ab-48ce-bd48-876e3236f185",
     "regions": {
      "bc8772a1-1bab-423c-8a52-dcde4d43c3fa": {
       "attrs": {
        "height": 0.8,
        "width": 0.8,
        "x": 0.1,
        "y": 0.1
       },
       "content": {
        "cell": "aa7d4ac1-3969-42b4-8a2b-f921cf3157f2",
        "part": "whole"
       },
       "id": "bc8772a1-1bab-423c-8a52-dcde4d43c3fa"
      }
     }
    },
    "f1a52746-e62b-4872-80b1-7ddf4b7f703e": {
     "id": "f1a52746-e62b-4872-80b1-7ddf4b7f703e",
     "prev": "dd53668c-b67a-4b93-870b-b80c42f990d9",
     "regions": {
      "15814415-90ae-48ff-b4e7-66d3587002bc": {
       "attrs": {
        "height": 0.8,
        "width": 0.8,
        "x": 0.1,
        "y": 0.1
       },
       "content": {
        "cell": "6119af2b-7cb1-4a25-8962-1f582a6457f3",
        "part": "whole"
       },
       "id": "15814415-90ae-48ff-b4e7-66d3587002bc"
      }
     }
    },
    "f2f9bff1-9209-4834-b2f0-7f7233b10a93": {
     "id": "f2f9bff1-9209-4834-b2f0-7f7233b10a93",
     "prev": "aa628051-5c38-4e08-a98a-541dedc534e2",
     "regions": {
      "17d2922e-4d1d-4a1b-92e9-76ed52d65133": {
       "attrs": {
        "height": 0.8,
        "width": 0.8,
        "x": 0.1,
        "y": 0.1
       },
       "content": {
        "cell": "81accd10-06e1-48c6-b354-908d009d6a30",
        "part": "whole"
       },
       "id": "17d2922e-4d1d-4a1b-92e9-76ed52d65133"
      }
     }
    },
    "f441fe59-17ab-48ce-bd48-876e3236f185": {
     "id": "f441fe59-17ab-48ce-bd48-876e3236f185",
     "prev": "f2f9bff1-9209-4834-b2f0-7f7233b10a93",
     "regions": {
      "f2ecaa86-6dd9-4014-b182-014974a23646": {
       "attrs": {
        "height": 0.8,
        "width": 0.8,
        "x": 0.1,
        "y": 0.1
       },
       "content": {
        "cell": "680db395-ec81-4e4c-afdd-b500c82a7ff0",
        "part": "whole"
       },
       "id": "f2ecaa86-6dd9-4014-b182-014974a23646"
      }
     }
    },
    "fc8f6214-db78-427d-9d23-21427171679d": {
     "id": "fc8f6214-db78-427d-9d23-21427171679d",
     "prev": "564dfdfb-57fd-4c64-a8c3-480c3ebe3052",
     "regions": {
      "c6f3e3c0-c126-402b-9109-b6d2f47c1161": {
       "attrs": {
        "height": 0.8,
        "width": 0.8,
        "x": 0.1,
        "y": 0.1
       },
       "content": {
        "cell": "a5634679-2985-492d-bbcb-eeadc1927a15",
        "part": "whole"
       },
       "id": "c6f3e3c0-c126-402b-9109-b6d2f47c1161"
      }
     }
    },
    "fde18044-f9a0-4748-af4c-c67107a5cc19": {
     "id": "fde18044-f9a0-4748-af4c-c67107a5cc19",
     "prev": "f1a52746-e62b-4872-80b1-7ddf4b7f703e",
     "regions": {
      "03b3c787-c95e-4979-89f8-44f4cccc8789": {
       "attrs": {
        "height": 0.8,
        "width": 0.8,
        "x": 0.1,
        "y": 0.1
       },
       "content": {
        "cell": "19d5c873-7cfd-4488-abf5-409af8bc7587",
        "part": "whole"
       },
       "id": "03b3c787-c95e-4979-89f8-44f4cccc8789"
      }
     }
    }
   },
   "themes": {
    "default": "8c03ee93-9986-4eb3-af71-0a4d00a0c3b0",
    "theme": {
     "1fa40237-0e31-4948-99a5-6dfbecb7a2fb": {
      "backgrounds": {
       "backgroundColor": {
        "background-color": "backgroundColor",
        "id": "backgroundColor"
       }
      },
      "id": "1fa40237-0e31-4948-99a5-6dfbecb7a2fb",
      "palette": {
       "backgroundColor": {
        "id": "backgroundColor",
        "rgb": [
         240,
         241,
         235
        ]
       },
       "headingColor": {
        "id": "headingColor",
        "rgb": [
         56,
         61,
         61
        ]
       },
       "linkColor": {
        "id": "linkColor",
        "rgb": [
         81,
         72,
         61
        ]
       },
       "mainColor": {
        "id": "mainColor",
        "rgb": [
         0,
         0,
         0
        ]
       }
      },
      "rules": {
       "a": {
        "color": "linkColor"
       },
       "h1": {
        "color": "headingColor",
        "font-family": "EB Garamond",
        "font-size": 7
       },
       "h2": {
        "color": "headingColor",
        "font-family": "EB Garamond",
        "font-size": 5
       },
       "h3": {
        "color": "headingColor",
        "font-family": "EB Garamond",
        "font-size": 3.75
       },
       "h4": {
        "color": "headingColor",
        "font-family": "EB Garamond",
        "font-size": 3
       },
       "h5": {
        "color": "headingColor",
        "font-family": "EB Garamond"
       },
       "h6": {
        "color": "headingColor",
        "font-family": "EB Garamond"
       },
       "h7": {
        "color": "headingColor",
        "font-family": "EB Garamond"
       },
       "li": {
        "color": "mainColor",
        "font-family": "EB Garamond",
        "font-size": 5
       },
       "p": {
        "color": "mainColor",
        "font-family": "EB Garamond",
        "font-size": 5
       }
      },
      "text-base": {
       "color": "mainColor",
       "font-family": "EB Garamond",
       "font-size": 5
      }
     },
     "8c03ee93-9986-4eb3-af71-0a4d00a0c3b0": {
      "backgrounds": {
       "backgroundColor": {
        "background-color": "backgroundColor",
        "id": "backgroundColor"
       }
      },
      "id": "8c03ee93-9986-4eb3-af71-0a4d00a0c3b0",
      "palette": {
       "backgroundColor": {
        "id": "backgroundColor",
        "rgb": [
         256,
         256,
         256
        ]
       },
       "headingColor": {
        "id": "headingColor",
        "rgb": [
         34,
         34,
         34
        ]
       },
       "linkColor": {
        "id": "linkColor",
        "rgb": [
         42,
         118,
         221
        ]
       },
       "mainColor": {
        "id": "mainColor",
        "rgb": [
         34,
         34,
         34
        ]
       }
      },
      "rules": {
       "a": {
        "color": "linkColor"
       },
       "h1": {
        "color": "headingColor",
        "font-family": "Source Sans Pro",
        "font-size": 5.25
       },
       "h2": {
        "color": "headingColor",
        "font-family": "Source Sans Pro",
        "font-size": 4
       },
       "h3": {
        "color": "headingColor",
        "font-family": "Source Sans Pro",
        "font-size": 3.5
       },
       "h4": {
        "color": "headingColor",
        "font-family": "Source Sans Pro",
        "font-size": 3
       },
       "h5": {
        "color": "headingColor",
        "font-family": "Source Sans Pro"
       },
       "h6": {
        "color": "headingColor",
        "font-family": "Source Sans Pro"
       },
       "h7": {
        "color": "headingColor",
        "font-family": "Source Sans Pro"
       },
       "li": {
        "color": "mainColor",
        "font-family": "Source Sans Pro",
        "font-size": 6
       },
       "p": {
        "color": "mainColor",
        "font-family": "Source Sans Pro",
        "font-size": 6
       }
      },
      "text-base": {
       "color": "mainColor",
       "font-family": "Source Sans Pro",
       "font-size": 6
      }
     }
    }
   }
  },
  "notify_time": "5",
  "varInspector": {
   "cols": {
    "lenName": 16,
    "lenType": 16,
    "lenVar": 40
   },
   "kernels_config": {
    "python": {
     "delete_cmd_postfix": "",
     "delete_cmd_prefix": "del ",
     "library": "var_list.py",
     "varRefreshCmd": "print(var_dic_list())"
    },
    "r": {
     "delete_cmd_postfix": ") ",
     "delete_cmd_prefix": "rm(",
     "library": "var_list.r",
     "varRefreshCmd": "cat(var_dic_list()) "
    }
   },
   "position": {
    "height": "145px",
    "left": "572px",
    "right": "19px",
    "top": "120px",
    "width": "350px"
   },
   "types_to_exclude": [
    "module",
    "function",
    "builtin_function_or_method",
    "instance",
    "_Feature"
   ],
   "window_display": false
  }
 },
 "nbformat": 4,
 "nbformat_minor": 2
}
