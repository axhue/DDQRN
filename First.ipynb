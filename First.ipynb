{
 "cells": [
  {
   "cell_type": "code",
   "execution_count": 2,
   "metadata": {},
   "outputs": [],
   "source": [
    "import MalmoPython\n",
    "import os\n",
    "import sys\n",
    "import time\n",
    "import random\n",
    "actions = {\n",
    "    'strafe':{\n",
    "        'left': 'strafe -1',\n",
    "        'right': 'strafe 1'\n",
    "    },\n",
    "    'move':{\n",
    "        'back':'move -1',\n",
    "        'forward':'move 1'\n",
    "    },\n",
    "    'pitch':{\n",
    "        'up':'pitch -0.03',\n",
    "        'down':'pitch 0.03'\n",
    "    },\n",
    "    'turn':{\n",
    "        'anti':'turn -1',\n",
    "        'clk':'turn 1'\n",
    "    },\n",
    "    'jump':{\n",
    "        'on':'jump 1',\n",
    "        'off':'jump 0'\n",
    "    },\n",
    "    'attack':{\n",
    "        'on': 'attack 1',\n",
    "        'off': 'attack 0'\n",
    "    },\n",
    "    'use':{\n",
    "        'on': 'use 1',\n",
    "        'off': 'use 0'\n",
    "    },\n",
    "    'crouch':{\n",
    "        'on':'crouch 1',\n",
    "        'off':'crouch 0'\n",
    "    }\n",
    "}\n",
    "# Create default Malmo objects:"
   ]
  },
  {
   "cell_type": "code",
   "execution_count": 40,
   "metadata": {},
   "outputs": [],
   "source": [
    "## helper function for sanity\n",
    "\n",
    "def observe(world_state):\n",
    "    ## this gonna add overhead :(\n",
    "    data = json.loads(world_observations[-1].text)\n",
    "    return (world_observations[-1].timestamp, data)"
   ]
  },
  {
   "cell_type": "code",
   "execution_count": 3,
   "metadata": {},
   "outputs": [
    {
     "name": "stdout",
     "output_type": "stream",
     "text": [
      "ERROR: unrecognised option '-f'\n",
      "Malmo version: 0.31.0\n",
      "\n",
      "Allowed options:\n",
      "  -h [ --help ]         show description of allowed options\n",
      "  --test                run this as an integration test\n",
      "\n",
      "\n"
     ]
    }
   ],
   "source": [
    "agent_host = MalmoPython.AgentHost()\n",
    "try:\n",
    "    agent_host.parse( sys.argv )\n",
    "except RuntimeError as e:\n",
    "    print 'ERROR:',e\n",
    "    print agent_host.getUsage()\n",
    "    exit(1)\n",
    "if agent_host.receivedArgument(\"help\"):\n",
    "    print agent_host.getUsage()\n",
    "    exit(0)\n",
    "\n"
   ]
  },
  {
   "cell_type": "code",
   "execution_count": 35,
   "metadata": {},
   "outputs": [
    {
     "name": "stdout",
     "output_type": "stream",
     "text": [
      "Waiting for the mission to start .....\n"
     ]
    }
   ],
   "source": [
    "# load world\n",
    "with open('world.xml','r') as f:\n",
    "    my_mission = MalmoPython.MissionSpec(f.read(), True)\n",
    "my_mission_record = MalmoPython.MissionRecordSpec()\n",
    "\n",
    "# Attempt to start a mission:\n",
    "max_retries = 3\n",
    "\n",
    "for retry in range(max_retries):\n",
    "    try:\n",
    "        agent_host.startMission( my_mission, my_mission_record )\n",
    "        break\n",
    "    except RuntimeError as e:\n",
    "        if retry == max_retries - 1:\n",
    "            print \"Error starting mission:\",e\n",
    "            exit(1)\n",
    "        else:\n",
    "            time.sleep(2)\n",
    "# Loop until mission starts:\n",
    "print \"Waiting for the mission to start \",\n",
    "world_state = agent_host.getWorldState()\n",
    "\n",
    "while not world_state.has_mission_begun:\n",
    "    sys.stdout.write(\".\")\n",
    "    time.sleep(0.1)\n",
    "    world_state = agent_host.getWorldState()\n",
    "    for error in world_state.errors:\n",
    "        print \"Error:\",error.text"
   ]
  },
  {
   "cell_type": "code",
   "execution_count": 36,
   "metadata": {
    "scrolled": true
   },
   "outputs": [
    {
     "name": "stdout",
     "output_type": "stream",
     "text": [
      "TimestampedString: 2017-Oct-04 21:49:55.126654, {\"DistanceTravelled\":2229,\"TimeAlive\":73,\"MobsKilled\":0,\"PlayersKilled\":0,\"DamageTaken\":660,\"DamageDealt\":0,\"Life\":20.0,\"Score\":0,\"Food\":20,\"XP\":0,\"IsAlive\":true,\"Air\":300,\"Name\":\"MalmoTutorialBot\",\"XPos\":132.5,\"YPos\":64.0,\"ZPos\":247.5,\"Pitch\":0.0,\"Yaw\":0.0,\"WorldTime\":9985,\"TotalTime\":9985,\"obs\":[\"grass\",\"grass\",\"grass\",\"grass\",\"grass\",\"grass\",\"grass\",\"grass\",\"grass\",\"air\",\"air\",\"air\",\"air\",\"air\",\"air\",\"air\",\"air\",\"air\",\"air\",\"air\",\"air\",\"air\",\"air\",\"air\",\"air\",\"air\",\"air\"],\"ents\":[{\"yaw\":0.0,\"x\":132.5,\"y\":64.0,\"z\":247.5,\"pitch\":0.0,\"life\":20.0,\"name\":\"MalmoTutorialBot\"}]}\n",
      "TimestampedString: 2017-Oct-04 21:49:57.130994, {\"DistanceTravelled\":2229,\"TimeAlive\":113,\"MobsKilled\":0,\"PlayersKilled\":0,\"DamageTaken\":660,\"DamageDealt\":0,\"Life\":20.0,\"Score\":0,\"Food\":20,\"XP\":0,\"IsAlive\":true,\"Air\":300,\"Name\":\"MalmoTutorialBot\",\"XPos\":132.5,\"YPos\":64.0,\"ZPos\":247.5,\"Pitch\":0.0,\"Yaw\":0.0,\"WorldTime\":10025,\"TotalTime\":10025,\"obs\":[\"grass\",\"grass\",\"grass\",\"grass\",\"grass\",\"grass\",\"grass\",\"grass\",\"grass\",\"air\",\"air\",\"air\",\"air\",\"air\",\"air\",\"air\",\"air\",\"air\",\"air\",\"air\",\"air\",\"air\",\"air\",\"air\",\"air\",\"air\",\"air\"],\"ents\":[{\"yaw\":0.0,\"x\":132.5,\"y\":64.0,\"z\":247.5,\"pitch\":0.0,\"life\":20.0,\"name\":\"MalmoTutorialBot\"}]}\n",
      "TimestampedString: 2017-Oct-04 21:49:59.132165, {\"DistanceTravelled\":2229,\"TimeAlive\":153,\"MobsKilled\":0,\"PlayersKilled\":0,\"DamageTaken\":660,\"DamageDealt\":0,\"Life\":20.0,\"Score\":0,\"Food\":20,\"XP\":0,\"IsAlive\":true,\"Air\":300,\"Name\":\"MalmoTutorialBot\",\"XPos\":132.5,\"YPos\":64.0,\"ZPos\":247.5,\"Pitch\":0.0,\"Yaw\":0.0,\"WorldTime\":10065,\"TotalTime\":10065,\"obs\":[\"grass\",\"grass\",\"grass\",\"grass\",\"grass\",\"grass\",\"grass\",\"grass\",\"grass\",\"air\",\"air\",\"air\",\"air\",\"air\",\"air\",\"air\",\"air\",\"air\",\"air\",\"air\",\"air\",\"air\",\"air\",\"air\",\"air\",\"air\",\"air\"],\"ents\":[{\"yaw\":0.0,\"x\":132.5,\"y\":64.0,\"z\":247.5,\"pitch\":0.0,\"life\":20.0,\"name\":\"MalmoTutorialBot\"}]}\n",
      "TimestampedString: 2017-Oct-04 21:50:01.126617, {\"DistanceTravelled\":2229,\"TimeAlive\":193,\"MobsKilled\":0,\"PlayersKilled\":0,\"DamageTaken\":660,\"DamageDealt\":0,\"Life\":20.0,\"Score\":0,\"Food\":20,\"XP\":0,\"IsAlive\":true,\"Air\":300,\"Name\":\"MalmoTutorialBot\",\"XPos\":132.5,\"YPos\":64.0,\"ZPos\":247.5,\"Pitch\":0.0,\"Yaw\":0.0,\"WorldTime\":10105,\"TotalTime\":10105,\"obs\":[\"grass\",\"grass\",\"grass\",\"grass\",\"grass\",\"grass\",\"grass\",\"grass\",\"grass\",\"air\",\"air\",\"air\",\"air\",\"air\",\"air\",\"air\",\"air\",\"air\",\"air\",\"air\",\"air\",\"air\",\"air\",\"air\",\"air\",\"air\",\"air\"],\"ents\":[{\"yaw\":0.0,\"x\":132.5,\"y\":64.0,\"z\":247.5,\"pitch\":0.0,\"life\":20.0,\"name\":\"MalmoTutorialBot\"}]}\n",
      "TimestampedString: 2017-Oct-04 21:50:03.132886, {\"DistanceTravelled\":2229,\"TimeAlive\":233,\"MobsKilled\":0,\"PlayersKilled\":0,\"DamageTaken\":660,\"DamageDealt\":0,\"Life\":20.0,\"Score\":0,\"Food\":20,\"XP\":0,\"IsAlive\":true,\"Air\":300,\"Name\":\"MalmoTutorialBot\",\"XPos\":132.5,\"YPos\":64.0,\"ZPos\":247.5,\"Pitch\":0.0,\"Yaw\":0.0,\"WorldTime\":10145,\"TotalTime\":10145,\"obs\":[\"grass\",\"grass\",\"grass\",\"grass\",\"grass\",\"grass\",\"grass\",\"grass\",\"grass\",\"air\",\"air\",\"air\",\"air\",\"air\",\"air\",\"air\",\"air\",\"air\",\"air\",\"air\",\"air\",\"air\",\"air\",\"air\",\"air\",\"air\",\"air\"],\"ents\":[{\"yaw\":0.0,\"x\":132.5,\"y\":64.0,\"z\":247.5,\"pitch\":0.0,\"life\":20.0,\"name\":\"MalmoTutorialBot\"}]}\n",
      "TimestampedString: 2017-Oct-04 21:50:05.136587, {\"DistanceTravelled\":2229,\"TimeAlive\":273,\"MobsKilled\":0,\"PlayersKilled\":0,\"DamageTaken\":660,\"DamageDealt\":0,\"Life\":20.0,\"Score\":0,\"Food\":20,\"XP\":0,\"IsAlive\":true,\"Air\":300,\"Name\":\"MalmoTutorialBot\",\"XPos\":132.5,\"YPos\":64.0,\"ZPos\":247.5,\"Pitch\":0.0,\"Yaw\":0.0,\"WorldTime\":10185,\"TotalTime\":10185,\"obs\":[\"grass\",\"grass\",\"grass\",\"grass\",\"grass\",\"grass\",\"grass\",\"grass\",\"grass\",\"air\",\"air\",\"air\",\"air\",\"air\",\"air\",\"air\",\"air\",\"air\",\"air\",\"air\",\"air\",\"air\",\"air\",\"air\",\"air\",\"air\",\"air\"],\"ents\":[{\"yaw\":0.0,\"x\":132.5,\"y\":64.0,\"z\":247.5,\"pitch\":0.0,\"life\":20.0,\"name\":\"MalmoTutorialBot\"}]}\n"
     ]
    },
    {
     "ename": "KeyboardInterrupt",
     "evalue": "",
     "output_type": "error",
     "traceback": [
      "\u001b[0;31m---------------------------------------------------------------------------\u001b[0m",
      "\u001b[0;31mKeyboardInterrupt\u001b[0m                         Traceback (most recent call last)",
      "\u001b[0;32m<ipython-input-36-11cd188155d2>\u001b[0m in \u001b[0;36m<module>\u001b[0;34m()\u001b[0m\n\u001b[1;32m      1\u001b[0m \u001b[0;32mwhile\u001b[0m \u001b[0mworld_state\u001b[0m\u001b[0;34m.\u001b[0m\u001b[0mis_mission_running\u001b[0m\u001b[0;34m:\u001b[0m\u001b[0;34m\u001b[0m\u001b[0m\n\u001b[0;32m----> 2\u001b[0;31m     \u001b[0mtime\u001b[0m\u001b[0;34m.\u001b[0m\u001b[0msleep\u001b[0m\u001b[0;34m(\u001b[0m\u001b[0;36m2\u001b[0m\u001b[0;34m)\u001b[0m\u001b[0;34m\u001b[0m\u001b[0m\n\u001b[0m\u001b[1;32m      3\u001b[0m     \u001b[0mworld_state\u001b[0m \u001b[0;34m=\u001b[0m \u001b[0magent_host\u001b[0m\u001b[0;34m.\u001b[0m\u001b[0mgetWorldState\u001b[0m\u001b[0;34m(\u001b[0m\u001b[0;34m)\u001b[0m\u001b[0;34m\u001b[0m\u001b[0m\n\u001b[1;32m      4\u001b[0m     \u001b[0;31m# print(chose_act)\u001b[0m\u001b[0;34m\u001b[0m\u001b[0;34m\u001b[0m\u001b[0m\n\u001b[1;32m      5\u001b[0m     \u001b[0;32mprint\u001b[0m\u001b[0;34m(\u001b[0m\u001b[0mworld_state\u001b[0m\u001b[0;34m.\u001b[0m\u001b[0mobservations\u001b[0m\u001b[0;34m[\u001b[0m\u001b[0;36m0\u001b[0m\u001b[0;34m]\u001b[0m\u001b[0;34m)\u001b[0m\u001b[0;34m\u001b[0m\u001b[0m\n",
      "\u001b[0;31mKeyboardInterrupt\u001b[0m: "
     ]
    }
   ],
   "source": [
    "while world_state.is_mission_running:\n",
    "    time.sleep(2)\n",
    "    world_state = agent_host.getWorldState()\n",
    "    # print(chose_act)\n",
    "    print(world_state.observations[0])\n",
    "    # agent_host.sendCommand(chose_act)\n",
    "    for error in world_state.errors:\n",
    "        print \"Error:\",error.text"
   ]
  },
  {
   "cell_type": "code",
   "execution_count": 33,
   "metadata": {},
   "outputs": [],
   "source": [
    "agent_host.sendCommand('quit')"
   ]
  },
  {
   "cell_type": "code",
   "execution_count": 28,
   "metadata": {},
   "outputs": [],
   "source": [
    "world_state = agent_host.getWorldState()\n"
   ]
  },
  {
   "cell_type": "code",
   "execution_count": 41,
   "metadata": {},
   "outputs": [
    {
     "ename": "NameError",
     "evalue": "global name 'json' is not defined",
     "output_type": "error",
     "traceback": [
      "\u001b[0;31m---------------------------------------------------------------------------\u001b[0m",
      "\u001b[0;31mNameError\u001b[0m                                 Traceback (most recent call last)",
      "\u001b[0;32m<ipython-input-41-7776545dc143>\u001b[0m in \u001b[0;36m<module>\u001b[0;34m()\u001b[0m\n\u001b[0;32m----> 1\u001b[0;31m \u001b[0mobserve\u001b[0m\u001b[0;34m(\u001b[0m\u001b[0mworld_state\u001b[0m\u001b[0;34m)\u001b[0m\u001b[0;34m\u001b[0m\u001b[0m\n\u001b[0m",
      "\u001b[0;32m<ipython-input-40-f1da17a07f88>\u001b[0m in \u001b[0;36mobserve\u001b[0;34m(world_state)\u001b[0m\n\u001b[1;32m      3\u001b[0m \u001b[0;32mdef\u001b[0m \u001b[0mobserve\u001b[0m\u001b[0;34m(\u001b[0m\u001b[0mworld_state\u001b[0m\u001b[0;34m)\u001b[0m\u001b[0;34m:\u001b[0m\u001b[0;34m\u001b[0m\u001b[0m\n\u001b[1;32m      4\u001b[0m     \u001b[0;31m## this gonna add overhead :(\u001b[0m\u001b[0;34m\u001b[0m\u001b[0;34m\u001b[0m\u001b[0m\n\u001b[0;32m----> 5\u001b[0;31m     \u001b[0mdata\u001b[0m \u001b[0;34m=\u001b[0m \u001b[0mjson\u001b[0m\u001b[0;34m.\u001b[0m\u001b[0mloads\u001b[0m\u001b[0;34m(\u001b[0m\u001b[0mworld_observations\u001b[0m\u001b[0;34m[\u001b[0m\u001b[0;34m-\u001b[0m\u001b[0;36m1\u001b[0m\u001b[0;34m]\u001b[0m\u001b[0;34m.\u001b[0m\u001b[0mtext\u001b[0m\u001b[0;34m)\u001b[0m\u001b[0;34m\u001b[0m\u001b[0m\n\u001b[0m\u001b[1;32m      6\u001b[0m     \u001b[0;32mreturn\u001b[0m \u001b[0;34m(\u001b[0m\u001b[0mworld_observations\u001b[0m\u001b[0;34m[\u001b[0m\u001b[0;34m-\u001b[0m\u001b[0;36m1\u001b[0m\u001b[0;34m]\u001b[0m\u001b[0;34m.\u001b[0m\u001b[0mtimestamp\u001b[0m\u001b[0;34m,\u001b[0m \u001b[0mdata\u001b[0m\u001b[0;34m)\u001b[0m\u001b[0;34m\u001b[0m\u001b[0m\n",
      "\u001b[0;31mNameError\u001b[0m: global name 'json' is not defined"
     ]
    }
   ],
   "source": [
    "observe(world_state)"
   ]
  },
  {
   "cell_type": "code",
   "execution_count": null,
   "metadata": {},
   "outputs": [],
   "source": []
  }
 ],
 "metadata": {
  "kernelspec": {
   "display_name": "Python [conda env:mine-env]",
   "language": "python",
   "name": "conda-env-mine-env-py"
  },
  "language_info": {
   "codemirror_mode": {
    "name": "ipython",
    "version": 2
   },
   "file_extension": ".py",
   "mimetype": "text/x-python",
   "name": "python",
   "nbconvert_exporter": "python",
   "pygments_lexer": "ipython2",
   "version": "2.7.14"
  }
 },
 "nbformat": 4,
 "nbformat_minor": 2
}
