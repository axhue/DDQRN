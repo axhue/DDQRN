{
 "cells": [
  {
   "cell_type": "code",
   "execution_count": 2,
   "metadata": {},
   "outputs": [],
   "source": [
    "import MalmoPython\n",
    "import os\n",
    "import sys\n",
    "import time\n",
    "import random\n",
    "actions = {\n",
    "    'strafe':{\n",
    "        'left': 'strafe -1',\n",
    "        'right': 'strafe 1'\n",
    "    },\n",
    "    'move':{\n",
    "        'back':'move -1',\n",
    "        'forward':'move 1'\n",
    "    },\n",
    "    'pitch':{\n",
    "        'up':'pitch -0.03',\n",
    "        'down':'pitch 0.03'\n",
    "    },\n",
    "    'turn':{\n",
    "        'anti':'turn -1',\n",
    "        'clk':'turn 1'\n",
    "    },\n",
    "    'jump':{\n",
    "        'on':'jump 1',\n",
    "        'off':'jump 0'\n",
    "    },\n",
    "    'attack':{\n",
    "        'on': 'attack 1',\n",
    "        'off': 'attack 0'\n",
    "    },\n",
    "    'use':{\n",
    "        'on': 'use 1',\n",
    "        'off': 'use 0'\n",
    "    },\n",
    "    'crouch':{\n",
    "        'on':'crouch 1',\n",
    "        'off':'crouch 0'\n",
    "    }\n",
    "}\n",
    "# Create default Malmo objects:"
   ]
  },
  {
   "cell_type": "code",
   "execution_count": 3,
   "metadata": {},
   "outputs": [
    {
     "name": "stdout",
     "output_type": "stream",
     "text": [
      "ERROR: unrecognised option '-f'\n",
      "Malmo version: 0.31.0\n",
      "\n",
      "Allowed options:\n",
      "  -h [ --help ]         show description of allowed options\n",
      "  --test                run this as an integration test\n",
      "\n",
      "\n"
     ]
    }
   ],
   "source": [
    "agent_host = MalmoPython.AgentHost()\n",
    "try:\n",
    "    agent_host.parse( sys.argv )\n",
    "except RuntimeError as e:\n",
    "    print 'ERROR:',e\n",
    "    print agent_host.getUsage()\n",
    "    exit(1)\n",
    "if agent_host.receivedArgument(\"help\"):\n",
    "    print agent_host.getUsage()\n",
    "    exit(0)\n",
    "\n"
   ]
  },
  {
   "cell_type": "code",
   "execution_count": 4,
   "metadata": {},
   "outputs": [
    {
     "name": "stdout",
     "output_type": "stream",
     "text": [
      "Waiting for the mission to start ..........................................................................................\n"
     ]
    }
   ],
   "source": [
    "# load world\n",
    "with open('world.xml','r') as f:\n",
    "    my_mission = MalmoPython.MissionSpec(f.read(), True)\n",
    "my_mission_record = MalmoPython.MissionRecordSpec()\n",
    "\n",
    "# Attempt to start a mission:\n",
    "max_retries = 3\n",
    "\n",
    "for retry in range(max_retries):\n",
    "    try:\n",
    "        agent_host.startMission( my_mission, my_mission_record )\n",
    "        break\n",
    "    except RuntimeError as e:\n",
    "        if retry == max_retries - 1:\n",
    "            print \"Error starting mission:\",e\n",
    "            exit(1)\n",
    "        else:\n",
    "            time.sleep(2)\n",
    "# Loop until mission starts:\n",
    "print \"Waiting for the mission to start \",\n",
    "world_state = agent_host.getWorldState()\n",
    "\n",
    "while not world_state.has_mission_begun:\n",
    "    sys.stdout.write(\".\")\n",
    "    time.sleep(0.1)\n",
    "    world_state = agent_host.getWorldState()\n",
    "    for error in world_state.errors:\n",
    "        print \"Error:\",error.text"
   ]
  },
  {
   "cell_type": "code",
   "execution_count": null,
   "metadata": {},
   "outputs": [],
   "source": [
    "while world_state.is_mission_running:\n",
    "    time.sleep(2)\n",
    "    world_state = agent_host.getWorldState()\n",
    "    # print(chose_act)\n",
    "    print(world_state.observations[0])\n",
    "    # agent_host.sendCommand(chose_act)\n",
    "    for error in world_state.errors:\n",
    "        print \"Error:\",error.text"
   ]
  },
  {
   "cell_type": "code",
   "execution_count": null,
   "metadata": {},
   "outputs": [],
   "source": [
    "world_state.observations"
   ]
  }
 ],
 "metadata": {
  "kernelspec": {
   "display_name": "Python [conda env:mine-env]",
   "language": "python",
   "name": "conda-env-mine-env-py"
  },
  "language_info": {
   "codemirror_mode": {
    "name": "ipython",
    "version": 2
   },
   "file_extension": ".py",
   "mimetype": "text/x-python",
   "name": "python",
   "nbconvert_exporter": "python",
   "pygments_lexer": "ipython2",
   "version": "2.7.14"
  }
 },
 "nbformat": 4,
 "nbformat_minor": 2
}
